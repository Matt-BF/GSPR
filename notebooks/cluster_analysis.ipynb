{
 "cells": [
  {
   "cell_type": "code",
   "execution_count": 1,
   "metadata": {},
   "outputs": [],
   "source": [
    "import pandas as pd\n",
    "import polars as pl\n",
    "import seaborn as sns\n",
    "import matplotlib.pyplot as plt\n",
    "import warnings\n",
    "import numpy as np\n",
    "import re\n",
    "from matplotlib_venn import venn2\n",
    "\n",
    "sns.set_style(\"ticks\")\n",
    "warnings.simplefilter(\"ignore\", category=FutureWarning)"
   ]
  },
  {
   "cell_type": "code",
   "execution_count": 2,
   "metadata": {},
   "outputs": [
    {
     "data": {
      "text/html": [
       "<div>\n",
       "<style scoped>\n",
       "    .dataframe tbody tr th:only-of-type {\n",
       "        vertical-align: middle;\n",
       "    }\n",
       "\n",
       "    .dataframe tbody tr th {\n",
       "        vertical-align: top;\n",
       "    }\n",
       "\n",
       "    .dataframe thead th {\n",
       "        text-align: right;\n",
       "    }\n",
       "</style>\n",
       "<table border=\"1\" class=\"dataframe\">\n",
       "  <thead>\n",
       "    <tr style=\"text-align: right;\">\n",
       "      <th></th>\n",
       "      <th>Plasmid</th>\n",
       "      <th>length</th>\n",
       "    </tr>\n",
       "  </thead>\n",
       "  <tbody>\n",
       "    <tr>\n",
       "      <th>0</th>\n",
       "      <td>2088090014|GPIPI_16944593</td>\n",
       "      <td>5584</td>\n",
       "    </tr>\n",
       "    <tr>\n",
       "      <th>1</th>\n",
       "      <td>2088090014|GPIPI_16884012</td>\n",
       "      <td>8233</td>\n",
       "    </tr>\n",
       "    <tr>\n",
       "      <th>2</th>\n",
       "      <td>2088090014|GPIPI_17035422</td>\n",
       "      <td>5654</td>\n",
       "    </tr>\n",
       "    <tr>\n",
       "      <th>3</th>\n",
       "      <td>2088090014|GPIPI_17320127</td>\n",
       "      <td>5097</td>\n",
       "    </tr>\n",
       "    <tr>\n",
       "      <th>4</th>\n",
       "      <td>2088090014|GPIPI_16557027</td>\n",
       "      <td>6619</td>\n",
       "    </tr>\n",
       "  </tbody>\n",
       "</table>\n",
       "</div>"
      ],
      "text/plain": [
       "                     Plasmid  length\n",
       "0  2088090014|GPIPI_16944593    5584\n",
       "1  2088090014|GPIPI_16884012    8233\n",
       "2  2088090014|GPIPI_17035422    5654\n",
       "3  2088090014|GPIPI_17320127    5097\n",
       "4  2088090014|GPIPI_16557027    6619"
      ]
     },
     "execution_count": 2,
     "metadata": {},
     "output_type": "execute_result"
    }
   ],
   "source": [
    "df = pd.read_csv(\"../ptu_derep/derep_plasmids_lengths.tsv\", sep=\"\\t\")\n",
    "df.head()"
   ]
  },
  {
   "cell_type": "code",
   "execution_count": 3,
   "metadata": {},
   "outputs": [],
   "source": [
    "# fig, ax = plt.subplots()\n",
    "# sns.set_style(\"white\")\n",
    "# sns.scatterplot(y=df[\"diff\"], x=df.index, alpha=0.3, s=20)\n",
    "\n",
    "# ax.set_title(\"Cluster size difference after contig rescue\")\n",
    "# ax.set_ylabel(\"Difference\")\n",
    "# ax.set_xlabel(\"Cluster number\")\n",
    "# ax.set_xticklabels([])\n",
    "\n",
    "# # ax.set_yticks(np.arange(0, 20, 2))\n",
    "# ax.set_xticks(np.arange(df.index[0], df.index[-1] + 1, step=500))\n",
    "\n",
    "# sns.despine(fig)"
   ]
  },
  {
   "cell_type": "markdown",
   "metadata": {},
   "source": [
    "---\n",
    "## Open dataframes"
   ]
  },
  {
   "cell_type": "code",
   "execution_count": 4,
   "metadata": {},
   "outputs": [
    {
     "data": {
      "text/html": [
       "<div>\n",
       "<style scoped>\n",
       "    .dataframe tbody tr th:only-of-type {\n",
       "        vertical-align: middle;\n",
       "    }\n",
       "\n",
       "    .dataframe tbody tr th {\n",
       "        vertical-align: top;\n",
       "    }\n",
       "\n",
       "    .dataframe thead th {\n",
       "        text-align: right;\n",
       "    }\n",
       "</style>\n",
       "<table border=\"1\" class=\"dataframe\">\n",
       "  <thead>\n",
       "    <tr style=\"text-align: right;\">\n",
       "      <th></th>\n",
       "      <th>1</th>\n",
       "      <th>2</th>\n",
       "    </tr>\n",
       "    <tr>\n",
       "      <th>0</th>\n",
       "      <th></th>\n",
       "      <th></th>\n",
       "    </tr>\n",
       "  </thead>\n",
       "  <tbody>\n",
       "    <tr>\n",
       "      <th>PTU-00000</th>\n",
       "      <td>3300056587|Ga0562382_00532</td>\n",
       "      <td>3300056587|Ga0562382_00532,3300041809|Ga045567...</td>\n",
       "    </tr>\n",
       "    <tr>\n",
       "      <th>PTU-00001</th>\n",
       "      <td>3300056791|Ga0562384_00281</td>\n",
       "      <td>3300056791|Ga0562384_00281,3300054973|Ga049542...</td>\n",
       "    </tr>\n",
       "    <tr>\n",
       "      <th>PTU-00002</th>\n",
       "      <td>3300046709|Ga0495471_0000157</td>\n",
       "      <td>3300046709|Ga0495471_0000157,3300046788|Ga0495...</td>\n",
       "    </tr>\n",
       "    <tr>\n",
       "      <th>PTU-00003</th>\n",
       "      <td>3300046559|Ga0495667_0000358</td>\n",
       "      <td>3300046559|Ga0495667_0000358,3300036401|Ga0373...</td>\n",
       "    </tr>\n",
       "    <tr>\n",
       "      <th>PTU-00004</th>\n",
       "      <td>3300056834|Ga0562381_00901</td>\n",
       "      <td>3300056834|Ga0562381_00901,3300056587|Ga056238...</td>\n",
       "    </tr>\n",
       "  </tbody>\n",
       "</table>\n",
       "</div>"
      ],
      "text/plain": [
       "                                      1  \\\n",
       "0                                         \n",
       "PTU-00000    3300056587|Ga0562382_00532   \n",
       "PTU-00001    3300056791|Ga0562384_00281   \n",
       "PTU-00002  3300046709|Ga0495471_0000157   \n",
       "PTU-00003  3300046559|Ga0495667_0000358   \n",
       "PTU-00004    3300056834|Ga0562381_00901   \n",
       "\n",
       "                                                           2  \n",
       "0                                                             \n",
       "PTU-00000  3300056587|Ga0562382_00532,3300041809|Ga045567...  \n",
       "PTU-00001  3300056791|Ga0562384_00281,3300054973|Ga049542...  \n",
       "PTU-00002  3300046709|Ga0495471_0000157,3300046788|Ga0495...  \n",
       "PTU-00003  3300046559|Ga0495667_0000358,3300036401|Ga0373...  \n",
       "PTU-00004  3300056834|Ga0562381_00901,3300056587|Ga056238...  "
      ]
     },
     "execution_count": 4,
     "metadata": {},
     "output_type": "execute_result"
    }
   ],
   "source": [
    "df = pd.read_csv(\n",
    "    \"../ptu_derep/derep_plasmids_clusters_with_ptu_ids.tsv\",\n",
    "    sep=\"\\t\",\n",
    "    header=None,\n",
    "    index_col=0,\n",
    ")\n",
    "\n",
    "df.head()"
   ]
  },
  {
   "cell_type": "code",
   "execution_count": 5,
   "metadata": {},
   "outputs": [],
   "source": [
    "with open(\"../ptu_derep/complete_plasmids_derep.txt\") as f:\n",
    "    complete_plasmids = f.read().splitlines()\n",
    "    complete_plasmids = [\n",
    "        i.split(\"|\")[0] if \"IMGPR\" in i else i for i in complete_plasmids\n",
    "    ]\n",
    "complete_meta = [\n",
    "    i\n",
    "    for i in complete_plasmids\n",
    "    if not any(j in i for j in [\"IMGPR\", \"PLSDB\", \"Refsoil\"])\n",
    "]\n",
    "complete_isolate = [\n",
    "    i for i in complete_plasmids if any(j in i for j in [\"IMGPR\", \"PLSDB\", \"Refsoil\"])\n",
    "]"
   ]
  },
  {
   "cell_type": "code",
   "execution_count": 6,
   "metadata": {},
   "outputs": [
    {
     "data": {
      "text/html": [
       "<div>\n",
       "<style scoped>\n",
       "    .dataframe tbody tr th:only-of-type {\n",
       "        vertical-align: middle;\n",
       "    }\n",
       "\n",
       "    .dataframe tbody tr th {\n",
       "        vertical-align: top;\n",
       "    }\n",
       "\n",
       "    .dataframe thead th {\n",
       "        text-align: right;\n",
       "    }\n",
       "</style>\n",
       "<table border=\"1\" class=\"dataframe\">\n",
       "  <thead>\n",
       "    <tr style=\"text-align: right;\">\n",
       "      <th></th>\n",
       "      <th>1</th>\n",
       "      <th>2</th>\n",
       "      <th>has_complete</th>\n",
       "      <th>has_complete_meta</th>\n",
       "      <th>has_complete_isolate</th>\n",
       "      <th>size</th>\n",
       "    </tr>\n",
       "    <tr>\n",
       "      <th>0</th>\n",
       "      <th></th>\n",
       "      <th></th>\n",
       "      <th></th>\n",
       "      <th></th>\n",
       "      <th></th>\n",
       "      <th></th>\n",
       "    </tr>\n",
       "  </thead>\n",
       "  <tbody>\n",
       "    <tr>\n",
       "      <th>PTU-00000</th>\n",
       "      <td>3300056587|Ga0562382_00532</td>\n",
       "      <td>3300056587|Ga0562382_00532,3300041809|Ga045567...</td>\n",
       "      <td>False</td>\n",
       "      <td>False</td>\n",
       "      <td>False</td>\n",
       "      <td>187</td>\n",
       "    </tr>\n",
       "    <tr>\n",
       "      <th>PTU-00001</th>\n",
       "      <td>3300056791|Ga0562384_00281</td>\n",
       "      <td>3300056791|Ga0562384_00281,3300054973|Ga049542...</td>\n",
       "      <td>False</td>\n",
       "      <td>False</td>\n",
       "      <td>False</td>\n",
       "      <td>158</td>\n",
       "    </tr>\n",
       "    <tr>\n",
       "      <th>PTU-00002</th>\n",
       "      <td>3300046709|Ga0495471_0000157</td>\n",
       "      <td>3300046709|Ga0495471_0000157,3300046788|Ga0495...</td>\n",
       "      <td>False</td>\n",
       "      <td>False</td>\n",
       "      <td>False</td>\n",
       "      <td>105</td>\n",
       "    </tr>\n",
       "    <tr>\n",
       "      <th>PTU-00003</th>\n",
       "      <td>3300046559|Ga0495667_0000358</td>\n",
       "      <td>3300046559|Ga0495667_0000358,3300036401|Ga0373...</td>\n",
       "      <td>False</td>\n",
       "      <td>False</td>\n",
       "      <td>False</td>\n",
       "      <td>98</td>\n",
       "    </tr>\n",
       "    <tr>\n",
       "      <th>PTU-00004</th>\n",
       "      <td>3300056834|Ga0562381_00901</td>\n",
       "      <td>3300056834|Ga0562381_00901,3300056587|Ga056238...</td>\n",
       "      <td>False</td>\n",
       "      <td>False</td>\n",
       "      <td>False</td>\n",
       "      <td>85</td>\n",
       "    </tr>\n",
       "  </tbody>\n",
       "</table>\n",
       "</div>"
      ],
      "text/plain": [
       "                                      1  \\\n",
       "0                                         \n",
       "PTU-00000    3300056587|Ga0562382_00532   \n",
       "PTU-00001    3300056791|Ga0562384_00281   \n",
       "PTU-00002  3300046709|Ga0495471_0000157   \n",
       "PTU-00003  3300046559|Ga0495667_0000358   \n",
       "PTU-00004    3300056834|Ga0562381_00901   \n",
       "\n",
       "                                                           2  has_complete  \\\n",
       "0                                                                            \n",
       "PTU-00000  3300056587|Ga0562382_00532,3300041809|Ga045567...         False   \n",
       "PTU-00001  3300056791|Ga0562384_00281,3300054973|Ga049542...         False   \n",
       "PTU-00002  3300046709|Ga0495471_0000157,3300046788|Ga0495...         False   \n",
       "PTU-00003  3300046559|Ga0495667_0000358,3300036401|Ga0373...         False   \n",
       "PTU-00004  3300056834|Ga0562381_00901,3300056587|Ga056238...         False   \n",
       "\n",
       "           has_complete_meta  has_complete_isolate  size  \n",
       "0                                                         \n",
       "PTU-00000              False                 False   187  \n",
       "PTU-00001              False                 False   158  \n",
       "PTU-00002              False                 False   105  \n",
       "PTU-00003              False                 False    98  \n",
       "PTU-00004              False                 False    85  "
      ]
     },
     "execution_count": 6,
     "metadata": {},
     "output_type": "execute_result"
    }
   ],
   "source": [
    "# Number of ptus with at least one complete plasmid\n",
    "df[\"has_complete\"] = df[2].apply(\n",
    "    lambda x: any([i in complete_plasmids for i in x.split(\",\")])\n",
    ")\n",
    "df[\"has_complete_meta\"] = df[2].apply(\n",
    "    lambda x: any([i in complete_meta for i in x.split(\",\")])\n",
    ")\n",
    "df[\"has_complete_isolate\"] = df[2].apply(\n",
    "    lambda x: any([i in complete_isolate for i in x.split(\",\")])\n",
    ")\n",
    "\n",
    "df[\"size\"] = df[2].apply(lambda x: len(x.split(\",\")))\n",
    "df.head()"
   ]
  },
  {
   "cell_type": "code",
   "execution_count": 7,
   "metadata": {},
   "outputs": [
    {
     "data": {
      "text/html": [
       "<div>\n",
       "<style scoped>\n",
       "    .dataframe tbody tr th:only-of-type {\n",
       "        vertical-align: middle;\n",
       "    }\n",
       "\n",
       "    .dataframe tbody tr th {\n",
       "        vertical-align: top;\n",
       "    }\n",
       "\n",
       "    .dataframe thead th {\n",
       "        text-align: right;\n",
       "    }\n",
       "</style>\n",
       "<table border=\"1\" class=\"dataframe\">\n",
       "  <thead>\n",
       "    <tr style=\"text-align: right;\">\n",
       "      <th></th>\n",
       "      <th>1</th>\n",
       "      <th>2</th>\n",
       "      <th>has_complete</th>\n",
       "      <th>has_complete_meta</th>\n",
       "      <th>has_complete_isolate</th>\n",
       "      <th>size</th>\n",
       "    </tr>\n",
       "    <tr>\n",
       "      <th>0</th>\n",
       "      <th></th>\n",
       "      <th></th>\n",
       "      <th></th>\n",
       "      <th></th>\n",
       "      <th></th>\n",
       "      <th></th>\n",
       "    </tr>\n",
       "  </thead>\n",
       "  <tbody>\n",
       "    <tr>\n",
       "      <th>PTU-00020</th>\n",
       "      <td>3300056791|Ga0562384_00873</td>\n",
       "      <td>3300056791|Ga0562384_00873,3300048826|Ga049540...</td>\n",
       "      <td>True</td>\n",
       "      <td>True</td>\n",
       "      <td>False</td>\n",
       "      <td>55</td>\n",
       "    </tr>\n",
       "    <tr>\n",
       "      <th>PTU-00094</th>\n",
       "      <td>3300048762|Ga0494703_000498</td>\n",
       "      <td>3300048762|Ga0494703_000498,3300050392|Ga05066...</td>\n",
       "      <td>True</td>\n",
       "      <td>True</td>\n",
       "      <td>False</td>\n",
       "      <td>28</td>\n",
       "    </tr>\n",
       "    <tr>\n",
       "      <th>PTU-00159</th>\n",
       "      <td>3300056870|Ga0562386_05510</td>\n",
       "      <td>3300056870|Ga0562386_05510,3300046701|Ga049475...</td>\n",
       "      <td>True</td>\n",
       "      <td>True</td>\n",
       "      <td>False</td>\n",
       "      <td>21</td>\n",
       "    </tr>\n",
       "    <tr>\n",
       "      <th>PTU-00162</th>\n",
       "      <td>3300027857|Ga0209166_10000081</td>\n",
       "      <td>3300027857|Ga0209166_10000081,3300031730|Ga030...</td>\n",
       "      <td>True</td>\n",
       "      <td>True</td>\n",
       "      <td>False</td>\n",
       "      <td>21</td>\n",
       "    </tr>\n",
       "    <tr>\n",
       "      <th>PTU-00178</th>\n",
       "      <td>3300046558|Ga0495633_0000078</td>\n",
       "      <td>3300046558|Ga0495633_0000078,3300049459|Ga0495...</td>\n",
       "      <td>True</td>\n",
       "      <td>True</td>\n",
       "      <td>False</td>\n",
       "      <td>20</td>\n",
       "    </tr>\n",
       "    <tr>\n",
       "      <th>...</th>\n",
       "      <td>...</td>\n",
       "      <td>...</td>\n",
       "      <td>...</td>\n",
       "      <td>...</td>\n",
       "      <td>...</td>\n",
       "      <td>...</td>\n",
       "    </tr>\n",
       "    <tr>\n",
       "      <th>PTU-14965</th>\n",
       "      <td>3300048997|Ga0494380_0000058</td>\n",
       "      <td>3300048997|Ga0494380_0000058,3300044809|Ga0467...</td>\n",
       "      <td>True</td>\n",
       "      <td>True</td>\n",
       "      <td>False</td>\n",
       "      <td>2</td>\n",
       "    </tr>\n",
       "    <tr>\n",
       "      <th>PTU-14972</th>\n",
       "      <td>3300057018|Ga0533267_000003</td>\n",
       "      <td>3300057018|Ga0533267_000003,MGYA00645661|ERZ12...</td>\n",
       "      <td>True</td>\n",
       "      <td>True</td>\n",
       "      <td>False</td>\n",
       "      <td>2</td>\n",
       "    </tr>\n",
       "    <tr>\n",
       "      <th>PTU-15053</th>\n",
       "      <td>3300049207|Ga0498795_000601</td>\n",
       "      <td>3300049207|Ga0498795_000601,3300046512|Ga04956...</td>\n",
       "      <td>True</td>\n",
       "      <td>True</td>\n",
       "      <td>False</td>\n",
       "      <td>2</td>\n",
       "    </tr>\n",
       "    <tr>\n",
       "      <th>PTU-15094</th>\n",
       "      <td>3300025924|Ga0207694_10003685</td>\n",
       "      <td>3300025924|Ga0207694_10003685,3300009551|Ga010...</td>\n",
       "      <td>True</td>\n",
       "      <td>True</td>\n",
       "      <td>False</td>\n",
       "      <td>2</td>\n",
       "    </tr>\n",
       "    <tr>\n",
       "      <th>PTU-15144</th>\n",
       "      <td>3300040215|Ga0397298_00004</td>\n",
       "      <td>3300040215|Ga0397298_00004,3300040378|Ga039729...</td>\n",
       "      <td>True</td>\n",
       "      <td>True</td>\n",
       "      <td>False</td>\n",
       "      <td>2</td>\n",
       "    </tr>\n",
       "  </tbody>\n",
       "</table>\n",
       "<p>290 rows × 6 columns</p>\n",
       "</div>"
      ],
      "text/plain": [
       "                                       1  \\\n",
       "0                                          \n",
       "PTU-00020     3300056791|Ga0562384_00873   \n",
       "PTU-00094    3300048762|Ga0494703_000498   \n",
       "PTU-00159     3300056870|Ga0562386_05510   \n",
       "PTU-00162  3300027857|Ga0209166_10000081   \n",
       "PTU-00178   3300046558|Ga0495633_0000078   \n",
       "...                                  ...   \n",
       "PTU-14965   3300048997|Ga0494380_0000058   \n",
       "PTU-14972    3300057018|Ga0533267_000003   \n",
       "PTU-15053    3300049207|Ga0498795_000601   \n",
       "PTU-15094  3300025924|Ga0207694_10003685   \n",
       "PTU-15144     3300040215|Ga0397298_00004   \n",
       "\n",
       "                                                           2  has_complete  \\\n",
       "0                                                                            \n",
       "PTU-00020  3300056791|Ga0562384_00873,3300048826|Ga049540...          True   \n",
       "PTU-00094  3300048762|Ga0494703_000498,3300050392|Ga05066...          True   \n",
       "PTU-00159  3300056870|Ga0562386_05510,3300046701|Ga049475...          True   \n",
       "PTU-00162  3300027857|Ga0209166_10000081,3300031730|Ga030...          True   \n",
       "PTU-00178  3300046558|Ga0495633_0000078,3300049459|Ga0495...          True   \n",
       "...                                                      ...           ...   \n",
       "PTU-14965  3300048997|Ga0494380_0000058,3300044809|Ga0467...          True   \n",
       "PTU-14972  3300057018|Ga0533267_000003,MGYA00645661|ERZ12...          True   \n",
       "PTU-15053  3300049207|Ga0498795_000601,3300046512|Ga04956...          True   \n",
       "PTU-15094  3300025924|Ga0207694_10003685,3300009551|Ga010...          True   \n",
       "PTU-15144  3300040215|Ga0397298_00004,3300040378|Ga039729...          True   \n",
       "\n",
       "           has_complete_meta  has_complete_isolate  size  \n",
       "0                                                         \n",
       "PTU-00020               True                 False    55  \n",
       "PTU-00094               True                 False    28  \n",
       "PTU-00159               True                 False    21  \n",
       "PTU-00162               True                 False    21  \n",
       "PTU-00178               True                 False    20  \n",
       "...                      ...                   ...   ...  \n",
       "PTU-14965               True                 False     2  \n",
       "PTU-14972               True                 False     2  \n",
       "PTU-15053               True                 False     2  \n",
       "PTU-15094               True                 False     2  \n",
       "PTU-15144               True                 False     2  \n",
       "\n",
       "[290 rows x 6 columns]"
      ]
     },
     "execution_count": 7,
     "metadata": {},
     "output_type": "execute_result"
    }
   ],
   "source": [
    "df[(df[\"has_complete\"]) & (df[\"size\"] > 1) & (~df[\"has_complete_isolate\"])]"
   ]
  },
  {
   "cell_type": "code",
   "execution_count": 8,
   "metadata": {},
   "outputs": [
    {
     "data": {
      "text/html": [
       "<div>\n",
       "<style scoped>\n",
       "    .dataframe tbody tr th:only-of-type {\n",
       "        vertical-align: middle;\n",
       "    }\n",
       "\n",
       "    .dataframe tbody tr th {\n",
       "        vertical-align: top;\n",
       "    }\n",
       "\n",
       "    .dataframe thead th {\n",
       "        text-align: right;\n",
       "    }\n",
       "</style>\n",
       "<table border=\"1\" class=\"dataframe\">\n",
       "  <thead>\n",
       "    <tr style=\"text-align: right;\">\n",
       "      <th></th>\n",
       "      <th>1</th>\n",
       "      <th>2</th>\n",
       "      <th>has_complete</th>\n",
       "      <th>has_complete_meta</th>\n",
       "      <th>has_complete_isolate</th>\n",
       "      <th>size</th>\n",
       "    </tr>\n",
       "    <tr>\n",
       "      <th>0</th>\n",
       "      <th></th>\n",
       "      <th></th>\n",
       "      <th></th>\n",
       "      <th></th>\n",
       "      <th></th>\n",
       "      <th></th>\n",
       "    </tr>\n",
       "  </thead>\n",
       "  <tbody>\n",
       "    <tr>\n",
       "      <th>PTU-00073</th>\n",
       "      <td>3300035678|Ga0372948_0000013</td>\n",
       "      <td>3300035678|Ga0372948_0000013,IMGPR_plasmid_282...</td>\n",
       "      <td>True</td>\n",
       "      <td>True</td>\n",
       "      <td>True</td>\n",
       "      <td>31</td>\n",
       "    </tr>\n",
       "    <tr>\n",
       "      <th>PTU-00200</th>\n",
       "      <td>Refsoil_NC_009508.1</td>\n",
       "      <td>Refsoil_NC_009508.1,3300049203|Ga0498789_00003...</td>\n",
       "      <td>True</td>\n",
       "      <td>True</td>\n",
       "      <td>True</td>\n",
       "      <td>19</td>\n",
       "    </tr>\n",
       "    <tr>\n",
       "      <th>PTU-00695</th>\n",
       "      <td>IMGPR_plasmid_2765236086_000004|2765236086|276...</td>\n",
       "      <td>IMGPR_plasmid_2765236086_000004|2765236086|276...</td>\n",
       "      <td>True</td>\n",
       "      <td>True</td>\n",
       "      <td>True</td>\n",
       "      <td>10</td>\n",
       "    </tr>\n",
       "    <tr>\n",
       "      <th>PTU-01400</th>\n",
       "      <td>PLSDB_NZ_CP013266.1</td>\n",
       "      <td>PLSDB_NZ_CP013266.1,IMGPR_plasmid_2675903423_0...</td>\n",
       "      <td>True</td>\n",
       "      <td>True</td>\n",
       "      <td>True</td>\n",
       "      <td>6</td>\n",
       "    </tr>\n",
       "    <tr>\n",
       "      <th>PTU-03504</th>\n",
       "      <td>PLSDB_NZ_CP049251.1</td>\n",
       "      <td>PLSDB_NZ_CP049251.1,3300038557|Ga0436432_0194,...</td>\n",
       "      <td>True</td>\n",
       "      <td>True</td>\n",
       "      <td>True</td>\n",
       "      <td>4</td>\n",
       "    </tr>\n",
       "    <tr>\n",
       "      <th>PTU-03550</th>\n",
       "      <td>PLSDB_NZ_CP062118.1</td>\n",
       "      <td>PLSDB_NZ_CP062118.1,3300048998|Ga0494381_00003...</td>\n",
       "      <td>True</td>\n",
       "      <td>True</td>\n",
       "      <td>True</td>\n",
       "      <td>4</td>\n",
       "    </tr>\n",
       "    <tr>\n",
       "      <th>PTU-04217</th>\n",
       "      <td>PLSDB_CP099719.1</td>\n",
       "      <td>PLSDB_CP099719.1,3300046458|Ga0495591_000017,I...</td>\n",
       "      <td>True</td>\n",
       "      <td>True</td>\n",
       "      <td>True</td>\n",
       "      <td>3</td>\n",
       "    </tr>\n",
       "    <tr>\n",
       "      <th>PTU-04856</th>\n",
       "      <td>3300049173|Ga0494684_006724</td>\n",
       "      <td>3300049173|Ga0494684_006724,3300049173|Ga04946...</td>\n",
       "      <td>True</td>\n",
       "      <td>True</td>\n",
       "      <td>True</td>\n",
       "      <td>3</td>\n",
       "    </tr>\n",
       "    <tr>\n",
       "      <th>PTU-06031</th>\n",
       "      <td>3300025735|Ga0207713_1000215</td>\n",
       "      <td>3300025735|Ga0207713_1000215,3300009011|Ga0105...</td>\n",
       "      <td>True</td>\n",
       "      <td>True</td>\n",
       "      <td>True</td>\n",
       "      <td>3</td>\n",
       "    </tr>\n",
       "    <tr>\n",
       "      <th>PTU-09746</th>\n",
       "      <td>3300042010|Ga0439452_000472</td>\n",
       "      <td>3300042010|Ga0439452_000472,PLSDB_NZ_CP035089.1</td>\n",
       "      <td>True</td>\n",
       "      <td>True</td>\n",
       "      <td>True</td>\n",
       "      <td>2</td>\n",
       "    </tr>\n",
       "    <tr>\n",
       "      <th>PTU-10732</th>\n",
       "      <td>3300036824|Ga0376696_0000107</td>\n",
       "      <td>3300036824|Ga0376696_0000107,Refsoil_NC_010696.1</td>\n",
       "      <td>True</td>\n",
       "      <td>True</td>\n",
       "      <td>True</td>\n",
       "      <td>2</td>\n",
       "    </tr>\n",
       "    <tr>\n",
       "      <th>PTU-12297</th>\n",
       "      <td>3300039568|Ga0397157_001373</td>\n",
       "      <td>3300039568|Ga0397157_001373,Refsoil_NC_009794.1</td>\n",
       "      <td>True</td>\n",
       "      <td>True</td>\n",
       "      <td>True</td>\n",
       "      <td>2</td>\n",
       "    </tr>\n",
       "    <tr>\n",
       "      <th>PTU-12460</th>\n",
       "      <td>PLSDB_NZ_CP094550.1</td>\n",
       "      <td>PLSDB_NZ_CP094550.1,3300039606|Ga0400852_000370</td>\n",
       "      <td>True</td>\n",
       "      <td>True</td>\n",
       "      <td>True</td>\n",
       "      <td>2</td>\n",
       "    </tr>\n",
       "  </tbody>\n",
       "</table>\n",
       "</div>"
      ],
      "text/plain": [
       "                                                           1  \\\n",
       "0                                                              \n",
       "PTU-00073                       3300035678|Ga0372948_0000013   \n",
       "PTU-00200                                Refsoil_NC_009508.1   \n",
       "PTU-00695  IMGPR_plasmid_2765236086_000004|2765236086|276...   \n",
       "PTU-01400                                PLSDB_NZ_CP013266.1   \n",
       "PTU-03504                                PLSDB_NZ_CP049251.1   \n",
       "PTU-03550                                PLSDB_NZ_CP062118.1   \n",
       "PTU-04217                                   PLSDB_CP099719.1   \n",
       "PTU-04856                        3300049173|Ga0494684_006724   \n",
       "PTU-06031                       3300025735|Ga0207713_1000215   \n",
       "PTU-09746                        3300042010|Ga0439452_000472   \n",
       "PTU-10732                       3300036824|Ga0376696_0000107   \n",
       "PTU-12297                        3300039568|Ga0397157_001373   \n",
       "PTU-12460                                PLSDB_NZ_CP094550.1   \n",
       "\n",
       "                                                           2  has_complete  \\\n",
       "0                                                                            \n",
       "PTU-00073  3300035678|Ga0372948_0000013,IMGPR_plasmid_282...          True   \n",
       "PTU-00200  Refsoil_NC_009508.1,3300049203|Ga0498789_00003...          True   \n",
       "PTU-00695  IMGPR_plasmid_2765236086_000004|2765236086|276...          True   \n",
       "PTU-01400  PLSDB_NZ_CP013266.1,IMGPR_plasmid_2675903423_0...          True   \n",
       "PTU-03504  PLSDB_NZ_CP049251.1,3300038557|Ga0436432_0194,...          True   \n",
       "PTU-03550  PLSDB_NZ_CP062118.1,3300048998|Ga0494381_00003...          True   \n",
       "PTU-04217  PLSDB_CP099719.1,3300046458|Ga0495591_000017,I...          True   \n",
       "PTU-04856  3300049173|Ga0494684_006724,3300049173|Ga04946...          True   \n",
       "PTU-06031  3300025735|Ga0207713_1000215,3300009011|Ga0105...          True   \n",
       "PTU-09746    3300042010|Ga0439452_000472,PLSDB_NZ_CP035089.1          True   \n",
       "PTU-10732   3300036824|Ga0376696_0000107,Refsoil_NC_010696.1          True   \n",
       "PTU-12297    3300039568|Ga0397157_001373,Refsoil_NC_009794.1          True   \n",
       "PTU-12460    PLSDB_NZ_CP094550.1,3300039606|Ga0400852_000370          True   \n",
       "\n",
       "           has_complete_meta  has_complete_isolate  size  \n",
       "0                                                         \n",
       "PTU-00073               True                  True    31  \n",
       "PTU-00200               True                  True    19  \n",
       "PTU-00695               True                  True    10  \n",
       "PTU-01400               True                  True     6  \n",
       "PTU-03504               True                  True     4  \n",
       "PTU-03550               True                  True     4  \n",
       "PTU-04217               True                  True     3  \n",
       "PTU-04856               True                  True     3  \n",
       "PTU-06031               True                  True     3  \n",
       "PTU-09746               True                  True     2  \n",
       "PTU-10732               True                  True     2  \n",
       "PTU-12297               True                  True     2  \n",
       "PTU-12460               True                  True     2  "
      ]
     },
     "execution_count": 8,
     "metadata": {},
     "output_type": "execute_result"
    }
   ],
   "source": [
    "df[\n",
    "    (df[\"has_complete\"])\n",
    "    & (df[\"size\"] > 1)\n",
    "    & (df[\"has_complete_meta\"])\n",
    "    & (df[\"has_complete_isolate\"])\n",
    "]"
   ]
  },
  {
   "cell_type": "code",
   "execution_count": 9,
   "metadata": {},
   "outputs": [],
   "source": [
    "df[\"ptu_length\"] = df[2].apply(lambda x: len(x.split(\",\")))"
   ]
  },
  {
   "cell_type": "code",
   "execution_count": 10,
   "metadata": {},
   "outputs": [
    {
     "data": {
      "text/plain": [
       "(15207, 7)"
      ]
     },
     "execution_count": 10,
     "metadata": {},
     "output_type": "execute_result"
    }
   ],
   "source": [
    "df[df[\"ptu_length\"] > 1].shape"
   ]
  },
  {
   "cell_type": "code",
   "execution_count": 11,
   "metadata": {},
   "outputs": [
    {
     "data": {
      "text/plain": [
       "56223"
      ]
     },
     "execution_count": 11,
     "metadata": {},
     "output_type": "execute_result"
    }
   ],
   "source": [
    "df[df[\"ptu_length\"] > 1][\"ptu_length\"].sum()"
   ]
  },
  {
   "cell_type": "code",
   "execution_count": 12,
   "metadata": {},
   "outputs": [
    {
     "name": "stdout",
     "output_type": "stream",
     "text": [
      "15207\n",
      "26.555487645158475\n"
     ]
    }
   ],
   "source": [
    "print(df[df[\"ptu_length\"] >= 2].shape[0])\n",
    "print((df[df[\"ptu_length\"] >= 2].shape[0] / df.shape[0]) * 100)"
   ]
  },
  {
   "cell_type": "code",
   "execution_count": 13,
   "metadata": {},
   "outputs": [],
   "source": [
    "def get_origin(row):\n",
    "    origins = []\n",
    "    for plasmid in row.split(\",\"):\n",
    "        if \"IMGPR\" in plasmid or \"Refsoil\" in plasmid or \"PLSDB\" in plasmid:\n",
    "            origins.append(\"Isolate\")\n",
    "        else:\n",
    "            origins.append(\"Meta\")\n",
    "    if all(i == \"Isolate\" for i in origins):\n",
    "        return \"Isolate\"\n",
    "    elif all(i == \"Meta\" for i in origins):\n",
    "        return \"Meta\"\n",
    "    else:\n",
    "        return \"Both\"\n",
    "\n",
    "\n",
    "df[\"origin\"] = df[2].apply(get_origin)"
   ]
  },
  {
   "cell_type": "code",
   "execution_count": 14,
   "metadata": {},
   "outputs": [
    {
     "data": {
      "text/plain": [
       "Meta       51238\n",
       "Isolate     5094\n",
       "Both         933\n",
       "Name: origin, dtype: int64"
      ]
     },
     "execution_count": 14,
     "metadata": {},
     "output_type": "execute_result"
    }
   ],
   "source": [
    "df[\"origin\"].value_counts()"
   ]
  },
  {
   "cell_type": "code",
   "execution_count": 15,
   "metadata": {},
   "outputs": [
    {
     "data": {
      "text/plain": [
       "array([51238,  5094,   933])"
      ]
     },
     "execution_count": 15,
     "metadata": {},
     "output_type": "execute_result"
    }
   ],
   "source": [
    "df[\"origin\"].value_counts().values"
   ]
  },
  {
   "cell_type": "code",
   "execution_count": 16,
   "metadata": {},
   "outputs": [
    {
     "data": {
      "image/png": "[encoded data removed]",
      "text/plain": [
       "<Figure size 640x480 with 1 Axes>"
      ]
     },
     "metadata": {},
     "output_type": "display_data"
    }
   ],
   "source": [
    "v = venn2(subsets=(df[\"origin\"].value_counts().values), set_labels=(\"Meta\", \"Isolates\"))\n",
    "\n",
    "plt.savefig(\"../figures/ptu_origin_venn.pdf\", bbox_inches=\"tight\")"
   ]
  },
  {
   "cell_type": "code",
   "execution_count": 17,
   "metadata": {},
   "outputs": [
    {
     "data": {
      "text/plain": [
       "[13514, 760, 933]"
      ]
     },
     "execution_count": 17,
     "metadata": {},
     "output_type": "execute_result"
    }
   ],
   "source": [
    "a = df[df[\"ptu_length\"] > 1][\"origin\"].value_counts()\n",
    "a = [a[\"Meta\"], a[\"Isolate\"], a[\"Both\"]]\n",
    "a"
   ]
  },
  {
   "cell_type": "code",
   "execution_count": 18,
   "metadata": {},
   "outputs": [
    {
     "data": {
      "image/png": "[encoded data removed]",
      "text/plain": [
       "<Figure size 640x480 with 1 Axes>"
      ]
     },
     "metadata": {},
     "output_type": "display_data"
    }
   ],
   "source": [
    "v = venn2(\n",
    "    subsets=(a),\n",
    "    set_labels=(\"Meta\", \"Isolates\"),\n",
    ")\n",
    "\n",
    "plt.savefig(\"../figures/ptu_non-singleton_origin_venn.pdf\", bbox_inches=\"tight\")"
   ]
  },
  {
   "cell_type": "code",
   "execution_count": 19,
   "metadata": {},
   "outputs": [],
   "source": [
    "df_ani = pl.read_csv(\"../ptu_derep/derep_plasmids_ani.tsv\", separator=\"\\t\")\n",
    "\n",
    "# df_ani.head()"
   ]
  },
  {
   "cell_type": "code",
   "execution_count": 20,
   "metadata": {},
   "outputs": [],
   "source": [
    "# df_ani = (\n",
    "#     df_ani.filter(pl.col(\"contig_1\") != pl.col(\"contig_2\"))\n",
    "#     .with_columns(\n",
    "#         cov=pl.max_horizontal(pl.col(\"qcov\"), pl.col(\"tcov\")),\n",
    "#         joined_contigs=pl.concat_list(\n",
    "#             [pl.col(\"contig_1\"), pl.col(\"contig_2\")]\n",
    "#         ).list.sort(),\n",
    "#     )\n",
    "#     .with_columns(pl.col(\"joined_contigs\").list.join(\",\"))\n",
    "#     .unique(\"joined_contigs\")\n",
    "# )\n",
    "\n",
    "# df_ani.head()"
   ]
  },
  {
   "cell_type": "code",
   "execution_count": 21,
   "metadata": {},
   "outputs": [
    {
     "data": {
      "text/html": [
       "<div><style>\n",
       ".dataframe > thead > tr > th,\n",
       ".dataframe > tbody > tr > td {\n",
       "  text-align: right;\n",
       "  white-space: pre-wrap;\n",
       "}\n",
       "</style>\n",
       "<small>shape: (5, 8)</small><table border=\"1\" class=\"dataframe\"><thead><tr><th>contig_1</th><th>contig_2</th><th>num_alns</th><th>ani</th><th>qcov</th><th>tcov</th><th>cov</th><th>joined_contigs</th></tr><tr><td>str</td><td>str</td><td>i64</td><td>f64</td><td>f64</td><td>f64</td><td>f64</td><td>str</td></tr></thead><tbody><tr><td>&quot;3300048772|Ga0…</td><td>&quot;3300050117|Ga0…</td><td>1</td><td>0.762</td><td>0.0254</td><td>0.0128</td><td>0.0254</td><td>&quot;3300048772|Ga0…</td></tr><tr><td>&quot;3300009011|Ga0…</td><td>&quot;3300039817|Ga0…</td><td>5</td><td>0.8244</td><td>0.2519</td><td>0.6839</td><td>0.6839</td><td>&quot;3300009011|Ga0…</td></tr><tr><td>&quot;3300028800|Ga0…</td><td>&quot;3300032174|Ga0…</td><td>1</td><td>0.7813</td><td>0.282</td><td>0.4604</td><td>0.4604</td><td>&quot;3300028800|Ga0…</td></tr><tr><td>&quot;3300029651|Ga0…</td><td>&quot;Refsoil_NC_011…</td><td>2</td><td>0.7976</td><td>0.0218</td><td>0.0003</td><td>0.0218</td><td>&quot;3300029651|Ga0…</td></tr><tr><td>&quot;3300040718|Ga0…</td><td>&quot;3300050024|Ga0…</td><td>1</td><td>0.7788</td><td>0.3581</td><td>0.2753</td><td>0.3581</td><td>&quot;3300040718|Ga0…</td></tr></tbody></table></div>"
      ],
      "text/plain": [
       "shape: (5, 8)\n",
       "┌─────────────────┬────────────────┬──────────┬────────┬────────┬────────┬────────┬────────────────┐\n",
       "│ contig_1        ┆ contig_2       ┆ num_alns ┆ ani    ┆ qcov   ┆ tcov   ┆ cov    ┆ joined_contigs │\n",
       "│ ---             ┆ ---            ┆ ---      ┆ ---    ┆ ---    ┆ ---    ┆ ---    ┆ ---            │\n",
       "│ str             ┆ str            ┆ i64      ┆ f64    ┆ f64    ┆ f64    ┆ f64    ┆ str            │\n",
       "╞═════════════════╪════════════════╪══════════╪════════╪════════╪════════╪════════╪════════════════╡\n",
       "│ 3300048772|Ga04 ┆ 3300050117|Ga0 ┆ 1        ┆ 0.762  ┆ 0.0254 ┆ 0.0128 ┆ 0.0254 ┆ 3300048772|Ga0 │\n",
       "│ 94739_002007    ┆ 500006_001049  ┆          ┆        ┆        ┆        ┆        ┆ 494739_002007, │\n",
       "│                 ┆                ┆          ┆        ┆        ┆        ┆        ┆ 3300…          │\n",
       "│ 3300009011|Ga01 ┆ 3300039817|Ga0 ┆ 5        ┆ 0.8244 ┆ 0.2519 ┆ 0.6839 ┆ 0.6839 ┆ 3300009011|Ga0 │\n",
       "│ 05251_10000082  ┆ 397266_00105   ┆          ┆        ┆        ┆        ┆        ┆ 105251_1000008 │\n",
       "│                 ┆                ┆          ┆        ┆        ┆        ┆        ┆ 2,33…          │\n",
       "│ 3300028800|Ga02 ┆ 3300032174|Ga0 ┆ 1        ┆ 0.7813 ┆ 0.282  ┆ 0.4604 ┆ 0.4604 ┆ 3300028800|Ga0 │\n",
       "│ 65338_10006445  ┆ 307470_1000152 ┆          ┆        ┆        ┆        ┆        ┆ 265338_1000644 │\n",
       "│                 ┆ 2              ┆          ┆        ┆        ┆        ┆        ┆ 5,33…          │\n",
       "│ 3300029651|Ga02 ┆ Refsoil_NC_011 ┆ 2        ┆ 0.7976 ┆ 0.0218 ┆ 0.0003 ┆ 0.0218 ┆ 3300029651|Ga0 │\n",
       "│ 68362_100143    ┆ 368.1          ┆          ┆        ┆        ┆        ┆        ┆ 268362_100143, │\n",
       "│                 ┆                ┆          ┆        ┆        ┆        ┆        ┆ Refs…          │\n",
       "│ 3300040718|Ga04 ┆ 3300050024|Ga0 ┆ 1        ┆ 0.7788 ┆ 0.3581 ┆ 0.2753 ┆ 0.3581 ┆ 3300040718|Ga0 │\n",
       "│ 00806_002637    ┆ 494732_0004944 ┆          ┆        ┆        ┆        ┆        ┆ 400806_002637, │\n",
       "│                 ┆                ┆          ┆        ┆        ┆        ┆        ┆ 3300…          │\n",
       "└─────────────────┴────────────────┴──────────┴────────┴────────┴────────┴────────┴────────────────┘"
      ]
     },
     "execution_count": 21,
     "metadata": {},
     "output_type": "execute_result"
    }
   ],
   "source": [
    "df_ani = (\n",
    "    df_ani.filter(pl.col(\"contig_1\") != pl.col(\"contig_2\"))\n",
    "    .with_columns(pl.max_horizontal(\"qcov\", \"tcov\").alias(\"cov\"))\n",
    "    .with_columns(\n",
    "        pl.when(pl.col(\"contig_1\") < pl.col(\"contig_2\"))\n",
    "        .then(pl.concat_str([\"contig_1\", \"contig_2\"], separator=\",\"))\n",
    "        .otherwise(pl.concat_str([\"contig_2\", \"contig_1\"], separator=\",\"))\n",
    "        .alias(\"joined_contigs\")\n",
    "    )\n",
    "    .unique(\"joined_contigs\")\n",
    ")\n",
    "\n",
    "df_ani.head()"
   ]
  },
  {
   "cell_type": "code",
   "execution_count": 22,
   "metadata": {},
   "outputs": [],
   "source": [
    "with open(\"../ptu_derep/complete_plasmids_derep.txt\") as f:\n",
    "    complete_plasmids = f.read().splitlines()"
   ]
  },
  {
   "cell_type": "code",
   "execution_count": 23,
   "metadata": {},
   "outputs": [
    {
     "data": {
      "text/html": [
       "<div><style>\n",
       ".dataframe > thead > tr > th,\n",
       ".dataframe > tbody > tr > td {\n",
       "  text-align: right;\n",
       "  white-space: pre-wrap;\n",
       "}\n",
       "</style>\n",
       "<small>shape: (5, 8)</small><table border=\"1\" class=\"dataframe\"><thead><tr><th>contig_1</th><th>contig_2</th><th>num_alns</th><th>ani</th><th>qcov</th><th>tcov</th><th>cov</th><th>joined_contigs</th></tr><tr><td>str</td><td>str</td><td>i64</td><td>f64</td><td>f64</td><td>f64</td><td>f64</td><td>str</td></tr></thead><tbody><tr><td>&quot;PLSDB_NZ_CP021…</td><td>&quot;PLSDB_NZ_CP036…</td><td>5</td><td>0.8024</td><td>0.1089</td><td>0.1196</td><td>0.1196</td><td>&quot;PLSDB_NZ_CP021…</td></tr><tr><td>&quot;PLSDB_NZ_CP036…</td><td>&quot;PLSDB_NZ_CP010…</td><td>66</td><td>0.8846</td><td>0.1752</td><td>0.1558</td><td>0.1752</td><td>&quot;PLSDB_NZ_CP010…</td></tr><tr><td>&quot;PLSDB_NZ_CP020…</td><td>&quot;PLSDB_NZ_CP084…</td><td>27</td><td>0.8061</td><td>0.0493</td><td>0.0612</td><td>0.0612</td><td>&quot;PLSDB_NZ_CP020…</td></tr><tr><td>&quot;PLSDB_NZ_CP014…</td><td>&quot;PLSDB_NZ_CP036…</td><td>13</td><td>0.8185</td><td>0.0542</td><td>0.0234</td><td>0.0542</td><td>&quot;PLSDB_NZ_CP014…</td></tr><tr><td>&quot;PLSDB_NZ_CP063…</td><td>&quot;Refsoil_NC_007…</td><td>9</td><td>0.8343</td><td>0.0319</td><td>0.0196</td><td>0.0319</td><td>&quot;PLSDB_NZ_CP063…</td></tr></tbody></table></div>"
      ],
      "text/plain": [
       "shape: (5, 8)\n",
       "┌─────────────────┬────────────────┬──────────┬────────┬────────┬────────┬────────┬────────────────┐\n",
       "│ contig_1        ┆ contig_2       ┆ num_alns ┆ ani    ┆ qcov   ┆ tcov   ┆ cov    ┆ joined_contigs │\n",
       "│ ---             ┆ ---            ┆ ---      ┆ ---    ┆ ---    ┆ ---    ┆ ---    ┆ ---            │\n",
       "│ str             ┆ str            ┆ i64      ┆ f64    ┆ f64    ┆ f64    ┆ f64    ┆ str            │\n",
       "╞═════════════════╪════════════════╪══════════╪════════╪════════╪════════╪════════╪════════════════╡\n",
       "│ PLSDB_NZ_CP0214 ┆ PLSDB_NZ_CP036 ┆ 5        ┆ 0.8024 ┆ 0.1089 ┆ 0.1196 ┆ 0.1196 ┆ PLSDB_NZ_CP021 │\n",
       "│ 39.1            ┆ 033.1          ┆          ┆        ┆        ┆        ┆        ┆ 439.1,PLSDB_NZ │\n",
       "│                 ┆                ┆          ┆        ┆        ┆        ┆        ┆ _CP0…          │\n",
       "│ PLSDB_NZ_CP0360 ┆ PLSDB_NZ_CP010 ┆ 66       ┆ 0.8846 ┆ 0.1752 ┆ 0.1558 ┆ 0.1752 ┆ PLSDB_NZ_CP010 │\n",
       "│ 21.1            ┆ 112.1          ┆          ┆        ┆        ┆        ┆        ┆ 112.1,PLSDB_NZ │\n",
       "│                 ┆                ┆          ┆        ┆        ┆        ┆        ┆ _CP0…          │\n",
       "│ PLSDB_NZ_CP0209 ┆ PLSDB_NZ_CP084 ┆ 27       ┆ 0.8061 ┆ 0.0493 ┆ 0.0612 ┆ 0.0612 ┆ PLSDB_NZ_CP020 │\n",
       "│ 27.1            ┆ 407.1          ┆          ┆        ┆        ┆        ┆        ┆ 927.1,PLSDB_NZ │\n",
       "│                 ┆                ┆          ┆        ┆        ┆        ┆        ┆ _CP0…          │\n",
       "│ PLSDB_NZ_CP0148 ┆ PLSDB_NZ_CP036 ┆ 13       ┆ 0.8185 ┆ 0.0542 ┆ 0.0234 ┆ 0.0542 ┆ PLSDB_NZ_CP014 │\n",
       "│ 51.1            ┆ 135.1          ┆          ┆        ┆        ┆        ┆        ┆ 851.1,PLSDB_NZ │\n",
       "│                 ┆                ┆          ┆        ┆        ┆        ┆        ┆ _CP0…          │\n",
       "│ PLSDB_NZ_CP0637 ┆ Refsoil_NC_007 ┆ 9        ┆ 0.8343 ┆ 0.0319 ┆ 0.0196 ┆ 0.0319 ┆ PLSDB_NZ_CP063 │\n",
       "│ 88.1            ┆ 410.1          ┆          ┆        ┆        ┆        ┆        ┆ 788.1,Refsoil_ │\n",
       "│                 ┆                ┆          ┆        ┆        ┆        ┆        ┆ NC_0…          │\n",
       "└─────────────────┴────────────────┴──────────┴────────┴────────┴────────┴────────┴────────────────┘"
      ]
     },
     "execution_count": 23,
     "metadata": {},
     "output_type": "execute_result"
    }
   ],
   "source": [
    "df_ani_complete_plasmids = df_ani.filter(\n",
    "    (pl.col(\"contig_1\").is_in(complete_plasmids))\n",
    "    & (pl.col(\"contig_2\").is_in(complete_plasmids))\n",
    ")\n",
    "df_ani_complete_plasmids.head()"
   ]
  },
  {
   "cell_type": "code",
   "execution_count": 24,
   "metadata": {},
   "outputs": [],
   "source": [
    "data_ani = df_ani.to_pandas()\n",
    "data_df_ani_complete_plasmids = df_ani_complete_plasmids.to_pandas()"
   ]
  },
  {
   "cell_type": "code",
   "execution_count": 25,
   "metadata": {},
   "outputs": [],
   "source": [
    "# sns.histplot(data_df_ani_complete_plasmids[\"cov\"])\n",
    "# plt.yscale(\"log\")"
   ]
  },
  {
   "cell_type": "code",
   "execution_count": 26,
   "metadata": {},
   "outputs": [],
   "source": [
    "# sns.jointplot(\n",
    "#     data=data_df_ani_complete_plasmids[data_df_ani_complete_plasmids[\"cov\"] > 0.2],\n",
    "#     x=\"ani\",\n",
    "#     y=\"cov\",\n",
    "#     kind=\"hex\",\n",
    "#     bins=\"log\",\n",
    "# )\n",
    "# plt.axhline(0.7, color=\"red\", linestyle=\"--\")\n",
    "# plt.savefig(\"../figures/ani_cov_jointplot.pdf\", bbox_inches=\"tight\")"
   ]
  },
  {
   "cell_type": "code",
   "execution_count": 27,
   "metadata": {},
   "outputs": [],
   "source": [
    "# sns.set_style(\"ticks\")\n",
    "# sns.jointplot(\n",
    "#     data=data_ani[data_ani[\"cov\"] > 0.2],\n",
    "#     x=\"ani\",\n",
    "#     y=\"cov\",\n",
    "#     kind=\"hex\",\n",
    "#     bins=\"log\",\n",
    "#     joint_kws={\"cmap\": \"viridis\"},\n",
    "# )\n",
    "# plt.axhline(0.7, color=\"red\", linestyle=\"--\")\n",
    "# cbar = plt.colorbar()\n",
    "# cbar.set_label(\"Number of plasmid pairs\")"
   ]
  },
  {
   "cell_type": "code",
   "execution_count": 28,
   "metadata": {},
   "outputs": [],
   "source": [
    "# plt.hexbin(\n",
    "#     data_ani[data_ani[\"cov\"] > 0.2][\"ani\"],\n",
    "#     data_ani[data_ani[\"cov\"] > 0.2][\"cov\"],\n",
    "#     cmap=\"viridis\",\n",
    "#     gridsize=40,\n",
    "#     bins=\"log\",\n",
    "# )\n",
    "# plt.xlabel(\"Average Nucleotide Identity\")\n",
    "# plt.ylabel(\"Aligned Fraction\")\n",
    "# plt.axhline(0.7, color=\"blue\", linestyle=\"--\")\n",
    "# cbar = plt.colorbar()\n",
    "# cbar.set_label(\"Plasmid pairs\")"
   ]
  },
  {
   "cell_type": "code",
   "execution_count": 29,
   "metadata": {},
   "outputs": [],
   "source": [
    "ptu_lookup = {}\n",
    "for idx in df.index:\n",
    "    for plasmid in df.loc[idx, 2].split(\",\"):\n",
    "        ptu_lookup[plasmid] = idx"
   ]
  },
  {
   "cell_type": "code",
   "execution_count": 30,
   "metadata": {},
   "outputs": [
    {
     "data": {
      "text/html": [
       "<div><style>\n",
       ".dataframe > thead > tr > th,\n",
       ".dataframe > tbody > tr > td {\n",
       "  text-align: right;\n",
       "  white-space: pre-wrap;\n",
       "}\n",
       "</style>\n",
       "<small>shape: (5, 10)</small><table border=\"1\" class=\"dataframe\"><thead><tr><th>contig_1</th><th>contig_2</th><th>num_alns</th><th>ani</th><th>qcov</th><th>tcov</th><th>cov</th><th>joined_contigs</th><th>contig_1_ptu</th><th>contig_2_ptu</th></tr><tr><td>str</td><td>str</td><td>i64</td><td>f64</td><td>f64</td><td>f64</td><td>f64</td><td>str</td><td>str</td><td>str</td></tr></thead><tbody><tr><td>&quot;3300048772|Ga0…</td><td>&quot;3300050117|Ga0…</td><td>1</td><td>0.762</td><td>0.0254</td><td>0.0128</td><td>0.0254</td><td>&quot;3300048772|Ga0…</td><td>&quot;PTU-01159&quot;</td><td>&quot;PTU-00000&quot;</td></tr><tr><td>&quot;3300009011|Ga0…</td><td>&quot;3300039817|Ga0…</td><td>5</td><td>0.8244</td><td>0.2519</td><td>0.6839</td><td>0.6839</td><td>&quot;3300009011|Ga0…</td><td>&quot;PTU-02681&quot;</td><td>&quot;PTU-16375&quot;</td></tr><tr><td>&quot;3300028800|Ga0…</td><td>&quot;3300032174|Ga0…</td><td>1</td><td>0.7813</td><td>0.282</td><td>0.4604</td><td>0.4604</td><td>&quot;3300028800|Ga0…</td><td>&quot;PTU-30978&quot;</td><td>&quot;PTU-00003&quot;</td></tr><tr><td>&quot;3300029651|Ga0…</td><td>&quot;Refsoil_NC_011…</td><td>2</td><td>0.7976</td><td>0.0218</td><td>0.0003</td><td>0.0218</td><td>&quot;3300029651|Ga0…</td><td>&quot;PTU-05295&quot;</td><td>&quot;PTU-12890&quot;</td></tr><tr><td>&quot;3300040718|Ga0…</td><td>&quot;3300050024|Ga0…</td><td>1</td><td>0.7788</td><td>0.3581</td><td>0.2753</td><td>0.3581</td><td>&quot;3300040718|Ga0…</td><td>&quot;PTU-03262&quot;</td><td>&quot;PTU-00017&quot;</td></tr></tbody></table></div>"
      ],
      "text/plain": [
       "shape: (5, 10)\n",
       "┌─────────────┬────────────┬──────────┬────────┬───┬────────┬────────────┬────────────┬────────────┐\n",
       "│ contig_1    ┆ contig_2   ┆ num_alns ┆ ani    ┆ … ┆ cov    ┆ joined_con ┆ contig_1_p ┆ contig_2_p │\n",
       "│ ---         ┆ ---        ┆ ---      ┆ ---    ┆   ┆ ---    ┆ tigs       ┆ tu         ┆ tu         │\n",
       "│ str         ┆ str        ┆ i64      ┆ f64    ┆   ┆ f64    ┆ ---        ┆ ---        ┆ ---        │\n",
       "│             ┆            ┆          ┆        ┆   ┆        ┆ str        ┆ str        ┆ str        │\n",
       "╞═════════════╪════════════╪══════════╪════════╪═══╪════════╪════════════╪════════════╪════════════╡\n",
       "│ 3300048772| ┆ 3300050117 ┆ 1        ┆ 0.762  ┆ … ┆ 0.0254 ┆ 3300048772 ┆ PTU-01159  ┆ PTU-00000  │\n",
       "│ Ga0494739_0 ┆ |Ga0500006 ┆          ┆        ┆   ┆        ┆ |Ga0494739 ┆            ┆            │\n",
       "│ 02007       ┆ _001049    ┆          ┆        ┆   ┆        ┆ _002007,33 ┆            ┆            │\n",
       "│             ┆            ┆          ┆        ┆   ┆        ┆ 00…        ┆            ┆            │\n",
       "│ 3300009011| ┆ 3300039817 ┆ 5        ┆ 0.8244 ┆ … ┆ 0.6839 ┆ 3300009011 ┆ PTU-02681  ┆ PTU-16375  │\n",
       "│ Ga0105251_1 ┆ |Ga0397266 ┆          ┆        ┆   ┆        ┆ |Ga0105251 ┆            ┆            │\n",
       "│ 0000082     ┆ _00105     ┆          ┆        ┆   ┆        ┆ _10000082, ┆            ┆            │\n",
       "│             ┆            ┆          ┆        ┆   ┆        ┆ 33…        ┆            ┆            │\n",
       "│ 3300028800| ┆ 3300032174 ┆ 1        ┆ 0.7813 ┆ … ┆ 0.4604 ┆ 3300028800 ┆ PTU-30978  ┆ PTU-00003  │\n",
       "│ Ga0265338_1 ┆ |Ga0307470 ┆          ┆        ┆   ┆        ┆ |Ga0265338 ┆            ┆            │\n",
       "│ 0006445     ┆ _10001522  ┆          ┆        ┆   ┆        ┆ _10006445, ┆            ┆            │\n",
       "│             ┆            ┆          ┆        ┆   ┆        ┆ 33…        ┆            ┆            │\n",
       "│ 3300029651| ┆ Refsoil_NC ┆ 2        ┆ 0.7976 ┆ … ┆ 0.0218 ┆ 3300029651 ┆ PTU-05295  ┆ PTU-12890  │\n",
       "│ Ga0268362_1 ┆ _011368.1  ┆          ┆        ┆   ┆        ┆ |Ga0268362 ┆            ┆            │\n",
       "│ 00143       ┆            ┆          ┆        ┆   ┆        ┆ _100143,Re ┆            ┆            │\n",
       "│             ┆            ┆          ┆        ┆   ┆        ┆ fs…        ┆            ┆            │\n",
       "│ 3300040718| ┆ 3300050024 ┆ 1        ┆ 0.7788 ┆ … ┆ 0.3581 ┆ 3300040718 ┆ PTU-03262  ┆ PTU-00017  │\n",
       "│ Ga0400806_0 ┆ |Ga0494732 ┆          ┆        ┆   ┆        ┆ |Ga0400806 ┆            ┆            │\n",
       "│ 02637       ┆ _0004944   ┆          ┆        ┆   ┆        ┆ _002637,33 ┆            ┆            │\n",
       "│             ┆            ┆          ┆        ┆   ┆        ┆ 00…        ┆            ┆            │\n",
       "└─────────────┴────────────┴──────────┴────────┴───┴────────┴────────────┴────────────┴────────────┘"
      ]
     },
     "execution_count": 30,
     "metadata": {},
     "output_type": "execute_result"
    }
   ],
   "source": [
    "df_ani = df_ani.with_columns(\n",
    "    pl.col(\"contig_1\").map_elements(lambda x: ptu_lookup.get(x)).alias(\"contig_1_ptu\")\n",
    ").with_columns(\n",
    "    pl.col(\"contig_2\").map_elements(lambda x: ptu_lookup.get(x)).alias(\"contig_2_ptu\")\n",
    ")\n",
    "\n",
    "df_ani.head()"
   ]
  },
  {
   "cell_type": "code",
   "execution_count": 42,
   "metadata": {},
   "outputs": [
    {
     "data": {
      "text/html": [
       "<div><style>\n",
       ".dataframe > thead > tr > th,\n",
       ".dataframe > tbody > tr > td {\n",
       "  text-align: right;\n",
       "  white-space: pre-wrap;\n",
       "}\n",
       "</style>\n",
       "<small>shape: (12, 10)</small><table border=\"1\" class=\"dataframe\"><thead><tr><th>contig_1</th><th>contig_2</th><th>num_alns</th><th>ani</th><th>qcov</th><th>tcov</th><th>cov</th><th>joined_contigs</th><th>contig_1_ptu</th><th>contig_2_ptu</th></tr><tr><td>str</td><td>str</td><td>i64</td><td>f64</td><td>f64</td><td>f64</td><td>f64</td><td>str</td><td>str</td><td>str</td></tr></thead><tbody><tr><td>&quot;3300049574|Ga0…</td><td>&quot;IMGPR_plasmid_…</td><td>2</td><td>0.777</td><td>0.9613</td><td>0.0035</td><td>0.9613</td><td>&quot;3300049574|Ga0…</td><td>&quot;PTU-00787&quot;</td><td>&quot;PTU-03001&quot;</td></tr><tr><td>&quot;IMGPR_plasmid_…</td><td>&quot;IMGPR_plasmid_…</td><td>4</td><td>0.9894</td><td>0.9958</td><td>0.0264</td><td>0.9958</td><td>&quot;IMGPR_plasmid_…</td><td>&quot;PTU-41348&quot;</td><td>&quot;PTU-03001&quot;</td></tr><tr><td>&quot;IMGPR_plasmid_…</td><td>&quot;IMGPR_plasmid_…</td><td>5</td><td>0.9915</td><td>0.9637</td><td>0.0192</td><td>0.9637</td><td>&quot;IMGPR_plasmid_…</td><td>&quot;PTU-41347&quot;</td><td>&quot;PTU-03001&quot;</td></tr><tr><td>&quot;IMGPR_plasmid_…</td><td>&quot;IMGPR_plasmid_…</td><td>2</td><td>0.9845</td><td>0.9789</td><td>0.0163</td><td>0.9789</td><td>&quot;IMGPR_plasmid_…</td><td>&quot;PTU-43359&quot;</td><td>&quot;PTU-03001&quot;</td></tr><tr><td>&quot;IMGPR_plasmid_…</td><td>&quot;IMGPR_plasmid_…</td><td>19</td><td>0.9849</td><td>0.9565</td><td>0.1096</td><td>0.9565</td><td>&quot;IMGPR_plasmid_…</td><td>&quot;PTU-14400&quot;</td><td>&quot;PTU-03001&quot;</td></tr><tr><td>&quot;IMGPR_plasmid_…</td><td>&quot;IMGPR_plasmid_…</td><td>6</td><td>0.9835</td><td>0.9825</td><td>0.0446</td><td>0.9825</td><td>&quot;IMGPR_plasmid_…</td><td>&quot;PTU-14399&quot;</td><td>&quot;PTU-03001&quot;</td></tr><tr><td>&quot;IMGPR_plasmid_…</td><td>&quot;IMGPR_plasmid_…</td><td>12</td><td>0.9887</td><td>0.9715</td><td>0.1275</td><td>0.9715</td><td>&quot;IMGPR_plasmid_…</td><td>&quot;PTU-03001&quot;</td><td>&quot;PTU-03001&quot;</td></tr><tr><td>&quot;IMGPR_plasmid_…</td><td>&quot;IMGPR_plasmid_…</td><td>4</td><td>0.9827</td><td>0.9934</td><td>0.0347</td><td>0.9934</td><td>&quot;IMGPR_plasmid_…</td><td>&quot;PTU-14429&quot;</td><td>&quot;PTU-03001&quot;</td></tr><tr><td>&quot;IMGPR_plasmid_…</td><td>&quot;IMGPR_plasmid_…</td><td>16</td><td>0.9892</td><td>0.9665</td><td>0.1844</td><td>0.9665</td><td>&quot;IMGPR_plasmid_…</td><td>&quot;PTU-03001&quot;</td><td>&quot;PTU-03001&quot;</td></tr><tr><td>&quot;3300053165|Ga0…</td><td>&quot;IMGPR_plasmid_…</td><td>4</td><td>0.8694</td><td>0.9727</td><td>0.0112</td><td>0.9727</td><td>&quot;3300053165|Ga0…</td><td>&quot;PTU-03709&quot;</td><td>&quot;PTU-03001&quot;</td></tr><tr><td>&quot;3300036781|Ga0…</td><td>&quot;IMGPR_plasmid_…</td><td>1</td><td>0.815</td><td>1.0</td><td>0.0036</td><td>1.0</td><td>&quot;3300036781|Ga0…</td><td>&quot;PTU-00103&quot;</td><td>&quot;PTU-03001&quot;</td></tr><tr><td>&quot;IMGPR_plasmid_…</td><td>&quot;IMGPR_plasmid_…</td><td>4</td><td>0.9867</td><td>0.9965</td><td>0.0286</td><td>0.9965</td><td>&quot;IMGPR_plasmid_…</td><td>&quot;PTU-14439&quot;</td><td>&quot;PTU-03001&quot;</td></tr></tbody></table></div>"
      ],
      "text/plain": [
       "shape: (12, 10)\n",
       "┌─────────────┬────────────┬──────────┬────────┬───┬────────┬────────────┬────────────┬────────────┐\n",
       "│ contig_1    ┆ contig_2   ┆ num_alns ┆ ani    ┆ … ┆ cov    ┆ joined_con ┆ contig_1_p ┆ contig_2_p │\n",
       "│ ---         ┆ ---        ┆ ---      ┆ ---    ┆   ┆ ---    ┆ tigs       ┆ tu         ┆ tu         │\n",
       "│ str         ┆ str        ┆ i64      ┆ f64    ┆   ┆ f64    ┆ ---        ┆ ---        ┆ ---        │\n",
       "│             ┆            ┆          ┆        ┆   ┆        ┆ str        ┆ str        ┆ str        │\n",
       "╞═════════════╪════════════╪══════════╪════════╪═══╪════════╪════════════╪════════════╪════════════╡\n",
       "│ 3300049574| ┆ IMGPR_plas ┆ 2        ┆ 0.777  ┆ … ┆ 0.9613 ┆ 3300049574 ┆ PTU-00787  ┆ PTU-03001  │\n",
       "│ Ga0501038_0 ┆ mid_252353 ┆          ┆        ┆   ┆        ┆ |Ga0501038 ┆            ┆            │\n",
       "│ 026999      ┆ 3632_00000 ┆          ┆        ┆   ┆        ┆ _0026999,I ┆            ┆            │\n",
       "│             ┆ 3|…        ┆          ┆        ┆   ┆        ┆ MG…        ┆            ┆            │\n",
       "│ IMGPR_plasm ┆ IMGPR_plas ┆ 4        ┆ 0.9894 ┆ … ┆ 0.9958 ┆ IMGPR_plas ┆ PTU-41348  ┆ PTU-03001  │\n",
       "│ id_28441542 ┆ mid_252353 ┆          ┆        ┆   ┆        ┆ mid_252353 ┆            ┆            │\n",
       "│ 94_000015|… ┆ 3632_00000 ┆          ┆        ┆   ┆        ┆ 3632_00000 ┆            ┆            │\n",
       "│             ┆ 3|…        ┆          ┆        ┆   ┆        ┆ 3|…        ┆            ┆            │\n",
       "│ IMGPR_plasm ┆ IMGPR_plas ┆ 5        ┆ 0.9915 ┆ … ┆ 0.9637 ┆ IMGPR_plas ┆ PTU-41347  ┆ PTU-03001  │\n",
       "│ id_28441542 ┆ mid_252353 ┆          ┆        ┆   ┆        ┆ mid_252353 ┆            ┆            │\n",
       "│ 94_000014|… ┆ 3632_00000 ┆          ┆        ┆   ┆        ┆ 3632_00000 ┆            ┆            │\n",
       "│             ┆ 3|…        ┆          ┆        ┆   ┆        ┆ 3|…        ┆            ┆            │\n",
       "│ IMGPR_plasm ┆ IMGPR_plas ┆ 2        ┆ 0.9845 ┆ … ┆ 0.9789 ┆ IMGPR_plas ┆ PTU-43359  ┆ PTU-03001  │\n",
       "│ id_28063104 ┆ mid_252353 ┆          ┆        ┆   ┆        ┆ mid_252353 ┆            ┆            │\n",
       "│ 16_000019|… ┆ 3632_00000 ┆          ┆        ┆   ┆        ┆ 3632_00000 ┆            ┆            │\n",
       "│             ┆ 3|…        ┆          ┆        ┆   ┆        ┆ 3|…        ┆            ┆            │\n",
       "│ …           ┆ …          ┆ …        ┆ …      ┆ … ┆ …      ┆ …          ┆ …          ┆ …          │\n",
       "│ IMGPR_plasm ┆ IMGPR_plas ┆ 16       ┆ 0.9892 ┆ … ┆ 0.9665 ┆ IMGPR_plas ┆ PTU-03001  ┆ PTU-03001  │\n",
       "│ id_28441542 ┆ mid_252353 ┆          ┆        ┆   ┆        ┆ mid_252353 ┆            ┆            │\n",
       "│ 94_000005|… ┆ 3632_00000 ┆          ┆        ┆   ┆        ┆ 3632_00000 ┆            ┆            │\n",
       "│             ┆ 3|…        ┆          ┆        ┆   ┆        ┆ 3|…        ┆            ┆            │\n",
       "│ 3300053165| ┆ IMGPR_plas ┆ 4        ┆ 0.8694 ┆ … ┆ 0.9727 ┆ 3300053165 ┆ PTU-03709  ┆ PTU-03001  │\n",
       "│ Ga0494687_0 ┆ mid_252353 ┆          ┆        ┆   ┆        ┆ |Ga0494687 ┆            ┆            │\n",
       "│ 02163       ┆ 3632_00000 ┆          ┆        ┆   ┆        ┆ _002163,IM ┆            ┆            │\n",
       "│             ┆ 3|…        ┆          ┆        ┆   ┆        ┆ GP…        ┆            ┆            │\n",
       "│ 3300036781| ┆ IMGPR_plas ┆ 1        ┆ 0.815  ┆ … ┆ 1.0    ┆ 3300036781 ┆ PTU-00103  ┆ PTU-03001  │\n",
       "│ Ga0376653_0 ┆ mid_252353 ┆          ┆        ┆   ┆        ┆ |Ga0376653 ┆            ┆            │\n",
       "│ 042898      ┆ 3632_00000 ┆          ┆        ┆   ┆        ┆ _0042898,I ┆            ┆            │\n",
       "│             ┆ 3|…        ┆          ┆        ┆   ┆        ┆ MG…        ┆            ┆            │\n",
       "│ IMGPR_plasm ┆ IMGPR_plas ┆ 4        ┆ 0.9867 ┆ … ┆ 0.9965 ┆ IMGPR_plas ┆ PTU-14439  ┆ PTU-03001  │\n",
       "│ id_28441542 ┆ mid_252353 ┆          ┆        ┆   ┆        ┆ mid_252353 ┆            ┆            │\n",
       "│ 94_000032|… ┆ 3632_00000 ┆          ┆        ┆   ┆        ┆ 3632_00000 ┆            ┆            │\n",
       "│             ┆ 3|…        ┆          ┆        ┆   ┆        ┆ 3|…        ┆            ┆            │\n",
       "└─────────────┴────────────┴──────────┴────────┴───┴────────┴────────────┴────────────┴────────────┘"
      ]
     },
     "execution_count": 42,
     "metadata": {},
     "output_type": "execute_result"
    }
   ],
   "source": [
    "df_ani.filter(\n",
    "    (pl.col(\"contig_2\") == \"IMGPR_plasmid_2523533632_000003|2523533632|2523543592\")\n",
    "    & (pl.col(\"cov\") > 0.9)\n",
    ")"
   ]
  },
  {
   "cell_type": "code",
   "execution_count": 32,
   "metadata": {},
   "outputs": [],
   "source": [
    "with open(\"../nikos_questions/isolate_plasmids_50kb_up.txt\") as f:\n",
    "    isolate_plasmids = f.read().splitlines()\n",
    "\n",
    "with open(\"../nikos_questions/complete_isolate_plasmids.txt\") as f:\n",
    "    complete_isolate_plasmids = f.read().splitlines()\n"
   ]
  },
  {
   "cell_type": "code",
   "execution_count": 44,
   "metadata": {},
   "outputs": [],
   "source": [
    "df_ani.filter(\n",
    "    (\n",
    "        pl.col(\"contig_1\").is_in(complete_isolate_plasmids)\n",
    "        | (pl.col(\"contig_2\").is_in(complete_isolate_plasmids))\n",
    "    )\n",
    "    & (pl.col(\"cov\") == 1)\n",
    ").with_columns(\n",
    "    pl.when(pl.col(\"contig_1\").str.contains(\"IMGPR|Refsoil|PLSDB\"))\n",
    "    .then(pl.lit(\"isolate\"))\n",
    "    .otherwise(pl.lit(\"meta\"))\n",
    "    .alias(\"contig_1_origin\")\n",
    ").with_columns(\n",
    "    pl.when(pl.col(\"contig_2\").str.contains(\"IMGPR|Refsoil|PLSDB\"))\n",
    "    .then(pl.lit(\"isolate\"))\n",
    "    .otherwise(pl.lit(\"meta\"))\n",
    "    .alias(\"contig_2_origin\")\n",
    ").filter(\n",
    "    (pl.col(\"contig_1_origin\") == \"meta\") | (pl.col(\"contig_2_origin\") == \"meta\")\n",
    ").write_csv(\n",
    "    \"../nikos_questions/isolate_plasmids_cov_1.0.tsv\",\n",
    "    separator=\"\\t\",\n",
    ")"
   ]
  },
  {
   "cell_type": "code",
   "execution_count": null,
   "metadata": {},
   "outputs": [],
   "source": []
  },
  {
   "cell_type": "code",
   "execution_count": 40,
   "metadata": {},
   "outputs": [
    {
     "data": {
      "text/html": [
       "<div><style>\n",
       ".dataframe > thead > tr > th,\n",
       ".dataframe > tbody > tr > td {\n",
       "  text-align: right;\n",
       "  white-space: pre-wrap;\n",
       "}\n",
       "</style>\n",
       "<small>shape: (5, 10)</small><table border=\"1\" class=\"dataframe\"><thead><tr><th>contig_1</th><th>contig_2</th><th>num_alns</th><th>ani</th><th>qcov</th><th>tcov</th><th>cov</th><th>joined_contigs</th><th>contig_1_ptu</th><th>contig_2_ptu</th></tr><tr><td>str</td><td>str</td><td>i64</td><td>f64</td><td>f64</td><td>f64</td><td>f64</td><td>str</td><td>str</td><td>str</td></tr></thead><tbody><tr><td>&quot;3300048810|Ga0…</td><td>&quot;3300050345|Ga0…</td><td>1</td><td>0.8546</td><td>0.7252</td><td>0.9478</td><td>0.9478</td><td>&quot;3300048810|Ga0…</td><td>&quot;PTU-00000&quot;</td><td>&quot;PTU-00000&quot;</td></tr><tr><td>&quot;3300047642|Ga0…</td><td>&quot;3300050035|Ga0…</td><td>1</td><td>0.9943</td><td>0.8814</td><td>0.6999</td><td>0.8814</td><td>&quot;3300047642|Ga0…</td><td>&quot;PTU-05106&quot;</td><td>&quot;PTU-05106&quot;</td></tr><tr><td>&quot;3300047648|Ga0…</td><td>&quot;3300047656|Ga0…</td><td>2</td><td>0.9999</td><td>0.807</td><td>0.9844</td><td>0.9844</td><td>&quot;3300047648|Ga0…</td><td>&quot;PTU-03736&quot;</td><td>&quot;PTU-03736&quot;</td></tr><tr><td>&quot;3300046782|Ga0…</td><td>&quot;3300060913|Ga0…</td><td>2</td><td>0.9008</td><td>0.6461</td><td>0.8965</td><td>0.8965</td><td>&quot;3300046782|Ga0…</td><td>&quot;PTU-00189&quot;</td><td>&quot;PTU-00189&quot;</td></tr><tr><td>&quot;3300010367|Ga0…</td><td>&quot;3300049184|Ga0…</td><td>2</td><td>0.8303</td><td>0.8791</td><td>0.1623</td><td>0.8791</td><td>&quot;3300010367|Ga0…</td><td>&quot;PTU-03179&quot;</td><td>&quot;PTU-03179&quot;</td></tr></tbody></table></div>"
      ],
      "text/plain": [
       "shape: (5, 10)\n",
       "┌─────────────┬────────────┬──────────┬────────┬───┬────────┬────────────┬────────────┬────────────┐\n",
       "│ contig_1    ┆ contig_2   ┆ num_alns ┆ ani    ┆ … ┆ cov    ┆ joined_con ┆ contig_1_p ┆ contig_2_p │\n",
       "│ ---         ┆ ---        ┆ ---      ┆ ---    ┆   ┆ ---    ┆ tigs       ┆ tu         ┆ tu         │\n",
       "│ str         ┆ str        ┆ i64      ┆ f64    ┆   ┆ f64    ┆ ---        ┆ ---        ┆ ---        │\n",
       "│             ┆            ┆          ┆        ┆   ┆        ┆ str        ┆ str        ┆ str        │\n",
       "╞═════════════╪════════════╪══════════╪════════╪═══╪════════╪════════════╪════════════╪════════════╡\n",
       "│ 3300048810| ┆ 3300050345 ┆ 1        ┆ 0.8546 ┆ … ┆ 0.9478 ┆ 3300048810 ┆ PTU-00000  ┆ PTU-00000  │\n",
       "│ Ga0495389_0 ┆ |Ga0494699 ┆          ┆        ┆   ┆        ┆ |Ga0495389 ┆            ┆            │\n",
       "│ 07167       ┆ _0008567   ┆          ┆        ┆   ┆        ┆ _007167,33 ┆            ┆            │\n",
       "│             ┆            ┆          ┆        ┆   ┆        ┆ 00…        ┆            ┆            │\n",
       "│ 3300047642| ┆ 3300050035 ┆ 1        ┆ 0.9943 ┆ … ┆ 0.8814 ┆ 3300047642 ┆ PTU-05106  ┆ PTU-05106  │\n",
       "│ Ga0497317_0 ┆ |Ga0495427 ┆          ┆        ┆   ┆        ┆ |Ga0497317 ┆            ┆            │\n",
       "│ 05128       ┆ _008620    ┆          ┆        ┆   ┆        ┆ _005128,33 ┆            ┆            │\n",
       "│             ┆            ┆          ┆        ┆   ┆        ┆ 00…        ┆            ┆            │\n",
       "│ 3300047648| ┆ 3300047656 ┆ 2        ┆ 0.9999 ┆ … ┆ 0.9844 ┆ 3300047648 ┆ PTU-03736  ┆ PTU-03736  │\n",
       "│ Ga0497298_0 ┆ |Ga0497307 ┆          ┆        ┆   ┆        ┆ |Ga0497298 ┆            ┆            │\n",
       "│ 01066       ┆ _002562    ┆          ┆        ┆   ┆        ┆ _001066,33 ┆            ┆            │\n",
       "│             ┆            ┆          ┆        ┆   ┆        ┆ 00…        ┆            ┆            │\n",
       "│ 3300046782| ┆ 3300060913 ┆ 2        ┆ 0.9008 ┆ … ┆ 0.8965 ┆ 3300046782 ┆ PTU-00189  ┆ PTU-00189  │\n",
       "│ Ga0495473_0 ┆ |Ga0597085 ┆          ┆        ┆   ┆        ┆ |Ga0495473 ┆            ┆            │\n",
       "│ 008025      ┆ _0046354   ┆          ┆        ┆   ┆        ┆ _0008025,3 ┆            ┆            │\n",
       "│             ┆            ┆          ┆        ┆   ┆        ┆ 30…        ┆            ┆            │\n",
       "│ 3300010367| ┆ 3300049184 ┆ 2        ┆ 0.8303 ┆ … ┆ 0.8791 ┆ 3300010367 ┆ PTU-03179  ┆ PTU-03179  │\n",
       "│ Ga0136846_1 ┆ |Ga0498765 ┆          ┆        ┆   ┆        ┆ |Ga0136846 ┆            ┆            │\n",
       "│ 237302      ┆ _000053    ┆          ┆        ┆   ┆        ┆ _1237302,3 ┆            ┆            │\n",
       "│             ┆            ┆          ┆        ┆   ┆        ┆ 30…        ┆            ┆            │\n",
       "└─────────────┴────────────┴──────────┴────────┴───┴────────┴────────────┴────────────┴────────────┘"
      ]
     },
     "execution_count": 40,
     "metadata": {},
     "output_type": "execute_result"
    }
   ],
   "source": [
    "filtered_df_ani = df_ani.filter(\n",
    "    (pl.col(\"contig_1\") != pl.col(\"contig_2\"))\n",
    "    & (pl.col(\"contig_1_ptu\") == pl.col(\"contig_2_ptu\"))\n",
    "    & ((pl.col(\"ani\") != 1) & (pl.col(\"tcov\") != 1) & (pl.col(\"qcov\") != 1))\n",
    ")\n",
    "\n",
    "filtered_df_ani.head()"
   ]
  },
  {
   "cell_type": "code",
   "execution_count": 31,
   "metadata": {},
   "outputs": [],
   "source": [
    "# a = filtered_df_ani.filter(\n",
    "#     (pl.col(\"contig_1\").is_in(complete_plasmids))\n",
    "#     & (pl.col(\"contig_2\").is_in(complete_plasmids))\n",
    "# )"
   ]
  },
  {
   "cell_type": "code",
   "execution_count": 32,
   "metadata": {},
   "outputs": [],
   "source": [
    "# a.filter(pl.col(\"cov\") < 0.7).shape[0] / a.shape[0]"
   ]
  },
  {
   "cell_type": "code",
   "execution_count": 33,
   "metadata": {},
   "outputs": [],
   "source": [
    "# sns.jointplot(\n",
    "#     data=a.to_pandas(),\n",
    "#     x=\"ani\",\n",
    "#     y=\"cov\",\n",
    "#     kind=\"hex\",\n",
    "#     marginal_kws=dict(bins=30, fill=True),\n",
    "# )\n",
    "# plt.axhline(0.7, color=\"red\", linestyle=\"--\")\n",
    "# plt.savefig(\"../figures/ani_cov_jointplot_filtered.pdf\", bbox_inches=\"tight\")"
   ]
  },
  {
   "cell_type": "code",
   "execution_count": 34,
   "metadata": {},
   "outputs": [
    {
     "data": {
      "image/png": "[encoded data removed]",
      "text/plain": [
       "<Figure size 600x600 with 3 Axes>"
      ]
     },
     "metadata": {},
     "output_type": "display_data"
    }
   ],
   "source": [
    "sns.jointplot(\n",
    "    data=filtered_df_ani.to_pandas(),\n",
    "    x=\"ani\",\n",
    "    y=\"cov\",\n",
    "    kind=\"hex\",\n",
    "    marginal_kws=dict(bins=30, fill=True),\n",
    ")\n",
    "plt.axhline(0.7, color=\"red\", linestyle=\"--\")\n",
    "plt.savefig(\"../figures/ani_cov_jointplot_filtered.pdf\", bbox_inches=\"tight\")"
   ]
  },
  {
   "cell_type": "code",
   "execution_count": 35,
   "metadata": {},
   "outputs": [
    {
     "data": {
      "text/html": [
       "<div>\n",
       "<style scoped>\n",
       "    .dataframe tbody tr th:only-of-type {\n",
       "        vertical-align: middle;\n",
       "    }\n",
       "\n",
       "    .dataframe tbody tr th {\n",
       "        vertical-align: top;\n",
       "    }\n",
       "\n",
       "    .dataframe thead th {\n",
       "        text-align: right;\n",
       "    }\n",
       "</style>\n",
       "<table border=\"1\" class=\"dataframe\">\n",
       "  <thead>\n",
       "    <tr style=\"text-align: right;\">\n",
       "      <th></th>\n",
       "      <th>contig_1_ptu</th>\n",
       "      <th>mean_ani</th>\n",
       "      <th>mean_cov</th>\n",
       "      <th>n</th>\n",
       "    </tr>\n",
       "  </thead>\n",
       "  <tbody>\n",
       "    <tr>\n",
       "      <th>0</th>\n",
       "      <td>PTU-03273</td>\n",
       "      <td>0.987600</td>\n",
       "      <td>0.938400</td>\n",
       "      <td>5</td>\n",
       "    </tr>\n",
       "    <tr>\n",
       "      <th>1</th>\n",
       "      <td>PTU-06126</td>\n",
       "      <td>0.978500</td>\n",
       "      <td>0.993800</td>\n",
       "      <td>2</td>\n",
       "    </tr>\n",
       "    <tr>\n",
       "      <th>2</th>\n",
       "      <td>PTU-14844</td>\n",
       "      <td>0.991100</td>\n",
       "      <td>0.865000</td>\n",
       "      <td>1</td>\n",
       "    </tr>\n",
       "    <tr>\n",
       "      <th>3</th>\n",
       "      <td>PTU-06475</td>\n",
       "      <td>0.776600</td>\n",
       "      <td>0.758200</td>\n",
       "      <td>2</td>\n",
       "    </tr>\n",
       "    <tr>\n",
       "      <th>4</th>\n",
       "      <td>PTU-00647</td>\n",
       "      <td>0.999053</td>\n",
       "      <td>0.823979</td>\n",
       "      <td>19</td>\n",
       "    </tr>\n",
       "  </tbody>\n",
       "</table>\n",
       "</div>"
      ],
      "text/plain": [
       "  contig_1_ptu  mean_ani  mean_cov   n\n",
       "0    PTU-03273  0.987600  0.938400   5\n",
       "1    PTU-06126  0.978500  0.993800   2\n",
       "2    PTU-14844  0.991100  0.865000   1\n",
       "3    PTU-06475  0.776600  0.758200   2\n",
       "4    PTU-00647  0.999053  0.823979  19"
      ]
     },
     "execution_count": 35,
     "metadata": {},
     "output_type": "execute_result"
    }
   ],
   "source": [
    "mean_ani_ptu = (\n",
    "    filtered_df_ani.group_by(\"contig_1_ptu\")\n",
    "    .agg(\n",
    "        pl.col(\"ani\").mean().alias(\"mean_ani\"),\n",
    "        pl.col(\"cov\").mean().alias(\"mean_cov\"),\n",
    "        pl.col(\"contig_1_ptu\").count().alias(\"n\"),\n",
    "    )\n",
    "    .to_pandas()\n",
    ")\n",
    "\n",
    "# median_ani_ptu =(filtered_df_ani.group_by(\"contig_1_ptu\")\n",
    "#     .agg(pl.col(\"ani\").median().alias(\"median_ani\"))\n",
    "#     .to_pandas()\n",
    "# )\n",
    "\n",
    "mean_ani_ptu.head()"
   ]
  },
  {
   "cell_type": "code",
   "execution_count": 36,
   "metadata": {},
   "outputs": [],
   "source": [
    "# plt.hexbin(\n",
    "#     mean_ani_ptu[\"mean_ani\"],\n",
    "#     mean_ani_ptu[\"mean_cov\"],\n",
    "#     cmap=\"viridis\",\n",
    "#     gridsize=40,\n",
    "#     bins=\"log\",\n",
    "# )\n",
    "# plt.xlabel(\"Average Nucleotide Identity\")\n",
    "# plt.ylabel(\"Aligned Fraction\")\n",
    "\n",
    "# cbar = plt.colorbar()\n",
    "# cbar.set_label(\"pOTUs\")"
   ]
  },
  {
   "cell_type": "code",
   "execution_count": 37,
   "metadata": {},
   "outputs": [
    {
     "data": {
      "image/png": "[encoded data removed]",
      "text/plain": [
       "<Figure size 1000x500 with 2 Axes>"
      ]
     },
     "metadata": {},
     "output_type": "display_data"
    }
   ],
   "source": [
    "sns.set_style(\"whitegrid\")\n",
    "fig, axes = plt.subplots(ncols=2, figsize=(10, 5), sharey=True)\n",
    "\n",
    "sns.histplot(mean_ani_ptu, x=\"mean_ani\", ax=axes[0], binwidth=0.02, element=\"step\")\n",
    "sns.histplot(mean_ani_ptu, x=\"mean_cov\", ax=axes[1], binwidth=0.02, element=\"step\")\n",
    "\n",
    "axes[0].set_xlabel(\"pOTU Mean ANI\")\n",
    "axes[1].set_xlabel(\"pOTU Mean AF\")\n",
    "plt.tight_layout()\n",
    "fig.savefig(\"../figures/ptu_mean_ani.pdf\", bbox_inches=\"tight\")"
   ]
  },
  {
   "cell_type": "code",
   "execution_count": 38,
   "metadata": {},
   "outputs": [
    {
     "name": "stdout",
     "output_type": "stream",
     "text": [
      "There are 7619 PTUs with mean ANI >= 0.90 (5885 PTUs with mean ANI < 0.95). The min ANI for a PTU is 0.7188, for PTU-13175\n"
     ]
    }
   ],
   "source": [
    "print(\n",
    "    f\"There are {mean_ani_ptu[mean_ani_ptu['mean_ani'] >= 0.90].shape[0]} PTUs with mean ANI >= 0.90 ({mean_ani_ptu[mean_ani_ptu['mean_ani'] < 0.95].shape[0]} PTUs with mean ANI < 0.95). The min ANI for a PTU is {mean_ani_ptu['mean_ani'].min()}, for {mean_ani_ptu[mean_ani_ptu['mean_ani'] == mean_ani_ptu['mean_ani'].min()]['contig_1_ptu'].values[0]}\"\n",
    ")"
   ]
  },
  {
   "cell_type": "code",
   "execution_count": 40,
   "metadata": {},
   "outputs": [
    {
     "data": {
      "text/plain": [
       "0.6584564860426929"
      ]
     },
     "execution_count": 40,
     "metadata": {},
     "output_type": "execute_result"
    }
   ],
   "source": [
    "7619 / mean_ani_ptu.shape[0]\n"
   ]
  },
  {
   "cell_type": "code",
   "execution_count": null,
   "metadata": {},
   "outputs": [],
   "source": []
  },
  {
   "cell_type": "code",
   "execution_count": 39,
   "metadata": {},
   "outputs": [],
   "source": [
    "with open(\"../crispr_search/meta_spacers/ptus_less_95_ani.txt\", \"w\") as f:\n",
    "    for ptu in mean_ani_ptu[mean_ani_ptu[\"mean_ani\"] < 0.95][\"contig_1_ptu\"].to_list():\n",
    "        f.write(f\"{ptu}\\n\")"
   ]
  },
  {
   "cell_type": "code",
   "execution_count": null,
   "metadata": {},
   "outputs": [],
   "source": []
  },
  {
   "cell_type": "markdown",
   "metadata": {},
   "source": [
    "---\n",
    "## Start analysis"
   ]
  },
  {
   "cell_type": "code",
   "execution_count": null,
   "metadata": {},
   "outputs": [],
   "source": []
  },
  {
   "cell_type": "code",
   "execution_count": null,
   "metadata": {},
   "outputs": [],
   "source": []
  },
  {
   "cell_type": "code",
   "execution_count": null,
   "metadata": {},
   "outputs": [],
   "source": []
  },
  {
   "cell_type": "code",
   "execution_count": 42,
   "metadata": {},
   "outputs": [],
   "source": [
    "size_dict = {}\n",
    "for idx, i in enumerate(df[2]):\n",
    "    cluster = i.split(\",\")\n",
    "    matches = re.findall(\"IMGPR\", i)\n",
    "    size_dict[idx] = [len(matches), len(cluster) - len(matches), len(cluster)]"
   ]
  },
  {
   "cell_type": "code",
   "execution_count": 43,
   "metadata": {},
   "outputs": [
    {
     "data": {
      "text/html": [
       "<div>\n",
       "<style scoped>\n",
       "    .dataframe tbody tr th:only-of-type {\n",
       "        vertical-align: middle;\n",
       "    }\n",
       "\n",
       "    .dataframe tbody tr th {\n",
       "        vertical-align: top;\n",
       "    }\n",
       "\n",
       "    .dataframe thead th {\n",
       "        text-align: right;\n",
       "    }\n",
       "</style>\n",
       "<table border=\"1\" class=\"dataframe\">\n",
       "  <thead>\n",
       "    <tr style=\"text-align: right;\">\n",
       "      <th></th>\n",
       "      <th>isolate_count</th>\n",
       "      <th>meta_count</th>\n",
       "      <th>cluster_size</th>\n",
       "    </tr>\n",
       "  </thead>\n",
       "  <tbody>\n",
       "    <tr>\n",
       "      <th>0</th>\n",
       "      <td>0</td>\n",
       "      <td>187</td>\n",
       "      <td>187</td>\n",
       "    </tr>\n",
       "    <tr>\n",
       "      <th>1</th>\n",
       "      <td>0</td>\n",
       "      <td>158</td>\n",
       "      <td>158</td>\n",
       "    </tr>\n",
       "    <tr>\n",
       "      <th>2</th>\n",
       "      <td>0</td>\n",
       "      <td>105</td>\n",
       "      <td>105</td>\n",
       "    </tr>\n",
       "    <tr>\n",
       "      <th>3</th>\n",
       "      <td>0</td>\n",
       "      <td>98</td>\n",
       "      <td>98</td>\n",
       "    </tr>\n",
       "    <tr>\n",
       "      <th>4</th>\n",
       "      <td>0</td>\n",
       "      <td>85</td>\n",
       "      <td>85</td>\n",
       "    </tr>\n",
       "  </tbody>\n",
       "</table>\n",
       "</div>"
      ],
      "text/plain": [
       "   isolate_count  meta_count  cluster_size\n",
       "0              0         187           187\n",
       "1              0         158           158\n",
       "2              0         105           105\n",
       "3              0          98            98\n",
       "4              0          85            85"
      ]
     },
     "execution_count": 43,
     "metadata": {},
     "output_type": "execute_result"
    }
   ],
   "source": [
    "cluster_stats = pd.DataFrame.from_dict(\n",
    "    size_dict, orient=\"index\", columns=[\"isolate_count\", \"meta_count\", \"cluster_size\"]\n",
    ")\n",
    "cluster_stats.head()"
   ]
  },
  {
   "cell_type": "code",
   "execution_count": 44,
   "metadata": {},
   "outputs": [
    {
     "data": {
      "text/plain": [
       "<Axes: ylabel='cluster_size'>"
      ]
     },
     "execution_count": 44,
     "metadata": {},
     "output_type": "execute_result"
    },
    {
     "data": {
      "image/png": "[encoded data removed]",
      "text/plain": [
       "<Figure size 640x480 with 1 Axes>"
      ]
     },
     "metadata": {},
     "output_type": "display_data"
    }
   ],
   "source": [
    "fig, ax = plt.subplots()\n",
    "sns.boxplot(data=cluster_stats.query(\"cluster_size > 50\"), y=\"cluster_size\")\n",
    "# ax.set_ylim(1,20)"
   ]
  },
  {
   "cell_type": "code",
   "execution_count": 45,
   "metadata": {},
   "outputs": [
    {
     "data": {
      "text/html": [
       "<div>\n",
       "<style scoped>\n",
       "    .dataframe tbody tr th:only-of-type {\n",
       "        vertical-align: middle;\n",
       "    }\n",
       "\n",
       "    .dataframe tbody tr th {\n",
       "        vertical-align: top;\n",
       "    }\n",
       "\n",
       "    .dataframe thead th {\n",
       "        text-align: right;\n",
       "    }\n",
       "</style>\n",
       "<table border=\"1\" class=\"dataframe\">\n",
       "  <thead>\n",
       "    <tr style=\"text-align: right;\">\n",
       "      <th></th>\n",
       "      <th>isolate_count</th>\n",
       "      <th>meta_count</th>\n",
       "      <th>cluster_size</th>\n",
       "    </tr>\n",
       "  </thead>\n",
       "  <tbody>\n",
       "    <tr>\n",
       "      <th>0</th>\n",
       "      <td>0</td>\n",
       "      <td>187</td>\n",
       "      <td>187</td>\n",
       "    </tr>\n",
       "    <tr>\n",
       "      <th>1</th>\n",
       "      <td>0</td>\n",
       "      <td>158</td>\n",
       "      <td>158</td>\n",
       "    </tr>\n",
       "    <tr>\n",
       "      <th>2</th>\n",
       "      <td>0</td>\n",
       "      <td>105</td>\n",
       "      <td>105</td>\n",
       "    </tr>\n",
       "    <tr>\n",
       "      <th>3</th>\n",
       "      <td>0</td>\n",
       "      <td>98</td>\n",
       "      <td>98</td>\n",
       "    </tr>\n",
       "    <tr>\n",
       "      <th>4</th>\n",
       "      <td>0</td>\n",
       "      <td>85</td>\n",
       "      <td>85</td>\n",
       "    </tr>\n",
       "    <tr>\n",
       "      <th>...</th>\n",
       "      <td>...</td>\n",
       "      <td>...</td>\n",
       "      <td>...</td>\n",
       "    </tr>\n",
       "    <tr>\n",
       "      <th>15202</th>\n",
       "      <td>0</td>\n",
       "      <td>2</td>\n",
       "      <td>2</td>\n",
       "    </tr>\n",
       "    <tr>\n",
       "      <th>15203</th>\n",
       "      <td>0</td>\n",
       "      <td>2</td>\n",
       "      <td>2</td>\n",
       "    </tr>\n",
       "    <tr>\n",
       "      <th>15204</th>\n",
       "      <td>1</td>\n",
       "      <td>1</td>\n",
       "      <td>2</td>\n",
       "    </tr>\n",
       "    <tr>\n",
       "      <th>15205</th>\n",
       "      <td>0</td>\n",
       "      <td>2</td>\n",
       "      <td>2</td>\n",
       "    </tr>\n",
       "    <tr>\n",
       "      <th>15206</th>\n",
       "      <td>0</td>\n",
       "      <td>2</td>\n",
       "      <td>2</td>\n",
       "    </tr>\n",
       "  </tbody>\n",
       "</table>\n",
       "<p>15207 rows × 3 columns</p>\n",
       "</div>"
      ],
      "text/plain": [
       "       isolate_count  meta_count  cluster_size\n",
       "0                  0         187           187\n",
       "1                  0         158           158\n",
       "2                  0         105           105\n",
       "3                  0          98            98\n",
       "4                  0          85            85\n",
       "...              ...         ...           ...\n",
       "15202              0           2             2\n",
       "15203              0           2             2\n",
       "15204              1           1             2\n",
       "15205              0           2             2\n",
       "15206              0           2             2\n",
       "\n",
       "[15207 rows x 3 columns]"
      ]
     },
     "execution_count": 45,
     "metadata": {},
     "output_type": "execute_result"
    }
   ],
   "source": [
    "cluster_stats[cluster_stats[\"cluster_size\"] > 1]"
   ]
  },
  {
   "cell_type": "code",
   "execution_count": 46,
   "metadata": {},
   "outputs": [
    {
     "data": {
      "text/plain": [
       "50216"
      ]
     },
     "execution_count": 46,
     "metadata": {},
     "output_type": "execute_result"
    }
   ],
   "source": [
    "cluster_stats[\n",
    "    (cluster_stats[\"cluster_size\"] > 1)\n",
    "    & (cluster_stats[\"meta_count\"] > 0)\n",
    "    & (cluster_stats[\"isolate_count\"] == 0)\n",
    "][\"cluster_size\"].sum()"
   ]
  },
  {
   "cell_type": "markdown",
   "metadata": {},
   "source": [
    "---"
   ]
  },
  {
   "cell_type": "markdown",
   "metadata": {},
   "source": [
    "Cluster stats"
   ]
  },
  {
   "cell_type": "code",
   "execution_count": 47,
   "metadata": {},
   "outputs": [
    {
     "data": {
      "text/plain": [
       "(1038, 3)"
      ]
     },
     "execution_count": 47,
     "metadata": {},
     "output_type": "execute_result"
    }
   ],
   "source": [
    "# Intersection\n",
    "cluster_stats[\n",
    "    (cluster_stats[\"isolate_count\"] > 0) & (cluster_stats[\"meta_count\"] > 0)\n",
    "].shape"
   ]
  },
  {
   "cell_type": "code",
   "execution_count": 48,
   "metadata": {},
   "outputs": [
    {
     "data": {
      "text/plain": [
       "(4109, 3)"
      ]
     },
     "execution_count": 48,
     "metadata": {},
     "output_type": "execute_result"
    }
   ],
   "source": [
    "# Isolates\n",
    "cluster_stats[\n",
    "    (cluster_stats[\"isolate_count\"] > 0) & (cluster_stats[\"meta_count\"] == 0)\n",
    "].shape"
   ]
  },
  {
   "cell_type": "code",
   "execution_count": 49,
   "metadata": {},
   "outputs": [
    {
     "data": {
      "text/plain": [
       "(53156, 3)"
      ]
     },
     "execution_count": 49,
     "metadata": {},
     "output_type": "execute_result"
    }
   ],
   "source": [
    "# Meta\n",
    "cluster_stats[(cluster_stats[\"meta_count\"] > 0)].shape"
   ]
  },
  {
   "cell_type": "code",
   "execution_count": 50,
   "metadata": {},
   "outputs": [
    {
     "data": {
      "text/plain": [
       "(52118, 3)"
      ]
     },
     "execution_count": 50,
     "metadata": {},
     "output_type": "execute_result"
    }
   ],
   "source": [
    "cluster_stats[\n",
    "    (cluster_stats[\"isolate_count\"] == 0) & (cluster_stats[\"meta_count\"] >= 1)\n",
    "].shape"
   ]
  },
  {
   "cell_type": "code",
   "execution_count": 51,
   "metadata": {},
   "outputs": [
    {
     "data": {
      "text/plain": [
       "(1038, 3)"
      ]
     },
     "execution_count": 51,
     "metadata": {},
     "output_type": "execute_result"
    }
   ],
   "source": [
    "cluster_stats[\n",
    "    (cluster_stats[\"isolate_count\"] >= 1) & (cluster_stats[\"meta_count\"] >= 1)\n",
    "].shape"
   ]
  },
  {
   "cell_type": "markdown",
   "metadata": {},
   "source": [
    "Hosts"
   ]
  },
  {
   "cell_type": "code",
   "execution_count": 52,
   "metadata": {},
   "outputs": [
    {
     "data": {
      "text/html": [
       "<div>\n",
       "<style scoped>\n",
       "    .dataframe tbody tr th:only-of-type {\n",
       "        vertical-align: middle;\n",
       "    }\n",
       "\n",
       "    .dataframe tbody tr th {\n",
       "        vertical-align: top;\n",
       "    }\n",
       "\n",
       "    .dataframe thead th {\n",
       "        text-align: right;\n",
       "    }\n",
       "</style>\n",
       "<table border=\"1\" class=\"dataframe\">\n",
       "  <thead>\n",
       "    <tr style=\"text-align: right;\">\n",
       "      <th></th>\n",
       "      <th>isolate_count</th>\n",
       "      <th>meta_count</th>\n",
       "      <th>cluster_size</th>\n",
       "    </tr>\n",
       "  </thead>\n",
       "  <tbody>\n",
       "    <tr>\n",
       "      <th>0</th>\n",
       "      <td>0</td>\n",
       "      <td>187</td>\n",
       "      <td>187</td>\n",
       "    </tr>\n",
       "    <tr>\n",
       "      <th>1</th>\n",
       "      <td>0</td>\n",
       "      <td>158</td>\n",
       "      <td>158</td>\n",
       "    </tr>\n",
       "    <tr>\n",
       "      <th>2</th>\n",
       "      <td>0</td>\n",
       "      <td>105</td>\n",
       "      <td>105</td>\n",
       "    </tr>\n",
       "    <tr>\n",
       "      <th>3</th>\n",
       "      <td>0</td>\n",
       "      <td>98</td>\n",
       "      <td>98</td>\n",
       "    </tr>\n",
       "    <tr>\n",
       "      <th>4</th>\n",
       "      <td>0</td>\n",
       "      <td>85</td>\n",
       "      <td>85</td>\n",
       "    </tr>\n",
       "    <tr>\n",
       "      <th>...</th>\n",
       "      <td>...</td>\n",
       "      <td>...</td>\n",
       "      <td>...</td>\n",
       "    </tr>\n",
       "    <tr>\n",
       "      <th>57260</th>\n",
       "      <td>0</td>\n",
       "      <td>1</td>\n",
       "      <td>1</td>\n",
       "    </tr>\n",
       "    <tr>\n",
       "      <th>57261</th>\n",
       "      <td>0</td>\n",
       "      <td>1</td>\n",
       "      <td>1</td>\n",
       "    </tr>\n",
       "    <tr>\n",
       "      <th>57262</th>\n",
       "      <td>0</td>\n",
       "      <td>1</td>\n",
       "      <td>1</td>\n",
       "    </tr>\n",
       "    <tr>\n",
       "      <th>57263</th>\n",
       "      <td>0</td>\n",
       "      <td>1</td>\n",
       "      <td>1</td>\n",
       "    </tr>\n",
       "    <tr>\n",
       "      <th>57264</th>\n",
       "      <td>0</td>\n",
       "      <td>1</td>\n",
       "      <td>1</td>\n",
       "    </tr>\n",
       "  </tbody>\n",
       "</table>\n",
       "<p>57265 rows × 3 columns</p>\n",
       "</div>"
      ],
      "text/plain": [
       "       isolate_count  meta_count  cluster_size\n",
       "0                  0         187           187\n",
       "1                  0         158           158\n",
       "2                  0         105           105\n",
       "3                  0          98            98\n",
       "4                  0          85            85\n",
       "...              ...         ...           ...\n",
       "57260              0           1             1\n",
       "57261              0           1             1\n",
       "57262              0           1             1\n",
       "57263              0           1             1\n",
       "57264              0           1             1\n",
       "\n",
       "[57265 rows x 3 columns]"
      ]
     },
     "execution_count": 52,
     "metadata": {},
     "output_type": "execute_result"
    }
   ],
   "source": [
    "cluster_stats"
   ]
  },
  {
   "cell_type": "code",
   "execution_count": null,
   "metadata": {},
   "outputs": [],
   "source": []
  }
 ],
 "metadata": {
  "kernelspec": {
   "display_name": "Python 3",
   "language": "python",
   "name": "python3"
  },
  "language_info": {
   "codemirror_mode": {
    "name": "ipython",
    "version": 3
   },
   "file_extension": ".py",
   "mimetype": "text/x-python",
   "name": "python",
   "nbconvert_exporter": "python",
   "pygments_lexer": "ipython3",
   "version": "3.8.15"
  }
 },
 "nbformat": 4,
 "nbformat_minor": 2
}
