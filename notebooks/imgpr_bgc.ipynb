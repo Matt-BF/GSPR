{
 "cells": [
  {
   "cell_type": "code",
   "execution_count": 1,
   "metadata": {},
   "outputs": [],
   "source": [
    "import polars as pl\n",
    "import seaborn as sns\n",
    "import matplotlib.pyplot as plt"
   ]
  },
  {
   "cell_type": "code",
   "execution_count": 2,
   "metadata": {},
   "outputs": [
    {
     "data": {
      "text/html": [
       "<div><style>\n",
       ".dataframe > thead > tr,\n",
       ".dataframe > tbody > tr {\n",
       "  text-align: right;\n",
       "  white-space: pre-wrap;\n",
       "}\n",
       "</style>\n",
       "<small>shape: (5, 7)</small><table border=\"1\" class=\"dataframe\"><thead><tr><th>BGC</th><th>Accession ID</th><th>Description</th><th>Product Prediction</th><th>BiG-SCAPE class</th><th>Organism</th><th>Taxonomy</th></tr><tr><td>str</td><td>str</td><td>str</td><td>str</td><td>str</td><td>str</td><td>str</td></tr></thead><tbody><tr><td>&quot;IMGPR_plasmid_…</td><td>&quot;IMGPR_plasmid_…</td><td>&quot;IMGPR_plasmid_…</td><td>&quot;RiPP-like&quot;</td><td>&quot;RiPPs&quot;</td><td>null</td><td>null</td></tr><tr><td>&quot;IMGPR_plasmid_…</td><td>&quot;IMGPR_plasmid_…</td><td>&quot;IMGPR_plasmid_…</td><td>&quot;NRPS.NRPS-like…</td><td>&quot;NRPS&quot;</td><td>null</td><td>null</td></tr><tr><td>&quot;IMGPR_plasmid_…</td><td>&quot;IMGPR_plasmid_…</td><td>&quot;IMGPR_plasmid_…</td><td>&quot;NRPS.NRP-metal…</td><td>&quot;Others&quot;</td><td>null</td><td>null</td></tr><tr><td>&quot;IMGPR_plasmid_…</td><td>&quot;IMGPR_plasmid_…</td><td>&quot;IMGPR_plasmid_…</td><td>&quot;RRE-containing…</td><td>&quot;RiPPs&quot;</td><td>null</td><td>null</td></tr><tr><td>&quot;IMGPR_plasmid_…</td><td>&quot;IMGPR_plasmid_…</td><td>&quot;IMGPR_plasmid_…</td><td>&quot;resorcinol&quot;</td><td>&quot;Others&quot;</td><td>null</td><td>null</td></tr></tbody></table></div>"
      ],
      "text/plain": [
       "shape: (5, 7)\n",
       "┌────────────────┬───────────────┬───────────────┬───────────────┬───────────┬──────────┬──────────┐\n",
       "│ BGC            ┆ Accession ID  ┆ Description   ┆ Product       ┆ BiG-SCAPE ┆ Organism ┆ Taxonomy │\n",
       "│ ---            ┆ ---           ┆ ---           ┆ Prediction    ┆ class     ┆ ---      ┆ ---      │\n",
       "│ str            ┆ str           ┆ str           ┆ ---           ┆ ---       ┆ str      ┆ str      │\n",
       "│                ┆               ┆               ┆ str           ┆ str       ┆          ┆          │\n",
       "╞════════════════╪═══════════════╪═══════════════╪═══════════════╪═══════════╪══════════╪══════════╡\n",
       "│ IMGPR_plasmid_ ┆ IMGPR_plasmid ┆ IMGPR_plasmid ┆ RiPP-like     ┆ RiPPs     ┆ null     ┆ null     │\n",
       "│ 2006543007_000 ┆ _2006543007_0 ┆ _2006543007_0 ┆               ┆           ┆          ┆          │\n",
       "│ 001.…          ┆ 00001         ┆ 00001         ┆               ┆           ┆          ┆          │\n",
       "│ IMGPR_plasmid_ ┆ IMGPR_plasmid ┆ IMGPR_plasmid ┆ NRPS.NRPS-lik ┆ NRPS      ┆ null     ┆ null     │\n",
       "│ 2029527004_000 ┆ _2029527004_0 ┆ _2029527004_0 ┆ e             ┆           ┆          ┆          │\n",
       "│ 148.…          ┆ 00148         ┆ 00148         ┆               ┆           ┆          ┆          │\n",
       "│ IMGPR_plasmid_ ┆ IMGPR_plasmid ┆ IMGPR_plasmid ┆ NRPS.NRP-meta ┆ Others    ┆ null     ┆ null     │\n",
       "│ 2044078007_000 ┆ _2044078007_0 ┆ _2044078007_0 ┆ llophore      ┆           ┆          ┆          │\n",
       "│ 017.…          ┆ 00017         ┆ 00017         ┆               ┆           ┆          ┆          │\n",
       "│ IMGPR_plasmid_ ┆ IMGPR_plasmid ┆ IMGPR_plasmid ┆ RRE-containin ┆ RiPPs     ┆ null     ┆ null     │\n",
       "│ 2061766007_000 ┆ _2061766007_0 ┆ _2061766007_0 ┆ g             ┆           ┆          ┆          │\n",
       "│ 137.…          ┆ 00137         ┆ 00137         ┆               ┆           ┆          ┆          │\n",
       "│ IMGPR_plasmid_ ┆ IMGPR_plasmid ┆ IMGPR_plasmid ┆ resorcinol    ┆ Others    ┆ null     ┆ null     │\n",
       "│ 2065487001_000 ┆ _2065487001_0 ┆ _2065487001_0 ┆               ┆           ┆          ┆          │\n",
       "│ 047.…          ┆ 00047         ┆ 00047         ┆               ┆           ┆          ┆          │\n",
       "└────────────────┴───────────────┴───────────────┴───────────────┴───────────┴──────────┴──────────┘"
      ]
     },
     "execution_count": 2,
     "metadata": {},
     "output_type": "execute_result"
    }
   ],
   "source": [
    "df_bgc = pl.read_csv(\n",
    "    \"../IMGPR_plasmid_data/bgc_not_soil/Network_Annotations_Full.tsv\", separator=\"\\t\"\n",
    ").filter(pl.col(\"BGC\").str.starts_with(\"IMGPR\"))\n",
    "\n",
    "df_bgc.head()"
   ]
  },
  {
   "cell_type": "code",
   "execution_count": 3,
   "metadata": {},
   "outputs": [
    {
     "data": {
      "text/html": [
       "<div><style>\n",
       ".dataframe > thead > tr,\n",
       ".dataframe > tbody > tr {\n",
       "  text-align: right;\n",
       "  white-space: pre-wrap;\n",
       "}\n",
       "</style>\n",
       "<small>shape: (5, 24)</small><table border=\"1\" class=\"dataframe\"><thead><tr><th>plasmid_id</th><th>ptu</th><th>taxon_oid</th><th>scaffold_oid</th><th>source_type</th><th>ecosystem</th><th>length</th><th>gene_count</th><th>genomad_score</th><th>putatively_complete</th><th>topology</th><th>mob_genes</th><th>t4cp_genes</th><th>t4ss_atpase_genes</th><th>other_conjugation_genes</th><th>complete_mpf_family</th><th>origin_of_transfer</th><th>arg_genes</th><th>putative_phage_plasmid</th><th>host_prediction_method</th><th>host_taxonomy</th><th>closest_reference</th><th>closest_reference_ani_percent</th><th>closest_reference_af_percent</th></tr><tr><td>str</td><td>str</td><td>i64</td><td>str</td><td>str</td><td>str</td><td>i64</td><td>i64</td><td>f64</td><td>str</td><td>str</td><td>str</td><td>str</td><td>str</td><td>str</td><td>str</td><td>str</td><td>str</td><td>str</td><td>str</td><td>str</td><td>str</td><td>f64</td><td>f64</td></tr></thead><tbody><tr><td>&quot;IMGPR_plasmid_…</td><td>&quot;PTU_00000642&quot;</td><td>3300007767</td><td>&quot;Ga0105553_1041…</td><td>&quot;Metagenome&quot;</td><td>&quot;Host-associate…</td><td>7567</td><td>8</td><td>0.9967</td><td>&quot;No&quot;</td><td>&quot;Concatemer&quot;</td><td>&quot;MOBQ;MOBQ&quot;</td><td>null</td><td>null</td><td>null</td><td>null</td><td>null</td><td>null</td><td>&quot;No&quot;</td><td>&quot;CRISPR spacer …</td><td>&quot;d__Bacteria;p_…</td><td>&quot;NC_016900.1&quot;</td><td>91.09</td><td>74.93</td></tr><tr><td>&quot;IMGPR_plasmid_…</td><td>&quot;PTU_00024993&quot;</td><td>3300007257</td><td>&quot;Ga0104149_1027…</td><td>&quot;Metagenome&quot;</td><td>&quot;Host-associate…</td><td>6397</td><td>9</td><td>0.9967</td><td>&quot;No&quot;</td><td>&quot;Linear&quot;</td><td>&quot;MOBQ;MOBQ&quot;</td><td>null</td><td>null</td><td>null</td><td>null</td><td>null</td><td>null</td><td>&quot;No&quot;</td><td>&quot;CRISPR spacer …</td><td>&quot;d__Bacteria;p_…</td><td>&quot;NC_016900.1&quot;</td><td>90.42</td><td>70.8</td></tr><tr><td>&quot;IMGPR_plasmid_…</td><td>&quot;PTU_00000171&quot;</td><td>3300027606</td><td>&quot;Ga0209370_1008…</td><td>&quot;Metagenome&quot;</td><td>&quot;Host-associate…</td><td>4465</td><td>8</td><td>0.9967</td><td>&quot;No&quot;</td><td>&quot;Linear&quot;</td><td>null</td><td>null</td><td>null</td><td>null</td><td>null</td><td>null</td><td>null</td><td>&quot;No&quot;</td><td>null</td><td>null</td><td>&quot;CP060162.1&quot;</td><td>94.92</td><td>91.65</td></tr><tr><td>&quot;IMGPR_plasmid_…</td><td>&quot;PTU_00000171&quot;</td><td>3300030512</td><td>&quot;Ga0268257_1008…</td><td>&quot;Metagenome&quot;</td><td>&quot;Host-associate…</td><td>4465</td><td>8</td><td>0.9967</td><td>&quot;No&quot;</td><td>&quot;Linear&quot;</td><td>null</td><td>null</td><td>null</td><td>null</td><td>null</td><td>null</td><td>null</td><td>&quot;No&quot;</td><td>null</td><td>null</td><td>&quot;CP060162.1&quot;</td><td>94.92</td><td>91.65</td></tr><tr><td>&quot;IMGPR_plasmid_…</td><td>&quot;PTU_00000642&quot;</td><td>3300005320</td><td>&quot;Ga0074317_1052…</td><td>&quot;Metagenome&quot;</td><td>&quot;Host-associate…</td><td>3588</td><td>6</td><td>0.9967</td><td>&quot;Yes&quot;</td><td>&quot;Direct termina…</td><td>&quot;MOBQ&quot;</td><td>null</td><td>null</td><td>null</td><td>null</td><td>null</td><td>null</td><td>&quot;No&quot;</td><td>&quot;CRISPR spacer …</td><td>&quot;d__Bacteria;p_…</td><td>&quot;NC_016900.1&quot;</td><td>87.88</td><td>86.2</td></tr></tbody></table></div>"
      ],
      "text/plain": [
       "shape: (5, 24)\n",
       "┌───────────┬───────────┬───────────┬───────────┬───┬───────────┬───────────┬───────────┬──────────┐\n",
       "│ plasmid_i ┆ ptu       ┆ taxon_oid ┆ scaffold_ ┆ … ┆ host_taxo ┆ closest_r ┆ closest_r ┆ closest_ │\n",
       "│ d         ┆ ---       ┆ ---       ┆ oid       ┆   ┆ nomy      ┆ eference  ┆ eference_ ┆ referenc │\n",
       "│ ---       ┆ str       ┆ i64       ┆ ---       ┆   ┆ ---       ┆ ---       ┆ ani_perce ┆ e_af_per │\n",
       "│ str       ┆           ┆           ┆ str       ┆   ┆ str       ┆ str       ┆ nt        ┆ cent     │\n",
       "│           ┆           ┆           ┆           ┆   ┆           ┆           ┆ ---       ┆ ---      │\n",
       "│           ┆           ┆           ┆           ┆   ┆           ┆           ┆ f64       ┆ f64      │\n",
       "╞═══════════╪═══════════╪═══════════╪═══════════╪═══╪═══════════╪═══════════╪═══════════╪══════════╡\n",
       "│ IMGPR_pla ┆ PTU_00000 ┆ 330000776 ┆ Ga0105553 ┆ … ┆ d__Bacter ┆ NC_016900 ┆ 91.09     ┆ 74.93    │\n",
       "│ smid_3300 ┆ 642       ┆ 7         ┆ _1041416  ┆   ┆ ia;p__Pro ┆ .1        ┆           ┆          │\n",
       "│ 007767_00 ┆           ┆           ┆           ┆   ┆ teobacter ┆           ┆           ┆          │\n",
       "│ 0001      ┆           ┆           ┆           ┆   ┆ ia;c_…    ┆           ┆           ┆          │\n",
       "│ IMGPR_pla ┆ PTU_00024 ┆ 330000725 ┆ Ga0104149 ┆ … ┆ d__Bacter ┆ NC_016900 ┆ 90.42     ┆ 70.8     │\n",
       "│ smid_3300 ┆ 993       ┆ 7         ┆ _102736   ┆   ┆ ia;p__Pro ┆ .1        ┆           ┆          │\n",
       "│ 007257_00 ┆           ┆           ┆           ┆   ┆ teobacter ┆           ┆           ┆          │\n",
       "│ 0001      ┆           ┆           ┆           ┆   ┆ ia;c_…    ┆           ┆           ┆          │\n",
       "│ IMGPR_pla ┆ PTU_00000 ┆ 330002760 ┆ Ga0209370 ┆ … ┆ null      ┆ CP060162. ┆ 94.92     ┆ 91.65    │\n",
       "│ smid_3300 ┆ 171       ┆ 6         ┆ _1008824  ┆   ┆           ┆ 1         ┆           ┆          │\n",
       "│ 027606_00 ┆           ┆           ┆           ┆   ┆           ┆           ┆           ┆          │\n",
       "│ 0001      ┆           ┆           ┆           ┆   ┆           ┆           ┆           ┆          │\n",
       "│ IMGPR_pla ┆ PTU_00000 ┆ 330003051 ┆ Ga0268257 ┆ … ┆ null      ┆ CP060162. ┆ 94.92     ┆ 91.65    │\n",
       "│ smid_3300 ┆ 171       ┆ 2         ┆ _1008744  ┆   ┆           ┆ 1         ┆           ┆          │\n",
       "│ 030512_00 ┆           ┆           ┆           ┆   ┆           ┆           ┆           ┆          │\n",
       "│ 0001      ┆           ┆           ┆           ┆   ┆           ┆           ┆           ┆          │\n",
       "│ IMGPR_pla ┆ PTU_00000 ┆ 330000532 ┆ Ga0074317 ┆ … ┆ d__Bacter ┆ NC_016900 ┆ 87.88     ┆ 86.2     │\n",
       "│ smid_3300 ┆ 642       ┆ 0         ┆ _1052025  ┆   ┆ ia;p__Pro ┆ .1        ┆           ┆          │\n",
       "│ 005320_00 ┆           ┆           ┆           ┆   ┆ teobacter ┆           ┆           ┆          │\n",
       "│ 0001      ┆           ┆           ┆           ┆   ┆ ia;c_…    ┆           ┆           ┆          │\n",
       "└───────────┴───────────┴───────────┴───────────┴───┴───────────┴───────────┴───────────┴──────────┘"
      ]
     },
     "execution_count": 3,
     "metadata": {},
     "output_type": "execute_result"
    }
   ],
   "source": [
    "df_imgpr = pl.read_csv(\n",
    "    \"../IMGPR_plasmid_data/bgc_not_soil/IMGPR_plasmid_data_not_soil.tsv\", separator=\"\\t\"\n",
    ")\n",
    "\n",
    "df_imgpr.head()"
   ]
  },
  {
   "cell_type": "code",
   "execution_count": 4,
   "metadata": {},
   "outputs": [],
   "source": [
    "df_imgpr = df_imgpr.with_columns(\n",
    "    pl.when(pl.col(\"ecosystem\").str.contains(\"(?i)Human\"))\n",
    "    .then(pl.lit(\"Host-associated: Human\"))\n",
    "    .otherwise(\n",
    "        pl.when(pl.col(\"ecosystem\").str.contains(\"Host-associated\"))\n",
    "        .then(pl.lit(\"Host-associated: Other\"))\n",
    "        .otherwise(\n",
    "            pl.when(pl.col(\"ecosystem\").str.contains(\"Engineered\"))\n",
    "            .then(pl.lit(\"Engineered\"))\n",
    "            .otherwise(\n",
    "                pl.when(pl.col(\"ecosystem\").str.contains(\"Environmental\"))\n",
    "                .then(\n",
    "                    pl.col(\"ecosystem\").str.split(\";\").list.slice(0, 2).list.join(\";\")\n",
    "                )\n",
    "                .otherwise(pl.col(\"ecosystem\").str.split(\";\").list.get(0))\n",
    "            )\n",
    "        )\n",
    "    )\n",
    "    .alias(\"ecosystem_custom\")\n",
    ").with_columns(\n",
    "    pl.col(\"ecosystem_custom\").map_elements(\n",
    "        lambda x: \"Environmental;Terrestrial (non soil)\" if \"Terrestrial\" in x else x\n",
    "    )\n",
    ")"
   ]
  },
  {
   "cell_type": "code",
   "execution_count": 5,
   "metadata": {},
   "outputs": [
    {
     "data": {
      "text/html": [
       "<div><style>\n",
       ".dataframe > thead > tr,\n",
       ".dataframe > tbody > tr {\n",
       "  text-align: right;\n",
       "  white-space: pre-wrap;\n",
       "}\n",
       "</style>\n",
       "<small>shape: (5, 16)</small><table border=\"1\" class=\"dataframe\"><thead><tr><th>BGC</th><th>Accession ID</th><th>Description</th><th>Product Prediction</th><th>BiG-SCAPE class</th><th>Organism</th><th>Taxonomy</th><th>ptu</th><th>taxon_oid</th><th>scaffold_oid</th><th>source_type</th><th>ecosystem</th><th>length</th><th>putatively_complete</th><th>host_taxonomy</th><th>ecosystem_custom</th></tr><tr><td>str</td><td>str</td><td>str</td><td>str</td><td>str</td><td>str</td><td>str</td><td>str</td><td>i64</td><td>str</td><td>str</td><td>str</td><td>i64</td><td>str</td><td>str</td><td>str</td></tr></thead><tbody><tr><td>&quot;IMGPR_plasmid_…</td><td>&quot;IMGPR_plasmid_…</td><td>&quot;IMGPR_plasmid_…</td><td>&quot;RiPP-like&quot;</td><td>&quot;RiPPs&quot;</td><td>null</td><td>null</td><td>&quot;PTU_01259829&quot;</td><td>3300012153</td><td>&quot;Ga0153980_1000…</td><td>&quot;Metagenome&quot;</td><td>&quot;Host-associate…</td><td>12821</td><td>&quot;No&quot;</td><td>&quot;d__Bacteria;p_…</td><td>&quot;Host-associate…</td></tr><tr><td>&quot;IMGPR_plasmid_…</td><td>&quot;IMGPR_plasmid_…</td><td>&quot;IMGPR_plasmid_…</td><td>&quot;RiPP-like&quot;</td><td>&quot;RiPPs&quot;</td><td>null</td><td>null</td><td>&quot;PTU_00001085&quot;</td><td>3300053491</td><td>&quot;Ga0557493_0352…</td><td>&quot;Metagenome&quot;</td><td>&quot;Engineered;Mod…</td><td>7102</td><td>&quot;Yes&quot;</td><td>&quot;d__Bacteria;p_…</td><td>&quot;Engineered&quot;</td></tr><tr><td>&quot;IMGPR_plasmid_…</td><td>&quot;IMGPR_plasmid_…</td><td>&quot;IMGPR_plasmid_…</td><td>&quot;RiPP-like&quot;</td><td>&quot;RiPPs&quot;</td><td>null</td><td>null</td><td>&quot;PTU_00001085&quot;</td><td>3300029136</td><td>&quot;Ga0168747_1043…</td><td>&quot;Metagenome&quot;</td><td>&quot;Host-associate…</td><td>5408</td><td>&quot;No&quot;</td><td>&quot;d__Bacteria;p_…</td><td>&quot;Host-associate…</td></tr><tr><td>&quot;IMGPR_plasmid_…</td><td>&quot;IMGPR_plasmid_…</td><td>&quot;IMGPR_plasmid_…</td><td>&quot;RiPP-like&quot;</td><td>&quot;RiPPs&quot;</td><td>null</td><td>null</td><td>&quot;PTU_00001085&quot;</td><td>3300053491</td><td>&quot;Ga0557493_0525…</td><td>&quot;Metagenome&quot;</td><td>&quot;Engineered;Mod…</td><td>6074</td><td>&quot;Yes&quot;</td><td>&quot;d__Bacteria;p_…</td><td>&quot;Engineered&quot;</td></tr><tr><td>&quot;IMGPR_plasmid_…</td><td>&quot;IMGPR_plasmid_…</td><td>&quot;IMGPR_plasmid_…</td><td>&quot;RiPP-like&quot;</td><td>&quot;RiPPs&quot;</td><td>null</td><td>null</td><td>&quot;PTU_00001085&quot;</td><td>3300053491</td><td>&quot;Ga0557493_0731…</td><td>&quot;Metagenome&quot;</td><td>&quot;Engineered;Mod…</td><td>6170</td><td>&quot;Yes&quot;</td><td>&quot;d__Bacteria;p_…</td><td>&quot;Engineered&quot;</td></tr></tbody></table></div>"
      ],
      "text/plain": [
       "shape: (5, 16)\n",
       "┌────────────┬────────────┬───────────┬───────────┬───┬────────┬───────────┬───────────┬───────────┐\n",
       "│ BGC        ┆ Accession  ┆ Descripti ┆ Product   ┆ … ┆ length ┆ putativel ┆ host_taxo ┆ ecosystem │\n",
       "│ ---        ┆ ID         ┆ on        ┆ Predictio ┆   ┆ ---    ┆ y_complet ┆ nomy      ┆ _custom   │\n",
       "│ str        ┆ ---        ┆ ---       ┆ n         ┆   ┆ i64    ┆ e         ┆ ---       ┆ ---       │\n",
       "│            ┆ str        ┆ str       ┆ ---       ┆   ┆        ┆ ---       ┆ str       ┆ str       │\n",
       "│            ┆            ┆           ┆ str       ┆   ┆        ┆ str       ┆           ┆           │\n",
       "╞════════════╪════════════╪═══════════╪═══════════╪═══╪════════╪═══════════╪═══════════╪═══════════╡\n",
       "│ IMGPR_plas ┆ IMGPR_plas ┆ IMGPR_pla ┆ RiPP-like ┆ … ┆ 12821  ┆ No        ┆ d__Bacter ┆ Host-asso │\n",
       "│ mid_330001 ┆ mid_330001 ┆ smid_3300 ┆           ┆   ┆        ┆           ┆ ia;p__Pro ┆ ciated:   │\n",
       "│ 2153_00000 ┆ 2153_00000 ┆ 012153_00 ┆           ┆   ┆        ┆           ┆ teobacter ┆ Other     │\n",
       "│ 1.…        ┆ 1          ┆ 0001      ┆           ┆   ┆        ┆           ┆ ia;c_…    ┆           │\n",
       "│ IMGPR_plas ┆ IMGPR_plas ┆ IMGPR_pla ┆ RiPP-like ┆ … ┆ 7102   ┆ Yes       ┆ d__Bacter ┆ Engineere │\n",
       "│ mid_330005 ┆ mid_330005 ┆ smid_3300 ┆           ┆   ┆        ┆           ┆ ia;p__Pro ┆ d         │\n",
       "│ 3491_00082 ┆ 3491_00082 ┆ 053491_00 ┆           ┆   ┆        ┆           ┆ teobacter ┆           │\n",
       "│ 0.…        ┆ 0          ┆ 0820      ┆           ┆   ┆        ┆           ┆ ia;c_…    ┆           │\n",
       "│ IMGPR_plas ┆ IMGPR_plas ┆ IMGPR_pla ┆ RiPP-like ┆ … ┆ 5408   ┆ No        ┆ d__Bacter ┆ Host-asso │\n",
       "│ mid_330002 ┆ mid_330002 ┆ smid_3300 ┆           ┆   ┆        ┆           ┆ ia;p__Pro ┆ ciated:   │\n",
       "│ 9136_00000 ┆ 9136_00000 ┆ 029136_00 ┆           ┆   ┆        ┆           ┆ teobacter ┆ Human     │\n",
       "│ 1.…        ┆ 1          ┆ 0001      ┆           ┆   ┆        ┆           ┆ ia;c_…    ┆           │\n",
       "│ IMGPR_plas ┆ IMGPR_plas ┆ IMGPR_pla ┆ RiPP-like ┆ … ┆ 6074   ┆ Yes       ┆ d__Bacter ┆ Engineere │\n",
       "│ mid_330005 ┆ mid_330005 ┆ smid_3300 ┆           ┆   ┆        ┆           ┆ ia;p__Pro ┆ d         │\n",
       "│ 3491_00083 ┆ 3491_00083 ┆ 053491_00 ┆           ┆   ┆        ┆           ┆ teobacter ┆           │\n",
       "│ 3.…        ┆ 3          ┆ 0833      ┆           ┆   ┆        ┆           ┆ ia;c_…    ┆           │\n",
       "│ IMGPR_plas ┆ IMGPR_plas ┆ IMGPR_pla ┆ RiPP-like ┆ … ┆ 6170   ┆ Yes       ┆ d__Bacter ┆ Engineere │\n",
       "│ mid_330005 ┆ mid_330005 ┆ smid_3300 ┆           ┆   ┆        ┆           ┆ ia;p__Pro ┆ d         │\n",
       "│ 3491_00083 ┆ 3491_00083 ┆ 053491_00 ┆           ┆   ┆        ┆           ┆ teobacter ┆           │\n",
       "│ 4.…        ┆ 4          ┆ 0834      ┆           ┆   ┆        ┆           ┆ ia;c_…    ┆           │\n",
       "└────────────┴────────────┴───────────┴───────────┴───┴────────┴───────────┴───────────┴───────────┘"
      ]
     },
     "execution_count": 5,
     "metadata": {},
     "output_type": "execute_result"
    }
   ],
   "source": [
    "df_bgc = df_bgc.join(\n",
    "    df_imgpr.select(\n",
    "        [\n",
    "            \"plasmid_id\",\n",
    "            \"ptu\",\n",
    "            \"taxon_oid\",\n",
    "            \"scaffold_oid\",\n",
    "            \"source_type\",\n",
    "            \"ecosystem\",\n",
    "            \"length\",\n",
    "            \"putatively_complete\",\n",
    "            \"host_taxonomy\",\n",
    "            \"ecosystem_custom\",\n",
    "        ]\n",
    "    ),\n",
    "    left_on=\"Description\",\n",
    "    right_on=\"plasmid_id\",\n",
    ")\n",
    "df_bgc.head()"
   ]
  },
  {
   "cell_type": "code",
   "execution_count": 6,
   "metadata": {},
   "outputs": [],
   "source": [
    "# df_bgc.write_csv('../IMGPR_plasmid_data/bgc_not_soil/Network_Annotations_Full_with_metadata.tsv', separator='\\t')"
   ]
  },
  {
   "cell_type": "code",
   "execution_count": 7,
   "metadata": {},
   "outputs": [
    {
     "data": {
      "text/plain": [
       "135040"
      ]
     },
     "execution_count": 7,
     "metadata": {},
     "output_type": "execute_result"
    }
   ],
   "source": [
    "df_imgpr.select(\"ptu\").n_unique()"
   ]
  },
  {
   "cell_type": "code",
   "execution_count": 8,
   "metadata": {},
   "outputs": [
    {
     "data": {
      "text/plain": [
       "4318"
      ]
     },
     "execution_count": 8,
     "metadata": {},
     "output_type": "execute_result"
    }
   ],
   "source": [
    "df_bgc.select(\"ptu\").n_unique()"
   ]
  },
  {
   "cell_type": "code",
   "execution_count": 9,
   "metadata": {},
   "outputs": [
    {
     "data": {
      "text/plain": [
       "0.031975710900473936"
      ]
     },
     "execution_count": 9,
     "metadata": {},
     "output_type": "execute_result"
    }
   ],
   "source": [
    "df_bgc.select(\"ptu\").n_unique() / df_imgpr.select(\"ptu\").n_unique()"
   ]
  },
  {
   "cell_type": "code",
   "execution_count": 28,
   "metadata": {},
   "outputs": [
    {
     "data": {
      "text/html": [
       "<div><style>\n",
       ".dataframe > thead > tr,\n",
       ".dataframe > tbody > tr {\n",
       "  text-align: right;\n",
       "  white-space: pre-wrap;\n",
       "}\n",
       "</style>\n",
       "<small>shape: (5, 2)</small><table border=\"1\" class=\"dataframe\"><thead><tr><th>ecosystem_custom</th><th>count</th></tr><tr><td>str</td><td>u32</td></tr></thead><tbody><tr><td>&quot;Host-associate…</td><td>548</td></tr><tr><td>&quot;Environmental;…</td><td>309</td></tr><tr><td>&quot;Host-associate…</td><td>1259</td></tr><tr><td>&quot;Environmental;…</td><td>847</td></tr><tr><td>&quot;Engineered&quot;</td><td>826</td></tr></tbody></table></div>"
      ],
      "text/plain": [
       "shape: (5, 2)\n",
       "┌───────────────────────────────────┬───────┐\n",
       "│ ecosystem_custom                  ┆ count │\n",
       "│ ---                               ┆ ---   │\n",
       "│ str                               ┆ u32   │\n",
       "╞═══════════════════════════════════╪═══════╡\n",
       "│ Host-associated: Other            ┆ 548   │\n",
       "│ Environmental;Terrestrial (non s… ┆ 309   │\n",
       "│ Host-associated: Human            ┆ 1259  │\n",
       "│ Environmental;Aquatic             ┆ 847   │\n",
       "│ Engineered                        ┆ 826   │\n",
       "└───────────────────────────────────┴───────┘"
      ]
     },
     "execution_count": 28,
     "metadata": {},
     "output_type": "execute_result"
    }
   ],
   "source": [
    "df_bgc.unique(\"taxon_oid\").get_column(\"ecosystem_custom\").value_counts()"
   ]
  },
  {
   "cell_type": "code",
   "execution_count": 11,
   "metadata": {},
   "outputs": [
    {
     "name": "stdout",
     "output_type": "stream",
     "text": [
      "{'Engineered': 0.3105263157894737, 'Host-associated: Other': 0.3407960199004975, 'Environmental;Aquatic': 0.11846153846153847, 'Host-associated: Human': 0.4269243811461512, 'Environmental;Terrestrial (non soil)': 0.3266384778012685}\n"
     ]
    }
   ],
   "source": [
    "bgc_ecosystem_counts = (\n",
    "    df_bgc.unique(subset=[\"taxon_oid\", \"ecosystem_custom\"])\n",
    "    .get_column(\"ecosystem_custom\")\n",
    "    .value_counts()\n",
    ")\n",
    "imgpr_ecosystem_counts = (\n",
    "    df_imgpr.unique(subset=[\"taxon_oid\", \"ecosystem_custom\"])\n",
    "    .get_column(\"ecosystem_custom\")\n",
    "    .value_counts()\n",
    ")\n",
    "\n",
    "# Convert to dictionaries for easier division\n",
    "bgc_ecosystem_dict = {\n",
    "    row[\"ecosystem_custom\"]: row[\"count\"] for row in bgc_ecosystem_counts.to_dicts()\n",
    "}\n",
    "imgpr_ecosystem_dict = {\n",
    "    row[\"ecosystem_custom\"]: row[\"count\"] for row in imgpr_ecosystem_counts.to_dicts()\n",
    "}\n",
    "\n",
    "# Calculate the ratio for each ecosystem\n",
    "ratios = {}\n",
    "for ecosystem, bgc_count in bgc_ecosystem_dict.items():\n",
    "    if ecosystem in imgpr_ecosystem_dict:\n",
    "        ratios[ecosystem] = bgc_count / imgpr_ecosystem_dict[ecosystem]\n",
    "print(ratios)"
   ]
  },
  {
   "cell_type": "code",
   "execution_count": null,
   "metadata": {},
   "outputs": [
    {
     "data": {
      "text/html": [
       "<div><style>\n",
       ".dataframe > thead > tr,\n",
       ".dataframe > tbody > tr {\n",
       "  text-align: right;\n",
       "  white-space: pre-wrap;\n",
       "}\n",
       "</style>\n",
       "<small>shape: (5, 10)</small><table border=\"1\" class=\"dataframe\"><thead><tr><th>BGC</th><th>Accession ID</th><th>Description</th><th>Product Prediction</th><th>BiG-SCAPE class</th><th>Organism</th><th>Taxonomy</th><th>bgc_length</th><th>kind</th><th>taxon_oid</th></tr><tr><td>str</td><td>str</td><td>str</td><td>str</td><td>str</td><td>str</td><td>str</td><td>i64</td><td>str</td><td>str</td></tr></thead><tbody><tr><td>&quot;2162886007SwRh…</td><td>&quot;2162886007SwRh…</td><td>&quot;2162886007|SwR…</td><td>&quot;lassopeptide&quot;</td><td>&quot;RiPPs&quot;</td><td>null</td><td>null</td><td>22261</td><td>&quot;single&quot;</td><td>&quot;2162886007&quot;</td></tr><tr><td>&quot;2162886015FOas…</td><td>&quot;2162886015FOas…</td><td>&quot;2162886015|FOa…</td><td>&quot;NRPS&quot;</td><td>&quot;NRPS&quot;</td><td>null</td><td>null</td><td>33726</td><td>&quot;single&quot;</td><td>&quot;2162886015&quot;</td></tr><tr><td>&quot;3300000519RepK…</td><td>&quot;3300000519RepK…</td><td>&quot;3300000519|Rep…</td><td>&quot;NRPS.NRP-metal…</td><td>&quot;Others&quot;</td><td>null</td><td>null</td><td>28509</td><td>&quot;chemical_hybri…</td><td>&quot;3300000519&quot;</td></tr><tr><td>&quot;3300001979JGI2…</td><td>&quot;3300001979JGI2…</td><td>&quot;3300001979|JGI…</td><td>&quot;lassopeptide&quot;</td><td>&quot;RiPPs&quot;</td><td>null</td><td>null</td><td>22423</td><td>&quot;single&quot;</td><td>&quot;3300001979&quot;</td></tr><tr><td>&quot;3300001979JGI2…</td><td>&quot;3300001979JGI2…</td><td>&quot;3300001979|JGI…</td><td>&quot;hserlactone&quot;</td><td>&quot;Others&quot;</td><td>null</td><td>null</td><td>15928</td><td>&quot;single&quot;</td><td>&quot;3300001979&quot;</td></tr></tbody></table></div>"
      ],
      "text/plain": [
       "shape: (5, 10)\n",
       "┌───────────┬───────────┬───────────┬───────────┬───┬──────────┬───────────┬───────────┬───────────┐\n",
       "│ BGC       ┆ Accession ┆ Descripti ┆ Product   ┆ … ┆ Taxonomy ┆ bgc_lengt ┆ kind      ┆ taxon_oid │\n",
       "│ ---       ┆ ID        ┆ on        ┆ Predictio ┆   ┆ ---      ┆ h         ┆ ---       ┆ ---       │\n",
       "│ str       ┆ ---       ┆ ---       ┆ n         ┆   ┆ str      ┆ ---       ┆ str       ┆ str       │\n",
       "│           ┆ str       ┆ str       ┆ ---       ┆   ┆          ┆ i64       ┆           ┆           │\n",
       "│           ┆           ┆           ┆ str       ┆   ┆          ┆           ┆           ┆           │\n",
       "╞═══════════╪═══════════╪═══════════╪═══════════╪═══╪══════════╪═══════════╪═══════════╪═══════════╡\n",
       "│ 216288600 ┆ 216288600 ┆ 216288600 ┆ lassopept ┆ … ┆ null     ┆ 22261     ┆ single    ┆ 216288600 │\n",
       "│ 7SwRhRL2b ┆ 7SwRhRL2b ┆ 7|SwRhRL2 ┆ ide       ┆   ┆          ┆           ┆           ┆ 7         │\n",
       "│ _contig_1 ┆ _contig_1 ┆ b_contig_ ┆           ┆   ┆          ┆           ┆           ┆           │\n",
       "│ 56784…    ┆ 56784…    ┆ 15678…    ┆           ┆   ┆          ┆           ┆           ┆           │\n",
       "│ 216288601 ┆ 216288601 ┆ 216288601 ┆ NRPS      ┆ … ┆ null     ┆ 33726     ┆ single    ┆ 216288601 │\n",
       "│ 5FOassemb ┆ 5FOassemb ┆ 5|FOassem ┆           ┆   ┆          ┆           ┆           ┆ 5         │\n",
       "│ led-_cont ┆ led-_cont ┆ bled-_con ┆           ┆   ┆          ┆           ┆           ┆           │\n",
       "│ ig000…    ┆ ig000…    ┆ tig00…    ┆           ┆   ┆          ┆           ┆           ┆           │\n",
       "│ 330000051 ┆ 330000051 ┆ 330000051 ┆ NRPS.NRP- ┆ … ┆ null     ┆ 28509     ┆ chemical_ ┆ 330000051 │\n",
       "│ 9RepKanNP ┆ 9RepKanNP ┆ 9|RepKanN ┆ metalloph ┆   ┆          ┆           ┆ hybrid    ┆ 9         │\n",
       "│ _Acetate_ ┆ _Acetate_ ┆ P_Acetate ┆ ore       ┆   ┆          ┆           ┆           ┆           │\n",
       "│ BrdU_…    ┆ BrdU_…    ┆ _BrdU…    ┆           ┆   ┆          ┆           ┆           ┆           │\n",
       "│ 330000197 ┆ 330000197 ┆ 330000197 ┆ lassopept ┆ … ┆ null     ┆ 22423     ┆ single    ┆ 330000197 │\n",
       "│ 9JGI24740 ┆ 9JGI24740 ┆ 9|JGI2474 ┆ ide       ┆   ┆          ┆           ┆           ┆ 9         │\n",
       "│ J21852_10 ┆ J21852_10 ┆ 0J21852_1 ┆           ┆   ┆          ┆           ┆           ┆           │\n",
       "│ 00002…    ┆ 00002…    ┆ 00000…    ┆           ┆   ┆          ┆           ┆           ┆           │\n",
       "│ 330000197 ┆ 330000197 ┆ 330000197 ┆ hserlacto ┆ … ┆ null     ┆ 15928     ┆ single    ┆ 330000197 │\n",
       "│ 9JGI24740 ┆ 9JGI24740 ┆ 9|JGI2474 ┆ ne        ┆   ┆          ┆           ┆           ┆ 9         │\n",
       "│ J21852_10 ┆ J21852_10 ┆ 0J21852_1 ┆           ┆   ┆          ┆           ┆           ┆           │\n",
       "│ 00036…    ┆ 00036…    ┆ 00003…    ┆           ┆   ┆          ┆           ┆           ┆           │\n",
       "└───────────┴───────────┴───────────┴───────────┴───┴──────────┴───────────┴───────────┴───────────┘"
      ]
     },
     "execution_count": 20,
     "metadata": {},
     "output_type": "execute_result"
    }
   ],
   "source": [
    "# Let's add the ratios of our soil data\n",
    "n_soil_taxon_oids = 3_285\n",
    "\n",
    "df_soil = (\n",
    "    pl.read_csv(\"../bgc/antismash_results_final.tsv\", separator=\"\\t\")\n",
    "    .with_columns(\n",
    "        taxon_oid=pl.col(\"Description\").map_elements(\n",
    "            lambda x: x.split(\"|\")[0] if \"IMGPR\" not in x else x.split(\"_\")[2]\n",
    "        )\n",
    "    )\n",
    "    .filter(~pl.col(\"Description\").str.contains(\"IMGPR|Refsoil|PLSDB\"))\n",
    ")\n",
    "df_soil.head()"
   ]
  },
  {
   "cell_type": "code",
   "execution_count": null,
   "metadata": {},
   "outputs": [],
   "source": [
    "ratios[\"Environmental;Terrestrial (soil)\"] = (\n",
    "    df_soil.n_unique(\"taxon_oid\") / n_soil_taxon_oids\n",
    ")"
   ]
  },
  {
   "cell_type": "code",
   "execution_count": null,
   "metadata": {},
   "outputs": [
    {
     "data": {
      "text/plain": [
       "<Axes: >"
      ]
     },
     "execution_count": 26,
     "metadata": {},
     "output_type": "execute_result"
    },
    {
     "data": {
      "image/png": "[encoded data removed]",
      "text/plain": [
       "<Figure size 640x480 with 1 Axes>"
      ]
     },
     "metadata": {},
     "output_type": "display_data"
    }
   ],
   "source": [
    "sns.barplot(data=dict(sorted(ratios.items(), key=lambda item: item[1])), orient=\"h\")"
   ]
  },
  {
   "cell_type": "code",
   "execution_count": null,
   "metadata": {},
   "outputs": [],
   "source": []
  }
 ],
 "metadata": {
  "kernelspec": {
   "display_name": "Python 3",
   "language": "python",
   "name": "python3"
  },
  "language_info": {
   "codemirror_mode": {
    "name": "ipython",
    "version": 3
   },
   "file_extension": ".py",
   "mimetype": "text/x-python",
   "name": "python",
   "nbconvert_exporter": "python",
   "pygments_lexer": "ipython3",
   "version": "3.12.0"
  }
 },
 "nbformat": 4,
 "nbformat_minor": 2
}
