{
 "cells": [
  {
   "cell_type": "code",
   "execution_count": 1,
   "metadata": {},
   "outputs": [],
   "source": [
    "import pandas as pd\n",
    "import matplotlib.pyplot as plt\n",
    "import seaborn as sns\n",
    "import numpy as np"
   ]
  },
  {
   "cell_type": "markdown",
   "metadata": {},
   "source": []
  },
  {
   "cell_type": "code",
   "execution_count": 2,
   "metadata": {},
   "outputs": [
    {
     "data": {
      "text/html": [
       "<div>\n",
       "<style scoped>\n",
       "    .dataframe tbody tr th:only-of-type {\n",
       "        vertical-align: middle;\n",
       "    }\n",
       "\n",
       "    .dataframe tbody tr th {\n",
       "        vertical-align: top;\n",
       "    }\n",
       "\n",
       "    .dataframe thead th {\n",
       "        text-align: right;\n",
       "    }\n",
       "</style>\n",
       "<table border=\"1\" class=\"dataframe\">\n",
       "  <thead>\n",
       "    <tr style=\"text-align: right;\">\n",
       "      <th></th>\n",
       "      <th>seq_name</th>\n",
       "      <th>length</th>\n",
       "      <th>topology</th>\n",
       "      <th>n_genes</th>\n",
       "      <th>genetic_code</th>\n",
       "      <th>plasmid_score</th>\n",
       "      <th>fdr</th>\n",
       "      <th>n_hallmarks</th>\n",
       "      <th>marker_enrichment</th>\n",
       "      <th>conjugation_genes</th>\n",
       "      <th>amr_genes</th>\n",
       "    </tr>\n",
       "  </thead>\n",
       "  <tbody>\n",
       "    <tr>\n",
       "      <th>0</th>\n",
       "      <td>2162886007|SwRhRL2b_contig_945200</td>\n",
       "      <td>13477</td>\n",
       "      <td>No terminal repeats</td>\n",
       "      <td>15</td>\n",
       "      <td>11</td>\n",
       "      <td>0.999</td>\n",
       "      <td>0.001</td>\n",
       "      <td>1</td>\n",
       "      <td>12.0193</td>\n",
       "      <td>MOBH;I_traE</td>\n",
       "      <td>NaN</td>\n",
       "    </tr>\n",
       "    <tr>\n",
       "      <th>1</th>\n",
       "      <td>2162886007|SwRhRL2b_contig_2852415</td>\n",
       "      <td>9241</td>\n",
       "      <td>No terminal repeats</td>\n",
       "      <td>5</td>\n",
       "      <td>11</td>\n",
       "      <td>0.999</td>\n",
       "      <td>0.001</td>\n",
       "      <td>2</td>\n",
       "      <td>6.1372</td>\n",
       "      <td>MOBQ</td>\n",
       "      <td>NaN</td>\n",
       "    </tr>\n",
       "    <tr>\n",
       "      <th>2</th>\n",
       "      <td>2162886007|SwRhRL2b_contig_1143023</td>\n",
       "      <td>5626</td>\n",
       "      <td>No terminal repeats</td>\n",
       "      <td>4</td>\n",
       "      <td>11</td>\n",
       "      <td>0.999</td>\n",
       "      <td>0.001</td>\n",
       "      <td>0</td>\n",
       "      <td>2.1275</td>\n",
       "      <td>NaN</td>\n",
       "      <td>NaN</td>\n",
       "    </tr>\n",
       "    <tr>\n",
       "      <th>3</th>\n",
       "      <td>2162886007|SwRhRL2b_contig_1006237</td>\n",
       "      <td>10899</td>\n",
       "      <td>No terminal repeats</td>\n",
       "      <td>12</td>\n",
       "      <td>11</td>\n",
       "      <td>0.999</td>\n",
       "      <td>0.001</td>\n",
       "      <td>1</td>\n",
       "      <td>8.1306</td>\n",
       "      <td>G_tfc2</td>\n",
       "      <td>NaN</td>\n",
       "    </tr>\n",
       "    <tr>\n",
       "      <th>4</th>\n",
       "      <td>2209111006|2214572718</td>\n",
       "      <td>5871</td>\n",
       "      <td>No terminal repeats</td>\n",
       "      <td>7</td>\n",
       "      <td>11</td>\n",
       "      <td>0.999</td>\n",
       "      <td>0.001</td>\n",
       "      <td>2</td>\n",
       "      <td>6.6739</td>\n",
       "      <td>MOBQ</td>\n",
       "      <td>NaN</td>\n",
       "    </tr>\n",
       "  </tbody>\n",
       "</table>\n",
       "</div>"
      ],
      "text/plain": [
       "                             seq_name  length             topology  n_genes  \\\n",
       "0   2162886007|SwRhRL2b_contig_945200   13477  No terminal repeats       15   \n",
       "1  2162886007|SwRhRL2b_contig_2852415    9241  No terminal repeats        5   \n",
       "2  2162886007|SwRhRL2b_contig_1143023    5626  No terminal repeats        4   \n",
       "3  2162886007|SwRhRL2b_contig_1006237   10899  No terminal repeats       12   \n",
       "4               2209111006|2214572718    5871  No terminal repeats        7   \n",
       "\n",
       "   genetic_code  plasmid_score    fdr  n_hallmarks  marker_enrichment  \\\n",
       "0            11          0.999  0.001            1            12.0193   \n",
       "1            11          0.999  0.001            2             6.1372   \n",
       "2            11          0.999  0.001            0             2.1275   \n",
       "3            11          0.999  0.001            1             8.1306   \n",
       "4            11          0.999  0.001            2             6.6739   \n",
       "\n",
       "  conjugation_genes amr_genes  \n",
       "0       MOBH;I_traE       NaN  \n",
       "1              MOBQ       NaN  \n",
       "2               NaN       NaN  \n",
       "3            G_tfc2       NaN  \n",
       "4              MOBQ       NaN  "
      ]
     },
     "execution_count": 2,
     "metadata": {},
     "output_type": "execute_result"
    }
   ],
   "source": [
    "df = pd.read_csv(\"./all_plasmid_summary.tsv\", sep=\"\\t\")\n",
    "\n",
    "df.head()"
   ]
  },
  {
   "cell_type": "code",
   "execution_count": 3,
   "metadata": {},
   "outputs": [
    {
     "data": {
      "text/plain": [
       "(1870098, 11)"
      ]
     },
     "execution_count": 3,
     "metadata": {},
     "output_type": "execute_result"
    }
   ],
   "source": [
    "df.shape"
   ]
  },
  {
   "cell_type": "code",
   "execution_count": 4,
   "metadata": {},
   "outputs": [],
   "source": [
    "# with open(\"./exclude_contig_list.txt\") as f:\n",
    "# exclude = [i.strip() for i in f]"
   ]
  },
  {
   "cell_type": "code",
   "execution_count": 5,
   "metadata": {},
   "outputs": [],
   "source": [
    "# remove contigs of QC\n",
    "# df = df[~df[\"contig_name\"].str.contains(\"|\".join(exclude))]"
   ]
  },
  {
   "cell_type": "code",
   "execution_count": 6,
   "metadata": {},
   "outputs": [
    {
     "name": "stderr",
     "output_type": "stream",
     "text": [
      "/clusterfs/jgi/groups/science/homes/mbfiamenghi/.micromamba/envs/data_science/lib/python3.11/site-packages/seaborn/_oldcore.py:1498: FutureWarning: is_categorical_dtype is deprecated and will be removed in a future version. Use isinstance(dtype, CategoricalDtype) instead\n",
      "  if pd.api.types.is_categorical_dtype(vector):\n",
      "/clusterfs/jgi/groups/science/homes/mbfiamenghi/.micromamba/envs/data_science/lib/python3.11/site-packages/seaborn/_oldcore.py:1119: FutureWarning: use_inf_as_na option is deprecated and will be removed in a future version. Convert inf values to NaN before operating instead.\n",
      "  with pd.option_context('mode.use_inf_as_na', True):\n"
     ]
    },
    {
     "data": {
      "text/plain": [
       "<Axes: xlabel='length', ylabel='Count'>"
      ]
     },
     "execution_count": 6,
     "metadata": {},
     "output_type": "execute_result"
    },
    {
     "data": {
      "image/png": "[encoded data removed]",
      "text/plain": [
       "<Figure size 640x480 with 1 Axes>"
      ]
     },
     "metadata": {},
     "output_type": "display_data"
    }
   ],
   "source": [
    "sns.histplot(df[\"length\"], bins=50, binrange=[5_000, 50_000])"
   ]
  },
  {
   "cell_type": "code",
   "execution_count": 7,
   "metadata": {},
   "outputs": [
    {
     "data": {
      "text/plain": [
       "10164.10556559068"
      ]
     },
     "execution_count": 7,
     "metadata": {},
     "output_type": "execute_result"
    }
   ],
   "source": [
    "np.mean(df[\"length\"])"
   ]
  },
  {
   "cell_type": "code",
   "execution_count": 8,
   "metadata": {},
   "outputs": [
    {
     "data": {
      "text/plain": [
       "7096.0"
      ]
     },
     "execution_count": 8,
     "metadata": {},
     "output_type": "execute_result"
    }
   ],
   "source": [
    "np.median(df[\"length\"])"
   ]
  },
  {
   "cell_type": "code",
   "execution_count": 9,
   "metadata": {},
   "outputs": [
    {
     "data": {
      "text/plain": [
       "1559116"
      ]
     },
     "execution_count": 9,
     "metadata": {},
     "output_type": "execute_result"
    }
   ],
   "source": [
    "np.max(df[\"length\"])"
   ]
  },
  {
   "cell_type": "markdown",
   "metadata": {},
   "source": [
    "After filtering"
   ]
  },
  {
   "cell_type": "code",
   "execution_count": 12,
   "metadata": {},
   "outputs": [
    {
     "data": {
      "text/html": [
       "<div>\n",
       "<style scoped>\n",
       "    .dataframe tbody tr th:only-of-type {\n",
       "        vertical-align: middle;\n",
       "    }\n",
       "\n",
       "    .dataframe tbody tr th {\n",
       "        vertical-align: top;\n",
       "    }\n",
       "\n",
       "    .dataframe thead th {\n",
       "        text-align: right;\n",
       "    }\n",
       "</style>\n",
       "<table border=\"1\" class=\"dataframe\">\n",
       "  <thead>\n",
       "    <tr style=\"text-align: right;\">\n",
       "      <th></th>\n",
       "      <th>seq_name</th>\n",
       "      <th>length</th>\n",
       "      <th>topology</th>\n",
       "      <th>n_genes</th>\n",
       "      <th>genetic_code</th>\n",
       "      <th>plasmid_score</th>\n",
       "      <th>fdr</th>\n",
       "      <th>n_hallmarks</th>\n",
       "      <th>marker_enrichment</th>\n",
       "      <th>conjugation_genes</th>\n",
       "      <th>amr_genes</th>\n",
       "      <th>n_hmm_hallmarks</th>\n",
       "    </tr>\n",
       "  </thead>\n",
       "  <tbody>\n",
       "    <tr>\n",
       "      <th>0</th>\n",
       "      <td>2162886007|SwRhRL2b_contig_945200</td>\n",
       "      <td>13477</td>\n",
       "      <td>No terminal repeats</td>\n",
       "      <td>15</td>\n",
       "      <td>11</td>\n",
       "      <td>0.999</td>\n",
       "      <td>0.001</td>\n",
       "      <td>1</td>\n",
       "      <td>12.0193</td>\n",
       "      <td>MOBH;I_traE</td>\n",
       "      <td>NaN</td>\n",
       "      <td>1</td>\n",
       "    </tr>\n",
       "    <tr>\n",
       "      <th>1</th>\n",
       "      <td>2162886007|SwRhRL2b_contig_2852415</td>\n",
       "      <td>9241</td>\n",
       "      <td>No terminal repeats</td>\n",
       "      <td>5</td>\n",
       "      <td>11</td>\n",
       "      <td>0.999</td>\n",
       "      <td>0.001</td>\n",
       "      <td>2</td>\n",
       "      <td>6.1372</td>\n",
       "      <td>MOBQ</td>\n",
       "      <td>NaN</td>\n",
       "      <td>7</td>\n",
       "    </tr>\n",
       "    <tr>\n",
       "      <th>2</th>\n",
       "      <td>2162886007|SwRhRL2b_contig_1006237</td>\n",
       "      <td>10899</td>\n",
       "      <td>No terminal repeats</td>\n",
       "      <td>12</td>\n",
       "      <td>11</td>\n",
       "      <td>0.999</td>\n",
       "      <td>0.001</td>\n",
       "      <td>1</td>\n",
       "      <td>8.1306</td>\n",
       "      <td>G_tfc2</td>\n",
       "      <td>NaN</td>\n",
       "      <td>1</td>\n",
       "    </tr>\n",
       "    <tr>\n",
       "      <th>3</th>\n",
       "      <td>2209111006|2214572718</td>\n",
       "      <td>5871</td>\n",
       "      <td>No terminal repeats</td>\n",
       "      <td>7</td>\n",
       "      <td>11</td>\n",
       "      <td>0.999</td>\n",
       "      <td>0.001</td>\n",
       "      <td>2</td>\n",
       "      <td>6.6739</td>\n",
       "      <td>MOBQ</td>\n",
       "      <td>NaN</td>\n",
       "      <td>3</td>\n",
       "    </tr>\n",
       "    <tr>\n",
       "      <th>4</th>\n",
       "      <td>2162886007|SwRhRL2b_contig_2547504</td>\n",
       "      <td>11323</td>\n",
       "      <td>No terminal repeats</td>\n",
       "      <td>12</td>\n",
       "      <td>11</td>\n",
       "      <td>0.999</td>\n",
       "      <td>0.001</td>\n",
       "      <td>5</td>\n",
       "      <td>9.0132</td>\n",
       "      <td>G_tfc3;T_virB1;G_tfc5;t4cp1;G_tfc7</td>\n",
       "      <td>NaN</td>\n",
       "      <td>4</td>\n",
       "    </tr>\n",
       "  </tbody>\n",
       "</table>\n",
       "</div>"
      ],
      "text/plain": [
       "                             seq_name  length             topology  n_genes  \\\n",
       "0   2162886007|SwRhRL2b_contig_945200   13477  No terminal repeats       15   \n",
       "1  2162886007|SwRhRL2b_contig_2852415    9241  No terminal repeats        5   \n",
       "2  2162886007|SwRhRL2b_contig_1006237   10899  No terminal repeats       12   \n",
       "3               2209111006|2214572718    5871  No terminal repeats        7   \n",
       "4  2162886007|SwRhRL2b_contig_2547504   11323  No terminal repeats       12   \n",
       "\n",
       "   genetic_code  plasmid_score    fdr  n_hallmarks  marker_enrichment  \\\n",
       "0            11          0.999  0.001            1            12.0193   \n",
       "1            11          0.999  0.001            2             6.1372   \n",
       "2            11          0.999  0.001            1             8.1306   \n",
       "3            11          0.999  0.001            2             6.6739   \n",
       "4            11          0.999  0.001            5             9.0132   \n",
       "\n",
       "                    conjugation_genes amr_genes  n_hmm_hallmarks  \n",
       "0                         MOBH;I_traE       NaN                1  \n",
       "1                                MOBQ       NaN                7  \n",
       "2                              G_tfc2       NaN                1  \n",
       "3                                MOBQ       NaN                3  \n",
       "4  G_tfc3;T_virB1;G_tfc5;t4cp1;G_tfc7       NaN                4  "
      ]
     },
     "execution_count": 12,
     "metadata": {},
     "output_type": "execute_result"
    }
   ],
   "source": [
    "df2 = pd.read_csv(\"all_plasmid_summary_filtered.tsv\", sep=\"\\t\")\n",
    "\n",
    "df2.head()"
   ]
  },
  {
   "cell_type": "code",
   "execution_count": 13,
   "metadata": {},
   "outputs": [
    {
     "name": "stderr",
     "output_type": "stream",
     "text": [
      "/clusterfs/jgi/groups/science/homes/mbfiamenghi/.micromamba/envs/data_science/lib/python3.11/site-packages/seaborn/_oldcore.py:1498: FutureWarning: is_categorical_dtype is deprecated and will be removed in a future version. Use isinstance(dtype, CategoricalDtype) instead\n",
      "  if pd.api.types.is_categorical_dtype(vector):\n",
      "/clusterfs/jgi/groups/science/homes/mbfiamenghi/.micromamba/envs/data_science/lib/python3.11/site-packages/seaborn/_oldcore.py:1119: FutureWarning: use_inf_as_na option is deprecated and will be removed in a future version. Convert inf values to NaN before operating instead.\n",
      "  with pd.option_context('mode.use_inf_as_na', True):\n"
     ]
    },
    {
     "data": {
      "text/plain": [
       "<Axes: xlabel='length', ylabel='Count'>"
      ]
     },
     "execution_count": 13,
     "metadata": {},
     "output_type": "execute_result"
    },
    {
     "data": {
      "image/png": "[encoded data removed]",
      "text/plain": [
       "<Figure size 640x480 with 1 Axes>"
      ]
     },
     "metadata": {},
     "output_type": "display_data"
    }
   ],
   "source": [
    "sns.histplot(df2[\"length\"], bins=50, binrange=[5_000, 50_000])"
   ]
  },
  {
   "cell_type": "code",
   "execution_count": 14,
   "metadata": {},
   "outputs": [
    {
     "data": {
      "text/plain": [
       "18179.612321082786"
      ]
     },
     "execution_count": 14,
     "metadata": {},
     "output_type": "execute_result"
    }
   ],
   "source": [
    "np.mean(df2[\"length\"])"
   ]
  },
  {
   "cell_type": "code",
   "execution_count": 15,
   "metadata": {},
   "outputs": [
    {
     "data": {
      "text/plain": [
       "9880.0"
      ]
     },
     "execution_count": 15,
     "metadata": {},
     "output_type": "execute_result"
    }
   ],
   "source": [
    "np.median(df2[\"length\"])"
   ]
  },
  {
   "cell_type": "code",
   "execution_count": 16,
   "metadata": {},
   "outputs": [
    {
     "data": {
      "text/plain": [
       "938879"
      ]
     },
     "execution_count": 16,
     "metadata": {},
     "output_type": "execute_result"
    }
   ],
   "source": [
    "np.max(df2[\"length\"])"
   ]
  },
  {
   "cell_type": "code",
   "execution_count": null,
   "metadata": {},
   "outputs": [],
   "source": []
  }
 ],
 "metadata": {
  "kernelspec": {
   "display_name": "Python 3",
   "language": "python",
   "name": "python3"
  },
  "language_info": {
   "codemirror_mode": {
    "name": "ipython",
    "version": 3
   },
   "file_extension": ".py",
   "mimetype": "text/x-python",
   "name": "python",
   "nbconvert_exporter": "python",
   "pygments_lexer": "ipython3",
   "version": "3.11.5"
  }
 },
 "nbformat": 4,
 "nbformat_minor": 2
}
