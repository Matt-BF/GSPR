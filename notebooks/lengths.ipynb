{
 "cells": [
  {
   "cell_type": "code",
   "execution_count": 1,
   "metadata": {},
   "outputs": [],
   "source": [
    "import pandas as pd\n",
    "import matplotlib.pyplot as plt\n",
    "import numpy as np\n",
    "import seaborn as sns\n",
    "\n",
    "sns.set_style(\"whitegrid\")"
   ]
  },
  {
   "cell_type": "code",
   "execution_count": 2,
   "metadata": {},
   "outputs": [
    {
     "data": {
      "text/html": [
       "<div>\n",
       "<style scoped>\n",
       "    .dataframe tbody tr th:only-of-type {\n",
       "        vertical-align: middle;\n",
       "    }\n",
       "\n",
       "    .dataframe tbody tr th {\n",
       "        vertical-align: top;\n",
       "    }\n",
       "\n",
       "    .dataframe thead th {\n",
       "        text-align: right;\n",
       "    }\n",
       "</style>\n",
       "<table border=\"1\" class=\"dataframe\">\n",
       "  <thead>\n",
       "    <tr style=\"text-align: right;\">\n",
       "      <th></th>\n",
       "      <th>Plasmid</th>\n",
       "      <th>length</th>\n",
       "    </tr>\n",
       "  </thead>\n",
       "  <tbody>\n",
       "    <tr>\n",
       "      <th>0</th>\n",
       "      <td>2088090014|GPIPI_16944593</td>\n",
       "      <td>5584</td>\n",
       "    </tr>\n",
       "    <tr>\n",
       "      <th>1</th>\n",
       "      <td>2088090014|GPIPI_16884012</td>\n",
       "      <td>8233</td>\n",
       "    </tr>\n",
       "    <tr>\n",
       "      <th>2</th>\n",
       "      <td>2088090014|GPIPI_17035422</td>\n",
       "      <td>5654</td>\n",
       "    </tr>\n",
       "    <tr>\n",
       "      <th>3</th>\n",
       "      <td>2088090014|GPIPI_17320127</td>\n",
       "      <td>5097</td>\n",
       "    </tr>\n",
       "    <tr>\n",
       "      <th>4</th>\n",
       "      <td>2088090014|GPIPI_16557027</td>\n",
       "      <td>6619</td>\n",
       "    </tr>\n",
       "  </tbody>\n",
       "</table>\n",
       "</div>"
      ],
      "text/plain": [
       "                     Plasmid  length\n",
       "0  2088090014|GPIPI_16944593    5584\n",
       "1  2088090014|GPIPI_16884012    8233\n",
       "2  2088090014|GPIPI_17035422    5654\n",
       "3  2088090014|GPIPI_17320127    5097\n",
       "4  2088090014|GPIPI_16557027    6619"
      ]
     },
     "execution_count": 2,
     "metadata": {},
     "output_type": "execute_result"
    }
   ],
   "source": [
    "df = pd.read_csv(\"../ptu_derep/derep_plasmids_lengths.tsv\", sep=\"\\t\")\n",
    "\n",
    "df.head()"
   ]
  },
  {
   "cell_type": "code",
   "execution_count": 3,
   "metadata": {},
   "outputs": [],
   "source": [
    "with open(\"../nikos_questions/isolate_plasmids_50kb_up.txt\") as f:\n",
    "    isolate_plasmids_50kb_up_meta_hit = f.read().splitlines()\n",
    "\n",
    "with open(\"../nikos_questions/isolate_plasmids_cov_1.0.txt\") as f:\n",
    "    isolate_plasmids_cov_1_0 = f.read().splitlines()"
   ]
  },
  {
   "cell_type": "code",
   "execution_count": 4,
   "metadata": {},
   "outputs": [],
   "source": [
    "with open(\"../ptu_derep/meta_complete.txt\") as f:\n",
    "    complete = f.read().splitlines()"
   ]
  },
  {
   "cell_type": "code",
   "execution_count": 5,
   "metadata": {},
   "outputs": [
    {
     "data": {
      "text/html": [
       "<div>\n",
       "<style scoped>\n",
       "    .dataframe tbody tr th:only-of-type {\n",
       "        vertical-align: middle;\n",
       "    }\n",
       "\n",
       "    .dataframe tbody tr th {\n",
       "        vertical-align: top;\n",
       "    }\n",
       "\n",
       "    .dataframe thead th {\n",
       "        text-align: right;\n",
       "    }\n",
       "</style>\n",
       "<table border=\"1\" class=\"dataframe\">\n",
       "  <thead>\n",
       "    <tr style=\"text-align: right;\">\n",
       "      <th></th>\n",
       "      <th>Plasmid</th>\n",
       "      <th>length</th>\n",
       "      <th>complete</th>\n",
       "      <th>Origin</th>\n",
       "      <th>Origin_2</th>\n",
       "      <th>Origin_3</th>\n",
       "      <th>Length_kb</th>\n",
       "    </tr>\n",
       "  </thead>\n",
       "  <tbody>\n",
       "    <tr>\n",
       "      <th>0</th>\n",
       "      <td>2088090014|GPIPI_16944593</td>\n",
       "      <td>5584</td>\n",
       "      <td>False</td>\n",
       "      <td>Meta</td>\n",
       "      <td>Meta</td>\n",
       "      <td>Meta</td>\n",
       "      <td>5.584</td>\n",
       "    </tr>\n",
       "    <tr>\n",
       "      <th>1</th>\n",
       "      <td>2088090014|GPIPI_16884012</td>\n",
       "      <td>8233</td>\n",
       "      <td>False</td>\n",
       "      <td>Meta</td>\n",
       "      <td>Meta</td>\n",
       "      <td>Meta</td>\n",
       "      <td>8.233</td>\n",
       "    </tr>\n",
       "    <tr>\n",
       "      <th>2</th>\n",
       "      <td>2088090014|GPIPI_17035422</td>\n",
       "      <td>5654</td>\n",
       "      <td>False</td>\n",
       "      <td>Meta</td>\n",
       "      <td>Meta</td>\n",
       "      <td>Meta</td>\n",
       "      <td>5.654</td>\n",
       "    </tr>\n",
       "    <tr>\n",
       "      <th>3</th>\n",
       "      <td>2088090014|GPIPI_17320127</td>\n",
       "      <td>5097</td>\n",
       "      <td>False</td>\n",
       "      <td>Meta</td>\n",
       "      <td>Meta</td>\n",
       "      <td>Meta</td>\n",
       "      <td>5.097</td>\n",
       "    </tr>\n",
       "    <tr>\n",
       "      <th>4</th>\n",
       "      <td>2088090014|GPIPI_16557027</td>\n",
       "      <td>6619</td>\n",
       "      <td>False</td>\n",
       "      <td>Meta</td>\n",
       "      <td>Meta</td>\n",
       "      <td>Meta</td>\n",
       "      <td>6.619</td>\n",
       "    </tr>\n",
       "  </tbody>\n",
       "</table>\n",
       "</div>"
      ],
      "text/plain": [
       "                     Plasmid  length  complete Origin Origin_2 Origin_3  \\\n",
       "0  2088090014|GPIPI_16944593    5584     False   Meta     Meta     Meta   \n",
       "1  2088090014|GPIPI_16884012    8233     False   Meta     Meta     Meta   \n",
       "2  2088090014|GPIPI_17035422    5654     False   Meta     Meta     Meta   \n",
       "3  2088090014|GPIPI_17320127    5097     False   Meta     Meta     Meta   \n",
       "4  2088090014|GPIPI_16557027    6619     False   Meta     Meta     Meta   \n",
       "\n",
       "   Length_kb  \n",
       "0      5.584  \n",
       "1      8.233  \n",
       "2      5.654  \n",
       "3      5.097  \n",
       "4      6.619  "
      ]
     },
     "execution_count": 5,
     "metadata": {},
     "output_type": "execute_result"
    }
   ],
   "source": [
    "df[\"complete\"] = df[\"Plasmid\"].apply(\n",
    "    lambda x: \"PLSDB\" in x or \"Refsoil\" in x or x in complete\n",
    ")\n",
    "df[\"Origin\"] = df[\"Plasmid\"].apply(\n",
    "    lambda x: (\n",
    "        \"Isolate\"\n",
    "        if any(prefix in x for prefix in [\"IMGPR\", \"PLSDB\", \"Refsoil\"])\n",
    "        else \"Meta\"\n",
    "    )\n",
    ")\n",
    "\n",
    "df[\"Origin_2\"] = df[\"Plasmid\"].apply(\n",
    "    lambda x: \"Isolate_with_meta_hit\"\n",
    "    if x in isolate_plasmids_50kb_up_meta_hit\n",
    "    else \"Isolate\"\n",
    "    if any(prefix in x for prefix in [\"IMGPR\", \"PLSDB\", \"Refsoil\"])\n",
    "    else \"Meta\"\n",
    ")\n",
    "\n",
    "df[\"Origin_3\"] = df[\"Plasmid\"].apply(\n",
    "    lambda x: \"Isolate_with_meta_hit\"\n",
    "    if x in isolate_plasmids_cov_1_0\n",
    "    else \"Isolate\"\n",
    "    if any(prefix in x for prefix in [\"IMGPR\", \"PLSDB\", \"Refsoil\"])\n",
    "    else \"Meta\"\n",
    ")\n",
    "\n",
    "df[\"Length_kb\"] = df[\"length\"] / 1000\n",
    "df.head()"
   ]
  },
  {
   "cell_type": "code",
   "execution_count": 6,
   "metadata": {},
   "outputs": [
    {
     "data": {
      "text/html": [
       "<div>\n",
       "<style scoped>\n",
       "    .dataframe tbody tr th:only-of-type {\n",
       "        vertical-align: middle;\n",
       "    }\n",
       "\n",
       "    .dataframe tbody tr th {\n",
       "        vertical-align: top;\n",
       "    }\n",
       "\n",
       "    .dataframe thead th {\n",
       "        text-align: right;\n",
       "    }\n",
       "</style>\n",
       "<table border=\"1\" class=\"dataframe\">\n",
       "  <thead>\n",
       "    <tr style=\"text-align: right;\">\n",
       "      <th></th>\n",
       "      <th>Plasmid</th>\n",
       "      <th>length</th>\n",
       "      <th>complete</th>\n",
       "      <th>Origin</th>\n",
       "      <th>Origin_2</th>\n",
       "      <th>Origin_3</th>\n",
       "      <th>Length_kb</th>\n",
       "    </tr>\n",
       "  </thead>\n",
       "  <tbody>\n",
       "    <tr>\n",
       "      <th>91706</th>\n",
       "      <td>IMGPR_plasmid_2860691947_000001|2860691947|286...</td>\n",
       "      <td>110701</td>\n",
       "      <td>False</td>\n",
       "      <td>Isolate</td>\n",
       "      <td>Isolate</td>\n",
       "      <td>Isolate</td>\n",
       "      <td>110.701</td>\n",
       "    </tr>\n",
       "    <tr>\n",
       "      <th>91707</th>\n",
       "      <td>IMGPR_plasmid_2860691947_000002|2860691947|286...</td>\n",
       "      <td>561689</td>\n",
       "      <td>False</td>\n",
       "      <td>Isolate</td>\n",
       "      <td>Isolate</td>\n",
       "      <td>Isolate</td>\n",
       "      <td>561.689</td>\n",
       "    </tr>\n",
       "    <tr>\n",
       "      <th>91708</th>\n",
       "      <td>IMGPR_plasmid_2754412351_000005|2754412351|275...</td>\n",
       "      <td>267249</td>\n",
       "      <td>False</td>\n",
       "      <td>Isolate</td>\n",
       "      <td>Isolate</td>\n",
       "      <td>Isolate</td>\n",
       "      <td>267.249</td>\n",
       "    </tr>\n",
       "    <tr>\n",
       "      <th>91709</th>\n",
       "      <td>IMGPR_plasmid_2537562007_000009|2537562007|253...</td>\n",
       "      <td>274779</td>\n",
       "      <td>False</td>\n",
       "      <td>Isolate</td>\n",
       "      <td>Isolate</td>\n",
       "      <td>Isolate</td>\n",
       "      <td>274.779</td>\n",
       "    </tr>\n",
       "    <tr>\n",
       "      <th>91710</th>\n",
       "      <td>IMGPR_plasmid_2537562007_000001|2537562007|253...</td>\n",
       "      <td>26115</td>\n",
       "      <td>False</td>\n",
       "      <td>Isolate</td>\n",
       "      <td>Isolate</td>\n",
       "      <td>Isolate</td>\n",
       "      <td>26.115</td>\n",
       "    </tr>\n",
       "    <tr>\n",
       "      <th>...</th>\n",
       "      <td>...</td>\n",
       "      <td>...</td>\n",
       "      <td>...</td>\n",
       "      <td>...</td>\n",
       "      <td>...</td>\n",
       "      <td>...</td>\n",
       "      <td>...</td>\n",
       "    </tr>\n",
       "    <tr>\n",
       "      <th>98276</th>\n",
       "      <td>IMGPR_plasmid_2667527448_000009|2667527448|266...</td>\n",
       "      <td>22833</td>\n",
       "      <td>False</td>\n",
       "      <td>Isolate</td>\n",
       "      <td>Isolate</td>\n",
       "      <td>Isolate</td>\n",
       "      <td>22.833</td>\n",
       "    </tr>\n",
       "    <tr>\n",
       "      <th>98277</th>\n",
       "      <td>IMGPR_plasmid_2862854852_000002|2862854852|286...</td>\n",
       "      <td>19753</td>\n",
       "      <td>False</td>\n",
       "      <td>Isolate</td>\n",
       "      <td>Isolate</td>\n",
       "      <td>Isolate</td>\n",
       "      <td>19.753</td>\n",
       "    </tr>\n",
       "    <tr>\n",
       "      <th>98278</th>\n",
       "      <td>IMGPR_plasmid_2862854852_000003|2862854852|286...</td>\n",
       "      <td>19750</td>\n",
       "      <td>False</td>\n",
       "      <td>Isolate</td>\n",
       "      <td>Isolate</td>\n",
       "      <td>Isolate</td>\n",
       "      <td>19.750</td>\n",
       "    </tr>\n",
       "    <tr>\n",
       "      <th>98279</th>\n",
       "      <td>IMGPR_plasmid_2862854852_000006|2862854852|286...</td>\n",
       "      <td>5770</td>\n",
       "      <td>False</td>\n",
       "      <td>Isolate</td>\n",
       "      <td>Isolate</td>\n",
       "      <td>Isolate</td>\n",
       "      <td>5.770</td>\n",
       "    </tr>\n",
       "    <tr>\n",
       "      <th>98280</th>\n",
       "      <td>IMGPR_plasmid_2862854852_000004|2862854852|286...</td>\n",
       "      <td>5465</td>\n",
       "      <td>False</td>\n",
       "      <td>Isolate</td>\n",
       "      <td>Isolate</td>\n",
       "      <td>Isolate</td>\n",
       "      <td>5.465</td>\n",
       "    </tr>\n",
       "  </tbody>\n",
       "</table>\n",
       "<p>6575 rows × 7 columns</p>\n",
       "</div>"
      ],
      "text/plain": [
       "                                                 Plasmid  length  complete  \\\n",
       "91706  IMGPR_plasmid_2860691947_000001|2860691947|286...  110701     False   \n",
       "91707  IMGPR_plasmid_2860691947_000002|2860691947|286...  561689     False   \n",
       "91708  IMGPR_plasmid_2754412351_000005|2754412351|275...  267249     False   \n",
       "91709  IMGPR_plasmid_2537562007_000009|2537562007|253...  274779     False   \n",
       "91710  IMGPR_plasmid_2537562007_000001|2537562007|253...   26115     False   \n",
       "...                                                  ...     ...       ...   \n",
       "98276  IMGPR_plasmid_2667527448_000009|2667527448|266...   22833     False   \n",
       "98277  IMGPR_plasmid_2862854852_000002|2862854852|286...   19753     False   \n",
       "98278  IMGPR_plasmid_2862854852_000003|2862854852|286...   19750     False   \n",
       "98279  IMGPR_plasmid_2862854852_000006|2862854852|286...    5770     False   \n",
       "98280  IMGPR_plasmid_2862854852_000004|2862854852|286...    5465     False   \n",
       "\n",
       "        Origin Origin_2 Origin_3  Length_kb  \n",
       "91706  Isolate  Isolate  Isolate    110.701  \n",
       "91707  Isolate  Isolate  Isolate    561.689  \n",
       "91708  Isolate  Isolate  Isolate    267.249  \n",
       "91709  Isolate  Isolate  Isolate    274.779  \n",
       "91710  Isolate  Isolate  Isolate     26.115  \n",
       "...        ...      ...      ...        ...  \n",
       "98276  Isolate  Isolate  Isolate     22.833  \n",
       "98277  Isolate  Isolate  Isolate     19.753  \n",
       "98278  Isolate  Isolate  Isolate     19.750  \n",
       "98279  Isolate  Isolate  Isolate      5.770  \n",
       "98280  Isolate  Isolate  Isolate      5.465  \n",
       "\n",
       "[6575 rows x 7 columns]"
      ]
     },
     "execution_count": 6,
     "metadata": {},
     "output_type": "execute_result"
    }
   ],
   "source": [
    "df[df[\"Plasmid\"].str.contains(\"IMGPR\")]"
   ]
  },
  {
   "cell_type": "code",
   "execution_count": 7,
   "metadata": {},
   "outputs": [
    {
     "data": {
      "text/plain": [
       "413.22"
      ]
     },
     "execution_count": 7,
     "metadata": {},
     "output_type": "execute_result"
    }
   ],
   "source": [
    "round(df[(df[\"Origin\"] == \"Meta\") & (df[\"complete\"] == True)][\"Length_kb\"].max(), 2)"
   ]
  },
  {
   "cell_type": "code",
   "execution_count": 8,
   "metadata": {},
   "outputs": [
    {
     "data": {
      "image/png": "[encoded data removed]",
      "text/plain": [
       "<Figure size 800x400 with 1 Axes>"
      ]
     },
     "metadata": {},
     "output_type": "display_data"
    }
   ],
   "source": [
    "fig, ax = plt.subplots(figsize=(8, 4))\n",
    "sns.histplot(\n",
    "    data=df[df[\"complete\"]],\n",
    "    x=\"Length_kb\",\n",
    "    hue=\"Origin\",\n",
    "    ax=ax,\n",
    "    log_scale=True,\n",
    "    fill=True,\n",
    "    palette=[\"#277F8E\", \"#EDB183\"],\n",
    ")\n",
    "plt.axvline(\n",
    "    x=round(\n",
    "        df[(df[\"Origin\"] == \"Meta\") & (df[\"complete\"] == True)][\"Length_kb\"].median(), 2\n",
    "    ),\n",
    "    color=\"#277F8E\",\n",
    "    linestyle=\"--\",\n",
    ")\n",
    "plt.axvline(\n",
    "    x=round(\n",
    "        df[(df[\"Origin\"] == \"Isolate\") & (df[\"complete\"] == True)][\n",
    "            \"Length_kb\"\n",
    "        ].median(),\n",
    "        2,\n",
    "    ),\n",
    "    color=\"#EDB183\",\n",
    "    linestyle=\"--\",\n",
    ")\n",
    "\n",
    "fig.savefig(\"../figures/plasmid_length_distribution.pdf\", bbox_inches=\"tight\")"
   ]
  },
  {
   "cell_type": "code",
   "execution_count": 9,
   "metadata": {},
   "outputs": [],
   "source": [
    "# fig, ax = plt.subplots(figsize=(8, 4))\n",
    "# sns.histplot(\n",
    "#     data=df[df[\"complete\"]],\n",
    "#     x=\"Length_kb\",\n",
    "#     hue=\"Origin_2\",\n",
    "#     ax=ax,\n",
    "#     log_scale=True,\n",
    "#     fill=True,\n",
    "#     palette=[\"#277F8E\", \"#EDB183\", \"red\"],\n",
    "# )\n",
    "# plt.axvline(\n",
    "#     x=round(\n",
    "#         df[(df[\"Origin_2\"] == \"Meta\") & (df[\"complete\"] == True)][\"Length_kb\"].median(),\n",
    "#         2,\n",
    "#     ),\n",
    "#     color=\"#277F8E\",\n",
    "#     linestyle=\"--\",\n",
    "# )\n",
    "\n",
    "# plt.axvline(\n",
    "#     x=round(\n",
    "#         df[(df[\"Origin_3\"] == \"Isolate_with_meta_hit\") & (df[\"complete\"] == True)][\n",
    "#             \"Length_kb\"\n",
    "#         ].median(),\n",
    "#         2,\n",
    "#     ),\n",
    "#     color=\"#8A9889\",\n",
    "#     linestyle=\"--\",\n",
    "# )\n",
    "\n",
    "# plt.axvline(\n",
    "#     x=round(\n",
    "#         df[(df[\"Origin_3\"] == \"Isolate\") & (df[\"complete\"] == True)][\n",
    "#             \"Length_kb\"\n",
    "#         ].median(),\n",
    "#         2,\n",
    "#     ),\n",
    "#     color=\"red\",\n",
    "#     linestyle=\"--\",\n",
    "# )\n",
    "\n",
    "# fig.savefig(\n",
    "#     \"../figures/plasmid_length_distribution_complete_nikos.pdf\", bbox_inches=\"tight\"\n",
    "# )"
   ]
  },
  {
   "cell_type": "code",
   "execution_count": 10,
   "metadata": {},
   "outputs": [
    {
     "data": {
      "image/png": "[encoded data removed]",
      "text/plain": [
       "<Figure size 800x400 with 1 Axes>"
      ]
     },
     "metadata": {},
     "output_type": "display_data"
    }
   ],
   "source": [
    "fig, ax = plt.subplots(figsize=(8, 4))\n",
    "sns.histplot(\n",
    "    data=df[df[\"complete\"]],\n",
    "    x=\"Length_kb\",\n",
    "    hue=\"Origin_3\",\n",
    "    ax=ax,\n",
    "    log_scale=True,\n",
    "    fill=True,\n",
    "    palette=[\"#277F8E\", \"#EDB183\", \"red\"],\n",
    ")\n",
    "plt.axvline(\n",
    "    x=round(\n",
    "        df[(df[\"Origin_3\"] == \"Meta\") & (df[\"complete\"] == True)][\"Length_kb\"].median(),\n",
    "        2,\n",
    "    ),\n",
    "    color=\"#277F8E\",\n",
    "    linestyle=\"--\",\n",
    ")\n",
    "\n",
    "plt.axvline(\n",
    "    x=round(\n",
    "        df[(df[\"Origin_3\"] == \"Isolate_with_meta_hit\") & (df[\"complete\"] == True)][\n",
    "            \"Length_kb\"\n",
    "        ].median(),\n",
    "        2,\n",
    "    ),\n",
    "    color=\"#8A9889\",\n",
    "    linestyle=\"--\",\n",
    ")\n",
    "\n",
    "plt.axvline(\n",
    "    x=round(\n",
    "        df[(df[\"Origin_3\"] == \"Isolate\") & (df[\"complete\"] == True)][\n",
    "            \"Length_kb\"\n",
    "        ].median(),\n",
    "        2,\n",
    "    ),\n",
    "    color=\"#EDB183\",\n",
    "    linestyle=\"--\",\n",
    ")\n",
    "\n",
    "fig.savefig(\n",
    "    \"../figures/plasmid_length_distribution_complete_nikos.pdf\", bbox_inches=\"tight\"\n",
    ")"
   ]
  },
  {
   "cell_type": "code",
   "execution_count": 13,
   "metadata": {},
   "outputs": [
    {
     "data": {
      "image/png": "[encoded data removed]",
      "text/plain": [
       "<Figure size 800x400 with 1 Axes>"
      ]
     },
     "metadata": {},
     "output_type": "display_data"
    }
   ],
   "source": [
    "fig, ax = plt.subplots(figsize=(8, 4))\n",
    "sns.kdeplot(\n",
    "    data=df,\n",
    "    x=\"Length_kb\",\n",
    "    hue=\"Origin_2\",\n",
    "    ax=ax,\n",
    "    log_scale=True,\n",
    "    fill=True,\n",
    "    common_norm=False,\n",
    "    palette=[\"#277F8E\", \"#EDB183\", \"#8A9889\"],\n",
    ")\n",
    "plt.axvline(\n",
    "    x=round(df[(df[\"Origin_2\"] == \"Meta\")][\"Length_kb\"].median(), 2),\n",
    "    color=\"#277F8E\",\n",
    "    linestyle=\"--\",\n",
    ")\n",
    "\n",
    "plt.axvline(\n",
    "    x=round(\n",
    "        df[(df[\"Origin_2\"] == \"Isolate_with_meta_hit\")][\"Length_kb\"].median(),\n",
    "        2,\n",
    "    ),\n",
    "    color=\"#8A9889\",\n",
    "    linestyle=\"--\",\n",
    ")\n",
    "\n",
    "plt.axvline(\n",
    "    x=round(\n",
    "        df[(df[\"Origin_2\"] == \"Isolate\")][\"Length_kb\"].median(),\n",
    "        2,\n",
    "    ),\n",
    "    color=\"#EDB183\",\n",
    "    linestyle=\"--\",\n",
    ")\n",
    "\n",
    "# fig.savefig(\"../figures/plasmid_length_distribution_all_nikos.pdf\", bbox_inches=\"tight\")"
   ]
  },
  {
   "cell_type": "code",
   "execution_count": null,
   "metadata": {},
   "outputs": [],
   "source": []
  },
  {
   "cell_type": "code",
   "execution_count": null,
   "metadata": {},
   "outputs": [],
   "source": []
  },
  {
   "cell_type": "code",
   "execution_count": 27,
   "metadata": {},
   "outputs": [
    {
     "data": {
      "text/plain": [
       "13.786"
      ]
     },
     "execution_count": 27,
     "metadata": {},
     "output_type": "execute_result"
    }
   ],
   "source": [
    "df[(df[\"complete\"]) & (df[\"Origin\"] == \"Meta\")][\"Length_kb\"].median()"
   ]
  },
  {
   "cell_type": "code",
   "execution_count": 28,
   "metadata": {},
   "outputs": [
    {
     "data": {
      "text/plain": [
       "99.3255"
      ]
     },
     "execution_count": 28,
     "metadata": {},
     "output_type": "execute_result"
    }
   ],
   "source": [
    "df[(df[\"complete\"]) & (df[\"Origin\"] == \"Isolate\")][\"Length_kb\"].median()"
   ]
  },
  {
   "cell_type": "code",
   "execution_count": 33,
   "metadata": {},
   "outputs": [
    {
     "data": {
      "text/plain": [
       "7.204809226751777"
      ]
     },
     "execution_count": 33,
     "metadata": {},
     "output_type": "execute_result"
    }
   ],
   "source": [
    "df[(df[\"complete\"]) & (df[\"Origin\"] == \"Isolate\")][\"Length_kb\"].median() / df[\n",
    "    (df[\"complete\"]) & (df[\"Origin\"] == \"Meta\")\n",
    "][\"Length_kb\"].median()"
   ]
  },
  {
   "cell_type": "code",
   "execution_count": 9,
   "metadata": {},
   "outputs": [
    {
     "data": {
      "text/plain": [
       "<Axes: ylabel='Length_kb'>"
      ]
     },
     "execution_count": 9,
     "metadata": {},
     "output_type": "execute_result"
    },
    {
     "data": {
      "image/png": "[encoded data removed]",
      "text/plain": [
       "<Figure size 640x480 with 1 Axes>"
      ]
     },
     "metadata": {},
     "output_type": "display_data"
    }
   ],
   "source": [
    "# sns.violinplot(\n",
    "#     data=df[df[\"complete\"]],\n",
    "#     y=\"Length_kb\",\n",
    "#     hue=\"Origin\",\n",
    "#     log_scale=True,\n",
    "#     alpha=0.2,\n",
    "# )"
   ]
  },
  {
   "cell_type": "code",
   "execution_count": 10,
   "metadata": {},
   "outputs": [
    {
     "data": {
      "text/plain": [
       "<Axes: xlabel='Length_kb', ylabel='Density'>"
      ]
     },
     "execution_count": 10,
     "metadata": {},
     "output_type": "execute_result"
    },
    {
     "data": {
      "image/png": "[encoded data removed]",
      "text/plain": [
       "<Figure size 640x480 with 1 Axes>"
      ]
     },
     "metadata": {},
     "output_type": "display_data"
    }
   ],
   "source": [
    "sns.kdeplot(\n",
    "    data=df[df[\"Origin\"] == \"Meta\"],\n",
    "    x=\"Length_kb\",\n",
    "    fill=True,\n",
    "    hue=\"complete\",\n",
    "    log_scale=True,\n",
    "    common_norm=False,\n",
    ")"
   ]
  },
  {
   "cell_type": "code",
   "execution_count": 11,
   "metadata": {},
   "outputs": [],
   "source": [
    "from scipy.stats import mannwhitneyu"
   ]
  },
  {
   "cell_type": "code",
   "execution_count": 12,
   "metadata": {},
   "outputs": [
    {
     "data": {
      "text/plain": [
       "MannwhitneyuResult(statistic=5249401.0, pvalue=8.548083244819264e-134)"
      ]
     },
     "execution_count": 12,
     "metadata": {},
     "output_type": "execute_result"
    }
   ],
   "source": [
    "mannwhitneyu(\n",
    "    df[df[\"Origin\"] == \"Isolate\"][\"Length_kb\"].to_list(),\n",
    "    df[(df[\"Origin\"] == \"Meta\") & (df[\"complete\"])][\"Length_kb\"].to_list(),\n",
    "    alternative=\"greater\",\n",
    ")"
   ]
  },
  {
   "cell_type": "code",
   "execution_count": 13,
   "metadata": {},
   "outputs": [
    {
     "data": {
      "text/plain": [
       "MannwhitneyuResult(statistic=46442998.5, pvalue=4.4133210475519795e-26)"
      ]
     },
     "execution_count": 13,
     "metadata": {},
     "output_type": "execute_result"
    }
   ],
   "source": [
    "mannwhitneyu(\n",
    "    df[(df[\"Origin\"] == \"Meta\") & (df[\"complete\"])][\"Length_kb\"].to_list(),\n",
    "    df[(df[\"Origin\"] == \"Meta\") & (~df[\"complete\"])][\"Length_kb\"].to_list(),\n",
    "    alternative=\"greater\",\n",
    ")"
   ]
  },
  {
   "cell_type": "code",
   "execution_count": 14,
   "metadata": {},
   "outputs": [
    {
     "data": {
      "text/plain": [
       "13.786"
      ]
     },
     "execution_count": 14,
     "metadata": {},
     "output_type": "execute_result"
    }
   ],
   "source": [
    "df[(df[\"Origin\"] == \"Meta\") & (df[\"complete\"])][\"Length_kb\"].median()"
   ]
  },
  {
   "cell_type": "code",
   "execution_count": 15,
   "metadata": {},
   "outputs": [
    {
     "data": {
      "text/plain": [
       "99.3255"
      ]
     },
     "execution_count": 15,
     "metadata": {},
     "output_type": "execute_result"
    }
   ],
   "source": [
    "df[(df[\"Origin\"] == \"Isolate\") & (df[\"complete\"])][\"Length_kb\"].median()"
   ]
  },
  {
   "cell_type": "code",
   "execution_count": 16,
   "metadata": {},
   "outputs": [
    {
     "data": {
      "text/html": [
       "<div>\n",
       "<style scoped>\n",
       "    .dataframe tbody tr th:only-of-type {\n",
       "        vertical-align: middle;\n",
       "    }\n",
       "\n",
       "    .dataframe tbody tr th {\n",
       "        vertical-align: top;\n",
       "    }\n",
       "\n",
       "    .dataframe thead th {\n",
       "        text-align: right;\n",
       "    }\n",
       "</style>\n",
       "<table border=\"1\" class=\"dataframe\">\n",
       "  <thead>\n",
       "    <tr style=\"text-align: right;\">\n",
       "      <th></th>\n",
       "      <th>PTU</th>\n",
       "      <th>Representative</th>\n",
       "      <th>Members</th>\n",
       "      <th>Length</th>\n",
       "      <th>oids</th>\n",
       "      <th>Ecosystem Subtype Custom</th>\n",
       "      <th>Ecosystem Subtype</th>\n",
       "      <th>WWF_MHTNAM</th>\n",
       "      <th>Origin</th>\n",
       "      <th>Full_origin</th>\n",
       "    </tr>\n",
       "  </thead>\n",
       "  <tbody>\n",
       "    <tr>\n",
       "      <th>0</th>\n",
       "      <td>PTU-00290</td>\n",
       "      <td>Refsoil_NC_010553.1</td>\n",
       "      <td>Refsoil_NC_010553.1,3300025932|Ga0207690_10000...</td>\n",
       "      <td>71</td>\n",
       "      <td>Refsoil_NC_010553.1,3300025932,3300005339,3300...</td>\n",
       "      <td>Unclassified;Rhizosphere;Rhizosphere;Rhizosphe...</td>\n",
       "      <td>Unclassified;Rhizosphere;Rhizosphere;Rhizosphe...</td>\n",
       "      <td>Unknown;Temperate Broadleaf and Mixed Forests;...</td>\n",
       "      <td>Both</td>\n",
       "      <td>Isolate;Meta;Meta;Meta;Isolate;Meta;Meta;Meta;...</td>\n",
       "    </tr>\n",
       "    <tr>\n",
       "      <th>1</th>\n",
       "      <td>PTU-00425</td>\n",
       "      <td>Refsoil_NC_008242.1</td>\n",
       "      <td>Refsoil_NC_008242.1,3300049573|Ga0501037_00000...</td>\n",
       "      <td>51</td>\n",
       "      <td>Refsoil_NC_008242.1,3300049573,3300036390,3300...</td>\n",
       "      <td>Unclassified;Rhizosphere;Other;Rhizosphere;Rhi...</td>\n",
       "      <td>Unclassified;Rhizosphere;Other;Rhizosphere;Rhi...</td>\n",
       "      <td>Unknown;Temperate Conifer Forests;Deserts and ...</td>\n",
       "      <td>Both</td>\n",
       "      <td>Isolate;Meta;Meta;Meta;Meta;Meta;Meta;Meta;Met...</td>\n",
       "    </tr>\n",
       "    <tr>\n",
       "      <th>2</th>\n",
       "      <td>PTU-00475</td>\n",
       "      <td>Refsoil_NC_019849.2</td>\n",
       "      <td>Refsoil_NC_019849.2,IMGPR_plasmid_2523533632_0...</td>\n",
       "      <td>53</td>\n",
       "      <td>Refsoil_NC_019849.2,2523533632,Refsoil_NC_0173...</td>\n",
       "      <td>Unclassified;Agricultural land;Unclassified;Un...</td>\n",
       "      <td>Unclassified;Agricultural land;Unclassified;Un...</td>\n",
       "      <td>Unknown;Mediterranean Forests, Woodlands and S...</td>\n",
       "      <td>Both</td>\n",
       "      <td>Isolate;Isolate;Isolate;Isolate;Isolate;Isolat...</td>\n",
       "    </tr>\n",
       "    <tr>\n",
       "      <th>3</th>\n",
       "      <td>PTU-00505</td>\n",
       "      <td>Refsoil_NC_021908.1</td>\n",
       "      <td>Refsoil_NC_021908.1,Refsoil_NZ_CP007069.1,Refs...</td>\n",
       "      <td>28</td>\n",
       "      <td>Refsoil_NC_021908.1,Refsoil_NZ_CP007069.1,Refs...</td>\n",
       "      <td>Unclassified;Unclassified;Unclassified;Unclass...</td>\n",
       "      <td>Unclassified;Unclassified;Unclassified;Unclass...</td>\n",
       "      <td>Unknown;Unknown;Unknown;Unknown;Unknown;Unknow...</td>\n",
       "      <td>Both</td>\n",
       "      <td>Isolate;Isolate;Isolate;Isolate;Isolate;Isolat...</td>\n",
       "    </tr>\n",
       "    <tr>\n",
       "      <th>4</th>\n",
       "      <td>PTU-00627</td>\n",
       "      <td>Refsoil_NC_015062.1</td>\n",
       "      <td>Refsoil_NC_015062.1,3300046810|Ga0495660_00000...</td>\n",
       "      <td>124</td>\n",
       "      <td>Refsoil_NC_015062.1,3300046810,2561511173,Refs...</td>\n",
       "      <td>Unclassified;Rhizosphere;Agricultural land;Unc...</td>\n",
       "      <td>Unclassified;Rhizosphere;Agricultural land;Unc...</td>\n",
       "      <td>Unknown;Temperate Broadleaf and Mixed Forests;...</td>\n",
       "      <td>Both</td>\n",
       "      <td>Isolate;Meta;Isolate;Isolate;Meta;Isolate;Meta...</td>\n",
       "    </tr>\n",
       "  </tbody>\n",
       "</table>\n",
       "</div>"
      ],
      "text/plain": [
       "         PTU       Representative  \\\n",
       "0  PTU-00290  Refsoil_NC_010553.1   \n",
       "1  PTU-00425  Refsoil_NC_008242.1   \n",
       "2  PTU-00475  Refsoil_NC_019849.2   \n",
       "3  PTU-00505  Refsoil_NC_021908.1   \n",
       "4  PTU-00627  Refsoil_NC_015062.1   \n",
       "\n",
       "                                             Members  Length  \\\n",
       "0  Refsoil_NC_010553.1,3300025932|Ga0207690_10000...      71   \n",
       "1  Refsoil_NC_008242.1,3300049573|Ga0501037_00000...      51   \n",
       "2  Refsoil_NC_019849.2,IMGPR_plasmid_2523533632_0...      53   \n",
       "3  Refsoil_NC_021908.1,Refsoil_NZ_CP007069.1,Refs...      28   \n",
       "4  Refsoil_NC_015062.1,3300046810|Ga0495660_00000...     124   \n",
       "\n",
       "                                                oids  \\\n",
       "0  Refsoil_NC_010553.1,3300025932,3300005339,3300...   \n",
       "1  Refsoil_NC_008242.1,3300049573,3300036390,3300...   \n",
       "2  Refsoil_NC_019849.2,2523533632,Refsoil_NC_0173...   \n",
       "3  Refsoil_NC_021908.1,Refsoil_NZ_CP007069.1,Refs...   \n",
       "4  Refsoil_NC_015062.1,3300046810,2561511173,Refs...   \n",
       "\n",
       "                            Ecosystem Subtype Custom  \\\n",
       "0  Unclassified;Rhizosphere;Rhizosphere;Rhizosphe...   \n",
       "1  Unclassified;Rhizosphere;Other;Rhizosphere;Rhi...   \n",
       "2  Unclassified;Agricultural land;Unclassified;Un...   \n",
       "3  Unclassified;Unclassified;Unclassified;Unclass...   \n",
       "4  Unclassified;Rhizosphere;Agricultural land;Unc...   \n",
       "\n",
       "                                   Ecosystem Subtype  \\\n",
       "0  Unclassified;Rhizosphere;Rhizosphere;Rhizosphe...   \n",
       "1  Unclassified;Rhizosphere;Other;Rhizosphere;Rhi...   \n",
       "2  Unclassified;Agricultural land;Unclassified;Un...   \n",
       "3  Unclassified;Unclassified;Unclassified;Unclass...   \n",
       "4  Unclassified;Rhizosphere;Agricultural land;Unc...   \n",
       "\n",
       "                                          WWF_MHTNAM Origin  \\\n",
       "0  Unknown;Temperate Broadleaf and Mixed Forests;...   Both   \n",
       "1  Unknown;Temperate Conifer Forests;Deserts and ...   Both   \n",
       "2  Unknown;Mediterranean Forests, Woodlands and S...   Both   \n",
       "3  Unknown;Unknown;Unknown;Unknown;Unknown;Unknow...   Both   \n",
       "4  Unknown;Temperate Broadleaf and Mixed Forests;...   Both   \n",
       "\n",
       "                                         Full_origin  \n",
       "0  Isolate;Meta;Meta;Meta;Isolate;Meta;Meta;Meta;...  \n",
       "1  Isolate;Meta;Meta;Meta;Meta;Meta;Meta;Meta;Met...  \n",
       "2  Isolate;Isolate;Isolate;Isolate;Isolate;Isolat...  \n",
       "3  Isolate;Isolate;Isolate;Isolate;Isolate;Isolat...  \n",
       "4  Isolate;Meta;Isolate;Isolate;Meta;Isolate;Meta...  "
      ]
     },
     "execution_count": 16,
     "metadata": {},
     "output_type": "execute_result"
    }
   ],
   "source": [
    "# ptus with isolates from refsoil and plsdb\n",
    "ptus = pd.read_csv(\n",
    "    \"ptus_meta_with_isolate_plsdb_refsoil.tsv\",\n",
    "    sep=\"\\t\",\n",
    ")\n",
    "\n",
    "ptus.head()"
   ]
  },
  {
   "cell_type": "code",
   "execution_count": 17,
   "metadata": {},
   "outputs": [],
   "source": [
    "ptus_mapping = {}\n",
    "for ptu in ptus.index:\n",
    "    for plasmid in ptus.loc[ptu, \"Members\"].split(\",\"):\n",
    "        ptus_mapping[plasmid] = ptus.loc[ptu, \"PTU\"]\n",
    "\n",
    "# ptus_mapping"
   ]
  },
  {
   "cell_type": "code",
   "execution_count": 18,
   "metadata": {},
   "outputs": [
    {
     "data": {
      "text/html": [
       "<div>\n",
       "<style scoped>\n",
       "    .dataframe tbody tr th:only-of-type {\n",
       "        vertical-align: middle;\n",
       "    }\n",
       "\n",
       "    .dataframe tbody tr th {\n",
       "        vertical-align: top;\n",
       "    }\n",
       "\n",
       "    .dataframe thead th {\n",
       "        text-align: right;\n",
       "    }\n",
       "</style>\n",
       "<table border=\"1\" class=\"dataframe\">\n",
       "  <thead>\n",
       "    <tr style=\"text-align: right;\">\n",
       "      <th></th>\n",
       "      <th>Plasmid</th>\n",
       "      <th>length</th>\n",
       "      <th>complete</th>\n",
       "      <th>Origin</th>\n",
       "      <th>Length_kb</th>\n",
       "      <th>ptu</th>\n",
       "    </tr>\n",
       "  </thead>\n",
       "  <tbody>\n",
       "    <tr>\n",
       "      <th>134</th>\n",
       "      <td>2162886015|FOassembled-_contig00019</td>\n",
       "      <td>54542</td>\n",
       "      <td>False</td>\n",
       "      <td>Meta</td>\n",
       "      <td>54.542</td>\n",
       "      <td>PTU-00461</td>\n",
       "    </tr>\n",
       "    <tr>\n",
       "      <th>167</th>\n",
       "      <td>2166559006|FI_contig00380</td>\n",
       "      <td>6542</td>\n",
       "      <td>False</td>\n",
       "      <td>Meta</td>\n",
       "      <td>6.542</td>\n",
       "      <td>PTU-16841</td>\n",
       "    </tr>\n",
       "    <tr>\n",
       "      <th>243</th>\n",
       "      <td>3300000443|F12B_10029025</td>\n",
       "      <td>5544</td>\n",
       "      <td>False</td>\n",
       "      <td>Meta</td>\n",
       "      <td>5.544</td>\n",
       "      <td>PTU-01385</td>\n",
       "    </tr>\n",
       "    <tr>\n",
       "      <th>244</th>\n",
       "      <td>3300000443|F12B_10378992</td>\n",
       "      <td>5625</td>\n",
       "      <td>False</td>\n",
       "      <td>Meta</td>\n",
       "      <td>5.625</td>\n",
       "      <td>PTU-01391</td>\n",
       "    </tr>\n",
       "    <tr>\n",
       "      <th>245</th>\n",
       "      <td>3300000443|F12B_10137984</td>\n",
       "      <td>6416</td>\n",
       "      <td>False</td>\n",
       "      <td>Meta</td>\n",
       "      <td>6.416</td>\n",
       "      <td>PTU-02048</td>\n",
       "    </tr>\n",
       "  </tbody>\n",
       "</table>\n",
       "</div>"
      ],
      "text/plain": [
       "                                 Plasmid  length  complete Origin  Length_kb  \\\n",
       "134  2162886015|FOassembled-_contig00019   54542     False   Meta     54.542   \n",
       "167            2166559006|FI_contig00380    6542     False   Meta      6.542   \n",
       "243             3300000443|F12B_10029025    5544     False   Meta      5.544   \n",
       "244             3300000443|F12B_10378992    5625     False   Meta      5.625   \n",
       "245             3300000443|F12B_10137984    6416     False   Meta      6.416   \n",
       "\n",
       "           ptu  \n",
       "134  PTU-00461  \n",
       "167  PTU-16841  \n",
       "243  PTU-01385  \n",
       "244  PTU-01391  \n",
       "245  PTU-02048  "
      ]
     },
     "execution_count": 18,
     "metadata": {},
     "output_type": "execute_result"
    }
   ],
   "source": [
    "df[\"ptu\"] = df[\"Plasmid\"].apply(lambda x: ptus_mapping.get(x))\n",
    "# drop ptus with no refsoil or plsdb isolates\n",
    "df = df.dropna(subset=[\"ptu\"])\n",
    "df.head()"
   ]
  },
  {
   "cell_type": "code",
   "execution_count": 31,
   "metadata": {},
   "outputs": [
    {
     "data": {
      "text/plain": [
       "<Axes: ylabel='Frequency'>"
      ]
     },
     "execution_count": 31,
     "metadata": {},
     "output_type": "execute_result"
    },
    {
     "data": {
      "image/png": "[encoded data removed]",
      "text/plain": [
       "<Figure size 640x480 with 1 Axes>"
      ]
     },
     "metadata": {},
     "output_type": "display_data"
    }
   ],
   "source": [
    "df.groupby([\"ptu\", \"Origin\"])[\"Length_kb\"].mean().unstack().plot(\n",
    "    kind=\"hist\",\n",
    "    bins=20,\n",
    "    alpha=0.5,\n",
    ")"
   ]
  },
  {
   "cell_type": "code",
   "execution_count": 34,
   "metadata": {},
   "outputs": [
    {
     "data": {
      "text/html": [
       "<div>\n",
       "<style scoped>\n",
       "    .dataframe tbody tr th:only-of-type {\n",
       "        vertical-align: middle;\n",
       "    }\n",
       "\n",
       "    .dataframe tbody tr th {\n",
       "        vertical-align: top;\n",
       "    }\n",
       "\n",
       "    .dataframe thead th {\n",
       "        text-align: right;\n",
       "    }\n",
       "</style>\n",
       "<table border=\"1\" class=\"dataframe\">\n",
       "  <thead>\n",
       "    <tr style=\"text-align: right;\">\n",
       "      <th></th>\n",
       "      <th>Plasmid</th>\n",
       "      <th>length</th>\n",
       "      <th>complete</th>\n",
       "      <th>Origin</th>\n",
       "      <th>Length_kb</th>\n",
       "      <th>ptu</th>\n",
       "    </tr>\n",
       "  </thead>\n",
       "  <tbody>\n",
       "    <tr>\n",
       "      <th>29597</th>\n",
       "      <td>3300036804|Ga0376679_0000013</td>\n",
       "      <td>261999</td>\n",
       "      <td>False</td>\n",
       "      <td>Meta</td>\n",
       "      <td>261.999</td>\n",
       "      <td>PTU-05774</td>\n",
       "    </tr>\n",
       "    <tr>\n",
       "      <th>47819</th>\n",
       "      <td>3300046458|Ga0495591_000017</td>\n",
       "      <td>238400</td>\n",
       "      <td>True</td>\n",
       "      <td>Meta</td>\n",
       "      <td>238.400</td>\n",
       "      <td>PTU-04722</td>\n",
       "    </tr>\n",
       "    <tr>\n",
       "      <th>48342</th>\n",
       "      <td>3300046471|Ga0495650_0000102</td>\n",
       "      <td>211007</td>\n",
       "      <td>False</td>\n",
       "      <td>Meta</td>\n",
       "      <td>211.007</td>\n",
       "      <td>PTU-00627</td>\n",
       "    </tr>\n",
       "    <tr>\n",
       "      <th>54947</th>\n",
       "      <td>3300046810|Ga0495660_0000006</td>\n",
       "      <td>571713</td>\n",
       "      <td>False</td>\n",
       "      <td>Meta</td>\n",
       "      <td>571.713</td>\n",
       "      <td>PTU-00627</td>\n",
       "    </tr>\n",
       "    <tr>\n",
       "      <th>78075</th>\n",
       "      <td>3300050133|Ga0500025_000003</td>\n",
       "      <td>558804</td>\n",
       "      <td>False</td>\n",
       "      <td>Meta</td>\n",
       "      <td>558.804</td>\n",
       "      <td>PTU-00627</td>\n",
       "    </tr>\n",
       "  </tbody>\n",
       "</table>\n",
       "</div>"
      ],
      "text/plain": [
       "                            Plasmid  length  complete Origin  Length_kb  \\\n",
       "29597  3300036804|Ga0376679_0000013  261999     False   Meta    261.999   \n",
       "47819   3300046458|Ga0495591_000017  238400      True   Meta    238.400   \n",
       "48342  3300046471|Ga0495650_0000102  211007     False   Meta    211.007   \n",
       "54947  3300046810|Ga0495660_0000006  571713     False   Meta    571.713   \n",
       "78075   3300050133|Ga0500025_000003  558804     False   Meta    558.804   \n",
       "\n",
       "             ptu  \n",
       "29597  PTU-05774  \n",
       "47819  PTU-04722  \n",
       "48342  PTU-00627  \n",
       "54947  PTU-00627  \n",
       "78075  PTU-00627  "
      ]
     },
     "execution_count": 34,
     "metadata": {},
     "output_type": "execute_result"
    }
   ],
   "source": [
    "df[(df[\"Length_kb\"] > 200) & (df[\"Origin\"] == \"Meta\")]"
   ]
  },
  {
   "cell_type": "code",
   "execution_count": null,
   "metadata": {},
   "outputs": [],
   "source": []
  }
 ],
 "metadata": {
  "kernelspec": {
   "display_name": "Python 3",
   "language": "python",
   "name": "python3"
  },
  "language_info": {
   "codemirror_mode": {
    "name": "ipython",
    "version": 3
   },
   "file_extension": ".py",
   "mimetype": "text/x-python",
   "name": "python",
   "nbconvert_exporter": "python",
   "pygments_lexer": "ipython3",
   "version": "3.8.15"
  }
 },
 "nbformat": 4,
 "nbformat_minor": 2
}
