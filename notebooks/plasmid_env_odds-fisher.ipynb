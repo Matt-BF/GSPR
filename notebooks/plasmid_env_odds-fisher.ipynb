{
 "cells": [
  {
   "cell_type": "code",
   "execution_count": 1,
   "metadata": {},
   "outputs": [],
   "source": [
    "from collections import defaultdict\n",
    "import pandas as pd\n",
    "import matplotlib.pyplot as plt\n",
    "import seaborn as sns\n",
    "import numpy as np\n",
    "import geopandas as gpd\n",
    "from upsetplot import UpSet\n",
    "from upsetplot import from_indicators\n",
    "import polars as pl\n",
    "\n",
    "# from matplotlib_venn import venn2\n",
    "from scipy import stats\n",
    "import duckdb\n",
    "\n",
    "sns.set_style(\"whitegrid\")"
   ]
  },
  {
   "cell_type": "code",
   "execution_count": 2,
   "metadata": {},
   "outputs": [],
   "source": [
    "with open(\"../ptu_derep/complete_plasmids_derep.txt\") as f:\n",
    "    complete_plasmids = [i.strip() for i in f]"
   ]
  },
  {
   "cell_type": "code",
   "execution_count": 3,
   "metadata": {},
   "outputs": [],
   "source": [
    "with open(\"../ptu_derep/derep_plasmids_ids.txt\") as f:\n",
    "    plasmid_count = defaultdict(int)\n",
    "    plasmid_oids = []\n",
    "    isolate_oids = []\n",
    "    derep_plasmids = [i.strip() for i in f]\n",
    "    derep_plasmids = [i.split(\"|\")[0] if \"IMGPR\" in i else i for i in derep_plasmids]\n",
    "    for i in f:\n",
    "        if i.startswith(\"IMGPR\"):\n",
    "            plasmid_oids.append(i.strip().split(\"_\")[2])\n",
    "            isolate_oids.append(i.strip().split(\"_\")[2])\n",
    "        elif i.startswith(\"PLSDB\") or i.startswith(\"Refsoil\"):\n",
    "            plasmid_oids.append(\"_\".join(i.strip().split(\"_\")[1:]))\n",
    "            isolate_oids.append(\"_\".join(i.strip().split(\"_\")[1:]))\n",
    "        else:\n",
    "            plasmid_oids.append(i.strip().split(\"|\")[0])\n",
    "\n",
    "for i in plasmid_oids:\n",
    "    if i.startswith(\"IMGPR\"):\n",
    "        plasmid_count[i.split(\"_\")[2]] += 1\n",
    "    elif i.startswith(\"PLSDB\") or i.startswith(\"Refsoil\"):\n",
    "        plasmid_count[i] += 1\n",
    "    else:\n",
    "        plasmid_count[i.split(\"|\")[0]] += 1"
   ]
  },
  {
   "cell_type": "code",
   "execution_count": 4,
   "metadata": {},
   "outputs": [],
   "source": [
    "total_plasmids_meta = []\n",
    "total_plasmids_isolate = []\n",
    "for i in derep_plasmids:\n",
    "    if \"PLSDB\" in i or \"Refsoil\" in i or \"IMGPR\" in i:\n",
    "        total_plasmids_isolate.append(i)\n",
    "    else:\n",
    "        total_plasmids_meta.append(i)\n",
    "total_plasmids_meta = len(total_plasmids_meta)\n",
    "total_plasmids_isolate = len(total_plasmids_isolate)"
   ]
  },
  {
   "cell_type": "code",
   "execution_count": 5,
   "metadata": {},
   "outputs": [
    {
     "data": {
      "text/html": [
       "<div>\n",
       "<style scoped>\n",
       "    .dataframe tbody tr th:only-of-type {\n",
       "        vertical-align: middle;\n",
       "    }\n",
       "\n",
       "    .dataframe tbody tr th {\n",
       "        vertical-align: top;\n",
       "    }\n",
       "\n",
       "    .dataframe thead th {\n",
       "        text-align: right;\n",
       "    }\n",
       "</style>\n",
       "<table border=\"1\" class=\"dataframe\">\n",
       "  <thead>\n",
       "    <tr style=\"text-align: right;\">\n",
       "      <th></th>\n",
       "      <th>taxon_oid</th>\n",
       "      <th>Ecosystem Subtype</th>\n",
       "      <th>Latitude</th>\n",
       "      <th>Longitude</th>\n",
       "      <th>Origin</th>\n",
       "      <th>Isolation Country</th>\n",
       "      <th>Ecosystem Subtype Custom</th>\n",
       "      <th>Plasmid Count</th>\n",
       "      <th>soil_class</th>\n",
       "      <th>bdod (cg/cm³)</th>\n",
       "      <th>...</th>\n",
       "      <th>silt (g/kg)</th>\n",
       "      <th>soc (dg/kg)</th>\n",
       "      <th>geometry</th>\n",
       "      <th>index_right</th>\n",
       "      <th>ECO_NAME</th>\n",
       "      <th>WWF_REALM</th>\n",
       "      <th>RealmMHT</th>\n",
       "      <th>WWF_REALM2</th>\n",
       "      <th>WWF_MHTNUM</th>\n",
       "      <th>WWF_MHTNAM</th>\n",
       "    </tr>\n",
       "  </thead>\n",
       "  <tbody>\n",
       "    <tr>\n",
       "      <th>0</th>\n",
       "      <td>3300049023</td>\n",
       "      <td>Grasslands</td>\n",
       "      <td>38.53</td>\n",
       "      <td>-121.78</td>\n",
       "      <td>Meta</td>\n",
       "      <td>USA</td>\n",
       "      <td>Grasslands</td>\n",
       "      <td>36</td>\n",
       "      <td>Luvisols</td>\n",
       "      <td>152.0</td>\n",
       "      <td>...</td>\n",
       "      <td>562.0</td>\n",
       "      <td>335.0</td>\n",
       "      <td>POINT (-121.78 38.53)</td>\n",
       "      <td>761.0</td>\n",
       "      <td>Great Central Valley</td>\n",
       "      <td>NaN</td>\n",
       "      <td>NA12</td>\n",
       "      <td>Nearctic</td>\n",
       "      <td>12.0</td>\n",
       "      <td>Mediterranean Forests, Woodlands and Scrub</td>\n",
       "    </tr>\n",
       "    <tr>\n",
       "      <th>1</th>\n",
       "      <td>3300012840</td>\n",
       "      <td>Grasslands</td>\n",
       "      <td>43.07</td>\n",
       "      <td>-89.40</td>\n",
       "      <td>Meta</td>\n",
       "      <td>USA</td>\n",
       "      <td>Grasslands</td>\n",
       "      <td>21</td>\n",
       "      <td>Luvisols</td>\n",
       "      <td>NaN</td>\n",
       "      <td>...</td>\n",
       "      <td>NaN</td>\n",
       "      <td>NaN</td>\n",
       "      <td>POINT (-89.4 43.07)</td>\n",
       "      <td>187.0</td>\n",
       "      <td>Prairie-Forest Border</td>\n",
       "      <td>NaN</td>\n",
       "      <td>NA4</td>\n",
       "      <td>Nearctic</td>\n",
       "      <td>4.0</td>\n",
       "      <td>Temperate Broadleaf and Mixed Forests</td>\n",
       "    </tr>\n",
       "    <tr>\n",
       "      <th>2</th>\n",
       "      <td>3300039503</td>\n",
       "      <td>Unclassified</td>\n",
       "      <td>63.88</td>\n",
       "      <td>-149.23</td>\n",
       "      <td>Meta</td>\n",
       "      <td>USA</td>\n",
       "      <td>Unclassified</td>\n",
       "      <td>3</td>\n",
       "      <td>Cambisols</td>\n",
       "      <td>60.0</td>\n",
       "      <td>...</td>\n",
       "      <td>496.0</td>\n",
       "      <td>2409.0</td>\n",
       "      <td>POINT (-149.23 63.88)</td>\n",
       "      <td>734.0</td>\n",
       "      <td>Alaska Range</td>\n",
       "      <td>NaN</td>\n",
       "      <td>NA6</td>\n",
       "      <td>Nearctic</td>\n",
       "      <td>6.0</td>\n",
       "      <td>Boreal Forests/Taiga</td>\n",
       "    </tr>\n",
       "    <tr>\n",
       "      <th>3</th>\n",
       "      <td>3300042005</td>\n",
       "      <td>Rhizosphere</td>\n",
       "      <td>41.20</td>\n",
       "      <td>-97.94</td>\n",
       "      <td>Meta</td>\n",
       "      <td>USA</td>\n",
       "      <td>Rhizosphere</td>\n",
       "      <td>6</td>\n",
       "      <td>Kastanozems</td>\n",
       "      <td>135.0</td>\n",
       "      <td>...</td>\n",
       "      <td>242.0</td>\n",
       "      <td>301.0</td>\n",
       "      <td>POINT (-97.94 41.2)</td>\n",
       "      <td>747.0</td>\n",
       "      <td>Central Mixed-Grass Prairie</td>\n",
       "      <td>NaN</td>\n",
       "      <td>NA8</td>\n",
       "      <td>Nearctic</td>\n",
       "      <td>8.0</td>\n",
       "      <td>Temperate Grasslands, Savannas and Shrublands</td>\n",
       "    </tr>\n",
       "    <tr>\n",
       "      <th>4</th>\n",
       "      <td>3300049265</td>\n",
       "      <td>Agricultural land</td>\n",
       "      <td>38.55</td>\n",
       "      <td>-121.87</td>\n",
       "      <td>Meta</td>\n",
       "      <td>USA</td>\n",
       "      <td>Agricultural land</td>\n",
       "      <td>1</td>\n",
       "      <td>Vertisols</td>\n",
       "      <td>158.0</td>\n",
       "      <td>...</td>\n",
       "      <td>508.0</td>\n",
       "      <td>274.0</td>\n",
       "      <td>POINT (-121.87 38.55)</td>\n",
       "      <td>761.0</td>\n",
       "      <td>Great Central Valley</td>\n",
       "      <td>NaN</td>\n",
       "      <td>NA12</td>\n",
       "      <td>Nearctic</td>\n",
       "      <td>12.0</td>\n",
       "      <td>Mediterranean Forests, Woodlands and Scrub</td>\n",
       "    </tr>\n",
       "  </tbody>\n",
       "</table>\n",
       "<p>5 rows × 27 columns</p>\n",
       "</div>"
      ],
      "text/plain": [
       "    taxon_oid  Ecosystem Subtype  Latitude  Longitude Origin  \\\n",
       "0  3300049023         Grasslands     38.53    -121.78   Meta   \n",
       "1  3300012840         Grasslands     43.07     -89.40   Meta   \n",
       "2  3300039503       Unclassified     63.88    -149.23   Meta   \n",
       "3  3300042005        Rhizosphere     41.20     -97.94   Meta   \n",
       "4  3300049265  Agricultural land     38.55    -121.87   Meta   \n",
       "\n",
       "  Isolation Country Ecosystem Subtype Custom  Plasmid Count   soil_class  \\\n",
       "0               USA               Grasslands             36     Luvisols   \n",
       "1               USA               Grasslands             21     Luvisols   \n",
       "2               USA             Unclassified              3    Cambisols   \n",
       "3               USA              Rhizosphere              6  Kastanozems   \n",
       "4               USA        Agricultural land              1    Vertisols   \n",
       "\n",
       "   bdod (cg/cm³)  ...  silt (g/kg)  soc (dg/kg)               geometry  \\\n",
       "0          152.0  ...        562.0        335.0  POINT (-121.78 38.53)   \n",
       "1            NaN  ...          NaN          NaN    POINT (-89.4 43.07)   \n",
       "2           60.0  ...        496.0       2409.0  POINT (-149.23 63.88)   \n",
       "3          135.0  ...        242.0        301.0    POINT (-97.94 41.2)   \n",
       "4          158.0  ...        508.0        274.0  POINT (-121.87 38.55)   \n",
       "\n",
       "   index_right                     ECO_NAME  WWF_REALM  RealmMHT  WWF_REALM2  \\\n",
       "0        761.0         Great Central Valley        NaN      NA12    Nearctic   \n",
       "1        187.0        Prairie-Forest Border        NaN       NA4    Nearctic   \n",
       "2        734.0                 Alaska Range        NaN       NA6    Nearctic   \n",
       "3        747.0  Central Mixed-Grass Prairie        NaN       NA8    Nearctic   \n",
       "4        761.0         Great Central Valley        NaN      NA12    Nearctic   \n",
       "\n",
       "   WWF_MHTNUM                                     WWF_MHTNAM  \n",
       "0        12.0     Mediterranean Forests, Woodlands and Scrub  \n",
       "1         4.0          Temperate Broadleaf and Mixed Forests  \n",
       "2         6.0                           Boreal Forests/Taiga  \n",
       "3         8.0  Temperate Grasslands, Savannas and Shrublands  \n",
       "4        12.0     Mediterranean Forests, Woodlands and Scrub  \n",
       "\n",
       "[5 rows x 27 columns]"
      ]
     },
     "execution_count": 5,
     "metadata": {},
     "output_type": "execute_result"
    }
   ],
   "source": [
    "df_for_map = pd.read_csv(\"../env_corr/taxon_countries.tsv\", sep=\"\\t\")\n",
    "df_for_map[\"taxon_oid\"] = df_for_map[\"taxon_oid\"].astype(str)\n",
    "df_for_map[df_for_map[\"taxon_oid\"].isin(plasmid_oids + isolate_oids)]\n",
    "\n",
    "df_for_map.head()"
   ]
  },
  {
   "cell_type": "code",
   "execution_count": 6,
   "metadata": {},
   "outputs": [],
   "source": [
    "with duckdb.connect(\"../soil_plasmid.db\") as con:\n",
    "    pfams_hits = (\n",
    "        con.sql(\"SELECT * FROM hmm_outputs WHERE Query_name LIKE 'PF%'\").pl().lazy()\n",
    "    )\n",
    "    ptus = con.sql(\"SELECT * FROM ptu_derep\").df()"
   ]
  },
  {
   "cell_type": "code",
   "execution_count": 7,
   "metadata": {},
   "outputs": [],
   "source": [
    "pfams_hits = (\n",
    "    pfams_hits.with_columns(\n",
    "        pl.col(\"Hit_name\")\n",
    "        .map_elements(\n",
    "            lambda x: \"Isolate\"\n",
    "            if any([i for i in [\"IMGPR\", \"PLSDB\", \"Refsoil\"] if i in x])\n",
    "            else \"Meta\"\n",
    "        )\n",
    "        .alias(\"Origin\"),\n",
    "    )\n",
    "    .with_columns(\n",
    "        pl.col(\"Hit_name\")\n",
    "        .map_elements(\n",
    "            lambda x: (\n",
    "                \"_\".join(x.split(\"_\")[0:-1]) if \"IMGPR\" not in x else x.split(\"|\")[0]\n",
    "            )\n",
    "        )\n",
    "        .alias(\"Plasmid_name\")\n",
    "    )\n",
    "    .filter(pl.col(\"Plasmid_name\").is_in(derep_plasmids))\n",
    "    .with_columns(\n",
    "        pl.col(\"Plasmid_name\")\n",
    "        .map_elements(\n",
    "            lambda x: x.split(\"|\")[0] if \"IMGPR\" not in x else x.split(\"_\")[2]\n",
    "        )\n",
    "        .alias(\"taxon_oid\")\n",
    "    )\n",
    "    .collect()\n",
    ")"
   ]
  },
  {
   "cell_type": "code",
   "execution_count": 8,
   "metadata": {},
   "outputs": [
    {
     "data": {
      "text/html": [
       "<div>\n",
       "<style scoped>\n",
       "    .dataframe tbody tr th:only-of-type {\n",
       "        vertical-align: middle;\n",
       "    }\n",
       "\n",
       "    .dataframe tbody tr th {\n",
       "        vertical-align: top;\n",
       "    }\n",
       "\n",
       "    .dataframe thead th {\n",
       "        text-align: right;\n",
       "    }\n",
       "</style>\n",
       "<table border=\"1\" class=\"dataframe\">\n",
       "  <thead>\n",
       "    <tr style=\"text-align: right;\">\n",
       "      <th></th>\n",
       "      <th>Name</th>\n",
       "      <th>Source Database</th>\n",
       "      <th>Type</th>\n",
       "      <th>Integrated Into</th>\n",
       "      <th>Integrated Signatures</th>\n",
       "      <th>GO Terms</th>\n",
       "    </tr>\n",
       "    <tr>\n",
       "      <th>Accession</th>\n",
       "      <th></th>\n",
       "      <th></th>\n",
       "      <th></th>\n",
       "      <th></th>\n",
       "      <th></th>\n",
       "      <th></th>\n",
       "    </tr>\n",
       "  </thead>\n",
       "  <tbody>\n",
       "    <tr>\n",
       "      <th>PF00001</th>\n",
       "      <td>7 transmembrane receptor (rhodopsin family)</td>\n",
       "      <td>pfam</td>\n",
       "      <td>family</td>\n",
       "      <td>IPR000276</td>\n",
       "      <td>NaN</td>\n",
       "      <td>NaN</td>\n",
       "    </tr>\n",
       "    <tr>\n",
       "      <th>PF00002</th>\n",
       "      <td>7 transmembrane receptor (Secretin family)</td>\n",
       "      <td>pfam</td>\n",
       "      <td>family</td>\n",
       "      <td>IPR000832</td>\n",
       "      <td>NaN</td>\n",
       "      <td>NaN</td>\n",
       "    </tr>\n",
       "    <tr>\n",
       "      <th>PF00003</th>\n",
       "      <td>7 transmembrane sweet-taste receptor of 3 GCPR</td>\n",
       "      <td>pfam</td>\n",
       "      <td>domain</td>\n",
       "      <td>IPR017978</td>\n",
       "      <td>NaN</td>\n",
       "      <td>NaN</td>\n",
       "    </tr>\n",
       "    <tr>\n",
       "      <th>PF00004</th>\n",
       "      <td>ATPase family associated with various cellular...</td>\n",
       "      <td>pfam</td>\n",
       "      <td>domain</td>\n",
       "      <td>IPR003959</td>\n",
       "      <td>NaN</td>\n",
       "      <td>NaN</td>\n",
       "    </tr>\n",
       "    <tr>\n",
       "      <th>PF00005</th>\n",
       "      <td>ABC transporter</td>\n",
       "      <td>pfam</td>\n",
       "      <td>domain</td>\n",
       "      <td>IPR003439</td>\n",
       "      <td>NaN</td>\n",
       "      <td>NaN</td>\n",
       "    </tr>\n",
       "  </tbody>\n",
       "</table>\n",
       "</div>"
      ],
      "text/plain": [
       "                                                        Name Source Database  \\\n",
       "Accession                                                                      \n",
       "PF00001          7 transmembrane receptor (rhodopsin family)            pfam   \n",
       "PF00002           7 transmembrane receptor (Secretin family)            pfam   \n",
       "PF00003       7 transmembrane sweet-taste receptor of 3 GCPR            pfam   \n",
       "PF00004    ATPase family associated with various cellular...            pfam   \n",
       "PF00005                                      ABC transporter            pfam   \n",
       "\n",
       "             Type Integrated Into  Integrated Signatures  GO Terms  \n",
       "Accession                                                           \n",
       "PF00001    family       IPR000276                    NaN       NaN  \n",
       "PF00002    family       IPR000832                    NaN       NaN  \n",
       "PF00003    domain       IPR017978                    NaN       NaN  \n",
       "PF00004    domain       IPR003959                    NaN       NaN  \n",
       "PF00005    domain       IPR003439                    NaN       NaN  "
      ]
     },
     "execution_count": 8,
     "metadata": {},
     "output_type": "execute_result"
    }
   ],
   "source": [
    "hit_descriptions = pd.read_csv(\n",
    "    \"../helper_tables/PFAM_NCBIFAM_KOFAM_entries.tsv\", sep=\"\\t\", index_col=0\n",
    ")\n",
    "\n",
    "pfam_descriptions = hit_descriptions[hit_descriptions[\"Source Database\"] == \"pfam\"]\n",
    "\n",
    "kofam_descriptions = hit_descriptions[hit_descriptions[\"Source Database\"] == \"kofam\"]\n",
    "pfam_descriptions.head()"
   ]
  },
  {
   "cell_type": "code",
   "execution_count": 9,
   "metadata": {},
   "outputs": [
    {
     "name": "stderr",
     "output_type": "stream",
     "text": [
      "/tmp/ipykernel_3188244/600427213.py:4: FutureWarning: Series.__getitem__ treating keys as positions is deprecated. In a future version, integer keys will always be treated as labels (consistent with DataFrame behavior). To access a value by position, use `ser.iloc[pos]`\n",
      "  for plasmid in row[2].split(\",\"):\n"
     ]
    }
   ],
   "source": [
    "ptus_mapping = {}\n",
    "\n",
    "for idx, row in ptus.iterrows():\n",
    "    for plasmid in row[2].split(\",\"):\n",
    "        plasmid = plasmid.split(\"|\")[0] if \"IMGPR\" in plasmid else plasmid\n",
    "        ptus_mapping[plasmid] = idx"
   ]
  },
  {
   "cell_type": "code",
   "execution_count": 10,
   "metadata": {},
   "outputs": [
    {
     "data": {
      "text/html": [
       "<div><style>\n",
       ".dataframe > thead > tr,\n",
       ".dataframe > tbody > tr {\n",
       "  text-align: right;\n",
       "  white-space: pre-wrap;\n",
       "}\n",
       "</style>\n",
       "<small>shape: (5, 37)</small><table border=\"1\" class=\"dataframe\"><thead><tr><th>Query_name</th><th>Hit_name</th><th>Hit_evalue</th><th>Hit_score</th><th>HMM_coverage</th><th>Origin</th><th>Plasmid_name</th><th>taxon_oid</th><th>Ecosystem Subtype</th><th>Latitude</th><th>Longitude</th><th>Isolation Country</th><th>Ecosystem Subtype Custom</th><th>soil_class</th><th>bdod (cg/cm³)</th><th>cec (mmol(c)/kg)</th><th>cfvo (cm³/dm³)</th><th>clay (g/kg)</th><th>nitrogen (cg/kg)</th><th>ocd (dg/dm³)</th><th>phh2o (pH*10)</th><th>sand (g/kg)</th><th>silt (g/kg)</th><th>soc (dg/kg)</th><th>geometry</th><th>index_right</th><th>ECO_NAME</th><th>WWF_REALM</th><th>RealmMHT</th><th>WWF_REALM2</th><th>WWF_MHTNUM</th><th>WWF_MHTNAM</th><th>PTU</th><th>Description</th><th>Query_clean</th><th>complete</th><th>ph_class</th></tr><tr><td>str</td><td>str</td><td>f64</td><td>f64</td><td>f64</td><td>str</td><td>str</td><td>str</td><td>str</td><td>f64</td><td>f64</td><td>str</td><td>str</td><td>str</td><td>f64</td><td>f64</td><td>f64</td><td>f64</td><td>f64</td><td>f64</td><td>f64</td><td>f64</td><td>f64</td><td>f64</td><td>str</td><td>f64</td><td>str</td><td>str</td><td>str</td><td>str</td><td>f64</td><td>str</td><td>i64</td><td>str</td><td>str</td><td>bool</td><td>str</td></tr></thead><tbody><tr><td>&quot;PF09299.15&quot;</td><td>&quot;3300025910|Ga0…</td><td>9.1000e-18</td><td>63.19</td><td>0.98</td><td>&quot;Meta&quot;</td><td>&quot;3300025910|Ga0…</td><td>&quot;3300025910&quot;</td><td>&quot;Rhizosphere&quot;</td><td>42.39</td><td>-85.37</td><td>&quot;USA&quot;</td><td>&quot;Rhizosphere&quot;</td><td>&quot;Luvisols&quot;</td><td>135.0</td><td>157.0</td><td>73.0</td><td>167.0</td><td>897.0</td><td>394.0</td><td>58.0</td><td>600.0</td><td>233.0</td><td>606.0</td><td>&quot;POINT (-85.37 …</td><td>182.0</td><td>&quot;North Central …</td><td>null</td><td>&quot;NA4&quot;</td><td>&quot;Nearctic&quot;</td><td>4.0</td><td>&quot;Temperate Broa…</td><td>10972</td><td>&quot;Mu transposase…</td><td>&quot;PF09299&quot;</td><td>false</td><td>&quot;Acid&quot;</td></tr><tr><td>&quot;PF13379.10&quot;</td><td>&quot;3300025911|Ga0…</td><td>8.4900e-17</td><td>60.94</td><td>0.89</td><td>&quot;Meta&quot;</td><td>&quot;3300025911|Ga0…</td><td>&quot;3300025911&quot;</td><td>&quot;Rhizosphere&quot;</td><td>42.39</td><td>-85.37</td><td>&quot;USA&quot;</td><td>&quot;Rhizosphere&quot;</td><td>&quot;Luvisols&quot;</td><td>135.0</td><td>157.0</td><td>73.0</td><td>167.0</td><td>897.0</td><td>394.0</td><td>58.0</td><td>600.0</td><td>233.0</td><td>606.0</td><td>&quot;POINT (-85.37 …</td><td>182.0</td><td>&quot;North Central …</td><td>null</td><td>&quot;NA4&quot;</td><td>&quot;Nearctic&quot;</td><td>4.0</td><td>&quot;Temperate Broa…</td><td>14106</td><td>&quot;NMT1-like fami…</td><td>&quot;PF13379&quot;</td><td>false</td><td>&quot;Acid&quot;</td></tr><tr><td>&quot;PF00345.24&quot;</td><td>&quot;3300025909|Ga0…</td><td>8.5900e-18</td><td>63.64</td><td>0.98</td><td>&quot;Meta&quot;</td><td>&quot;3300025909|Ga0…</td><td>&quot;3300025909&quot;</td><td>&quot;Rhizosphere&quot;</td><td>42.39</td><td>-85.37</td><td>&quot;USA&quot;</td><td>&quot;Rhizosphere&quot;</td><td>&quot;Luvisols&quot;</td><td>135.0</td><td>157.0</td><td>73.0</td><td>167.0</td><td>897.0</td><td>394.0</td><td>58.0</td><td>600.0</td><td>233.0</td><td>606.0</td><td>&quot;POINT (-85.37 …</td><td>182.0</td><td>&quot;North Central …</td><td>null</td><td>&quot;NA4&quot;</td><td>&quot;Nearctic&quot;</td><td>4.0</td><td>&quot;Temperate Broa…</td><td>4123</td><td>&quot;Pili and flage…</td><td>&quot;PF00345&quot;</td><td>false</td><td>&quot;Acid&quot;</td></tr><tr><td>&quot;PF02195.22&quot;</td><td>&quot;3300025912|Ga0…</td><td>4.5400e-25</td><td>86.78</td><td>0.98</td><td>&quot;Meta&quot;</td><td>&quot;3300025912|Ga0…</td><td>&quot;3300025912&quot;</td><td>&quot;Rhizosphere&quot;</td><td>42.39</td><td>-85.37</td><td>&quot;USA&quot;</td><td>&quot;Rhizosphere&quot;</td><td>&quot;Luvisols&quot;</td><td>135.0</td><td>157.0</td><td>73.0</td><td>167.0</td><td>897.0</td><td>394.0</td><td>58.0</td><td>600.0</td><td>233.0</td><td>606.0</td><td>&quot;POINT (-85.37 …</td><td>182.0</td><td>&quot;North Central …</td><td>null</td><td>&quot;NA4&quot;</td><td>&quot;Nearctic&quot;</td><td>4.0</td><td>&quot;Temperate Broa…</td><td>6070</td><td>&quot;ParB/Sulfiredo…</td><td>&quot;PF02195&quot;</td><td>false</td><td>&quot;Acid&quot;</td></tr><tr><td>&quot;PF00989.29&quot;</td><td>&quot;3300025911|Ga0…</td><td>3.4300e-29</td><td>100.3</td><td>0.96</td><td>&quot;Meta&quot;</td><td>&quot;3300025911|Ga0…</td><td>&quot;3300025911&quot;</td><td>&quot;Rhizosphere&quot;</td><td>42.39</td><td>-85.37</td><td>&quot;USA&quot;</td><td>&quot;Rhizosphere&quot;</td><td>&quot;Luvisols&quot;</td><td>135.0</td><td>157.0</td><td>73.0</td><td>167.0</td><td>897.0</td><td>394.0</td><td>58.0</td><td>600.0</td><td>233.0</td><td>606.0</td><td>&quot;POINT (-85.37 …</td><td>182.0</td><td>&quot;North Central …</td><td>null</td><td>&quot;NA4&quot;</td><td>&quot;Nearctic&quot;</td><td>4.0</td><td>&quot;Temperate Broa…</td><td>2832</td><td>&quot;PAS fold&quot;</td><td>&quot;PF00989&quot;</td><td>false</td><td>&quot;Acid&quot;</td></tr></tbody></table></div>"
      ],
      "text/plain": [
       "shape: (5, 37)\n",
       "┌────────────┬───────────┬───────────┬───────────┬───┬───────────┬───────────┬──────────┬──────────┐\n",
       "│ Query_name ┆ Hit_name  ┆ Hit_evalu ┆ Hit_score ┆ … ┆ Descripti ┆ Query_cle ┆ complete ┆ ph_class │\n",
       "│ ---        ┆ ---       ┆ e         ┆ ---       ┆   ┆ on        ┆ an        ┆ ---      ┆ ---      │\n",
       "│ str        ┆ str       ┆ ---       ┆ f64       ┆   ┆ ---       ┆ ---       ┆ bool     ┆ str      │\n",
       "│            ┆           ┆ f64       ┆           ┆   ┆ str       ┆ str       ┆          ┆          │\n",
       "╞════════════╪═══════════╪═══════════╪═══════════╪═══╪═══════════╪═══════════╪══════════╪══════════╡\n",
       "│ PF09299.15 ┆ 330002591 ┆ 9.1000e-1 ┆ 63.19     ┆ … ┆ Mu transp ┆ PF09299   ┆ false    ┆ Acid     │\n",
       "│            ┆ 0|Ga02076 ┆ 8         ┆           ┆   ┆ osase,    ┆           ┆          ┆          │\n",
       "│            ┆ 84_100013 ┆           ┆           ┆   ┆ C-termina ┆           ┆          ┆          │\n",
       "│            ┆ 67_9      ┆           ┆           ┆   ┆ l         ┆           ┆          ┆          │\n",
       "│ PF13379.10 ┆ 330002591 ┆ 8.4900e-1 ┆ 60.94     ┆ … ┆ NMT1-like ┆ PF13379   ┆ false    ┆ Acid     │\n",
       "│            ┆ 1|Ga02076 ┆ 7         ┆           ┆   ┆ family    ┆           ┆          ┆          │\n",
       "│            ┆ 54_100034 ┆           ┆           ┆   ┆           ┆           ┆          ┆          │\n",
       "│            ┆ 56_2      ┆           ┆           ┆   ┆           ┆           ┆          ┆          │\n",
       "│ PF00345.24 ┆ 330002590 ┆ 8.5900e-1 ┆ 63.64     ┆ … ┆ Pili and  ┆ PF00345   ┆ false    ┆ Acid     │\n",
       "│            ┆ 9|Ga02077 ┆ 8         ┆           ┆   ┆ flagellar ┆           ┆          ┆          │\n",
       "│            ┆ 05_100003 ┆           ┆           ┆   ┆ -assembly ┆           ┆          ┆          │\n",
       "│            ┆ 22_36     ┆           ┆           ┆   ┆ chap…     ┆           ┆          ┆          │\n",
       "│ PF02195.22 ┆ 330002591 ┆ 4.5400e-2 ┆ 86.78     ┆ … ┆ ParB/Sulf ┆ PF02195   ┆ false    ┆ Acid     │\n",
       "│            ┆ 2|Ga02077 ┆ 5         ┆           ┆   ┆ iredoxin  ┆           ┆          ┆          │\n",
       "│            ┆ 07_100016 ┆           ┆           ┆   ┆ domain    ┆           ┆          ┆          │\n",
       "│            ┆ 18_10     ┆           ┆           ┆   ┆           ┆           ┆          ┆          │\n",
       "│ PF00989.29 ┆ 330002591 ┆ 3.4300e-2 ┆ 100.3     ┆ … ┆ PAS fold  ┆ PF00989   ┆ false    ┆ Acid     │\n",
       "│            ┆ 1|Ga02076 ┆ 9         ┆           ┆   ┆           ┆           ┆          ┆          │\n",
       "│            ┆ 54_100004 ┆           ┆           ┆   ┆           ┆           ┆          ┆          │\n",
       "│            ┆ 66_1      ┆           ┆           ┆   ┆           ┆           ┆          ┆          │\n",
       "└────────────┴───────────┴───────────┴───────────┴───┴───────────┴───────────┴──────────┴──────────┘"
      ]
     },
     "execution_count": 10,
     "metadata": {},
     "output_type": "execute_result"
    }
   ],
   "source": [
    "pfams_hits = (\n",
    "    pfams_hits.join(pl.from_pandas(df_for_map), on=\"taxon_oid\")\n",
    "    .with_columns(\n",
    "        [\n",
    "            pl.col(\"Plasmid_name\")\n",
    "            .map_elements(lambda x: ptus_mapping.get(x))\n",
    "            .alias(\"PTU\"),\n",
    "            pl.col(\"Query_name\")\n",
    "            .map_elements(lambda x: pfam_descriptions.loc[x.split(\".\")[0], \"Name\"])\n",
    "            .alias(\"Description\"),\n",
    "            pl.col(\"Query_name\")\n",
    "            .map_elements(lambda x: x.split(\".\")[0])\n",
    "            .alias(\"Query_clean\"),\n",
    "            pl.col(\"Plasmid_name\").is_in(complete_plasmids).alias(\"complete\"),\n",
    "            pl.col(\"phh2o (pH*10)\")\n",
    "            .map_elements(\n",
    "                lambda x: \"Acid\" if x <= 60 else \"Basic\" if x >= 80 else \"Neutral\"\n",
    "            )\n",
    "            .alias(\"ph_class\"),\n",
    "        ]\n",
    "    )\n",
    "    .drop(\n",
    "        [\n",
    "            \"PTU Count\",\n",
    "            \"PTU Count Bins\",\n",
    "            \"Plasmid Count Bins\",\n",
    "            \"Plasmid Count\",\n",
    "            \"Origin_right\",\n",
    "        ]\n",
    "    )\n",
    "    .filter(pl.col(\"PTU\").is_not_null())\n",
    ")\n",
    "\n",
    "pfams_hits.head()"
   ]
  },
  {
   "cell_type": "markdown",
   "metadata": {},
   "source": [
    "---\n",
    "## General PFam enrichment"
   ]
  },
  {
   "cell_type": "markdown",
   "metadata": {},
   "source": [
    "Isso pq os plasmídeos de isolado tendem a ser maiores, então a chance de eles terem um Pfam X é maior. Oq a gente quer saber é se a chance de um gene aleatório de um plasmídeo meta ter o Pfam X é maior do que a chance de um gene aleatório de plasmídeo isolado\n",
    "\n",
    "Eu faria uma outra modificação, eu calcularia isso por plasmídeo. Pra cada plasmídeo vc vai calcular: Número de genes com Pfam X / número de genes total\n",
    "\n",
    "assim, vc fica com um número entre 0 a 1 pra cada plasmídeo, pra cada pfam\n",
    "\n",
    "depois, pra cada pfam, vc pode fazer um teste T pra ver se tem diferença das médias"
   ]
  },
  {
   "cell_type": "markdown",
   "metadata": {},
   "source": [
    "Fazer para cada PF 0 e 1 de plasmídeo"
   ]
  },
  {
   "cell_type": "code",
   "execution_count": 11,
   "metadata": {},
   "outputs": [],
   "source": [
    "test = (\n",
    "    (\n",
    "        pfams_hits.unique(subset=[\"Query_clean\", \"Plasmid_name\"])\n",
    "        .group_by([\"Query_clean\", \"Origin\"])\n",
    "        .agg(pl.col(\"Plasmid_name\").n_unique().alias(\"n_plasmids\"))\n",
    "    )\n",
    "    .pivot(index=\"Query_clean\", columns=\"Origin\", values=\"n_plasmids\")\n",
    "    .fill_null(0)\n",
    "    .with_columns(\n",
    "        [\n",
    "            pl.col(\"Meta\")\n",
    "            .map_elements(lambda x: total_plasmids_meta - x)\n",
    "            .alias(\"Meta_no\"),\n",
    "            pl.col(\"Isolate\")\n",
    "            .map_elements(lambda x: total_plasmids_isolate - x)\n",
    "            .alias(\"Isolate_no\"),\n",
    "        ]\n",
    "    )\n",
    ")"
   ]
  },
  {
   "cell_type": "code",
   "execution_count": 12,
   "metadata": {},
   "outputs": [
    {
     "data": {
      "text/html": [
       "<div><style>\n",
       ".dataframe > thead > tr,\n",
       ".dataframe > tbody > tr {\n",
       "  text-align: right;\n",
       "  white-space: pre-wrap;\n",
       "}\n",
       "</style>\n",
       "<small>shape: (1, 5)</small><table border=\"1\" class=\"dataframe\"><thead><tr><th>Query_clean</th><th>Isolate</th><th>Meta</th><th>Meta_no</th><th>Isolate_no</th></tr><tr><td>str</td><td>u32</td><td>u32</td><td>i64</td><td>i64</td></tr></thead><tbody><tr><td>&quot;PF08017&quot;</td><td>1</td><td>0</td><td>90200</td><td>8080</td></tr></tbody></table></div>"
      ],
      "text/plain": [
       "shape: (1, 5)\n",
       "┌─────────────┬─────────┬──────┬─────────┬────────────┐\n",
       "│ Query_clean ┆ Isolate ┆ Meta ┆ Meta_no ┆ Isolate_no │\n",
       "│ ---         ┆ ---     ┆ ---  ┆ ---     ┆ ---        │\n",
       "│ str         ┆ u32     ┆ u32  ┆ i64     ┆ i64        │\n",
       "╞═════════════╪═════════╪══════╪═════════╪════════════╡\n",
       "│ PF08017     ┆ 1       ┆ 0    ┆ 90200   ┆ 8080       │\n",
       "└─────────────┴─────────┴──────┴─────────┴────────────┘"
      ]
     },
     "execution_count": 12,
     "metadata": {},
     "output_type": "execute_result"
    }
   ],
   "source": [
    "test.filter(pl.col(\"Query_clean\") == \"PF08017\")"
   ]
  },
  {
   "cell_type": "code",
   "execution_count": 13,
   "metadata": {},
   "outputs": [],
   "source": [
    "def calc_odds_ratio(element_type):\n",
    "    contingency_df = test.filter(pl.col(\"Query_clean\").eq(element_type))\n",
    "    meta_with_element = contingency_df.get_column(\"Meta\")[0]\n",
    "    isolate_with_element = contingency_df.get_column(\"Isolate\")[0]\n",
    "\n",
    "    meta_without_element = contingency_df.get_column(\"Meta_no\")[0]\n",
    "    isolate_without_element = contingency_df.get_column(\"Isolate_no\")[0]\n",
    "\n",
    "    # without pseudo counts for fisher exact\n",
    "    table_fisher = np.array(\n",
    "        [\n",
    "            [meta_with_element, isolate_with_element],\n",
    "            [\n",
    "                meta_without_element,\n",
    "                isolate_without_element,\n",
    "            ],\n",
    "        ]\n",
    "    )\n",
    "\n",
    "    fisher_exact_p = stats.fisher_exact(table_fisher).pvalue\n",
    "    res = stats.contingency.odds_ratio(table_fisher + 1)\n",
    "\n",
    "    return (\n",
    "        float(table_fisher[0][0]),\n",
    "        float(table_fisher[0][1]),\n",
    "        np.log(res.statistic),\n",
    "        fisher_exact_p,\n",
    "    )"
   ]
  },
  {
   "cell_type": "code",
   "execution_count": 14,
   "metadata": {},
   "outputs": [
    {
     "data": {
      "text/html": [
       "<div><style>\n",
       ".dataframe > thead > tr,\n",
       ".dataframe > tbody > tr {\n",
       "  text-align: right;\n",
       "  white-space: pre-wrap;\n",
       "}\n",
       "</style>\n",
       "<small>shape: (5, 5)</small><table border=\"1\" class=\"dataframe\"><thead><tr><th>Query_clean</th><th>Meta</th><th>Isolate</th><th>log_odds</th><th>p</th></tr><tr><td>str</td><td>f64</td><td>f64</td><td>f64</td><td>f64</td></tr></thead><tbody><tr><td>&quot;PF17954&quot;</td><td>82.0</td><td>85.0</td><td>-2.457513</td><td>4.5753e-47</td></tr><tr><td>&quot;PF09615&quot;</td><td>13.0</td><td>3.0</td><td>-1.159846</td><td>0.139318</td></tr><tr><td>&quot;PF13750&quot;</td><td>19.0</td><td>20.0</td><td>-2.4634</td><td>2.8762e-12</td></tr><tr><td>&quot;PF12399&quot;</td><td>324.0</td><td>508.0</td><td>-2.922269</td><td>0.0</td></tr><tr><td>&quot;PF00460&quot;</td><td>57.0</td><td>46.0</td><td>-2.207132</td><td>4.1928e-23</td></tr></tbody></table></div>"
      ],
      "text/plain": [
       "shape: (5, 5)\n",
       "┌─────────────┬───────┬─────────┬───────────┬────────────┐\n",
       "│ Query_clean ┆ Meta  ┆ Isolate ┆ log_odds  ┆ p          │\n",
       "│ ---         ┆ ---   ┆ ---     ┆ ---       ┆ ---        │\n",
       "│ str         ┆ f64   ┆ f64     ┆ f64       ┆ f64        │\n",
       "╞═════════════╪═══════╪═════════╪═══════════╪════════════╡\n",
       "│ PF17954     ┆ 82.0  ┆ 85.0    ┆ -2.457513 ┆ 4.5753e-47 │\n",
       "│ PF09615     ┆ 13.0  ┆ 3.0     ┆ -1.159846 ┆ 0.139318   │\n",
       "│ PF13750     ┆ 19.0  ┆ 20.0    ┆ -2.4634   ┆ 2.8762e-12 │\n",
       "│ PF12399     ┆ 324.0 ┆ 508.0   ┆ -2.922269 ┆ 0.0        │\n",
       "│ PF00460     ┆ 57.0  ┆ 46.0    ┆ -2.207132 ┆ 4.1928e-23 │\n",
       "└─────────────┴───────┴─────────┴───────────┴────────────┘"
      ]
     },
     "execution_count": 14,
     "metadata": {},
     "output_type": "execute_result"
    }
   ],
   "source": [
    "a = (\n",
    "    pfams_hits.select(pl.col(\"Query_clean\").unique())\n",
    "    .with_columns(results=pl.col(\"Query_clean\").map_elements(calc_odds_ratio))\n",
    "    .with_columns(pl.col(\"results\").list.to_struct())\n",
    "    .unnest(\"results\")\n",
    "    .rename(\n",
    "        {\"field_0\": \"Meta\", \"field_1\": \"Isolate\", \"field_2\": \"log_odds\", \"field_3\": \"p\"}\n",
    "    )\n",
    ")\n",
    "\n",
    "a.head()"
   ]
  },
  {
   "cell_type": "code",
   "execution_count": 15,
   "metadata": {},
   "outputs": [
    {
     "data": {
      "text/html": [
       "<div><style>\n",
       ".dataframe > thead > tr,\n",
       ".dataframe > tbody > tr {\n",
       "  text-align: right;\n",
       "  white-space: pre-wrap;\n",
       "}\n",
       "</style>\n",
       "<small>shape: (5, 6)</small><table border=\"1\" class=\"dataframe\"><thead><tr><th>Query_clean</th><th>Meta</th><th>Isolate</th><th>log_odds</th><th>p</th><th>padj</th></tr><tr><td>str</td><td>f64</td><td>f64</td><td>f64</td><td>f64</td><td>f64</td></tr></thead><tbody><tr><td>&quot;PF17954&quot;</td><td>82.0</td><td>85.0</td><td>-2.457513</td><td>4.5753e-47</td><td>7.0527e-47</td></tr><tr><td>&quot;PF12399&quot;</td><td>324.0</td><td>508.0</td><td>-2.922269</td><td>0.0</td><td>0.0</td></tr><tr><td>&quot;PF00460&quot;</td><td>57.0</td><td>46.0</td><td>-2.207132</td><td>4.1928e-23</td><td>5.0967e-23</td></tr><tr><td>&quot;PF20398&quot;</td><td>61.0</td><td>99.0</td><td>-2.902013</td><td>1.3158e-65</td><td>2.4810e-65</td></tr><tr><td>&quot;PF01757&quot;</td><td>429.0</td><td>484.0</td><td>-2.589689</td><td>2.7568e-274</td><td>1.9465e-273</td></tr></tbody></table></div>"
      ],
      "text/plain": [
       "shape: (5, 6)\n",
       "┌─────────────┬───────┬─────────┬───────────┬─────────────┬─────────────┐\n",
       "│ Query_clean ┆ Meta  ┆ Isolate ┆ log_odds  ┆ p           ┆ padj        │\n",
       "│ ---         ┆ ---   ┆ ---     ┆ ---       ┆ ---         ┆ ---         │\n",
       "│ str         ┆ f64   ┆ f64     ┆ f64       ┆ f64         ┆ f64         │\n",
       "╞═════════════╪═══════╪═════════╪═══════════╪═════════════╪═════════════╡\n",
       "│ PF17954     ┆ 82.0  ┆ 85.0    ┆ -2.457513 ┆ 4.5753e-47  ┆ 7.0527e-47  │\n",
       "│ PF12399     ┆ 324.0 ┆ 508.0   ┆ -2.922269 ┆ 0.0         ┆ 0.0         │\n",
       "│ PF00460     ┆ 57.0  ┆ 46.0    ┆ -2.207132 ┆ 4.1928e-23  ┆ 5.0967e-23  │\n",
       "│ PF20398     ┆ 61.0  ┆ 99.0    ┆ -2.902013 ┆ 1.3158e-65  ┆ 2.4810e-65  │\n",
       "│ PF01757     ┆ 429.0 ┆ 484.0   ┆ -2.589689 ┆ 2.7568e-274 ┆ 1.9465e-273 │\n",
       "└─────────────┴───────┴─────────┴───────────┴─────────────┴─────────────┘"
      ]
     },
     "execution_count": 15,
     "metadata": {},
     "output_type": "execute_result"
    }
   ],
   "source": [
    "b = a.filter(pl.col(\"Meta\") + pl.col(\"Isolate\") >= 100)\n",
    "p_adjusted = stats.false_discovery_control(b[\"p\"])\n",
    "b = b.with_columns(padj=p_adjusted)\n",
    "b.head()"
   ]
  },
  {
   "cell_type": "code",
   "execution_count": 16,
   "metadata": {},
   "outputs": [],
   "source": [
    "#b.write_csv(\"pfam_odds.tsv\", separator=\"\\t\")"
   ]
  },
  {
   "cell_type": "markdown",
   "metadata": {},
   "source": [
    "---"
   ]
  },
  {
   "cell_type": "markdown",
   "metadata": {},
   "source": [
    "### Kofam analysis"
   ]
  },
  {
   "cell_type": "code",
   "execution_count": 27,
   "metadata": {},
   "outputs": [],
   "source": [
    "with duckdb.connect(\"../soil_plasmid.db\") as con:\n",
    "    kofam_hits = (\n",
    "        con.sql(\"SELECT * FROM hmm_outputs WHERE Query_name LIKE 'K%'\").pl().lazy()\n",
    "    )"
   ]
  },
  {
   "cell_type": "code",
   "execution_count": 28,
   "metadata": {},
   "outputs": [
    {
     "data": {
      "text/html": [
       "<div><style>\n",
       ".dataframe > thead > tr,\n",
       ".dataframe > tbody > tr {\n",
       "  text-align: right;\n",
       "  white-space: pre-wrap;\n",
       "}\n",
       "</style>\n",
       "<small>shape: (5, 36)</small><table border=\"1\" class=\"dataframe\"><thead><tr><th>Query_name</th><th>Hit_name</th><th>Hit_evalue</th><th>Hit_score</th><th>HMM_coverage</th><th>Origin</th><th>Plasmid_name</th><th>taxon_oid</th><th>complete</th><th>PTU</th><th>Ecosystem Subtype</th><th>Latitude</th><th>Longitude</th><th>Origin_right</th><th>Isolation Country</th><th>Ecosystem Subtype Custom</th><th>Plasmid Count</th><th>soil_class</th><th>bdod (cg/cm³)</th><th>cec (mmol(c)/kg)</th><th>cfvo (cm³/dm³)</th><th>clay (g/kg)</th><th>nitrogen (cg/kg)</th><th>ocd (dg/dm³)</th><th>phh2o (pH*10)</th><th>sand (g/kg)</th><th>silt (g/kg)</th><th>soc (dg/kg)</th><th>geometry</th><th>index_right</th><th>ECO_NAME</th><th>WWF_REALM</th><th>RealmMHT</th><th>WWF_REALM2</th><th>WWF_MHTNUM</th><th>WWF_MHTNAM</th></tr><tr><td>str</td><td>str</td><td>f64</td><td>f64</td><td>f64</td><td>str</td><td>str</td><td>str</td><td>bool</td><td>i64</td><td>str</td><td>f64</td><td>f64</td><td>str</td><td>str</td><td>str</td><td>i64</td><td>str</td><td>f64</td><td>f64</td><td>f64</td><td>f64</td><td>f64</td><td>f64</td><td>f64</td><td>f64</td><td>f64</td><td>f64</td><td>str</td><td>f64</td><td>str</td><td>str</td><td>str</td><td>str</td><td>f64</td><td>str</td></tr></thead><tbody><tr><td>&quot;K05847&quot;</td><td>&quot;3300025728|Ga0…</td><td>4.0800e-90</td><td>302.13</td><td>0.73</td><td>&quot;Meta&quot;</td><td>&quot;3300025728|Ga0…</td><td>&quot;3300025728&quot;</td><td>false</td><td>12992</td><td>&quot;Rhizosphere&quot;</td><td>42.39</td><td>-85.37</td><td>&quot;Meta&quot;</td><td>&quot;USA&quot;</td><td>&quot;Rhizosphere&quot;</td><td>146</td><td>&quot;Luvisols&quot;</td><td>135.0</td><td>157.0</td><td>73.0</td><td>167.0</td><td>897.0</td><td>394.0</td><td>58.0</td><td>600.0</td><td>233.0</td><td>606.0</td><td>&quot;POINT (-85.37 …</td><td>182.0</td><td>&quot;North Central …</td><td>null</td><td>&quot;NA4&quot;</td><td>&quot;Nearctic&quot;</td><td>4.0</td><td>&quot;Temperate Broa…</td></tr><tr><td>&quot;K05847&quot;</td><td>&quot;3300025728|Ga0…</td><td>8.0900e-41</td><td>139.81</td><td>0.67</td><td>&quot;Meta&quot;</td><td>&quot;3300025728|Ga0…</td><td>&quot;3300025728&quot;</td><td>false</td><td>3288</td><td>&quot;Rhizosphere&quot;</td><td>42.39</td><td>-85.37</td><td>&quot;Meta&quot;</td><td>&quot;USA&quot;</td><td>&quot;Rhizosphere&quot;</td><td>146</td><td>&quot;Luvisols&quot;</td><td>135.0</td><td>157.0</td><td>73.0</td><td>167.0</td><td>897.0</td><td>394.0</td><td>58.0</td><td>600.0</td><td>233.0</td><td>606.0</td><td>&quot;POINT (-85.37 …</td><td>182.0</td><td>&quot;North Central …</td><td>null</td><td>&quot;NA4&quot;</td><td>&quot;Nearctic&quot;</td><td>4.0</td><td>&quot;Temperate Broa…</td></tr><tr><td>&quot;K05874&quot;</td><td>&quot;3300025735|Ga0…</td><td>1.7900e-144</td><td>482.27</td><td>0.83</td><td>&quot;Meta&quot;</td><td>&quot;3300025735|Ga0…</td><td>&quot;3300025735&quot;</td><td>true</td><td>73</td><td>&quot;Rhizosphere&quot;</td><td>42.39</td><td>-85.37</td><td>&quot;Meta&quot;</td><td>&quot;USA&quot;</td><td>&quot;Rhizosphere&quot;</td><td>168</td><td>&quot;Luvisols&quot;</td><td>135.0</td><td>157.0</td><td>73.0</td><td>167.0</td><td>897.0</td><td>394.0</td><td>58.0</td><td>600.0</td><td>233.0</td><td>606.0</td><td>&quot;POINT (-85.37 …</td><td>182.0</td><td>&quot;North Central …</td><td>null</td><td>&quot;NA4&quot;</td><td>&quot;Nearctic&quot;</td><td>4.0</td><td>&quot;Temperate Broa…</td></tr><tr><td>&quot;K05877&quot;</td><td>&quot;3300025728|Ga0…</td><td>1.9500e-118</td><td>395.79</td><td>0.95</td><td>&quot;Meta&quot;</td><td>&quot;3300025728|Ga0…</td><td>&quot;3300025728&quot;</td><td>false</td><td>12058</td><td>&quot;Rhizosphere&quot;</td><td>42.39</td><td>-85.37</td><td>&quot;Meta&quot;</td><td>&quot;USA&quot;</td><td>&quot;Rhizosphere&quot;</td><td>146</td><td>&quot;Luvisols&quot;</td><td>135.0</td><td>157.0</td><td>73.0</td><td>167.0</td><td>897.0</td><td>394.0</td><td>58.0</td><td>600.0</td><td>233.0</td><td>606.0</td><td>&quot;POINT (-85.37 …</td><td>182.0</td><td>&quot;North Central …</td><td>null</td><td>&quot;NA4&quot;</td><td>&quot;Nearctic&quot;</td><td>4.0</td><td>&quot;Temperate Broa…</td></tr><tr><td>&quot;K05877&quot;</td><td>&quot;3300025735|Ga0…</td><td>1.4400e-55</td><td>188.32</td><td>0.76</td><td>&quot;Meta&quot;</td><td>&quot;3300025735|Ga0…</td><td>&quot;3300025735&quot;</td><td>false</td><td>29571</td><td>&quot;Rhizosphere&quot;</td><td>42.39</td><td>-85.37</td><td>&quot;Meta&quot;</td><td>&quot;USA&quot;</td><td>&quot;Rhizosphere&quot;</td><td>168</td><td>&quot;Luvisols&quot;</td><td>135.0</td><td>157.0</td><td>73.0</td><td>167.0</td><td>897.0</td><td>394.0</td><td>58.0</td><td>600.0</td><td>233.0</td><td>606.0</td><td>&quot;POINT (-85.37 …</td><td>182.0</td><td>&quot;North Central …</td><td>null</td><td>&quot;NA4&quot;</td><td>&quot;Nearctic&quot;</td><td>4.0</td><td>&quot;Temperate Broa…</td></tr></tbody></table></div>"
      ],
      "text/plain": [
       "shape: (5, 36)\n",
       "┌───────────┬───────────┬───────────┬───────────┬───┬──────────┬───────────┬───────────┬───────────┐\n",
       "│ Query_nam ┆ Hit_name  ┆ Hit_evalu ┆ Hit_score ┆ … ┆ RealmMHT ┆ WWF_REALM ┆ WWF_MHTNU ┆ WWF_MHTNA │\n",
       "│ e         ┆ ---       ┆ e         ┆ ---       ┆   ┆ ---      ┆ 2         ┆ M         ┆ M         │\n",
       "│ ---       ┆ str       ┆ ---       ┆ f64       ┆   ┆ str      ┆ ---       ┆ ---       ┆ ---       │\n",
       "│ str       ┆           ┆ f64       ┆           ┆   ┆          ┆ str       ┆ f64       ┆ str       │\n",
       "╞═══════════╪═══════════╪═══════════╪═══════════╪═══╪══════════╪═══════════╪═══════════╪═══════════╡\n",
       "│ K05847    ┆ 330002572 ┆ 4.0800e-9 ┆ 302.13    ┆ … ┆ NA4      ┆ Nearctic  ┆ 4.0       ┆ Temperate │\n",
       "│           ┆ 8|Ga02076 ┆ 0         ┆           ┆   ┆          ┆           ┆           ┆ Broadleaf │\n",
       "│           ┆ 55_100004 ┆           ┆           ┆   ┆          ┆           ┆           ┆ and Mixed │\n",
       "│           ┆ 9_228     ┆           ┆           ┆   ┆          ┆           ┆           ┆ Fo…       │\n",
       "│ K05847    ┆ 330002572 ┆ 8.0900e-4 ┆ 139.81    ┆ … ┆ NA4      ┆ Nearctic  ┆ 4.0       ┆ Temperate │\n",
       "│           ┆ 8|Ga02076 ┆ 1         ┆           ┆   ┆          ┆           ┆           ┆ Broadleaf │\n",
       "│           ┆ 55_100023 ┆           ┆           ┆   ┆          ┆           ┆           ┆ and Mixed │\n",
       "│           ┆ 8_50      ┆           ┆           ┆   ┆          ┆           ┆           ┆ Fo…       │\n",
       "│ K05874    ┆ 330002573 ┆ 1.7900e-1 ┆ 482.27    ┆ … ┆ NA4      ┆ Nearctic  ┆ 4.0       ┆ Temperate │\n",
       "│           ┆ 5|Ga02077 ┆ 44        ┆           ┆   ┆          ┆           ┆           ┆ Broadleaf │\n",
       "│           ┆ 13_100011 ┆           ┆           ┆   ┆          ┆           ┆           ┆ and Mixed │\n",
       "│           ┆ 6_91      ┆           ┆           ┆   ┆          ┆           ┆           ┆ Fo…       │\n",
       "│ K05877    ┆ 330002572 ┆ 1.9500e-1 ┆ 395.79    ┆ … ┆ NA4      ┆ Nearctic  ┆ 4.0       ┆ Temperate │\n",
       "│           ┆ 8|Ga02076 ┆ 18        ┆           ┆   ┆          ┆           ┆           ┆ Broadleaf │\n",
       "│           ┆ 55_100085 ┆           ┆           ┆   ┆          ┆           ┆           ┆ and Mixed │\n",
       "│           ┆ 0_32      ┆           ┆           ┆   ┆          ┆           ┆           ┆ Fo…       │\n",
       "│ K05877    ┆ 330002573 ┆ 1.4400e-5 ┆ 188.32    ┆ … ┆ NA4      ┆ Nearctic  ┆ 4.0       ┆ Temperate │\n",
       "│           ┆ 5|Ga02077 ┆ 5         ┆           ┆   ┆          ┆           ┆           ┆ Broadleaf │\n",
       "│           ┆ 13_100002 ┆           ┆           ┆   ┆          ┆           ┆           ┆ and Mixed │\n",
       "│           ┆ 0_142     ┆           ┆           ┆   ┆          ┆           ┆           ┆ Fo…       │\n",
       "└───────────┴───────────┴───────────┴───────────┴───┴──────────┴───────────┴───────────┴───────────┘"
      ]
     },
     "execution_count": 28,
     "metadata": {},
     "output_type": "execute_result"
    }
   ],
   "source": [
    "# 2min 25s computation\n",
    "kofam_hits = (\n",
    "    kofam_hits.with_columns(\n",
    "        [\n",
    "            pl.col(\"Hit_name\")\n",
    "            .map_elements(\n",
    "                lambda x: (\n",
    "                    \"Isolate\"\n",
    "                    if any(i for i in [\"IMGPR\", \"PLSDB\", \"Refsoil\"] if i in x)\n",
    "                    else \"Meta\"\n",
    "                )\n",
    "            )\n",
    "            .alias(\"Origin\"),\n",
    "            pl.col(\"Hit_name\")\n",
    "            .map_elements(\n",
    "                lambda x: (\n",
    "                    \"_\".join(x.split(\"_\")[0:-1])\n",
    "                    if \"IMGPR\" not in x\n",
    "                    else x.split(\"|\")[0]\n",
    "                )\n",
    "            )\n",
    "            .alias(\"Plasmid_name\"),\n",
    "        ]\n",
    "    )\n",
    "    .filter(pl.col(\"Plasmid_name\").is_in(derep_plasmids))\n",
    "    .with_columns(\n",
    "        [\n",
    "            pl.col(\"Plasmid_name\")\n",
    "            .map_elements(\n",
    "                lambda x: x.split(\"|\")[0] if \"IMGPR\" not in x else x.split(\"_\")[2]\n",
    "            )\n",
    "            .alias(\"taxon_oid\"),\n",
    "            pl.col(\"Plasmid_name\").is_in(complete_plasmids).alias(\"complete\"),\n",
    "        ]\n",
    "    )\n",
    "    .with_columns(\n",
    "        pl.col(\"Plasmid_name\")\n",
    "        .map_elements(lambda x: ptus_mapping.get(x, np.nan))\n",
    "        .alias(\"PTU\"),\n",
    "    )\n",
    "    .filter(pl.col(\"PTU\").is_not_null())\n",
    "    .join(pl.from_pandas(df_for_map).lazy(), on=\"taxon_oid\")\n",
    "    .collect()\n",
    ")\n",
    "\n",
    "kofam_hits.head()"
   ]
  },
  {
   "cell_type": "markdown",
   "metadata": {},
   "source": [
    "KO enrichment"
   ]
  },
  {
   "cell_type": "code",
   "execution_count": 29,
   "metadata": {},
   "outputs": [],
   "source": [
    "test = (\n",
    "    (\n",
    "        kofam_hits.unique(subset=[\"Query_name\", \"Plasmid_name\"])\n",
    "        .group_by([\"Query_name\", \"Origin\"])\n",
    "        .agg(pl.col(\"Plasmid_name\").n_unique().alias(\"n_plasmids\"))\n",
    "    )\n",
    "    .pivot(index=\"Query_name\", columns=\"Origin\", values=\"n_plasmids\")\n",
    "    .fill_null(0)\n",
    "    .with_columns(\n",
    "        [\n",
    "            pl.col(\"Meta\")\n",
    "            .map_elements(lambda x: total_plasmids_meta - x)\n",
    "            .alias(\"Meta_no\"),\n",
    "            pl.col(\"Isolate\")\n",
    "            .map_elements(lambda x: total_plasmids_isolate - x)\n",
    "            .alias(\"Isolate_no\"),\n",
    "        ]\n",
    "    )\n",
    ")"
   ]
  },
  {
   "cell_type": "code",
   "execution_count": 30,
   "metadata": {},
   "outputs": [],
   "source": [
    "def calc_odds_ratio(element_type):\n",
    "    contingency_df = test.filter(pl.col(\"Query_name\").eq(element_type))\n",
    "    meta_with_element = contingency_df.get_column(\"Meta\")[0]\n",
    "    isolate_with_element = contingency_df.get_column(\"Isolate\")[0]\n",
    "\n",
    "    meta_without_element = contingency_df.get_column(\"Meta_no\")[0]\n",
    "    isolate_without_element = contingency_df.get_column(\"Isolate_no\")[0]\n",
    "\n",
    "    # without pseudo counts for fisher exact\n",
    "    table_fisher = np.array(\n",
    "        [\n",
    "            [meta_with_element, isolate_with_element],\n",
    "            [\n",
    "                meta_without_element,\n",
    "                isolate_without_element,\n",
    "            ],\n",
    "        ]\n",
    "    )\n",
    "\n",
    "    fisher_exact_p = stats.fisher_exact(table_fisher).pvalue\n",
    "    res = stats.contingency.odds_ratio(table_fisher + 1)\n",
    "\n",
    "    return (\n",
    "        float(table_fisher[0][0]),\n",
    "        float(table_fisher[0][1]),\n",
    "        np.log(res.statistic),\n",
    "        fisher_exact_p,\n",
    "    )"
   ]
  },
  {
   "cell_type": "code",
   "execution_count": 31,
   "metadata": {},
   "outputs": [
    {
     "data": {
      "text/html": [
       "<div><style>\n",
       ".dataframe > thead > tr,\n",
       ".dataframe > tbody > tr {\n",
       "  text-align: right;\n",
       "  white-space: pre-wrap;\n",
       "}\n",
       "</style>\n",
       "<small>shape: (5, 5)</small><table border=\"1\" class=\"dataframe\"><thead><tr><th>Query_name</th><th>Meta</th><th>Isolate</th><th>log_odds</th><th>p</th></tr><tr><td>str</td><td>f64</td><td>f64</td><td>f64</td><td>f64</td></tr></thead><tbody><tr><td>&quot;K25522&quot;</td><td>5.0</td><td>20.0</td><td>-3.667492</td><td>6.9070e-18</td></tr><tr><td>&quot;K19555&quot;</td><td>4.0</td><td>8.0</td><td>-3.001058</td><td>7.6150e-7</td></tr><tr><td>&quot;K02341&quot;</td><td>53.0</td><td>62.0</td><td>-2.573603</td><td>1.1123e-36</td></tr><tr><td>&quot;K01964&quot;</td><td>171.0</td><td>297.0</td><td>-2.997467</td><td>2.7079e-199</td></tr><tr><td>&quot;K04015&quot;</td><td>17.0</td><td>19.0</td><td>-2.519867</td><td>5.1615e-12</td></tr></tbody></table></div>"
      ],
      "text/plain": [
       "shape: (5, 5)\n",
       "┌────────────┬───────┬─────────┬───────────┬─────────────┐\n",
       "│ Query_name ┆ Meta  ┆ Isolate ┆ log_odds  ┆ p           │\n",
       "│ ---        ┆ ---   ┆ ---     ┆ ---       ┆ ---         │\n",
       "│ str        ┆ f64   ┆ f64     ┆ f64       ┆ f64         │\n",
       "╞════════════╪═══════╪═════════╪═══════════╪═════════════╡\n",
       "│ K25522     ┆ 5.0   ┆ 20.0    ┆ -3.667492 ┆ 6.9070e-18  │\n",
       "│ K19555     ┆ 4.0   ┆ 8.0     ┆ -3.001058 ┆ 7.6150e-7   │\n",
       "│ K02341     ┆ 53.0  ┆ 62.0    ┆ -2.573603 ┆ 1.1123e-36  │\n",
       "│ K01964     ┆ 171.0 ┆ 297.0   ┆ -2.997467 ┆ 2.7079e-199 │\n",
       "│ K04015     ┆ 17.0  ┆ 19.0    ┆ -2.519867 ┆ 5.1615e-12  │\n",
       "└────────────┴───────┴─────────┴───────────┴─────────────┘"
      ]
     },
     "execution_count": 31,
     "metadata": {},
     "output_type": "execute_result"
    }
   ],
   "source": [
    "a = (\n",
    "    kofam_hits.select(pl.col(\"Query_name\").unique())\n",
    "    .with_columns(results=pl.col(\"Query_name\").map_elements(calc_odds_ratio))\n",
    "    .with_columns(pl.col(\"results\").list.to_struct())\n",
    "    .unnest(\"results\")\n",
    "    .rename(\n",
    "        {\"field_0\": \"Meta\", \"field_1\": \"Isolate\", \"field_2\": \"log_odds\", \"field_3\": \"p\"}\n",
    "    )\n",
    ")\n",
    "\n",
    "a.head()"
   ]
  },
  {
   "cell_type": "code",
   "execution_count": 32,
   "metadata": {},
   "outputs": [
    {
     "data": {
      "text/html": [
       "<div><style>\n",
       ".dataframe > thead > tr,\n",
       ".dataframe > tbody > tr {\n",
       "  text-align: right;\n",
       "  white-space: pre-wrap;\n",
       "}\n",
       "</style>\n",
       "<small>shape: (5, 6)</small><table border=\"1\" class=\"dataframe\"><thead><tr><th>Query_name</th><th>Meta</th><th>Isolate</th><th>log_odds</th><th>p</th><th>padj</th></tr><tr><td>str</td><td>f64</td><td>f64</td><td>f64</td><td>f64</td><td>f64</td></tr></thead><tbody><tr><td>&quot;K02341&quot;</td><td>53.0</td><td>62.0</td><td>-2.573603</td><td>1.1123e-36</td><td>1.2541e-36</td></tr><tr><td>&quot;K01964&quot;</td><td>171.0</td><td>297.0</td><td>-2.997467</td><td>2.7079e-199</td><td>6.9830e-199</td></tr><tr><td>&quot;K19577&quot;</td><td>3528.0</td><td>1978.0</td><td>-2.074733</td><td>0.0</td><td>0.0</td></tr><tr><td>&quot;K05877&quot;</td><td>588.0</td><td>443.0</td><td>-2.179584</td><td>9.2113e-203</td><td>2.4139e-202</td></tr><tr><td>&quot;K22431&quot;</td><td>126.0</td><td>206.0</td><td>-2.925281</td><td>1.7652e-135</td><td>3.5966e-135</td></tr></tbody></table></div>"
      ],
      "text/plain": [
       "shape: (5, 6)\n",
       "┌────────────┬────────┬─────────┬───────────┬─────────────┬─────────────┐\n",
       "│ Query_name ┆ Meta   ┆ Isolate ┆ log_odds  ┆ p           ┆ padj        │\n",
       "│ ---        ┆ ---    ┆ ---     ┆ ---       ┆ ---         ┆ ---         │\n",
       "│ str        ┆ f64    ┆ f64     ┆ f64       ┆ f64         ┆ f64         │\n",
       "╞════════════╪════════╪═════════╪═══════════╪═════════════╪═════════════╡\n",
       "│ K02341     ┆ 53.0   ┆ 62.0    ┆ -2.573603 ┆ 1.1123e-36  ┆ 1.2541e-36  │\n",
       "│ K01964     ┆ 171.0  ┆ 297.0   ┆ -2.997467 ┆ 2.7079e-199 ┆ 6.9830e-199 │\n",
       "│ K19577     ┆ 3528.0 ┆ 1978.0  ┆ -2.074733 ┆ 0.0         ┆ 0.0         │\n",
       "│ K05877     ┆ 588.0  ┆ 443.0   ┆ -2.179584 ┆ 9.2113e-203 ┆ 2.4139e-202 │\n",
       "│ K22431     ┆ 126.0  ┆ 206.0   ┆ -2.925281 ┆ 1.7652e-135 ┆ 3.5966e-135 │\n",
       "└────────────┴────────┴─────────┴───────────┴─────────────┴─────────────┘"
      ]
     },
     "execution_count": 32,
     "metadata": {},
     "output_type": "execute_result"
    }
   ],
   "source": [
    "b = a.filter(pl.col(\"Meta\") + pl.col(\"Isolate\") >= 100)\n",
    "p_adjusted = stats.false_discovery_control(b[\"p\"])\n",
    "b = b.with_columns(padj=p_adjusted)\n",
    "b.head()"
   ]
  },
  {
   "cell_type": "code",
   "execution_count": 33,
   "metadata": {},
   "outputs": [],
   "source": [
    "b.write_csv(\"kofam_odds.tsv\", separator=\"\\t\")"
   ]
  },
  {
   "cell_type": "markdown",
   "metadata": {},
   "source": [
    "NCBIFams"
   ]
  },
  {
   "cell_type": "code",
   "execution_count": 34,
   "metadata": {},
   "outputs": [
    {
     "data": {
      "text/html": [
       "<div><style>\n",
       ".dataframe > thead > tr,\n",
       ".dataframe > tbody > tr {\n",
       "  text-align: right;\n",
       "  white-space: pre-wrap;\n",
       "}\n",
       "</style>\n",
       "<small>shape: (5, 36)</small><table border=\"1\" class=\"dataframe\"><thead><tr><th>Query_name</th><th>Hit_name</th><th>Hit_evalue</th><th>Hit_score</th><th>HMM_coverage</th><th>Origin</th><th>Plasmid_name</th><th>taxon_oid</th><th>complete</th><th>PTU</th><th>Ecosystem Subtype</th><th>Latitude</th><th>Longitude</th><th>Origin_right</th><th>Isolation Country</th><th>Ecosystem Subtype Custom</th><th>Plasmid Count</th><th>soil_class</th><th>bdod (cg/cm³)</th><th>cec (mmol(c)/kg)</th><th>cfvo (cm³/dm³)</th><th>clay (g/kg)</th><th>nitrogen (cg/kg)</th><th>ocd (dg/dm³)</th><th>phh2o (pH*10)</th><th>sand (g/kg)</th><th>silt (g/kg)</th><th>soc (dg/kg)</th><th>geometry</th><th>index_right</th><th>ECO_NAME</th><th>WWF_REALM</th><th>RealmMHT</th><th>WWF_REALM2</th><th>WWF_MHTNUM</th><th>WWF_MHTNAM</th></tr><tr><td>str</td><td>str</td><td>f64</td><td>f64</td><td>f64</td><td>str</td><td>str</td><td>str</td><td>bool</td><td>i64</td><td>str</td><td>f64</td><td>f64</td><td>str</td><td>str</td><td>str</td><td>i64</td><td>str</td><td>f64</td><td>f64</td><td>f64</td><td>f64</td><td>f64</td><td>f64</td><td>f64</td><td>f64</td><td>f64</td><td>f64</td><td>str</td><td>f64</td><td>str</td><td>str</td><td>str</td><td>str</td><td>f64</td><td>str</td></tr></thead><tbody><tr><td>&quot;TIGR03446.1&quot;</td><td>&quot;3300046782|Ga0…</td><td>6.7500e-123</td><td>414.68</td><td>0.67</td><td>&quot;Meta&quot;</td><td>&quot;3300046782|Ga0…</td><td>&quot;3300046782&quot;</td><td>false</td><td>1257</td><td>&quot;Agricultural l…</td><td>46.12</td><td>-123.27</td><td>&quot;Meta&quot;</td><td>&quot;USA&quot;</td><td>&quot;Agricultural l…</td><td>45</td><td>&quot;Cambisols&quot;</td><td>111.0</td><td>281.0</td><td>101.0</td><td>273.0</td><td>1124.0</td><td>582.0</td><td>53.0</td><td>279.0</td><td>448.0</td><td>852.0</td><td>&quot;POINT (-123.27…</td><td>723.0</td><td>&quot;Pacific Northw…</td><td>null</td><td>&quot;NA5&quot;</td><td>&quot;Nearctic&quot;</td><td>5.0</td><td>&quot;Temperate Coni…</td></tr><tr><td>&quot;TIGR04498.1&quot;</td><td>&quot;3300046780|Ga0…</td><td>1.2700e-17</td><td>69.34</td><td>0.98</td><td>&quot;Meta&quot;</td><td>&quot;3300046780|Ga0…</td><td>&quot;3300046780&quot;</td><td>false</td><td>239</td><td>&quot;Agricultural l…</td><td>46.12</td><td>-123.27</td><td>&quot;Meta&quot;</td><td>&quot;USA&quot;</td><td>&quot;Agricultural l…</td><td>25</td><td>&quot;Cambisols&quot;</td><td>111.0</td><td>281.0</td><td>101.0</td><td>273.0</td><td>1124.0</td><td>582.0</td><td>53.0</td><td>279.0</td><td>448.0</td><td>852.0</td><td>&quot;POINT (-123.27…</td><td>723.0</td><td>&quot;Pacific Northw…</td><td>null</td><td>&quot;NA5&quot;</td><td>&quot;Nearctic&quot;</td><td>5.0</td><td>&quot;Temperate Coni…</td></tr><tr><td>&quot;NF033516.0&quot;</td><td>&quot;3300041809|Ga0…</td><td>1.5200e-66</td><td>230.06</td><td>0.72</td><td>&quot;Meta&quot;</td><td>&quot;3300041809|Ga0…</td><td>&quot;3300041809&quot;</td><td>false</td><td>18944</td><td>&quot;Grasslands&quot;</td><td>38.98</td><td>-106.97</td><td>&quot;Meta&quot;</td><td>&quot;USA&quot;</td><td>&quot;Grasslands&quot;</td><td>924</td><td>&quot;Cambisols&quot;</td><td>111.0</td><td>319.0</td><td>280.0</td><td>164.0</td><td>708.0</td><td>439.0</td><td>55.0</td><td>498.0</td><td>337.0</td><td>1041.0</td><td>&quot;POINT (-106.97…</td><td>727.0</td><td>&quot;Southern Rocky…</td><td>null</td><td>&quot;NA5&quot;</td><td>&quot;Nearctic&quot;</td><td>5.0</td><td>&quot;Temperate Coni…</td></tr><tr><td>&quot;NF033542.1&quot;</td><td>&quot;3300041809|Ga0…</td><td>1.6000e-90</td><td>308.64</td><td>0.86</td><td>&quot;Meta&quot;</td><td>&quot;3300041809|Ga0…</td><td>&quot;3300041809&quot;</td><td>false</td><td>18610</td><td>&quot;Grasslands&quot;</td><td>38.98</td><td>-106.97</td><td>&quot;Meta&quot;</td><td>&quot;USA&quot;</td><td>&quot;Grasslands&quot;</td><td>924</td><td>&quot;Cambisols&quot;</td><td>111.0</td><td>319.0</td><td>280.0</td><td>164.0</td><td>708.0</td><td>439.0</td><td>55.0</td><td>498.0</td><td>337.0</td><td>1041.0</td><td>&quot;POINT (-106.97…</td><td>727.0</td><td>&quot;Southern Rocky…</td><td>null</td><td>&quot;NA5&quot;</td><td>&quot;Nearctic&quot;</td><td>5.0</td><td>&quot;Temperate Coni…</td></tr><tr><td>&quot;NF041492.1&quot;</td><td>&quot;3300041965|Ga0…</td><td>1.9600e-74</td><td>255.81</td><td>1.0</td><td>&quot;Meta&quot;</td><td>&quot;3300041965|Ga0…</td><td>&quot;3300041965&quot;</td><td>false</td><td>19396</td><td>&quot;Grasslands&quot;</td><td>46.25</td><td>-119.73</td><td>&quot;Meta&quot;</td><td>&quot;USA&quot;</td><td>&quot;Grasslands&quot;</td><td>574</td><td>&quot;Cambisols&quot;</td><td>127.0</td><td>151.0</td><td>33.0</td><td>75.0</td><td>524.0</td><td>223.0</td><td>75.0</td><td>507.0</td><td>419.0</td><td>426.0</td><td>&quot;POINT (-119.73…</td><td>766.0</td><td>&quot;Columbia Plate…</td><td>null</td><td>&quot;NA13&quot;</td><td>&quot;Nearctic&quot;</td><td>13.0</td><td>&quot;Deserts and Xe…</td></tr></tbody></table></div>"
      ],
      "text/plain": [
       "shape: (5, 36)\n",
       "┌───────────┬───────────┬───────────┬───────────┬───┬──────────┬───────────┬───────────┬───────────┐\n",
       "│ Query_nam ┆ Hit_name  ┆ Hit_evalu ┆ Hit_score ┆ … ┆ RealmMHT ┆ WWF_REALM ┆ WWF_MHTNU ┆ WWF_MHTNA │\n",
       "│ e         ┆ ---       ┆ e         ┆ ---       ┆   ┆ ---      ┆ 2         ┆ M         ┆ M         │\n",
       "│ ---       ┆ str       ┆ ---       ┆ f64       ┆   ┆ str      ┆ ---       ┆ ---       ┆ ---       │\n",
       "│ str       ┆           ┆ f64       ┆           ┆   ┆          ┆ str       ┆ f64       ┆ str       │\n",
       "╞═══════════╪═══════════╪═══════════╪═══════════╪═══╪══════════╪═══════════╪═══════════╪═══════════╡\n",
       "│ TIGR03446 ┆ 330004678 ┆ 6.7500e-1 ┆ 414.68    ┆ … ┆ NA5      ┆ Nearctic  ┆ 5.0       ┆ Temperate │\n",
       "│ .1        ┆ 2|Ga04954 ┆ 23        ┆           ┆   ┆          ┆           ┆           ┆ Conifer   │\n",
       "│           ┆ 73_000037 ┆           ┆           ┆   ┆          ┆           ┆           ┆ Forests   │\n",
       "│           ┆ 5_7       ┆           ┆           ┆   ┆          ┆           ┆           ┆           │\n",
       "│ TIGR04498 ┆ 330004678 ┆ 1.2700e-1 ┆ 69.34     ┆ … ┆ NA5      ┆ Nearctic  ┆ 5.0       ┆ Temperate │\n",
       "│ .1        ┆ 0|Ga04954 ┆ 7         ┆           ┆   ┆          ┆           ┆           ┆ Conifer   │\n",
       "│           ┆ 64_000010 ┆           ┆           ┆   ┆          ┆           ┆           ┆ Forests   │\n",
       "│           ┆ 1_11      ┆           ┆           ┆   ┆          ┆           ┆           ┆           │\n",
       "│ NF033516. ┆ 330004180 ┆ 1.5200e-6 ┆ 230.06    ┆ … ┆ NA5      ┆ Nearctic  ┆ 5.0       ┆ Temperate │\n",
       "│ 0         ┆ 9|Ga04556 ┆ 6         ┆           ┆   ┆          ┆           ┆           ┆ Conifer   │\n",
       "│           ┆ 70_009124 ┆           ┆           ┆   ┆          ┆           ┆           ┆ Forests   │\n",
       "│           ┆ 4_6       ┆           ┆           ┆   ┆          ┆           ┆           ┆           │\n",
       "│ NF033542. ┆ 330004180 ┆ 1.6000e-9 ┆ 308.64    ┆ … ┆ NA5      ┆ Nearctic  ┆ 5.0       ┆ Temperate │\n",
       "│ 1         ┆ 9|Ga04556 ┆ 0         ┆           ┆   ┆          ┆           ┆           ┆ Conifer   │\n",
       "│           ┆ 70_010429 ┆           ┆           ┆   ┆          ┆           ┆           ┆ Forests   │\n",
       "│           ┆ 3_1       ┆           ┆           ┆   ┆          ┆           ┆           ┆           │\n",
       "│ NF041492. ┆ 330004196 ┆ 1.9600e-7 ┆ 255.81    ┆ … ┆ NA13     ┆ Nearctic  ┆ 13.0      ┆ Deserts   │\n",
       "│ 1         ┆ 5|Ga04017 ┆ 4         ┆           ┆   ┆          ┆           ┆           ┆ and Xeric │\n",
       "│           ┆ 02_278530 ┆           ┆           ┆   ┆          ┆           ┆           ┆ Shrubland │\n",
       "│           ┆ 82_5      ┆           ┆           ┆   ┆          ┆           ┆           ┆ s         │\n",
       "└───────────┴───────────┴───────────┴───────────┴───┴──────────┴───────────┴───────────┴───────────┘"
      ]
     },
     "execution_count": 34,
     "metadata": {},
     "output_type": "execute_result"
    }
   ],
   "source": [
    "with duckdb.connect(\"../soil_plasmid.db\") as con:\n",
    "    ncbifam_hits = (\n",
    "        con.sql(\n",
    "            \"SELECT * FROM hmm_outputs WHERE Query_name LIKE 'N%' OR Query_name LIKE 'TIGR%'\"\n",
    "        )\n",
    "        .pl()\n",
    "        .lazy()\n",
    "    )\n",
    "\n",
    "ncbifam_hits = (\n",
    "    ncbifam_hits.with_columns(\n",
    "        [\n",
    "            pl.col(\"Hit_name\")\n",
    "            .map_elements(\n",
    "                lambda x: (\n",
    "                    \"Isolate\"\n",
    "                    if any(i for i in [\"IMGPR\", \"PLSDB\", \"Refsoil\"] if i in x)\n",
    "                    else \"Meta\"\n",
    "                )\n",
    "            )\n",
    "            .alias(\"Origin\"),\n",
    "            pl.col(\"Hit_name\")\n",
    "            .map_elements(\n",
    "                lambda x: (\n",
    "                    \"_\".join(x.split(\"_\")[0:-1])\n",
    "                    if \"IMGPR\" not in x\n",
    "                    else x.split(\"|\")[0]\n",
    "                )\n",
    "            )\n",
    "            .alias(\"Plasmid_name\"),\n",
    "        ]\n",
    "    )\n",
    "    .filter(pl.col(\"Plasmid_name\").is_in(derep_plasmids))\n",
    "    .with_columns(\n",
    "        [\n",
    "            pl.col(\"Plasmid_name\")\n",
    "            .map_elements(\n",
    "                lambda x: x.split(\"|\")[0] if \"IMGPR\" not in x else x.split(\"_\")[2]\n",
    "            )\n",
    "            .alias(\"taxon_oid\"),\n",
    "            pl.col(\"Plasmid_name\").is_in(complete_plasmids).alias(\"complete\"),\n",
    "        ]\n",
    "    )\n",
    "    .with_columns(\n",
    "        pl.col(\"Plasmid_name\")\n",
    "        .map_elements(lambda x: ptus_mapping.get(x, np.nan))\n",
    "        .alias(\"PTU\"),\n",
    "    )\n",
    "    .filter(pl.col(\"PTU\").is_not_null())\n",
    "    .join(pl.from_pandas(df_for_map).lazy(), on=\"taxon_oid\")\n",
    "    .collect()\n",
    ")\n",
    "\n",
    "ncbifam_hits.head()"
   ]
  },
  {
   "cell_type": "code",
   "execution_count": 35,
   "metadata": {},
   "outputs": [],
   "source": [
    "test = (\n",
    "    (\n",
    "        ncbifam_hits.unique(subset=[\"Query_name\", \"Plasmid_name\"])\n",
    "        .group_by([\"Query_name\", \"Origin\"])\n",
    "        .agg(pl.col(\"Plasmid_name\").n_unique().alias(\"n_plasmids\"))\n",
    "    )\n",
    "    .pivot(index=\"Query_name\", columns=\"Origin\", values=\"n_plasmids\")\n",
    "    .fill_null(0)\n",
    "    .with_columns(\n",
    "        [\n",
    "            pl.col(\"Meta\")\n",
    "            .map_elements(lambda x: total_plasmids_meta - x)\n",
    "            .alias(\"Meta_no\"),\n",
    "            pl.col(\"Isolate\")\n",
    "            .map_elements(lambda x: total_plasmids_isolate - x)\n",
    "            .alias(\"Isolate_no\"),\n",
    "        ]\n",
    "    )\n",
    ")"
   ]
  },
  {
   "cell_type": "code",
   "execution_count": 36,
   "metadata": {},
   "outputs": [],
   "source": [
    "def calc_odds_ratio(element_type):\n",
    "    contingency_df = test.filter(pl.col(\"Query_name\").eq(element_type))\n",
    "    meta_with_element = contingency_df.get_column(\"Meta\")[0]\n",
    "    isolate_with_element = contingency_df.get_column(\"Isolate\")[0]\n",
    "\n",
    "    meta_without_element = contingency_df.get_column(\"Meta_no\")[0]\n",
    "    isolate_without_element = contingency_df.get_column(\"Isolate_no\")[0]\n",
    "\n",
    "    # without pseudo counts for fisher exact\n",
    "    table_fisher = np.array(\n",
    "        [\n",
    "            [meta_with_element, isolate_with_element],\n",
    "            [\n",
    "                meta_without_element,\n",
    "                isolate_without_element,\n",
    "            ],\n",
    "        ]\n",
    "    )\n",
    "\n",
    "    fisher_exact_p = stats.fisher_exact(table_fisher).pvalue\n",
    "    res = stats.contingency.odds_ratio(table_fisher + 1)\n",
    "\n",
    "    return (\n",
    "        float(table_fisher[0][0]),\n",
    "        float(table_fisher[0][1]),\n",
    "        np.log(res.statistic),\n",
    "        fisher_exact_p,\n",
    "    )"
   ]
  },
  {
   "cell_type": "code",
   "execution_count": 37,
   "metadata": {},
   "outputs": [
    {
     "data": {
      "text/html": [
       "<div><style>\n",
       ".dataframe > thead > tr,\n",
       ".dataframe > tbody > tr {\n",
       "  text-align: right;\n",
       "  white-space: pre-wrap;\n",
       "}\n",
       "</style>\n",
       "<small>shape: (5, 5)</small><table border=\"1\" class=\"dataframe\"><thead><tr><th>Query_name</th><th>Meta</th><th>Isolate</th><th>log_odds</th><th>p</th></tr><tr><td>str</td><td>f64</td><td>f64</td><td>f64</td><td>f64</td></tr></thead><tbody><tr><td>&quot;NF008576.0&quot;</td><td>7.0</td><td>0.0</td><td>-0.332878</td><td>1.0</td></tr><tr><td>&quot;NF001304.0&quot;</td><td>2.0</td><td>0.0</td><td>-1.313744</td><td>1.0</td></tr><tr><td>&quot;NF004622.0&quot;</td><td>3.0</td><td>0.0</td><td>-1.026058</td><td>1.0</td></tr><tr><td>&quot;NF004936.0&quot;</td><td>3.0</td><td>2.0</td><td>-2.124887</td><td>0.057155</td></tr><tr><td>&quot;NF008606.0&quot;</td><td>6.0</td><td>14.0</td><td>-3.176127</td><td>1.5357e-11</td></tr></tbody></table></div>"
      ],
      "text/plain": [
       "shape: (5, 5)\n",
       "┌────────────┬──────┬─────────┬───────────┬────────────┐\n",
       "│ Query_name ┆ Meta ┆ Isolate ┆ log_odds  ┆ p          │\n",
       "│ ---        ┆ ---  ┆ ---     ┆ ---       ┆ ---        │\n",
       "│ str        ┆ f64  ┆ f64     ┆ f64       ┆ f64        │\n",
       "╞════════════╪══════╪═════════╪═══════════╪════════════╡\n",
       "│ NF008576.0 ┆ 7.0  ┆ 0.0     ┆ -0.332878 ┆ 1.0        │\n",
       "│ NF001304.0 ┆ 2.0  ┆ 0.0     ┆ -1.313744 ┆ 1.0        │\n",
       "│ NF004622.0 ┆ 3.0  ┆ 0.0     ┆ -1.026058 ┆ 1.0        │\n",
       "│ NF004936.0 ┆ 3.0  ┆ 2.0     ┆ -2.124887 ┆ 0.057155   │\n",
       "│ NF008606.0 ┆ 6.0  ┆ 14.0    ┆ -3.176127 ┆ 1.5357e-11 │\n",
       "└────────────┴──────┴─────────┴───────────┴────────────┘"
      ]
     },
     "execution_count": 37,
     "metadata": {},
     "output_type": "execute_result"
    }
   ],
   "source": [
    "a = (\n",
    "    ncbifam_hits.select(pl.col(\"Query_name\").unique())\n",
    "    .with_columns(results=pl.col(\"Query_name\").map_elements(calc_odds_ratio))\n",
    "    .with_columns(pl.col(\"results\").list.to_struct())\n",
    "    .unnest(\"results\")\n",
    "    .rename(\n",
    "        {\"field_0\": \"Meta\", \"field_1\": \"Isolate\", \"field_2\": \"log_odds\", \"field_3\": \"p\"}\n",
    "    )\n",
    ")\n",
    "\n",
    "a.head()"
   ]
  },
  {
   "cell_type": "code",
   "execution_count": 38,
   "metadata": {},
   "outputs": [
    {
     "data": {
      "text/html": [
       "<div><style>\n",
       ".dataframe > thead > tr,\n",
       ".dataframe > tbody > tr {\n",
       "  text-align: right;\n",
       "  white-space: pre-wrap;\n",
       "}\n",
       "</style>\n",
       "<small>shape: (5, 6)</small><table border=\"1\" class=\"dataframe\"><thead><tr><th>Query_name</th><th>Meta</th><th>Isolate</th><th>log_odds</th><th>p</th><th>padj</th></tr><tr><td>str</td><td>f64</td><td>f64</td><td>f64</td><td>f64</td><td>f64</td></tr></thead><tbody><tr><td>&quot;TIGR02666.1&quot;</td><td>78.0</td><td>36.0</td><td>-1.657438</td><td>7.6557e-13</td><td>9.3089e-13</td></tr><tr><td>&quot;NF010407.0&quot;</td><td>107.0</td><td>125.0</td><td>-2.58089</td><td>2.2339e-72</td><td>7.6188e-72</td></tr><tr><td>&quot;NF010398.0&quot;</td><td>113.0</td><td>114.0</td><td>-2.43403</td><td>8.5046e-62</td><td>2.3549e-61</td></tr><tr><td>&quot;NF001923.0&quot;</td><td>80.0</td><td>96.0</td><td>-2.603662</td><td>1.3919e-56</td><td>3.4965e-56</td></tr><tr><td>&quot;TIGR02315.1&quot;</td><td>107.0</td><td>229.0</td><td>-3.195824</td><td>2.2016e-164</td><td>2.6387e-163</td></tr></tbody></table></div>"
      ],
      "text/plain": [
       "shape: (5, 6)\n",
       "┌─────────────┬───────┬─────────┬───────────┬─────────────┬─────────────┐\n",
       "│ Query_name  ┆ Meta  ┆ Isolate ┆ log_odds  ┆ p           ┆ padj        │\n",
       "│ ---         ┆ ---   ┆ ---     ┆ ---       ┆ ---         ┆ ---         │\n",
       "│ str         ┆ f64   ┆ f64     ┆ f64       ┆ f64         ┆ f64         │\n",
       "╞═════════════╪═══════╪═════════╪═══════════╪═════════════╪═════════════╡\n",
       "│ TIGR02666.1 ┆ 78.0  ┆ 36.0    ┆ -1.657438 ┆ 7.6557e-13  ┆ 9.3089e-13  │\n",
       "│ NF010407.0  ┆ 107.0 ┆ 125.0   ┆ -2.58089  ┆ 2.2339e-72  ┆ 7.6188e-72  │\n",
       "│ NF010398.0  ┆ 113.0 ┆ 114.0   ┆ -2.43403  ┆ 8.5046e-62  ┆ 2.3549e-61  │\n",
       "│ NF001923.0  ┆ 80.0  ┆ 96.0    ┆ -2.603662 ┆ 1.3919e-56  ┆ 3.4965e-56  │\n",
       "│ TIGR02315.1 ┆ 107.0 ┆ 229.0   ┆ -3.195824 ┆ 2.2016e-164 ┆ 2.6387e-163 │\n",
       "└─────────────┴───────┴─────────┴───────────┴─────────────┴─────────────┘"
      ]
     },
     "execution_count": 38,
     "metadata": {},
     "output_type": "execute_result"
    }
   ],
   "source": [
    "b = a.filter(pl.col(\"Meta\") + pl.col(\"Isolate\") >= 100)\n",
    "p_adjusted = stats.false_discovery_control(b[\"p\"])\n",
    "b = b.with_columns(padj=p_adjusted)\n",
    "b.head()"
   ]
  },
  {
   "cell_type": "code",
   "execution_count": 39,
   "metadata": {},
   "outputs": [],
   "source": [
    "b.write_csv(\"ncbifam_odds.tsv\", separator=\"\\t\")"
   ]
  },
  {
   "cell_type": "markdown",
   "metadata": {},
   "source": [
    "Odds for functions in plasmids targeted by crisprs in hosts"
   ]
  },
  {
   "cell_type": "code",
   "execution_count": 45,
   "metadata": {},
   "outputs": [],
   "source": [
    "total_plasmids = total_plasmids_isolate + total_plasmids_meta"
   ]
  },
  {
   "cell_type": "code",
   "execution_count": 48,
   "metadata": {},
   "outputs": [],
   "source": [
    "with open('../crispr_search/meta_spacers/host_crispr_targeted_plasmids.txt') as f:\n",
    "    crispr_targeted_plasmids = [i.strip() for i in f]\n",
    "pfams_hits = pfams_hits.with_columns(crispr_targeted=pl.when(pl.col('Plasmid_name').is_in(crispr_targeted_plasmids)).then(pl.lit('targeted')).otherwise(pl.lit('not_targeted')))\n",
    "\n",
    "test = (\n",
    "    (\n",
    "        pfams_hits.unique(subset=[\"Query_clean\", \"Plasmid_name\"])\n",
    "        .group_by([\"Query_clean\", \"crispr_targeted\"])\n",
    "        .agg(pl.col(\"Plasmid_name\").n_unique().alias(\"n_plasmids\"))\n",
    "    )\n",
    "    .pivot(index=\"Query_clean\", columns=\"crispr_targeted\", values=\"n_plasmids\")\n",
    "    .fill_null(0)\n",
    "    .with_columns(\n",
    "        [\n",
    "            pl.col(\"targeted\")\n",
    "            .map_elements(lambda x: len(crispr_targeted_plasmids) - x)\n",
    "            .alias(\"targeted_no\"),\n",
    "            pl.col(\"not_targeted\")\n",
    "            .map_elements(lambda x: (total_plasmids - len(crispr_targeted_plasmids)) - x)\n",
    "            .alias(\"not_targeted_no\"),\n",
    "        ]\n",
    "    )\n",
    ")"
   ]
  },
  {
   "cell_type": "code",
   "execution_count": 49,
   "metadata": {},
   "outputs": [],
   "source": [
    "def calc_odds_ratio(element_type):\n",
    "    contingency_df = test.filter(pl.col(\"Query_clean\").eq(element_type))\n",
    "    crispr_targeted_with_element = contingency_df.get_column(\"targeted\")[0]\n",
    "    not_crispr_targeted_with_element = contingency_df.get_column(\"not_targeted\")[0]\n",
    "\n",
    "    crispr_targeted_without_element = contingency_df.get_column(\"targeted_no\")[0]\n",
    "    not_crispr_targeted_without_element = contingency_df.get_column(\"not_targeted_no\")[0]\n",
    "\n",
    "    # without pseudo counts for fisher exact\n",
    "    table_fisher = np.array(\n",
    "        [\n",
    "            [crispr_targeted_with_element, not_crispr_targeted_with_element],\n",
    "            [\n",
    "                crispr_targeted_without_element,\n",
    "                not_crispr_targeted_without_element,\n",
    "            ],\n",
    "        ]\n",
    "    )\n",
    "\n",
    "    fisher_exact_p = stats.fisher_exact(table_fisher).pvalue\n",
    "    res = stats.contingency.odds_ratio(table_fisher + 1)\n",
    "\n",
    "    return (\n",
    "        float(table_fisher[0][0]),\n",
    "        float(table_fisher[0][1]),\n",
    "        np.log(res.statistic),\n",
    "        fisher_exact_p,\n",
    "    )"
   ]
  },
  {
   "cell_type": "code",
   "execution_count": 52,
   "metadata": {},
   "outputs": [
    {
     "data": {
      "text/html": [
       "<div><style>\n",
       ".dataframe > thead > tr,\n",
       ".dataframe > tbody > tr {\n",
       "  text-align: right;\n",
       "  white-space: pre-wrap;\n",
       "}\n",
       "</style>\n",
       "<small>shape: (5, 5)</small><table border=\"1\" class=\"dataframe\"><thead><tr><th>Query_clean</th><th>targeted</th><th>not_targeted</th><th>log_odds</th><th>p</th></tr><tr><td>str</td><td>f64</td><td>f64</td><td>f64</td><td>f64</td></tr></thead><tbody><tr><td>&quot;PF07453&quot;</td><td>0.0</td><td>9.0</td><td>3.094646</td><td>1.0</td></tr><tr><td>&quot;PF06796&quot;</td><td>0.0</td><td>45.0</td><td>1.56838</td><td>1.0</td></tr><tr><td>&quot;PF19460&quot;</td><td>0.0</td><td>4.0</td><td>3.787673</td><td>1.0</td></tr><tr><td>&quot;PF13351&quot;</td><td>0.0</td><td>115.0</td><td>0.642744</td><td>1.0</td></tr><tr><td>&quot;PF01816&quot;</td><td>1.0</td><td>53.0</td><td>2.10333</td><td>0.216096</td></tr></tbody></table></div>"
      ],
      "text/plain": [
       "shape: (5, 5)\n",
       "┌─────────────┬──────────┬──────────────┬──────────┬──────────┐\n",
       "│ Query_clean ┆ targeted ┆ not_targeted ┆ log_odds ┆ p        │\n",
       "│ ---         ┆ ---      ┆ ---          ┆ ---      ┆ ---      │\n",
       "│ str         ┆ f64      ┆ f64          ┆ f64      ┆ f64      │\n",
       "╞═════════════╪══════════╪══════════════╪══════════╪══════════╡\n",
       "│ PF07453     ┆ 0.0      ┆ 9.0          ┆ 3.094646 ┆ 1.0      │\n",
       "│ PF06796     ┆ 0.0      ┆ 45.0         ┆ 1.56838  ┆ 1.0      │\n",
       "│ PF19460     ┆ 0.0      ┆ 4.0          ┆ 3.787673 ┆ 1.0      │\n",
       "│ PF13351     ┆ 0.0      ┆ 115.0        ┆ 0.642744 ┆ 1.0      │\n",
       "│ PF01816     ┆ 1.0      ┆ 53.0         ┆ 2.10333  ┆ 0.216096 │\n",
       "└─────────────┴──────────┴──────────────┴──────────┴──────────┘"
      ]
     },
     "execution_count": 52,
     "metadata": {},
     "output_type": "execute_result"
    }
   ],
   "source": [
    "a = (\n",
    "    pfams_hits.select(pl.col(\"Query_clean\").unique())\n",
    "    .with_columns(results=pl.col(\"Query_clean\").map_elements(calc_odds_ratio))\n",
    "    .with_columns(pl.col(\"results\").list.to_struct())\n",
    "    .unnest(\"results\")\n",
    "    .rename(\n",
    "        {\"field_0\": \"targeted\", \"field_1\": \"not_targeted\", \"field_2\": \"log_odds\", \"field_3\": \"p\"}\n",
    "    )\n",
    ")\n",
    "\n",
    "a.head()"
   ]
  },
  {
   "cell_type": "code",
   "execution_count": 67,
   "metadata": {},
   "outputs": [
    {
     "data": {
      "text/html": [
       "<div><style>\n",
       ".dataframe > thead > tr,\n",
       ".dataframe > tbody > tr {\n",
       "  text-align: right;\n",
       "  white-space: pre-wrap;\n",
       "}\n",
       "</style>\n",
       "<small>shape: (5, 6)</small><table border=\"1\" class=\"dataframe\"><thead><tr><th>Query_clean</th><th>targeted</th><th>not_targeted</th><th>log_odds</th><th>p</th><th>padj</th></tr><tr><td>str</td><td>f64</td><td>f64</td><td>f64</td><td>f64</td><td>f64</td></tr></thead><tbody><tr><td>&quot;PF13351&quot;</td><td>0.0</td><td>115.0</td><td>0.642744</td><td>1.0</td><td>1.0</td></tr><tr><td>&quot;PF12728&quot;</td><td>34.0</td><td>7634.0</td><td>0.010986</td><td>1.0</td><td>1.0</td></tr><tr><td>&quot;PF00474&quot;</td><td>1.0</td><td>379.0</td><td>0.148872</td><td>1.0</td><td>1.0</td></tr><tr><td>&quot;PF11198&quot;</td><td>3.0</td><td>423.0</td><td>0.736531</td><td>0.446428</td><td>0.864931</td></tr><tr><td>&quot;PF17802&quot;</td><td>0.0</td><td>272.0</td><td>-0.214735</td><td>0.639014</td><td>0.977832</td></tr></tbody></table></div>"
      ],
      "text/plain": [
       "shape: (5, 6)\n",
       "┌─────────────┬──────────┬──────────────┬───────────┬──────────┬──────────┐\n",
       "│ Query_clean ┆ targeted ┆ not_targeted ┆ log_odds  ┆ p        ┆ padj     │\n",
       "│ ---         ┆ ---      ┆ ---          ┆ ---       ┆ ---      ┆ ---      │\n",
       "│ str         ┆ f64      ┆ f64          ┆ f64       ┆ f64      ┆ f64      │\n",
       "╞═════════════╪══════════╪══════════════╪═══════════╪══════════╪══════════╡\n",
       "│ PF13351     ┆ 0.0      ┆ 115.0        ┆ 0.642744  ┆ 1.0      ┆ 1.0      │\n",
       "│ PF12728     ┆ 34.0     ┆ 7634.0       ┆ 0.010986  ┆ 1.0      ┆ 1.0      │\n",
       "│ PF00474     ┆ 1.0      ┆ 379.0        ┆ 0.148872  ┆ 1.0      ┆ 1.0      │\n",
       "│ PF11198     ┆ 3.0      ┆ 423.0        ┆ 0.736531  ┆ 0.446428 ┆ 0.864931 │\n",
       "│ PF17802     ┆ 0.0      ┆ 272.0        ┆ -0.214735 ┆ 0.639014 ┆ 0.977832 │\n",
       "└─────────────┴──────────┴──────────────┴───────────┴──────────┴──────────┘"
      ]
     },
     "execution_count": 67,
     "metadata": {},
     "output_type": "execute_result"
    }
   ],
   "source": [
    "b = a.filter(pl.col(\"targeted\") + pl.col(\"not_targeted\") >= 100)\n",
    "p_adjusted = stats.false_discovery_control(b[\"p\"])\n",
    "b = b.with_columns(padj=p_adjusted)\n",
    "b.head()"
   ]
  },
  {
   "cell_type": "code",
   "execution_count": 69,
   "metadata": {},
   "outputs": [
    {
     "data": {
      "text/html": [
       "<div><style>\n",
       ".dataframe > thead > tr,\n",
       ".dataframe > tbody > tr {\n",
       "  text-align: right;\n",
       "  white-space: pre-wrap;\n",
       "}\n",
       "</style>\n",
       "<small>shape: (363, 6)</small><table border=\"1\" class=\"dataframe\"><thead><tr><th>Query_clean</th><th>targeted</th><th>not_targeted</th><th>log_odds</th><th>p</th><th>padj</th></tr><tr><td>str</td><td>f64</td><td>f64</td><td>f64</td><td>f64</td><td>f64</td></tr></thead><tbody><tr><td>&quot;PF06952&quot;</td><td>54.0</td><td>130.0</td><td>4.657631</td><td>5.6723e-82</td><td>1.3177e-78</td></tr><tr><td>&quot;PF09827&quot;</td><td>41.0</td><td>98.0</td><td>4.635501</td><td>1.8087e-62</td><td>1.4005e-59</td></tr><tr><td>&quot;PF06290&quot;</td><td>45.0</td><td>117.0</td><td>4.560753</td><td>3.9078e-67</td><td>4.5390e-64</td></tr><tr><td>&quot;PF05818&quot;</td><td>28.0</td><td>101.0</td><td>4.203602</td><td>9.2132e-39</td><td>2.3780e-36</td></tr><tr><td>&quot;PF10723&quot;</td><td>28.0</td><td>102.0</td><td>4.19384</td><td>1.1694e-38</td><td>2.7166e-36</td></tr><tr><td>&quot;PF07057&quot;</td><td>35.0</td><td>151.0</td><td>4.037485</td><td>8.4197e-46</td><td>3.2598e-43</td></tr><tr><td>&quot;PF06006&quot;</td><td>27.0</td><td>118.0</td><td>4.011851</td><td>1.8540e-35</td><td>3.5891e-33</td></tr><tr><td>&quot;PF09707&quot;</td><td>19.0</td><td>83.0</td><td>4.004993</td><td>2.4573e-25</td><td>2.0387e-23</td></tr><tr><td>&quot;PF01867&quot;</td><td>41.0</td><td>190.0</td><td>3.977684</td><td>2.2728e-52</td><td>1.3199e-49</td></tr><tr><td>&quot;PF09344&quot;</td><td>25.0</td><td>116.0</td><td>3.949938</td><td>2.3758e-32</td><td>3.4494e-30</td></tr><tr><td>&quot;PF09485&quot;</td><td>25.0</td><td>116.0</td><td>3.949938</td><td>2.3758e-32</td><td>3.4494e-30</td></tr><tr><td>&quot;PF08798&quot;</td><td>27.0</td><td>128.0</td><td>3.931088</td><td>1.2867e-34</td><td>2.2992e-32</td></tr><tr><td>&hellip;</td><td>&hellip;</td><td>&hellip;</td><td>&hellip;</td><td>&hellip;</td><td>&hellip;</td></tr><tr><td>&quot;PF00196&quot;</td><td>40.0</td><td>5509.0</td><td>0.533444</td><td>0.003596</td><td>0.025547</td></tr><tr><td>&quot;PF13560&quot;</td><td>73.0</td><td>10596.0</td><td>0.498694</td><td>0.000295</td><td>0.002876</td></tr><tr><td>&quot;PF00126&quot;</td><td>55.0</td><td>8209.0</td><td>0.454689</td><td>0.003408</td><td>0.024356</td></tr><tr><td>&quot;PF01381&quot;</td><td>78.0</td><td>12278.0</td><td>0.410896</td><td>0.001938</td><td>0.015059</td></tr><tr><td>&quot;PF10038&quot;</td><td>2.0</td><td>2346.0</td><td>-1.2845</td><td>0.002731</td><td>0.01989</td></tr><tr><td>&quot;PF05284&quot;</td><td>3.0</td><td>3261.0</td><td>-1.333378</td><td>0.000446</td><td>0.00414</td></tr><tr><td>&quot;PF12844&quot;</td><td>4.0</td><td>4444.0</td><td>-1.429985</td><td>0.000026</td><td>0.000307</td></tr><tr><td>&quot;PF07506&quot;</td><td>2.0</td><td>2802.0</td><td>-1.466838</td><td>0.000484</td><td>0.004446</td></tr><tr><td>&quot;PF11000&quot;</td><td>0.0</td><td>1476.0</td><td>-1.915441</td><td>0.00249</td><td>0.018657</td></tr><tr><td>&quot;PF10074&quot;</td><td>0.0</td><td>1566.0</td><td>-1.975526</td><td>0.001701</td><td>0.013437</td></tr><tr><td>&quot;PF10134&quot;</td><td>0.0</td><td>1898.0</td><td>-2.171144</td><td>0.000357</td><td>0.003437</td></tr><tr><td>&quot;PF09140&quot;</td><td>0.0</td><td>2241.0</td><td>-2.340766</td><td>0.000076</td><td>0.000841</td></tr></tbody></table></div>"
      ],
      "text/plain": [
       "shape: (363, 6)\n",
       "┌─────────────┬──────────┬──────────────┬───────────┬────────────┬────────────┐\n",
       "│ Query_clean ┆ targeted ┆ not_targeted ┆ log_odds  ┆ p          ┆ padj       │\n",
       "│ ---         ┆ ---      ┆ ---          ┆ ---       ┆ ---        ┆ ---        │\n",
       "│ str         ┆ f64      ┆ f64          ┆ f64       ┆ f64        ┆ f64        │\n",
       "╞═════════════╪══════════╪══════════════╪═══════════╪════════════╪════════════╡\n",
       "│ PF06952     ┆ 54.0     ┆ 130.0        ┆ 4.657631  ┆ 5.6723e-82 ┆ 1.3177e-78 │\n",
       "│ PF09827     ┆ 41.0     ┆ 98.0         ┆ 4.635501  ┆ 1.8087e-62 ┆ 1.4005e-59 │\n",
       "│ PF06290     ┆ 45.0     ┆ 117.0        ┆ 4.560753  ┆ 3.9078e-67 ┆ 4.5390e-64 │\n",
       "│ PF05818     ┆ 28.0     ┆ 101.0        ┆ 4.203602  ┆ 9.2132e-39 ┆ 2.3780e-36 │\n",
       "│ …           ┆ …        ┆ …            ┆ …         ┆ …          ┆ …          │\n",
       "│ PF11000     ┆ 0.0      ┆ 1476.0       ┆ -1.915441 ┆ 0.00249    ┆ 0.018657   │\n",
       "│ PF10074     ┆ 0.0      ┆ 1566.0       ┆ -1.975526 ┆ 0.001701   ┆ 0.013437   │\n",
       "│ PF10134     ┆ 0.0      ┆ 1898.0       ┆ -2.171144 ┆ 0.000357   ┆ 0.003437   │\n",
       "│ PF09140     ┆ 0.0      ┆ 2241.0       ┆ -2.340766 ┆ 0.000076   ┆ 0.000841   │\n",
       "└─────────────┴──────────┴──────────────┴───────────┴────────────┴────────────┘"
      ]
     },
     "execution_count": 69,
     "metadata": {},
     "output_type": "execute_result"
    }
   ],
   "source": [
    "b.filter((pl.col(\"padj\") < 0.05)).sort(\"log_odds\", descending=True)"
   ]
  },
  {
   "cell_type": "code",
   "execution_count": null,
   "metadata": {},
   "outputs": [],
   "source": []
  }
 ],
 "metadata": {
  "kernelspec": {
   "display_name": "geo",
   "language": "python",
   "name": "geo"
  },
  "language_info": {
   "codemirror_mode": {
    "name": "ipython",
    "version": 3
   },
   "file_extension": ".py",
   "mimetype": "text/x-python",
   "name": "python",
   "nbconvert_exporter": "python",
   "pygments_lexer": "ipython3",
   "version": "3.12.0"
  }
 },
 "nbformat": 4,
 "nbformat_minor": 2
}
