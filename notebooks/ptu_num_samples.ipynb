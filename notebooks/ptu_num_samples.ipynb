{
 "cells": [
  {
   "cell_type": "code",
   "execution_count": 1,
   "metadata": {},
   "outputs": [],
   "source": [
    "import polars as pl\n",
    "import duckdb"
   ]
  },
  {
   "cell_type": "code",
   "execution_count": 2,
   "metadata": {},
   "outputs": [],
   "source": [
    "with duckdb.connect(\"../soil_plasmid.db\") as con:\n",
    "    df = con.execute(\n",
    "        'SELECT pOTU, Length, oids, \"Ecosystem Subtype Custom\" FROM ptu_derep'\n",
    "    ).pl()\n",
    "    df_env = con.execute(\n",
    "        'SELECT taxon_oid, \"Ecosystem Subtype Custom\" FROM taxon_metadata'\n",
    "    ).pl()"
   ]
  },
  {
   "cell_type": "code",
   "execution_count": 3,
   "metadata": {},
   "outputs": [
    {
     "data": {
      "text/html": [
       "<div><style>\n",
       ".dataframe > thead > tr,\n",
       ".dataframe > tbody > tr {\n",
       "  text-align: right;\n",
       "  white-space: pre-wrap;\n",
       "}\n",
       "</style>\n",
       "<small>shape: (5, 4)</small><table border=\"1\" class=\"dataframe\"><thead><tr><th>pOTU</th><th>Length</th><th>oids</th><th>Ecosystem Subtype Custom</th></tr><tr><td>str</td><td>i64</td><td>str</td><td>str</td></tr></thead><tbody><tr><td>&quot;pOTU-00000&quot;</td><td>187</td><td>&quot;3300056587,330…</td><td>&quot;Peat;Grassland…</td></tr><tr><td>&quot;pOTU-00001&quot;</td><td>158</td><td>&quot;3300056791,330…</td><td>&quot;Peat;Peat;Peat…</td></tr><tr><td>&quot;pOTU-00002&quot;</td><td>105</td><td>&quot;3300046709,330…</td><td>&quot;Agricultural l…</td></tr><tr><td>&quot;pOTU-00003&quot;</td><td>98</td><td>&quot;3300046559,330…</td><td>&quot;Rhizosphere;Rh…</td></tr><tr><td>&quot;pOTU-00004&quot;</td><td>85</td><td>&quot;3300056834,330…</td><td>&quot;Peat;Peat;Peat…</td></tr></tbody></table></div>"
      ],
      "text/plain": [
       "shape: (5, 4)\n",
       "┌────────────┬────────┬───────────────────────────────────┬───────────────────────────────────┐\n",
       "│ pOTU       ┆ Length ┆ oids                              ┆ Ecosystem Subtype Custom          │\n",
       "│ ---        ┆ ---    ┆ ---                               ┆ ---                               │\n",
       "│ str        ┆ i64    ┆ str                               ┆ str                               │\n",
       "╞════════════╪════════╪═══════════════════════════════════╪═══════════════════════════════════╡\n",
       "│ pOTU-00000 ┆ 187    ┆ 3300056587,3300041809,3300056587… ┆ Peat;Grasslands;Peat;Temperate f… │\n",
       "│ pOTU-00001 ┆ 158    ┆ 3300056791,3300054973,3300047661… ┆ Peat;Peat;Peat;Peat;Peat;Peat;Pe… │\n",
       "│ pOTU-00002 ┆ 105    ┆ 3300046709,3300046788,3300046461… ┆ Agricultural land;Agricultural l… │\n",
       "│ pOTU-00003 ┆ 98     ┆ 3300046559,3300036401,3300046543… ┆ Rhizosphere;Rhizosphere;Rhizosph… │\n",
       "│ pOTU-00004 ┆ 85     ┆ 3300056834,3300056587,3300048796… ┆ Peat;Peat;Peat;Peat;Peat;Tempera… │\n",
       "└────────────┴────────┴───────────────────────────────────┴───────────────────────────────────┘"
      ]
     },
     "execution_count": 3,
     "metadata": {},
     "output_type": "execute_result"
    }
   ],
   "source": [
    "df.head()"
   ]
  },
  {
   "cell_type": "code",
   "execution_count": 4,
   "metadata": {},
   "outputs": [
    {
     "data": {
      "text/html": [
       "<div><style>\n",
       ".dataframe > thead > tr,\n",
       ".dataframe > tbody > tr {\n",
       "  text-align: right;\n",
       "  white-space: pre-wrap;\n",
       "}\n",
       "</style>\n",
       "<small>shape: (5, 6)</small><table border=\"1\" class=\"dataframe\"><thead><tr><th>pOTU</th><th>Length</th><th>oids</th><th>Ecosystem Subtype Custom</th><th>n_unique_ecos</th><th>n_unique_oids</th></tr><tr><td>str</td><td>i64</td><td>str</td><td>str</td><td>u32</td><td>u32</td></tr></thead><tbody><tr><td>&quot;pOTU-00000&quot;</td><td>187</td><td>&quot;3300056587,330…</td><td>&quot;Peat;Grassland…</td><td>7</td><td>125</td></tr><tr><td>&quot;pOTU-00001&quot;</td><td>158</td><td>&quot;3300056791,330…</td><td>&quot;Peat;Peat;Peat…</td><td>3</td><td>65</td></tr><tr><td>&quot;pOTU-00002&quot;</td><td>105</td><td>&quot;3300046709,330…</td><td>&quot;Agricultural l…</td><td>5</td><td>100</td></tr><tr><td>&quot;pOTU-00003&quot;</td><td>98</td><td>&quot;3300046559,330…</td><td>&quot;Rhizosphere;Rh…</td><td>7</td><td>95</td></tr><tr><td>&quot;pOTU-00004&quot;</td><td>85</td><td>&quot;3300056834,330…</td><td>&quot;Peat;Peat;Peat…</td><td>6</td><td>71</td></tr></tbody></table></div>"
      ],
      "text/plain": [
       "shape: (5, 6)\n",
       "┌────────────┬────────┬──────────────────────┬─────────────────────┬───────────────┬───────────────┐\n",
       "│ pOTU       ┆ Length ┆ oids                 ┆ Ecosystem Subtype   ┆ n_unique_ecos ┆ n_unique_oids │\n",
       "│ ---        ┆ ---    ┆ ---                  ┆ Custom              ┆ ---           ┆ ---           │\n",
       "│ str        ┆ i64    ┆ str                  ┆ ---                 ┆ u32           ┆ u32           │\n",
       "│            ┆        ┆                      ┆ str                 ┆               ┆               │\n",
       "╞════════════╪════════╪══════════════════════╪═════════════════════╪═══════════════╪═══════════════╡\n",
       "│ pOTU-00000 ┆ 187    ┆ 3300056587,330004180 ┆ Peat;Grasslands;Pea ┆ 7             ┆ 125           │\n",
       "│            ┆        ┆ 9,3300056587…        ┆ t;Temperate f…      ┆               ┆               │\n",
       "│ pOTU-00001 ┆ 158    ┆ 3300056791,330005497 ┆ Peat;Peat;Peat;Peat ┆ 3             ┆ 65            │\n",
       "│            ┆        ┆ 3,3300047661…        ┆ ;Peat;Peat;Pe…      ┆               ┆               │\n",
       "│ pOTU-00002 ┆ 105    ┆ 3300046709,330004678 ┆ Agricultural        ┆ 5             ┆ 100           │\n",
       "│            ┆        ┆ 8,3300046461…        ┆ land;Agricultural   ┆               ┆               │\n",
       "│            ┆        ┆                      ┆ l…                  ┆               ┆               │\n",
       "│ pOTU-00003 ┆ 98     ┆ 3300046559,330003640 ┆ Rhizosphere;Rhizosp ┆ 7             ┆ 95            │\n",
       "│            ┆        ┆ 1,3300046543…        ┆ here;Rhizosph…      ┆               ┆               │\n",
       "│ pOTU-00004 ┆ 85     ┆ 3300056834,330005658 ┆ Peat;Peat;Peat;Peat ┆ 6             ┆ 71            │\n",
       "│            ┆        ┆ 7,3300048796…        ┆ ;Peat;Tempera…      ┆               ┆               │\n",
       "└────────────┴────────┴──────────────────────┴─────────────────────┴───────────────┴───────────────┘"
      ]
     },
     "execution_count": 4,
     "metadata": {},
     "output_type": "execute_result"
    }
   ],
   "source": [
    "df = df.with_columns(\n",
    "    n_unique_ecos=pl.col(\"Ecosystem Subtype Custom\")\n",
    "    .str.split(\";\")\n",
    "    .list.unique()\n",
    "    .list.len(),\n",
    "    n_unique_oids=pl.col(\"oids\").str.split(\",\").list.unique().list.len(),\n",
    ")\n",
    "\n",
    "df.head()"
   ]
  },
  {
   "cell_type": "code",
   "execution_count": 5,
   "metadata": {},
   "outputs": [
    {
     "data": {
      "text/html": [
       "<div><style>\n",
       ".dataframe > thead > tr,\n",
       ".dataframe > tbody > tr {\n",
       "  text-align: right;\n",
       "  white-space: pre-wrap;\n",
       "}\n",
       "</style>\n",
       "<small>shape: (5, 2)</small><table border=\"1\" class=\"dataframe\"><thead><tr><th>Ecosystem Subtype Custom</th><th>unique_oids</th></tr><tr><td>str</td><td>u32</td></tr></thead><tbody><tr><td>&quot;Unclassified&quot;</td><td>3642</td></tr><tr><td>&quot;Peat&quot;</td><td>258</td></tr><tr><td>&quot;Temperate fore…</td><td>778</td></tr><tr><td>&quot;Rhizosphere&quot;</td><td>856</td></tr><tr><td>&quot;Agricultural l…</td><td>528</td></tr></tbody></table></div>"
      ],
      "text/plain": [
       "shape: (5, 2)\n",
       "┌──────────────────────────┬─────────────┐\n",
       "│ Ecosystem Subtype Custom ┆ unique_oids │\n",
       "│ ---                      ┆ ---         │\n",
       "│ str                      ┆ u32         │\n",
       "╞══════════════════════════╪═════════════╡\n",
       "│ Unclassified             ┆ 3642        │\n",
       "│ Peat                     ┆ 258         │\n",
       "│ Temperate forest         ┆ 778         │\n",
       "│ Rhizosphere              ┆ 856         │\n",
       "│ Agricultural land        ┆ 528         │\n",
       "└──────────────────────────┴─────────────┘"
      ]
     },
     "execution_count": 5,
     "metadata": {},
     "output_type": "execute_result"
    }
   ],
   "source": [
    "oids_per_env = df_env.group_by(\"Ecosystem Subtype Custom\").agg(\n",
    "    pl.col(\"taxon_oid\").n_unique().alias(\"unique_oids\")\n",
    ")\n",
    "oids_per_env.head()"
   ]
  },
  {
   "cell_type": "code",
   "execution_count": 6,
   "metadata": {},
   "outputs": [
    {
     "data": {
      "text/html": [
       "<div><style>\n",
       ".dataframe > thead > tr,\n",
       ".dataframe > tbody > tr {\n",
       "  text-align: right;\n",
       "  white-space: pre-wrap;\n",
       "}\n",
       "</style>\n",
       "<small>shape: (8, 4)</small><table border=\"1\" class=\"dataframe\"><thead><tr><th>Ecosystem Subtype Custom</th><th>n_unique_oids_with_pOTUs</th><th>unique_oids</th><th>fraction_covered</th></tr><tr><td>str</td><td>u32</td><td>u32</td><td>f64</td></tr></thead><tbody><tr><td>&quot;Unclassified&quot;</td><td>3412</td><td>3642</td><td>0.936848</td></tr><tr><td>&quot;Peat&quot;</td><td>258</td><td>258</td><td>1.0</td></tr><tr><td>&quot;Temperate fore…</td><td>775</td><td>778</td><td>0.996144</td></tr><tr><td>&quot;Rhizosphere&quot;</td><td>842</td><td>856</td><td>0.983645</td></tr><tr><td>&quot;Agricultural l…</td><td>523</td><td>528</td><td>0.99053</td></tr><tr><td>&quot;Tropical fores…</td><td>151</td><td>154</td><td>0.980519</td></tr><tr><td>&quot;Grasslands&quot;</td><td>211</td><td>216</td><td>0.976852</td></tr><tr><td>&quot;Other&quot;</td><td>694</td><td>706</td><td>0.983003</td></tr></tbody></table></div>"
      ],
      "text/plain": [
       "shape: (8, 4)\n",
       "┌──────────────────────────┬──────────────────────────┬─────────────┬──────────────────┐\n",
       "│ Ecosystem Subtype Custom ┆ n_unique_oids_with_pOTUs ┆ unique_oids ┆ fraction_covered │\n",
       "│ ---                      ┆ ---                      ┆ ---         ┆ ---              │\n",
       "│ str                      ┆ u32                      ┆ u32         ┆ f64              │\n",
       "╞══════════════════════════╪══════════════════════════╪═════════════╪══════════════════╡\n",
       "│ Unclassified             ┆ 3412                     ┆ 3642        ┆ 0.936848         │\n",
       "│ Peat                     ┆ 258                      ┆ 258         ┆ 1.0              │\n",
       "│ Temperate forest         ┆ 775                      ┆ 778         ┆ 0.996144         │\n",
       "│ Rhizosphere              ┆ 842                      ┆ 856         ┆ 0.983645         │\n",
       "│ Agricultural land        ┆ 523                      ┆ 528         ┆ 0.99053          │\n",
       "│ Tropical forest          ┆ 151                      ┆ 154         ┆ 0.980519         │\n",
       "│ Grasslands               ┆ 211                      ┆ 216         ┆ 0.976852         │\n",
       "│ Other                    ┆ 694                      ┆ 706         ┆ 0.983003         │\n",
       "└──────────────────────────┴──────────────────────────┴─────────────┴──────────────────┘"
      ]
     },
     "execution_count": 6,
     "metadata": {},
     "output_type": "execute_result"
    }
   ],
   "source": [
    "df.with_columns(pl.col(\"oids\").str.split(\",\").list.unique()).explode(\"oids\").select(\n",
    "    pl.col(\"pOTU\"), pl.col(\"oids\")\n",
    ").join(\n",
    "    df_env.select(pl.col(\"taxon_oid\"), pl.col(\"Ecosystem Subtype Custom\")),\n",
    "    left_on=\"oids\",\n",
    "    right_on=\"taxon_oid\",\n",
    ").group_by(\"Ecosystem Subtype Custom\").agg(\n",
    "    pl.col(\"oids\").n_unique().alias(\"n_unique_oids_with_pOTUs\")\n",
    ").join(oids_per_env, on=\"Ecosystem Subtype Custom\").with_columns(\n",
    "    (pl.col(\"n_unique_oids_with_pOTUs\") / pl.col(\"unique_oids\")).alias(\n",
    "        \"fraction_covered\"\n",
    "    )\n",
    ")"
   ]
  },
  {
   "cell_type": "code",
   "execution_count": 7,
   "metadata": {},
   "outputs": [
    {
     "data": {
      "text/html": [
       "<div><style>\n",
       ".dataframe > thead > tr,\n",
       ".dataframe > tbody > tr {\n",
       "  text-align: right;\n",
       "  white-space: pre-wrap;\n",
       "}\n",
       "</style>\n",
       "<small>shape: (96_108, 3)</small><table border=\"1\" class=\"dataframe\"><thead><tr><th>pOTU</th><th>oids</th><th>Ecosystem Subtype Custom</th></tr><tr><td>str</td><td>str</td><td>str</td></tr></thead><tbody><tr><td>&quot;pOTU-00000&quot;</td><td>&quot;3300020809&quot;</td><td>&quot;Temperate fore…</td></tr><tr><td>&quot;pOTU-00000&quot;</td><td>&quot;3300050137&quot;</td><td>&quot;Peat&quot;</td></tr><tr><td>&quot;pOTU-00000&quot;</td><td>&quot;3300048809&quot;</td><td>&quot;Peat&quot;</td></tr><tr><td>&quot;pOTU-00000&quot;</td><td>&quot;3300048764&quot;</td><td>&quot;Peat&quot;</td></tr><tr><td>&quot;pOTU-00000&quot;</td><td>&quot;3300031718&quot;</td><td>&quot;Temperate fore…</td></tr><tr><td>&quot;pOTU-00000&quot;</td><td>&quot;3300043661&quot;</td><td>&quot;Other&quot;</td></tr><tr><td>&quot;pOTU-00000&quot;</td><td>&quot;3300048815&quot;</td><td>&quot;Peat&quot;</td></tr><tr><td>&quot;pOTU-00000&quot;</td><td>&quot;3300050116&quot;</td><td>&quot;Peat&quot;</td></tr><tr><td>&quot;pOTU-00000&quot;</td><td>&quot;3300060357&quot;</td><td>&quot;Temperate fore…</td></tr><tr><td>&quot;pOTU-00000&quot;</td><td>&quot;3300037883&quot;</td><td>&quot;Temperate fore…</td></tr><tr><td>&quot;pOTU-00000&quot;</td><td>&quot;3300027889&quot;</td><td>&quot;Temperate fore…</td></tr><tr><td>&quot;pOTU-00000&quot;</td><td>&quot;3300044653&quot;</td><td>&quot;Temperate fore…</td></tr><tr><td>&hellip;</td><td>&hellip;</td><td>&hellip;</td></tr><tr><td>&quot;pOTU-57253&quot;</td><td>&quot;3300049167&quot;</td><td>&quot;Unclassified&quot;</td></tr><tr><td>&quot;pOTU-57254&quot;</td><td>&quot;3300049167&quot;</td><td>&quot;Unclassified&quot;</td></tr><tr><td>&quot;pOTU-57255&quot;</td><td>&quot;3300049167&quot;</td><td>&quot;Unclassified&quot;</td></tr><tr><td>&quot;pOTU-57256&quot;</td><td>&quot;3300049167&quot;</td><td>&quot;Unclassified&quot;</td></tr><tr><td>&quot;pOTU-57257&quot;</td><td>&quot;3300049167&quot;</td><td>&quot;Unclassified&quot;</td></tr><tr><td>&quot;pOTU-57258&quot;</td><td>&quot;3300049167&quot;</td><td>&quot;Unclassified&quot;</td></tr><tr><td>&quot;pOTU-57259&quot;</td><td>&quot;3300049167&quot;</td><td>&quot;Unclassified&quot;</td></tr><tr><td>&quot;pOTU-57260&quot;</td><td>&quot;3300049167&quot;</td><td>&quot;Unclassified&quot;</td></tr><tr><td>&quot;pOTU-57261&quot;</td><td>&quot;3300049167&quot;</td><td>&quot;Unclassified&quot;</td></tr><tr><td>&quot;pOTU-57262&quot;</td><td>&quot;3300049167&quot;</td><td>&quot;Unclassified&quot;</td></tr><tr><td>&quot;pOTU-57263&quot;</td><td>&quot;3300049167&quot;</td><td>&quot;Unclassified&quot;</td></tr><tr><td>&quot;pOTU-57264&quot;</td><td>&quot;2088090014&quot;</td><td>&quot;Grasslands&quot;</td></tr></tbody></table></div>"
      ],
      "text/plain": [
       "shape: (96_108, 3)\n",
       "┌────────────┬────────────┬──────────────────────────┐\n",
       "│ pOTU       ┆ oids       ┆ Ecosystem Subtype Custom │\n",
       "│ ---        ┆ ---        ┆ ---                      │\n",
       "│ str        ┆ str        ┆ str                      │\n",
       "╞════════════╪════════════╪══════════════════════════╡\n",
       "│ pOTU-00000 ┆ 3300020809 ┆ Temperate forest         │\n",
       "│ pOTU-00000 ┆ 3300050137 ┆ Peat                     │\n",
       "│ pOTU-00000 ┆ 3300048809 ┆ Peat                     │\n",
       "│ pOTU-00000 ┆ 3300048764 ┆ Peat                     │\n",
       "│ …          ┆ …          ┆ …                        │\n",
       "│ pOTU-57261 ┆ 3300049167 ┆ Unclassified             │\n",
       "│ pOTU-57262 ┆ 3300049167 ┆ Unclassified             │\n",
       "│ pOTU-57263 ┆ 3300049167 ┆ Unclassified             │\n",
       "│ pOTU-57264 ┆ 2088090014 ┆ Grasslands               │\n",
       "└────────────┴────────────┴──────────────────────────┘"
      ]
     },
     "execution_count": 7,
     "metadata": {},
     "output_type": "execute_result"
    }
   ],
   "source": [
    "df.with_columns(pl.col(\"oids\").str.split(\",\").list.unique()).explode(\"oids\").select(\n",
    "    pl.col(\"pOTU\"), pl.col(\"oids\")\n",
    ").join(\n",
    "    df_env.select(pl.col(\"taxon_oid\"), pl.col(\"Ecosystem Subtype Custom\")),\n",
    "    left_on=\"oids\",\n",
    "    right_on=\"taxon_oid\",\n",
    ")"
   ]
  },
  {
   "cell_type": "code",
   "execution_count": 8,
   "metadata": {},
   "outputs": [
    {
     "data": {
      "text/html": [
       "<div><style>\n",
       ".dataframe > thead > tr,\n",
       ".dataframe > tbody > tr {\n",
       "  text-align: right;\n",
       "  white-space: pre-wrap;\n",
       "}\n",
       "</style>\n",
       "<small>shape: (57_265, 6)</small><table border=\"1\" class=\"dataframe\"><thead><tr><th>pOTU</th><th>Length</th><th>oids</th><th>Ecosystem Subtype Custom</th><th>n_unique_ecos</th><th>n_unique_oids</th></tr><tr><td>str</td><td>i64</td><td>str</td><td>str</td><td>u32</td><td>u32</td></tr></thead><tbody><tr><td>&quot;pOTU-00000&quot;</td><td>187</td><td>&quot;3300056587,330…</td><td>&quot;Peat;Grassland…</td><td>7</td><td>125</td></tr><tr><td>&quot;pOTU-00001&quot;</td><td>158</td><td>&quot;3300056791,330…</td><td>&quot;Peat;Peat;Peat…</td><td>3</td><td>65</td></tr><tr><td>&quot;pOTU-00002&quot;</td><td>105</td><td>&quot;3300046709,330…</td><td>&quot;Agricultural l…</td><td>5</td><td>100</td></tr><tr><td>&quot;pOTU-00003&quot;</td><td>98</td><td>&quot;3300046559,330…</td><td>&quot;Rhizosphere;Rh…</td><td>7</td><td>95</td></tr><tr><td>&quot;pOTU-00004&quot;</td><td>85</td><td>&quot;3300056834,330…</td><td>&quot;Peat;Peat;Peat…</td><td>6</td><td>71</td></tr><tr><td>&quot;pOTU-00005&quot;</td><td>85</td><td>&quot;3300056791,330…</td><td>&quot;Peat;Peat;Peat…</td><td>5</td><td>47</td></tr><tr><td>&quot;pOTU-00006&quot;</td><td>83</td><td>&quot;3300056870,330…</td><td>&quot;Peat;Peat;Peat…</td><td>3</td><td>51</td></tr><tr><td>&quot;pOTU-00007&quot;</td><td>82</td><td>&quot;3300027857,330…</td><td>&quot;Unclassified;R…</td><td>7</td><td>70</td></tr><tr><td>&quot;pOTU-00008&quot;</td><td>77</td><td>&quot;3300028793,330…</td><td>&quot;Other;Other;Ot…</td><td>4</td><td>77</td></tr><tr><td>&quot;pOTU-00009&quot;</td><td>74</td><td>&quot;3300056587,330…</td><td>&quot;Peat;Temperate…</td><td>5</td><td>59</td></tr><tr><td>&quot;pOTU-00010&quot;</td><td>70</td><td>&quot;2671180117,330…</td><td>&quot;Unclassified;R…</td><td>4</td><td>53</td></tr><tr><td>&quot;pOTU-00011&quot;</td><td>69</td><td>&quot;3300028811,330…</td><td>&quot;Other;Agricult…</td><td>4</td><td>69</td></tr><tr><td>&hellip;</td><td>&hellip;</td><td>&hellip;</td><td>&hellip;</td><td>&hellip;</td><td>&hellip;</td></tr><tr><td>&quot;pOTU-57253&quot;</td><td>1</td><td>&quot;3300049167&quot;</td><td>&quot;Unclassified&quot;</td><td>1</td><td>1</td></tr><tr><td>&quot;pOTU-57254&quot;</td><td>1</td><td>&quot;3300049167&quot;</td><td>&quot;Unclassified&quot;</td><td>1</td><td>1</td></tr><tr><td>&quot;pOTU-57255&quot;</td><td>1</td><td>&quot;3300049167&quot;</td><td>&quot;Unclassified&quot;</td><td>1</td><td>1</td></tr><tr><td>&quot;pOTU-57256&quot;</td><td>1</td><td>&quot;3300049167&quot;</td><td>&quot;Unclassified&quot;</td><td>1</td><td>1</td></tr><tr><td>&quot;pOTU-57257&quot;</td><td>1</td><td>&quot;3300049167&quot;</td><td>&quot;Unclassified&quot;</td><td>1</td><td>1</td></tr><tr><td>&quot;pOTU-57258&quot;</td><td>1</td><td>&quot;3300049167&quot;</td><td>&quot;Unclassified&quot;</td><td>1</td><td>1</td></tr><tr><td>&quot;pOTU-57259&quot;</td><td>1</td><td>&quot;3300049167&quot;</td><td>&quot;Unclassified&quot;</td><td>1</td><td>1</td></tr><tr><td>&quot;pOTU-57260&quot;</td><td>1</td><td>&quot;3300049167&quot;</td><td>&quot;Unclassified&quot;</td><td>1</td><td>1</td></tr><tr><td>&quot;pOTU-57261&quot;</td><td>1</td><td>&quot;3300049167&quot;</td><td>&quot;Unclassified&quot;</td><td>1</td><td>1</td></tr><tr><td>&quot;pOTU-57262&quot;</td><td>1</td><td>&quot;3300049167&quot;</td><td>&quot;Unclassified&quot;</td><td>1</td><td>1</td></tr><tr><td>&quot;pOTU-57263&quot;</td><td>1</td><td>&quot;3300049167&quot;</td><td>&quot;Unclassified&quot;</td><td>1</td><td>1</td></tr><tr><td>&quot;pOTU-57264&quot;</td><td>1</td><td>&quot;2088090014&quot;</td><td>&quot;Grasslands&quot;</td><td>1</td><td>1</td></tr></tbody></table></div>"
      ],
      "text/plain": [
       "shape: (57_265, 6)\n",
       "┌────────────┬────────┬──────────────────────┬─────────────────────┬───────────────┬───────────────┐\n",
       "│ pOTU       ┆ Length ┆ oids                 ┆ Ecosystem Subtype   ┆ n_unique_ecos ┆ n_unique_oids │\n",
       "│ ---        ┆ ---    ┆ ---                  ┆ Custom              ┆ ---           ┆ ---           │\n",
       "│ str        ┆ i64    ┆ str                  ┆ ---                 ┆ u32           ┆ u32           │\n",
       "│            ┆        ┆                      ┆ str                 ┆               ┆               │\n",
       "╞════════════╪════════╪══════════════════════╪═════════════════════╪═══════════════╪═══════════════╡\n",
       "│ pOTU-00000 ┆ 187    ┆ 3300056587,330004180 ┆ Peat;Grasslands;Pea ┆ 7             ┆ 125           │\n",
       "│            ┆        ┆ 9,3300056587…        ┆ t;Temperate f…      ┆               ┆               │\n",
       "│ pOTU-00001 ┆ 158    ┆ 3300056791,330005497 ┆ Peat;Peat;Peat;Peat ┆ 3             ┆ 65            │\n",
       "│            ┆        ┆ 3,3300047661…        ┆ ;Peat;Peat;Pe…      ┆               ┆               │\n",
       "│ pOTU-00002 ┆ 105    ┆ 3300046709,330004678 ┆ Agricultural        ┆ 5             ┆ 100           │\n",
       "│            ┆        ┆ 8,3300046461…        ┆ land;Agricultural   ┆               ┆               │\n",
       "│            ┆        ┆                      ┆ l…                  ┆               ┆               │\n",
       "│ pOTU-00003 ┆ 98     ┆ 3300046559,330003640 ┆ Rhizosphere;Rhizosp ┆ 7             ┆ 95            │\n",
       "│            ┆        ┆ 1,3300046543…        ┆ here;Rhizosph…      ┆               ┆               │\n",
       "│ …          ┆ …      ┆ …                    ┆ …                   ┆ …             ┆ …             │\n",
       "│ pOTU-57261 ┆ 1      ┆ 3300049167           ┆ Unclassified        ┆ 1             ┆ 1             │\n",
       "│ pOTU-57262 ┆ 1      ┆ 3300049167           ┆ Unclassified        ┆ 1             ┆ 1             │\n",
       "│ pOTU-57263 ┆ 1      ┆ 3300049167           ┆ Unclassified        ┆ 1             ┆ 1             │\n",
       "│ pOTU-57264 ┆ 1      ┆ 2088090014           ┆ Grasslands          ┆ 1             ┆ 1             │\n",
       "└────────────┴────────┴──────────────────────┴─────────────────────┴───────────────┴───────────────┘"
      ]
     },
     "execution_count": 8,
     "metadata": {},
     "output_type": "execute_result"
    }
   ],
   "source": [
    "df"
   ]
  },
  {
   "cell_type": "code",
   "execution_count": 11,
   "metadata": {},
   "outputs": [
    {
     "data": {
      "text/html": [
       "<div><style>\n",
       ".dataframe > thead > tr,\n",
       ".dataframe > tbody > tr {\n",
       "  text-align: right;\n",
       "  white-space: pre-wrap;\n",
       "}\n",
       "</style>\n",
       "<small>shape: (63_411, 3)</small><table border=\"1\" class=\"dataframe\"><thead><tr><th>pOTU</th><th>Ecosystem Subtype Custom</th><th>n_unique_oids</th></tr><tr><td>str</td><td>str</td><td>u32</td></tr></thead><tbody><tr><td>&quot;pOTU-00000&quot;</td><td>&quot;Peat&quot;</td><td>52</td></tr><tr><td>&quot;pOTU-00000&quot;</td><td>&quot;Temperate fore…</td><td>50</td></tr><tr><td>&quot;pOTU-00000&quot;</td><td>&quot;Other&quot;</td><td>8</td></tr><tr><td>&quot;pOTU-00000&quot;</td><td>&quot;Unclassified&quot;</td><td>8</td></tr><tr><td>&quot;pOTU-00000&quot;</td><td>&quot;Agricultural l…</td><td>3</td></tr><tr><td>&quot;pOTU-00000&quot;</td><td>&quot;Rhizosphere&quot;</td><td>2</td></tr><tr><td>&quot;pOTU-00000&quot;</td><td>&quot;Grasslands&quot;</td><td>2</td></tr><tr><td>&quot;pOTU-00001&quot;</td><td>&quot;Peat&quot;</td><td>62</td></tr><tr><td>&quot;pOTU-00001&quot;</td><td>&quot;Tropical fores…</td><td>2</td></tr><tr><td>&quot;pOTU-00001&quot;</td><td>&quot;Grasslands&quot;</td><td>1</td></tr><tr><td>&quot;pOTU-00002&quot;</td><td>&quot;Rhizosphere&quot;</td><td>45</td></tr><tr><td>&quot;pOTU-00002&quot;</td><td>&quot;Agricultural l…</td><td>43</td></tr><tr><td>&hellip;</td><td>&hellip;</td><td>&hellip;</td></tr><tr><td>&quot;pOTU-57253&quot;</td><td>&quot;Unclassified&quot;</td><td>1</td></tr><tr><td>&quot;pOTU-57254&quot;</td><td>&quot;Unclassified&quot;</td><td>1</td></tr><tr><td>&quot;pOTU-57255&quot;</td><td>&quot;Unclassified&quot;</td><td>1</td></tr><tr><td>&quot;pOTU-57256&quot;</td><td>&quot;Unclassified&quot;</td><td>1</td></tr><tr><td>&quot;pOTU-57257&quot;</td><td>&quot;Unclassified&quot;</td><td>1</td></tr><tr><td>&quot;pOTU-57258&quot;</td><td>&quot;Unclassified&quot;</td><td>1</td></tr><tr><td>&quot;pOTU-57259&quot;</td><td>&quot;Unclassified&quot;</td><td>1</td></tr><tr><td>&quot;pOTU-57260&quot;</td><td>&quot;Unclassified&quot;</td><td>1</td></tr><tr><td>&quot;pOTU-57261&quot;</td><td>&quot;Unclassified&quot;</td><td>1</td></tr><tr><td>&quot;pOTU-57262&quot;</td><td>&quot;Unclassified&quot;</td><td>1</td></tr><tr><td>&quot;pOTU-57263&quot;</td><td>&quot;Unclassified&quot;</td><td>1</td></tr><tr><td>&quot;pOTU-57264&quot;</td><td>&quot;Grasslands&quot;</td><td>1</td></tr></tbody></table></div>"
      ],
      "text/plain": [
       "shape: (63_411, 3)\n",
       "┌────────────┬──────────────────────────┬───────────────┐\n",
       "│ pOTU       ┆ Ecosystem Subtype Custom ┆ n_unique_oids │\n",
       "│ ---        ┆ ---                      ┆ ---           │\n",
       "│ str        ┆ str                      ┆ u32           │\n",
       "╞════════════╪══════════════════════════╪═══════════════╡\n",
       "│ pOTU-00000 ┆ Peat                     ┆ 52            │\n",
       "│ pOTU-00000 ┆ Temperate forest         ┆ 50            │\n",
       "│ pOTU-00000 ┆ Other                    ┆ 8             │\n",
       "│ pOTU-00000 ┆ Unclassified             ┆ 8             │\n",
       "│ …          ┆ …                        ┆ …             │\n",
       "│ pOTU-57261 ┆ Unclassified             ┆ 1             │\n",
       "│ pOTU-57262 ┆ Unclassified             ┆ 1             │\n",
       "│ pOTU-57263 ┆ Unclassified             ┆ 1             │\n",
       "│ pOTU-57264 ┆ Grasslands               ┆ 1             │\n",
       "└────────────┴──────────────────────────┴───────────────┘"
      ]
     },
     "execution_count": 11,
     "metadata": {},
     "output_type": "execute_result"
    }
   ],
   "source": [
    "df.with_columns(\n",
    "    pl.col(\"Ecosystem Subtype Custom\").str.split(\";\"), pl.col(\"oids\").str.split(\",\")\n",
    ").select(pl.col(\"pOTU\"), pl.col(\"Ecosystem Subtype Custom\"), pl.col(\"oids\")).explode(\n",
    "    [\"Ecosystem Subtype Custom\", \"oids\"]\n",
    ").group_by([\"pOTU\", \"Ecosystem Subtype Custom\"]).agg(\n",
    "    pl.col(\"oids\").n_unique().alias(\"n_unique_oids\")\n",
    ").sort(by=[\"pOTU\", \"n_unique_oids\"], descending=[False, True])"
   ]
  },
  {
   "cell_type": "code",
   "execution_count": null,
   "metadata": {},
   "outputs": [],
   "source": []
  }
 ],
 "metadata": {
  "kernelspec": {
   "display_name": "Python 3",
   "language": "python",
   "name": "python3"
  },
  "language_info": {
   "codemirror_mode": {
    "name": "ipython",
    "version": 3
   },
   "file_extension": ".py",
   "mimetype": "text/x-python",
   "name": "python",
   "nbconvert_exporter": "python",
   "pygments_lexer": "ipython3",
   "version": "3.12.0"
  }
 },
 "nbformat": 4,
 "nbformat_minor": 2
}
