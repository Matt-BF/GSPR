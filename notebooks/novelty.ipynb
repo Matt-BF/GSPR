{
 "cells": [
  {
   "cell_type": "code",
   "execution_count": 2,
   "metadata": {},
   "outputs": [],
   "source": [
    "import polars as pl"
   ]
  },
  {
   "cell_type": "code",
   "execution_count": 3,
   "metadata": {},
   "outputs": [],
   "source": [
    "def get_similar_plasmids(dataframe):\n",
    "    df = pl.read_csv(dataframe, separator=\"\\t\", has_header=False).with_columns(\n",
    "        pl.when(pl.col(\"column_10\") < pl.col(\"column_11\"))\n",
    "        .then(pl.col(\"column_4\") / pl.col(\"column_10\"))\n",
    "        .otherwise(pl.col(\"column_4\") / pl.col(\"column_11\"))\n",
    "        .alias(\"AF\")\n",
    "    )\n",
    "\n",
    "    return df.filter(pl.col(\"AF\") > 0.7).select(pl.col(\"column_1\")).unique()"
   ]
  },
  {
   "cell_type": "code",
   "execution_count": 4,
   "metadata": {},
   "outputs": [
    {
     "name": "stdout",
     "output_type": "stream",
     "text": [
      "There are 20246 plasmids similar to the refsoil dataset with an AF > 0.7. This means that 0.84 of our plasmids are novel.\n",
      "There are 3235 plasmids similar to the plsdb dataset with an AF > 0.7. This means that 0.97 of our plasmids are novel.\n"
     ]
    }
   ],
   "source": [
    "similar_refsoil = get_similar_plasmids(\"novelty_results_blast_refsoil.tsv\").shape[0]\n",
    "soil_plasmids_rescued = 129127\n",
    "similar_plsdb = get_similar_plasmids(\"novelty_results_blast_plsdb.tsv\").shape[0]\n",
    "\n",
    "\n",
    "print(\n",
    "    f\"There are {similar_refsoil} plasmids similar to the refsoil dataset with an AF > 0.7. This means that {1 - (similar_refsoil/soil_plasmids_rescued):.2f} of our plasmids are novel.\"\n",
    ")\n",
    "\n",
    "print(\n",
    "    f\"There are {similar_plsdb} plasmids similar to the plsdb dataset with an AF > 0.7. This means that {1 - (similar_plsdb/soil_plasmids_rescued):.2f} of our plasmids are novel.\"\n",
    ")"
   ]
  },
  {
   "cell_type": "code",
   "execution_count": 2,
   "metadata": {},
   "outputs": [
    {
     "data": {
      "text/html": [
       "<div><style>\n",
       ".dataframe > thead > tr > th,\n",
       ".dataframe > tbody > tr > td {\n",
       "  text-align: right;\n",
       "  white-space: pre-wrap;\n",
       "}\n",
       "</style>\n",
       "<small>shape: (5, 12)</small><table border=\"1\" class=\"dataframe\"><thead><tr><th>column_1</th><th>column_2</th><th>column_3</th><th>column_4</th><th>column_5</th><th>column_6</th><th>column_7</th><th>column_8</th><th>column_9</th><th>column_10</th><th>column_11</th><th>AF</th></tr><tr><td>str</td><td>str</td><td>f64</td><td>i64</td><td>i64</td><td>i64</td><td>i64</td><td>i64</td><td>f64</td><td>i64</td><td>i64</td><td>f64</td></tr></thead><tbody><tr><td>&quot;2088090014|GPI…</td><td>&quot;NZ_LR134451.1&quot;</td><td>100.0</td><td>30</td><td>4187</td><td>4216</td><td>216580</td><td>216609</td><td>0.000321</td><td>5584</td><td>415783</td><td>0.005372</td></tr><tr><td>&quot;2088090015|GPI…</td><td>&quot;NZ_CP086107.1&quot;</td><td>100.0</td><td>29</td><td>9810</td><td>9838</td><td>444246</td><td>444274</td><td>0.002</td><td>9983</td><td>668738</td><td>0.002905</td></tr><tr><td>&quot;2088090015|GPI…</td><td>&quot;NZ_CP086107.1&quot;</td><td>100.0</td><td>29</td><td>9810</td><td>9838</td><td>598734</td><td>598762</td><td>0.002</td><td>9983</td><td>668738</td><td>0.002905</td></tr><tr><td>&quot;2088090015|GPI…</td><td>&quot;CP040041.1&quot;</td><td>100.0</td><td>29</td><td>24910</td><td>24938</td><td>348230</td><td>348258</td><td>0.005</td><td>25248</td><td>561419</td><td>0.001149</td></tr><tr><td>&quot;2088090015|GPI…</td><td>&quot;CP040041.1&quot;</td><td>100.0</td><td>29</td><td>24910</td><td>24938</td><td>350378</td><td>350406</td><td>0.005</td><td>25248</td><td>561419</td><td>0.001149</td></tr></tbody></table></div>"
      ],
      "text/plain": [
       "shape: (5, 12)\n",
       "┌─────────────┬────────────┬──────────┬──────────┬───┬──────────┬───────────┬───────────┬──────────┐\n",
       "│ column_1    ┆ column_2   ┆ column_3 ┆ column_4 ┆ … ┆ column_9 ┆ column_10 ┆ column_11 ┆ AF       │\n",
       "│ ---         ┆ ---        ┆ ---      ┆ ---      ┆   ┆ ---      ┆ ---       ┆ ---       ┆ ---      │\n",
       "│ str         ┆ str        ┆ f64      ┆ i64      ┆   ┆ f64      ┆ i64       ┆ i64       ┆ f64      │\n",
       "╞═════════════╪════════════╪══════════╪══════════╪═══╪══════════╪═══════════╪═══════════╪══════════╡\n",
       "│ 2088090014| ┆ NZ_LR13445 ┆ 100.0    ┆ 30       ┆ … ┆ 0.000321 ┆ 5584      ┆ 415783    ┆ 0.005372 │\n",
       "│ GPIPI_16944 ┆ 1.1        ┆          ┆          ┆   ┆          ┆           ┆           ┆          │\n",
       "│ 593         ┆            ┆          ┆          ┆   ┆          ┆           ┆           ┆          │\n",
       "│ 2088090015| ┆ NZ_CP08610 ┆ 100.0    ┆ 29       ┆ … ┆ 0.002    ┆ 9983      ┆ 668738    ┆ 0.002905 │\n",
       "│ GPICI_89464 ┆ 7.1        ┆          ┆          ┆   ┆          ┆           ┆           ┆          │\n",
       "│ 63          ┆            ┆          ┆          ┆   ┆          ┆           ┆           ┆          │\n",
       "│ 2088090015| ┆ NZ_CP08610 ┆ 100.0    ┆ 29       ┆ … ┆ 0.002    ┆ 9983      ┆ 668738    ┆ 0.002905 │\n",
       "│ GPICI_89464 ┆ 7.1        ┆          ┆          ┆   ┆          ┆           ┆           ┆          │\n",
       "│ 63          ┆            ┆          ┆          ┆   ┆          ┆           ┆           ┆          │\n",
       "│ 2088090015| ┆ CP040041.1 ┆ 100.0    ┆ 29       ┆ … ┆ 0.005    ┆ 25248     ┆ 561419    ┆ 0.001149 │\n",
       "│ GPICI_88800 ┆            ┆          ┆          ┆   ┆          ┆           ┆           ┆          │\n",
       "│ 22          ┆            ┆          ┆          ┆   ┆          ┆           ┆           ┆          │\n",
       "│ 2088090015| ┆ CP040041.1 ┆ 100.0    ┆ 29       ┆ … ┆ 0.005    ┆ 25248     ┆ 561419    ┆ 0.001149 │\n",
       "│ GPICI_88800 ┆            ┆          ┆          ┆   ┆          ┆           ┆           ┆          │\n",
       "│ 22          ┆            ┆          ┆          ┆   ┆          ┆           ┆           ┆          │\n",
       "└─────────────┴────────────┴──────────┴──────────┴───┴──────────┴───────────┴───────────┴──────────┘"
      ]
     },
     "execution_count": 2,
     "metadata": {},
     "output_type": "execute_result"
    }
   ],
   "source": [
    "df_plsdb = pl.read_csv(\n",
    "    \"novelty_results_blast_plsdb.tsv\", separator=\"\\t\", has_header=False\n",
    ").with_columns(\n",
    "    pl.when(pl.col(\"column_10\") < pl.col(\"column_11\"))\n",
    "    .then(pl.col(\"column_4\") / pl.col(\"column_10\"))\n",
    "    .otherwise(pl.col(\"column_4\") / pl.col(\"column_11\"))\n",
    "    .alias(\"AF\")\n",
    ")\n",
    "\n",
    "df_plsdb.head()"
   ]
  },
  {
   "cell_type": "code",
   "execution_count": 3,
   "metadata": {},
   "outputs": [
    {
     "data": {
      "text/html": [
       "<div><style>\n",
       ".dataframe > thead > tr > th,\n",
       ".dataframe > tbody > tr > td {\n",
       "  text-align: right;\n",
       "  white-space: pre-wrap;\n",
       "}\n",
       "</style>\n",
       "<small>shape: (53_954, 1)</small><table border=\"1\" class=\"dataframe\"><thead><tr><th>column_1</th></tr><tr><td>str</td></tr></thead><tbody><tr><td>&quot;3300005289|Ga0…</td></tr><tr><td>&quot;MGYA00645605|E…</td></tr><tr><td>&quot;3300046491|Ga0…</td></tr><tr><td>&quot;3300049581|Ga0…</td></tr><tr><td>&quot;3300046523|Ga0…</td></tr><tr><td>&quot;3300046520|Ga0…</td></tr><tr><td>&quot;3300050031|Ga0…</td></tr><tr><td>&quot;3300049003|Ga0…</td></tr><tr><td>&quot;3300044739|Ga0…</td></tr><tr><td>&quot;3300044814|Ga0…</td></tr><tr><td>&quot;3300046463|Ga0…</td></tr><tr><td>&quot;3300046474|Ga0…</td></tr><tr><td>&hellip;</td></tr><tr><td>&quot;3300009092|Ga0…</td></tr><tr><td>&quot;MGYA00645762|E…</td></tr><tr><td>&quot;3300048820|Ga0…</td></tr><tr><td>&quot;3300060670|Ga0…</td></tr><tr><td>&quot;3300044683|Ga0…</td></tr><tr><td>&quot;3300036444|Ga0…</td></tr><tr><td>&quot;3300046543|Ga0…</td></tr><tr><td>&quot;3300042995|Ga0…</td></tr><tr><td>&quot;3300047318|Ga0…</td></tr><tr><td>&quot;3300047317|Ga0…</td></tr><tr><td>&quot;3300050241|Ga0…</td></tr><tr><td>&quot;3300049717|Ga0…</td></tr></tbody></table></div>"
      ],
      "text/plain": [
       "shape: (53_954, 1)\n",
       "┌───────────────────────────────────┐\n",
       "│ column_1                          │\n",
       "│ ---                               │\n",
       "│ str                               │\n",
       "╞═══════════════════════════════════╡\n",
       "│ 3300005289|Ga0065704_10071022     │\n",
       "│ MGYA00645605|ERZ12343744.97-NODE… │\n",
       "│ 3300046491|Ga0495584_0000533      │\n",
       "│ 3300049581|Ga0501047_0006147      │\n",
       "│ …                                 │\n",
       "│ 3300047318|Ga0495636_0003515      │\n",
       "│ 3300047317|Ga0495604_0003828      │\n",
       "│ 3300050241|Ga0506525_0002239      │\n",
       "│ 3300049717|Ga0495412_0007781      │\n",
       "└───────────────────────────────────┘"
      ]
     },
     "execution_count": 3,
     "metadata": {},
     "output_type": "execute_result"
    }
   ],
   "source": [
    "df_plsdb.filter(pl.col(\"AF\") <= 0.7).select(pl.col(\"column_1\")).unique()"
   ]
  },
  {
   "cell_type": "code",
   "execution_count": null,
   "metadata": {},
   "outputs": [],
   "source": []
  },
  {
   "cell_type": "code",
   "execution_count": null,
   "metadata": {},
   "outputs": [],
   "source": []
  },
  {
   "cell_type": "code",
   "execution_count": null,
   "metadata": {},
   "outputs": [],
   "source": []
  },
  {
   "cell_type": "code",
   "execution_count": 4,
   "metadata": {},
   "outputs": [
    {
     "data": {
      "text/html": [
       "<div><style>\n",
       ".dataframe > thead > tr > th,\n",
       ".dataframe > tbody > tr > td {\n",
       "  text-align: right;\n",
       "  white-space: pre-wrap;\n",
       "}\n",
       "</style>\n",
       "<small>shape: (5, 12)</small><table border=\"1\" class=\"dataframe\"><thead><tr><th>column_1</th><th>column_2</th><th>column_3</th><th>column_4</th><th>column_5</th><th>column_6</th><th>column_7</th><th>column_8</th><th>column_9</th><th>column_10</th><th>column_11</th><th>AF</th></tr><tr><td>str</td><td>str</td><td>f64</td><td>i64</td><td>i64</td><td>i64</td><td>i64</td><td>i64</td><td>f64</td><td>i64</td><td>i64</td><td>f64</td></tr></thead><tbody><tr><td>&quot;2088090014|GPI…</td><td>&quot;NZ_LR134451.1&quot;</td><td>100.0</td><td>30</td><td>4187</td><td>4216</td><td>216580</td><td>216609</td><td>0.001</td><td>5584</td><td>415783</td><td>0.005372</td></tr><tr><td>&quot;2088090014|GPI…</td><td>&quot;IMGPR_plasmid_…</td><td>84.821</td><td>112</td><td>6238</td><td>6346</td><td>127</td><td>18</td><td>4.9300e-19</td><td>8233</td><td>99508</td><td>0.013604</td></tr><tr><td>&quot;2088090014|GPI…</td><td>&quot;IMGPR_plasmid_…</td><td>93.056</td><td>72</td><td>6234</td><td>6305</td><td>31354</td><td>31425</td><td>1.7700e-18</td><td>8233</td><td>54171</td><td>0.008745</td></tr><tr><td>&quot;2088090014|GPI…</td><td>&quot;IMGPR_plasmid_…</td><td>93.056</td><td>72</td><td>6234</td><td>6305</td><td>20398</td><td>20327</td><td>1.7700e-18</td><td>8233</td><td>51491</td><td>0.008745</td></tr><tr><td>&quot;2088090014|GPI…</td><td>&quot;IMGPR_plasmid_…</td><td>100.0</td><td>56</td><td>6230</td><td>6285</td><td>12140</td><td>12195</td><td>6.3700e-18</td><td>8233</td><td>57820</td><td>0.006802</td></tr></tbody></table></div>"
      ],
      "text/plain": [
       "shape: (5, 12)\n",
       "┌────────────┬────────────┬──────────┬──────────┬───┬───────────┬───────────┬───────────┬──────────┐\n",
       "│ column_1   ┆ column_2   ┆ column_3 ┆ column_4 ┆ … ┆ column_9  ┆ column_10 ┆ column_11 ┆ AF       │\n",
       "│ ---        ┆ ---        ┆ ---      ┆ ---      ┆   ┆ ---       ┆ ---       ┆ ---       ┆ ---      │\n",
       "│ str        ┆ str        ┆ f64      ┆ i64      ┆   ┆ f64       ┆ i64       ┆ i64       ┆ f64      │\n",
       "╞════════════╪════════════╪══════════╪══════════╪═══╪═══════════╪═══════════╪═══════════╪══════════╡\n",
       "│ 2088090014 ┆ NZ_LR13445 ┆ 100.0    ┆ 30       ┆ … ┆ 0.001     ┆ 5584      ┆ 415783    ┆ 0.005372 │\n",
       "│ |GPIPI_169 ┆ 1.1        ┆          ┆          ┆   ┆           ┆           ┆           ┆          │\n",
       "│ 44593      ┆            ┆          ┆          ┆   ┆           ┆           ┆           ┆          │\n",
       "│ 2088090014 ┆ IMGPR_plas ┆ 84.821   ┆ 112      ┆ … ┆ 4.9300e-1 ┆ 8233      ┆ 99508     ┆ 0.013604 │\n",
       "│ |GPIPI_168 ┆ mid_330002 ┆          ┆          ┆   ┆ 9         ┆           ┆           ┆          │\n",
       "│ 84012      ┆ 8578_00003 ┆          ┆          ┆   ┆           ┆           ┆           ┆          │\n",
       "│            ┆ 5|…        ┆          ┆          ┆   ┆           ┆           ┆           ┆          │\n",
       "│ 2088090014 ┆ IMGPR_plas ┆ 93.056   ┆ 72       ┆ … ┆ 1.7700e-1 ┆ 8233      ┆ 54171     ┆ 0.008745 │\n",
       "│ |GPIPI_168 ┆ mid_256595 ┆          ┆          ┆   ┆ 8         ┆           ┆           ┆          │\n",
       "│ 84012      ┆ 6528_00000 ┆          ┆          ┆   ┆           ┆           ┆           ┆          │\n",
       "│            ┆ 2|…        ┆          ┆          ┆   ┆           ┆           ┆           ┆          │\n",
       "│ 2088090014 ┆ IMGPR_plas ┆ 93.056   ┆ 72       ┆ … ┆ 1.7700e-1 ┆ 8233      ┆ 51491     ┆ 0.008745 │\n",
       "│ |GPIPI_168 ┆ mid_256595 ┆          ┆          ┆   ┆ 8         ┆           ┆           ┆          │\n",
       "│ 84012      ┆ 6527_00000 ┆          ┆          ┆   ┆           ┆           ┆           ┆          │\n",
       "│            ┆ 5|…        ┆          ┆          ┆   ┆           ┆           ┆           ┆          │\n",
       "│ 2088090014 ┆ IMGPR_plas ┆ 100.0    ┆ 56       ┆ … ┆ 6.3700e-1 ┆ 8233      ┆ 57820     ┆ 0.006802 │\n",
       "│ |GPIPI_168 ┆ mid_330004 ┆          ┆          ┆   ┆ 8         ┆           ┆           ┆          │\n",
       "│ 84012      ┆ 8919_00141 ┆          ┆          ┆   ┆           ┆           ┆           ┆          │\n",
       "│            ┆ 0|…        ┆          ┆          ┆   ┆           ┆           ┆           ┆          │\n",
       "└────────────┴────────────┴──────────┴──────────┴───┴───────────┴───────────┴───────────┴──────────┘"
      ]
     },
     "execution_count": 4,
     "metadata": {},
     "output_type": "execute_result"
    }
   ],
   "source": [
    "df = pl.read_csv(\n",
    "    \"novelty_results_blast.tsv\", separator=\"\\t\", has_header=False\n",
    ").with_columns(\n",
    "    pl.when(pl.col(\"column_10\") < pl.col(\"column_11\"))\n",
    "    .then(pl.col(\"column_4\") / pl.col(\"column_10\"))\n",
    "    .otherwise(pl.col(\"column_4\") / pl.col(\"column_11\"))\n",
    "    .alias(\"AF\")\n",
    ")\n",
    "df.head()"
   ]
  },
  {
   "cell_type": "code",
   "execution_count": 6,
   "metadata": {},
   "outputs": [
    {
     "data": {
      "text/html": [
       "<div><style>\n",
       ".dataframe > thead > tr > th,\n",
       ".dataframe > tbody > tr > td {\n",
       "  text-align: right;\n",
       "  white-space: pre-wrap;\n",
       "}\n",
       "</style>\n",
       "<small>shape: (5, 13)</small><table border=\"1\" class=\"dataframe\"><thead><tr><th>column_1</th><th>column_2</th><th>column_3</th><th>column_4</th><th>column_5</th><th>column_6</th><th>column_7</th><th>column_8</th><th>column_9</th><th>column_10</th><th>column_11</th><th>AF</th><th>Origin</th></tr><tr><td>str</td><td>str</td><td>f64</td><td>i64</td><td>i64</td><td>i64</td><td>i64</td><td>i64</td><td>f64</td><td>i64</td><td>i64</td><td>f64</td><td>str</td></tr></thead><tbody><tr><td>&quot;2088090014|GPI…</td><td>&quot;IMGPR_plasmid_…</td><td>77.75</td><td>4346</td><td>725</td><td>5016</td><td>24950</td><td>20640</td><td>0.0</td><td>5097</td><td>33391</td><td>0.852658</td><td>&quot;IMG&quot;</td></tr><tr><td>&quot;2088090015|GPI…</td><td>&quot;IMGPR_plasmid_…</td><td>100.0</td><td>10776</td><td>68</td><td>10843</td><td>10776</td><td>1</td><td>0.0</td><td>10843</td><td>25248</td><td>0.993821</td><td>&quot;IMG&quot;</td></tr><tr><td>&quot;2088090015|GPI…</td><td>&quot;IMGPR_plasmid_…</td><td>100.0</td><td>9667</td><td>1</td><td>9667</td><td>9667</td><td>1</td><td>0.0</td><td>9983</td><td>9738</td><td>0.992709</td><td>&quot;IMG&quot;</td></tr><tr><td>&quot;2088090015|GPI…</td><td>&quot;IMGPR_plasmid_…</td><td>100.0</td><td>9667</td><td>1</td><td>9667</td><td>97</td><td>9763</td><td>0.0</td><td>9983</td><td>9763</td><td>0.990167</td><td>&quot;IMG&quot;</td></tr><tr><td>&quot;2088090015|GPI…</td><td>&quot;IMGPR_plasmid_…</td><td>100.0</td><td>9763</td><td>1</td><td>9763</td><td>1</td><td>9763</td><td>0.0</td><td>9763</td><td>9763</td><td>1.0</td><td>&quot;IMG&quot;</td></tr></tbody></table></div>"
      ],
      "text/plain": [
       "shape: (5, 13)\n",
       "┌──────────────┬─────────────┬──────────┬──────────┬───┬───────────┬───────────┬──────────┬────────┐\n",
       "│ column_1     ┆ column_2    ┆ column_3 ┆ column_4 ┆ … ┆ column_10 ┆ column_11 ┆ AF       ┆ Origin │\n",
       "│ ---          ┆ ---         ┆ ---      ┆ ---      ┆   ┆ ---       ┆ ---       ┆ ---      ┆ ---    │\n",
       "│ str          ┆ str         ┆ f64      ┆ i64      ┆   ┆ i64       ┆ i64       ┆ f64      ┆ str    │\n",
       "╞══════════════╪═════════════╪══════════╪══════════╪═══╪═══════════╪═══════════╪══════════╪════════╡\n",
       "│ 2088090014|G ┆ IMGPR_plasm ┆ 77.75    ┆ 4346     ┆ … ┆ 5097      ┆ 33391     ┆ 0.852658 ┆ IMG    │\n",
       "│ PIPI_1732012 ┆ id_33000214 ┆          ┆          ┆   ┆           ┆           ┆          ┆        │\n",
       "│ 7            ┆ 32_000211|… ┆          ┆          ┆   ┆           ┆           ┆          ┆        │\n",
       "│ 2088090015|G ┆ IMGPR_plasm ┆ 100.0    ┆ 10776    ┆ … ┆ 10843     ┆ 25248     ┆ 0.993821 ┆ IMG    │\n",
       "│ PICI_8837489 ┆ id_20880900 ┆          ┆          ┆   ┆           ┆           ┆          ┆        │\n",
       "│              ┆ 15_000024|… ┆          ┆          ┆   ┆           ┆           ┆          ┆        │\n",
       "│ 2088090015|G ┆ IMGPR_plasm ┆ 100.0    ┆ 9667     ┆ … ┆ 9983      ┆ 9738      ┆ 0.992709 ┆ IMG    │\n",
       "│ PICI_8946463 ┆ id_20880900 ┆          ┆          ┆   ┆           ┆           ┆          ┆        │\n",
       "│              ┆ 15_000057|… ┆          ┆          ┆   ┆           ┆           ┆          ┆        │\n",
       "│ 2088090015|G ┆ IMGPR_plasm ┆ 100.0    ┆ 9667     ┆ … ┆ 9983      ┆ 9763      ┆ 0.990167 ┆ IMG    │\n",
       "│ PICI_8946463 ┆ id_20880900 ┆          ┆          ┆   ┆           ┆           ┆          ┆        │\n",
       "│              ┆ 15_000045|… ┆          ┆          ┆   ┆           ┆           ┆          ┆        │\n",
       "│ 2088090015|G ┆ IMGPR_plasm ┆ 100.0    ┆ 9763     ┆ … ┆ 9763      ┆ 9763      ┆ 1.0      ┆ IMG    │\n",
       "│ PICI_9100369 ┆ id_20880900 ┆          ┆          ┆   ┆           ┆           ┆          ┆        │\n",
       "│              ┆ 15_000045|… ┆          ┆          ┆   ┆           ┆           ┆          ┆        │\n",
       "└──────────────┴─────────────┴──────────┴──────────┴───┴───────────┴───────────┴──────────┴────────┘"
      ]
     },
     "execution_count": 6,
     "metadata": {},
     "output_type": "execute_result"
    }
   ],
   "source": [
    "df_filtered_70 = df.filter(\n",
    "    (pl.col(\"column_3\") >= 70) & (pl.col(\"AF\") >= 0.7)\n",
    ").with_columns(\n",
    "    pl.col(\"column_2\")\n",
    "    .map_elements(lambda x: \"IMG\" if \"IMGPR\" in x else \"PLSDB\")\n",
    "    .alias(\"Origin\")\n",
    ")\n",
    "df_filtered_70.head()"
   ]
  },
  {
   "cell_type": "code",
   "execution_count": 7,
   "metadata": {},
   "outputs": [
    {
     "data": {
      "text/html": [
       "<div><style>\n",
       ".dataframe > thead > tr > th,\n",
       ".dataframe > tbody > tr > td {\n",
       "  text-align: right;\n",
       "  white-space: pre-wrap;\n",
       "}\n",
       "</style>\n",
       "<small>shape: (5_501, 1)</small><table border=\"1\" class=\"dataframe\"><thead><tr><th>column_1</th></tr><tr><td>str</td></tr></thead><tbody><tr><td>&quot;3300041407|Ga0…</td></tr><tr><td>&quot;3300047472|Ga0…</td></tr><tr><td>&quot;3300025728|Ga0…</td></tr><tr><td>&quot;3300009011|Ga0…</td></tr><tr><td>&quot;3300041411|Ga0…</td></tr><tr><td>&quot;3300049823|Ga0…</td></tr><tr><td>&quot;3300049571|Ga0…</td></tr><tr><td>&quot;3300011119|Ga0…</td></tr><tr><td>&quot;3300050221|Ga0…</td></tr><tr><td>&quot;3300025728|Ga0…</td></tr><tr><td>&quot;3300040210|Ga0…</td></tr><tr><td>&quot;3300005577|Ga0…</td></tr><tr><td>&hellip;</td></tr><tr><td>&quot;3300001915|JGI…</td></tr><tr><td>&quot;3300013307|Ga0…</td></tr><tr><td>&quot;3300046492|Ga0…</td></tr><tr><td>&quot;3300041404|Ga0…</td></tr><tr><td>&quot;3300046692|Ga0…</td></tr><tr><td>&quot;3300046524|Ga0…</td></tr><tr><td>&quot;3300048999|Ga0…</td></tr><tr><td>&quot;3300049909|Ga0…</td></tr><tr><td>&quot;3300000519|Rep…</td></tr><tr><td>&quot;3300046474|Ga0…</td></tr><tr><td>&quot;3300046520|Ga0…</td></tr><tr><td>&quot;3300039909|Ga0…</td></tr></tbody></table></div>"
      ],
      "text/plain": [
       "shape: (5_501, 1)\n",
       "┌───────────────────────────────────┐\n",
       "│ column_1                          │\n",
       "│ ---                               │\n",
       "│ str                               │\n",
       "╞═══════════════════════════════════╡\n",
       "│ 3300041407|Ga0439447_004069       │\n",
       "│ 3300047472|Ga0495686_0008906      │\n",
       "│ 3300025728|Ga0207655_1006587      │\n",
       "│ 3300009011|Ga0105251_10005422     │\n",
       "│ …                                 │\n",
       "│ 3300000519|RepKanNP_Acetate_BrdU… │\n",
       "│ 3300046474|Ga0495605_0003529      │\n",
       "│ 3300046520|Ga0495637_0007319      │\n",
       "│ 3300039909|Ga0397163_00433        │\n",
       "└───────────────────────────────────┘"
      ]
     },
     "execution_count": 7,
     "metadata": {},
     "output_type": "execute_result"
    }
   ],
   "source": [
    "df_filtered_70.filter(pl.col(\"Origin\") == \"PLSDB\").select(pl.col(\"column_1\")).unique()"
   ]
  },
  {
   "cell_type": "code",
   "execution_count": 8,
   "metadata": {},
   "outputs": [],
   "source": [
    "genomad_plasmids = 129_127"
   ]
  },
  {
   "cell_type": "code",
   "execution_count": 9,
   "metadata": {},
   "outputs": [
    {
     "name": "stdout",
     "output_type": "stream",
     "text": [
      "From the 129127 plasmids, there are 59609 \"novel\" plasmids when considering IMGPR + PLSDB\n",
      "From the 129127 plasmids, there are 123626 \"novel\" plasmids when considering PLSDB\n",
      "From the 129127 plasmids, there are 59821 \"novel\" plasmids when considering IMGPR\n"
     ]
    }
   ],
   "source": [
    "print(\n",
    "    f'From the {genomad_plasmids} plasmids, there are {genomad_plasmids - df_filtered_70.select(pl.col(\"column_1\")).unique().shape[0]} \"novel\" plasmids when considering IMGPR + PLSDB'\n",
    ")\n",
    "\n",
    "print(\n",
    "    f'From the {genomad_plasmids} plasmids, there are {genomad_plasmids - df_filtered_70.filter(pl.col(\"Origin\")==\"PLSDB\").select(pl.col(\"column_1\")).unique().shape[0]} \"novel\" plasmids when considering PLSDB'\n",
    ")\n",
    "\n",
    "print(\n",
    "    f'From the {genomad_plasmids} plasmids, there are {genomad_plasmids - df_filtered_70.filter(pl.col(\"Origin\")==\"IMG\").select(pl.col(\"column_1\")).unique().shape[0]} \"novel\" plasmids when considering IMGPR'\n",
    ")"
   ]
  },
  {
   "cell_type": "code",
   "execution_count": 17,
   "metadata": {},
   "outputs": [
    {
     "name": "stdout",
     "output_type": "stream",
     "text": [
      "From the 2614 DTR plasmids, 1592 are 'novel' considering IMGPR + PLSDB\n",
      "From the 2614 DTR plasmids, 2566 are 'novel' considering PLSDB\n",
      "From the 2614 DTR plasmids, 1594 are 'novel' considering IMGPR\n"
     ]
    }
   ],
   "source": [
    "def complete_unique(filter, which_data):\n",
    "    with open(\"complete.txt\") as f:\n",
    "        complete = [line.strip() for line in f]\n",
    "    num = 0\n",
    "    for series in df_filtered_70.filter(filter).select(\"column_1\").unique():\n",
    "        for contig in series.to_list():\n",
    "            if contig in complete:\n",
    "                num += 1\n",
    "\n",
    "    print(\n",
    "        f\"From the {len(complete)} DTR plasmids, {len(complete) - num} are 'novel' considering {which_data}\"\n",
    "    )\n",
    "\n",
    "\n",
    "complete_unique(pl.col(\"AF\") >= 0.7, \"IMGPR + PLSDB\")\n",
    "complete_unique((pl.col(\"AF\") >= 0.7) & (pl.col(\"Origin\") == \"PLSDB\"), \"PLSDB\")\n",
    "complete_unique((pl.col(\"AF\") >= 0.7) & (pl.col(\"Origin\") == \"IMG\"), \"IMGPR\")"
   ]
  },
  {
   "cell_type": "code",
   "execution_count": 11,
   "metadata": {},
   "outputs": [
    {
     "data": {
      "text/html": [
       "<div><style>\n",
       ".dataframe > thead > tr > th,\n",
       ".dataframe > tbody > tr > td {\n",
       "  text-align: right;\n",
       "  white-space: pre-wrap;\n",
       "}\n",
       "</style>\n",
       "<small>shape: (127_540_914, 12)</small><table border=\"1\" class=\"dataframe\"><thead><tr><th>column_1</th><th>column_2</th><th>column_3</th><th>column_4</th><th>column_5</th><th>column_6</th><th>column_7</th><th>column_8</th><th>column_9</th><th>column_10</th><th>column_11</th><th>AF</th></tr><tr><td>str</td><td>str</td><td>f64</td><td>i64</td><td>i64</td><td>i64</td><td>i64</td><td>i64</td><td>f64</td><td>i64</td><td>i64</td><td>f64</td></tr></thead><tbody><tr><td>&quot;2088090014|GPI…</td><td>&quot;NZ_LR134451.1&quot;</td><td>100.0</td><td>30</td><td>4187</td><td>4216</td><td>216580</td><td>216609</td><td>0.001</td><td>5584</td><td>415783</td><td>0.005372</td></tr><tr><td>&quot;2088090014|GPI…</td><td>&quot;IMGPR_plasmid_…</td><td>84.821</td><td>112</td><td>6238</td><td>6346</td><td>127</td><td>18</td><td>4.9300e-19</td><td>8233</td><td>99508</td><td>0.013604</td></tr><tr><td>&quot;2088090014|GPI…</td><td>&quot;IMGPR_plasmid_…</td><td>93.056</td><td>72</td><td>6234</td><td>6305</td><td>31354</td><td>31425</td><td>1.7700e-18</td><td>8233</td><td>54171</td><td>0.008745</td></tr><tr><td>&quot;2088090014|GPI…</td><td>&quot;IMGPR_plasmid_…</td><td>93.056</td><td>72</td><td>6234</td><td>6305</td><td>20398</td><td>20327</td><td>1.7700e-18</td><td>8233</td><td>51491</td><td>0.008745</td></tr><tr><td>&quot;2088090014|GPI…</td><td>&quot;IMGPR_plasmid_…</td><td>100.0</td><td>56</td><td>6230</td><td>6285</td><td>12140</td><td>12195</td><td>6.3700e-18</td><td>8233</td><td>57820</td><td>0.006802</td></tr><tr><td>&quot;2088090014|GPI…</td><td>&quot;IMGPR_plasmid_…</td><td>89.024</td><td>82</td><td>6230</td><td>6310</td><td>20048</td><td>19968</td><td>8.2400e-17</td><td>8233</td><td>20080</td><td>0.00996</td></tr><tr><td>&quot;2088090014|GPI…</td><td>&quot;IMGPR_plasmid_…</td><td>91.667</td><td>72</td><td>6234</td><td>6305</td><td>19004</td><td>18933</td><td>8.2400e-17</td><td>8233</td><td>54390</td><td>0.008745</td></tr><tr><td>&quot;2088090014|GPI…</td><td>&quot;IMGPR_plasmid_…</td><td>98.214</td><td>56</td><td>6230</td><td>6285</td><td>10553</td><td>10498</td><td>2.9700e-16</td><td>8233</td><td>17933</td><td>0.006802</td></tr><tr><td>&quot;2088090014|GPI…</td><td>&quot;IMGPR_plasmid_…</td><td>98.214</td><td>56</td><td>6230</td><td>6285</td><td>1222</td><td>1167</td><td>2.9700e-16</td><td>8233</td><td>28560</td><td>0.006802</td></tr><tr><td>&quot;2088090014|GPI…</td><td>&quot;IMGPR_plasmid_…</td><td>100.0</td><td>48</td><td>6238</td><td>6285</td><td>8840</td><td>8887</td><td>1.7800e-13</td><td>8233</td><td>9359</td><td>0.00583</td></tr><tr><td>&quot;2088090014|GPI…</td><td>&quot;IMGPR_plasmid_…</td><td>100.0</td><td>48</td><td>6239</td><td>6286</td><td>38803</td><td>38756</td><td>1.7800e-13</td><td>8233</td><td>49810</td><td>0.00583</td></tr><tr><td>&quot;2088090014|GPI…</td><td>&quot;IMGPR_plasmid_…</td><td>96.226</td><td>53</td><td>6230</td><td>6282</td><td>5106</td><td>5158</td><td>6.4200e-13</td><td>8233</td><td>25123</td><td>0.006438</td></tr><tr><td>&hellip;</td><td>&hellip;</td><td>&hellip;</td><td>&hellip;</td><td>&hellip;</td><td>&hellip;</td><td>&hellip;</td><td>&hellip;</td><td>&hellip;</td><td>&hellip;</td><td>&hellip;</td><td>&hellip;</td></tr><tr><td>&quot;MGYA00645778|E…</td><td>&quot;IMGPR_plasmid_…</td><td>96.97</td><td>33</td><td>4002</td><td>4034</td><td>31343</td><td>31375</td><td>0.001</td><td>5062</td><td>37289</td><td>0.006519</td></tr><tr><td>&quot;MGYA00645778|E…</td><td>&quot;IMGPR_plasmid_…</td><td>96.97</td><td>33</td><td>4002</td><td>4034</td><td>23434</td><td>23466</td><td>0.001</td><td>5062</td><td>29380</td><td>0.006519</td></tr><tr><td>&quot;MGYA00645778|E…</td><td>&quot;IMGPR_plasmid_…</td><td>100.0</td><td>30</td><td>4005</td><td>4034</td><td>11893</td><td>11864</td><td>0.001</td><td>5062</td><td>30899</td><td>0.005927</td></tr><tr><td>&quot;MGYA00645778|E…</td><td>&quot;IMGPR_plasmid_…</td><td>92.5</td><td>40</td><td>3994</td><td>4033</td><td>332565</td><td>332529</td><td>0.004</td><td>5062</td><td>388036</td><td>0.007902</td></tr><tr><td>&quot;MGYA00645778|E…</td><td>&quot;IMGPR_plasmid_…</td><td>92.5</td><td>40</td><td>3994</td><td>4033</td><td>332565</td><td>332529</td><td>0.004</td><td>5062</td><td>388036</td><td>0.007902</td></tr><tr><td>&quot;MGYA00645778|E…</td><td>&quot;IMGPR_plasmid_…</td><td>92.5</td><td>40</td><td>3994</td><td>4033</td><td>55472</td><td>55508</td><td>0.004</td><td>5062</td><td>388036</td><td>0.007902</td></tr><tr><td>&quot;MGYA00645778|E…</td><td>&quot;IMGPR_plasmid_…</td><td>92.5</td><td>40</td><td>3994</td><td>4033</td><td>55472</td><td>55508</td><td>0.004</td><td>5062</td><td>388036</td><td>0.007902</td></tr><tr><td>&quot;MGYA00645778|E…</td><td>&quot;IMGPR_plasmid_…</td><td>92.5</td><td>40</td><td>3994</td><td>4033</td><td>55472</td><td>55508</td><td>0.004</td><td>5062</td><td>388036</td><td>0.007902</td></tr><tr><td>&quot;MGYA00645778|E…</td><td>&quot;IMGPR_plasmid_…</td><td>92.5</td><td>40</td><td>3994</td><td>4033</td><td>55472</td><td>55508</td><td>0.004</td><td>5062</td><td>388036</td><td>0.007902</td></tr><tr><td>&quot;MGYA00645778|E…</td><td>&quot;NZ_LR594664.1&quot;</td><td>100.0</td><td>28</td><td>4731</td><td>4758</td><td>125751</td><td>125724</td><td>0.014</td><td>5062</td><td>425299</td><td>0.005531</td></tr><tr><td>&quot;MGYA00645778|E…</td><td>&quot;IMGPR_plasmid_…</td><td>100.0</td><td>28</td><td>4731</td><td>4758</td><td>3492</td><td>3519</td><td>0.014</td><td>5062</td><td>7270</td><td>0.005531</td></tr><tr><td>&quot;MGYA00645778|E…</td><td>&quot;IMGPR_plasmid_…</td><td>100.0</td><td>28</td><td>4731</td><td>4758</td><td>2026</td><td>2053</td><td>0.014</td><td>5062</td><td>6869</td><td>0.005531</td></tr></tbody></table></div>"
      ],
      "text/plain": [
       "shape: (127_540_914, 12)\n",
       "┌────────────┬────────────┬──────────┬──────────┬───┬───────────┬───────────┬───────────┬──────────┐\n",
       "│ column_1   ┆ column_2   ┆ column_3 ┆ column_4 ┆ … ┆ column_9  ┆ column_10 ┆ column_11 ┆ AF       │\n",
       "│ ---        ┆ ---        ┆ ---      ┆ ---      ┆   ┆ ---       ┆ ---       ┆ ---       ┆ ---      │\n",
       "│ str        ┆ str        ┆ f64      ┆ i64      ┆   ┆ f64       ┆ i64       ┆ i64       ┆ f64      │\n",
       "╞════════════╪════════════╪══════════╪══════════╪═══╪═══════════╪═══════════╪═══════════╪══════════╡\n",
       "│ 2088090014 ┆ NZ_LR13445 ┆ 100.0    ┆ 30       ┆ … ┆ 0.001     ┆ 5584      ┆ 415783    ┆ 0.005372 │\n",
       "│ |GPIPI_169 ┆ 1.1        ┆          ┆          ┆   ┆           ┆           ┆           ┆          │\n",
       "│ 44593      ┆            ┆          ┆          ┆   ┆           ┆           ┆           ┆          │\n",
       "│ 2088090014 ┆ IMGPR_plas ┆ 84.821   ┆ 112      ┆ … ┆ 4.9300e-1 ┆ 8233      ┆ 99508     ┆ 0.013604 │\n",
       "│ |GPIPI_168 ┆ mid_330002 ┆          ┆          ┆   ┆ 9         ┆           ┆           ┆          │\n",
       "│ 84012      ┆ 8578_00003 ┆          ┆          ┆   ┆           ┆           ┆           ┆          │\n",
       "│            ┆ 5|…        ┆          ┆          ┆   ┆           ┆           ┆           ┆          │\n",
       "│ 2088090014 ┆ IMGPR_plas ┆ 93.056   ┆ 72       ┆ … ┆ 1.7700e-1 ┆ 8233      ┆ 54171     ┆ 0.008745 │\n",
       "│ |GPIPI_168 ┆ mid_256595 ┆          ┆          ┆   ┆ 8         ┆           ┆           ┆          │\n",
       "│ 84012      ┆ 6528_00000 ┆          ┆          ┆   ┆           ┆           ┆           ┆          │\n",
       "│            ┆ 2|…        ┆          ┆          ┆   ┆           ┆           ┆           ┆          │\n",
       "│ 2088090014 ┆ IMGPR_plas ┆ 93.056   ┆ 72       ┆ … ┆ 1.7700e-1 ┆ 8233      ┆ 51491     ┆ 0.008745 │\n",
       "│ |GPIPI_168 ┆ mid_256595 ┆          ┆          ┆   ┆ 8         ┆           ┆           ┆          │\n",
       "│ 84012      ┆ 6527_00000 ┆          ┆          ┆   ┆           ┆           ┆           ┆          │\n",
       "│            ┆ 5|…        ┆          ┆          ┆   ┆           ┆           ┆           ┆          │\n",
       "│ …          ┆ …          ┆ …        ┆ …        ┆ … ┆ …         ┆ …         ┆ …         ┆ …        │\n",
       "│ MGYA006457 ┆ IMGPR_plas ┆ 92.5     ┆ 40       ┆ … ┆ 0.004     ┆ 5062      ┆ 388036    ┆ 0.007902 │\n",
       "│ 78|ERZ1263 ┆ mid_293565 ┆          ┆          ┆   ┆           ┆           ┆           ┆          │\n",
       "│ 3432.10224 ┆ 6913_00002 ┆          ┆          ┆   ┆           ┆           ┆           ┆          │\n",
       "│ -N…        ┆ 3|…        ┆          ┆          ┆   ┆           ┆           ┆           ┆          │\n",
       "│ MGYA006457 ┆ NZ_LR59466 ┆ 100.0    ┆ 28       ┆ … ┆ 0.014     ┆ 5062      ┆ 425299    ┆ 0.005531 │\n",
       "│ 78|ERZ1263 ┆ 4.1        ┆          ┆          ┆   ┆           ┆           ┆           ┆          │\n",
       "│ 3432.10224 ┆            ┆          ┆          ┆   ┆           ┆           ┆           ┆          │\n",
       "│ -N…        ┆            ┆          ┆          ┆   ┆           ┆           ┆           ┆          │\n",
       "│ MGYA006457 ┆ IMGPR_plas ┆ 100.0    ┆ 28       ┆ … ┆ 0.014     ┆ 5062      ┆ 7270      ┆ 0.005531 │\n",
       "│ 78|ERZ1263 ┆ mid_330003 ┆          ┆          ┆   ┆           ┆           ┆           ┆          │\n",
       "│ 3432.10224 ┆ 1133_00002 ┆          ┆          ┆   ┆           ┆           ┆           ┆          │\n",
       "│ -N…        ┆ 2|…        ┆          ┆          ┆   ┆           ┆           ┆           ┆          │\n",
       "│ MGYA006457 ┆ IMGPR_plas ┆ 100.0    ┆ 28       ┆ … ┆ 0.014     ┆ 5062      ┆ 6869      ┆ 0.005531 │\n",
       "│ 78|ERZ1263 ┆ mid_330004 ┆          ┆          ┆   ┆           ┆           ┆           ┆          │\n",
       "│ 3432.10224 ┆ 8848_00000 ┆          ┆          ┆   ┆           ┆           ┆           ┆          │\n",
       "│ -N…        ┆ 3|…        ┆          ┆          ┆   ┆           ┆           ┆           ┆          │\n",
       "└────────────┴────────────┴──────────┴──────────┴───┴───────────┴───────────┴───────────┴──────────┘"
      ]
     },
     "execution_count": 11,
     "metadata": {},
     "output_type": "execute_result"
    }
   ],
   "source": [
    "df"
   ]
  },
  {
   "cell_type": "code",
   "execution_count": 18,
   "metadata": {},
   "outputs": [],
   "source": [
    "with open(\"non_novel_plasmids.txt\", \"w\") as f:\n",
    "    for i in df_filtered_70[\"column_1\"].unique():\n",
    "        f.write(i + \"\\n\")"
   ]
  },
  {
   "cell_type": "code",
   "execution_count": null,
   "metadata": {},
   "outputs": [],
   "source": []
  }
 ],
 "metadata": {
  "kernelspec": {
   "display_name": "soil_metagenomes",
   "language": "python",
   "name": "soil_metagenomes"
  },
  "language_info": {
   "codemirror_mode": {
    "name": "ipython",
    "version": 3
   },
   "file_extension": ".py",
   "mimetype": "text/x-python",
   "name": "python",
   "nbconvert_exporter": "python",
   "pygments_lexer": "ipython3",
   "version": "3.8.15"
  }
 },
 "nbformat": 4,
 "nbformat_minor": 2
}
