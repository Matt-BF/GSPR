{
 "cells": [
  {
   "cell_type": "code",
   "execution_count": 1,
   "metadata": {},
   "outputs": [],
   "source": [
    "import pandas as pd\n",
    "import numpy as np\n",
    "import matplotlib.pyplot as plt\n",
    "import seaborn as sns\n",
    "import polars as pl"
   ]
  },
  {
   "cell_type": "code",
   "execution_count": 2,
   "metadata": {},
   "outputs": [],
   "source": [
    "df = pl.read_csv('qc.tsv', separator='\\t')"
   ]
  },
  {
   "cell_type": "code",
   "execution_count": 3,
   "metadata": {},
   "outputs": [
    {
     "data": {
      "text/plain": [
       "['seq_name',\n",
       " 'seq_length',\n",
       " 'n_ambiguous',\n",
       " 'longest_ambiguous',\n",
       " 'coding_density',\n",
       " 'avg_kmer',\n",
       " 'concatemer',\n",
       " 'dtr',\n",
       " 'itr']"
      ]
     },
     "execution_count": 3,
     "metadata": {},
     "output_type": "execute_result"
    }
   ],
   "source": [
    "df.columns"
   ]
  },
  {
   "cell_type": "code",
   "execution_count": 4,
   "metadata": {},
   "outputs": [
    {
     "data": {
      "image/png": "[encoded data removed]",
      "text/plain": [
       "<Figure size 640x480 with 1 Axes>"
      ]
     },
     "metadata": {},
     "output_type": "display_data"
    }
   ],
   "source": [
    "plt.hist(df.select('coding_density'), bins=100, range=[0,1], edgecolor='black', linewidth=.3);\n"
   ]
  },
  {
   "cell_type": "code",
   "execution_count": 5,
   "metadata": {},
   "outputs": [
    {
     "data": {
      "text/html": [
       "<div><style>\n",
       ".dataframe > thead > tr > th,\n",
       ".dataframe > tbody > tr > td {\n",
       "  text-align: right;\n",
       "  white-space: pre-wrap;\n",
       "}\n",
       "</style>\n",
       "<small>shape: (8_174, 1)</small><table border=\"1\" class=\"dataframe\"><thead><tr><th>seq_name</th></tr><tr><td>str</td></tr></thead><tbody><tr><td>&quot;2088090014|GPI…</td></tr><tr><td>&quot;2088090014|GPI…</td></tr><tr><td>&quot;2088090015|GPI…</td></tr><tr><td>&quot;2088090015|GPI…</td></tr><tr><td>&quot;2124908021|BSR…</td></tr><tr><td>&quot;2124908023|SwB…</td></tr><tr><td>&quot;2124908023|SwB…</td></tr><tr><td>&quot;2124908025|MBS…</td></tr><tr><td>&quot;2124908027|MRS…</td></tr><tr><td>&quot;2124908027|MRS…</td></tr><tr><td>&quot;2124908027|MRS…</td></tr><tr><td>&quot;2124908027|MRS…</td></tr><tr><td>&hellip;</td></tr><tr><td>&quot;MGYA00645778|E…</td></tr><tr><td>&quot;MGYA00645778|E…</td></tr><tr><td>&quot;MGYA00645778|E…</td></tr><tr><td>&quot;MGYA00645778|E…</td></tr><tr><td>&quot;MGYA00645778|E…</td></tr><tr><td>&quot;MGYA00645778|E…</td></tr><tr><td>&quot;MGYA00645778|E…</td></tr><tr><td>&quot;MGYA00645778|E…</td></tr><tr><td>&quot;MGYA00645778|E…</td></tr><tr><td>&quot;MGYA00645778|E…</td></tr><tr><td>&quot;MGYA00645778|E…</td></tr><tr><td>&quot;MGYA00645778|E…</td></tr></tbody></table></div>"
      ],
      "text/plain": [
       "shape: (8_174, 1)\n",
       "┌───────────────────────────────────┐\n",
       "│ seq_name                          │\n",
       "│ ---                               │\n",
       "│ str                               │\n",
       "╞═══════════════════════════════════╡\n",
       "│ 2088090014|GPIPI_16680485         │\n",
       "│ 2088090014|GPIPI_16773855         │\n",
       "│ 2088090015|GPICI_9127806          │\n",
       "│ 2088090015|GPICI_9148613          │\n",
       "│ …                                 │\n",
       "│ MGYA00645778|ERZ12633432.7869-NO… │\n",
       "│ MGYA00645778|ERZ12633432.7958-NO… │\n",
       "│ MGYA00645778|ERZ12633432.9418-NO… │\n",
       "│ MGYA00645778|ERZ12633432.9711-NO… │\n",
       "└───────────────────────────────────┘"
      ]
     },
     "execution_count": 5,
     "metadata": {},
     "output_type": "execute_result"
    }
   ],
   "source": [
    "df.filter(pl.col('concatemer')==True).select(pl.col('seq_name'))"
   ]
  },
  {
   "cell_type": "code",
   "execution_count": 6,
   "metadata": {},
   "outputs": [
    {
     "data": {
      "text/html": [
       "<div><style>\n",
       ".dataframe > thead > tr > th,\n",
       ".dataframe > tbody > tr > td {\n",
       "  text-align: right;\n",
       "  white-space: pre-wrap;\n",
       "}\n",
       "</style>\n",
       "<small>shape: (1, 9)</small><table border=\"1\" class=\"dataframe\"><thead><tr><th>seq_name</th><th>seq_length</th><th>n_ambiguous</th><th>longest_ambiguous</th><th>coding_density</th><th>avg_kmer</th><th>concatemer</th><th>dtr</th><th>itr</th></tr><tr><td>str</td><td>i64</td><td>i64</td><td>i64</td><td>f64</td><td>f64</td><td>bool</td><td>bool</td><td>bool</td></tr></thead><tbody><tr><td>&quot;3300044699|Ga0…</td><td>5082</td><td>0</td><td>0</td><td>1.0</td><td>84.3667</td><td>false</td><td>false</td><td>false</td></tr></tbody></table></div>"
      ],
      "text/plain": [
       "shape: (1, 9)\n",
       "┌─────────────┬────────────┬─────────────┬─────────────┬───┬──────────┬────────────┬───────┬───────┐\n",
       "│ seq_name    ┆ seq_length ┆ n_ambiguous ┆ longest_amb ┆ … ┆ avg_kmer ┆ concatemer ┆ dtr   ┆ itr   │\n",
       "│ ---         ┆ ---        ┆ ---         ┆ iguous      ┆   ┆ ---      ┆ ---        ┆ ---   ┆ ---   │\n",
       "│ str         ┆ i64        ┆ i64         ┆ ---         ┆   ┆ f64      ┆ bool       ┆ bool  ┆ bool  │\n",
       "│             ┆            ┆             ┆ i64         ┆   ┆          ┆            ┆       ┆       │\n",
       "╞═════════════╪════════════╪═════════════╪═════════════╪═══╪══════════╪════════════╪═══════╪═══════╡\n",
       "│ 3300044699| ┆ 5082       ┆ 0           ┆ 0           ┆ … ┆ 84.3667  ┆ false      ┆ false ┆ false │\n",
       "│ Ga0418691_0 ┆            ┆             ┆             ┆   ┆          ┆            ┆       ┆       │\n",
       "│ 8758        ┆            ┆             ┆             ┆   ┆          ┆            ┆       ┆       │\n",
       "└─────────────┴────────────┴─────────────┴─────────────┴───┴──────────┴────────────┴───────┴───────┘"
      ]
     },
     "execution_count": 6,
     "metadata": {},
     "output_type": "execute_result"
    }
   ],
   "source": [
    "df.filter(pl.col('avg_kmer') == pl.col('avg_kmer').max())"
   ]
  },
  {
   "cell_type": "code",
   "execution_count": 7,
   "metadata": {},
   "outputs": [
    {
     "data": {
      "image/png": "[encoded data removed]",
      "text/plain": [
       "<Figure size 640x480 with 1 Axes>"
      ]
     },
     "metadata": {},
     "output_type": "display_data"
    }
   ],
   "source": [
    "plt.hist(df.filter((pl.col('avg_kmer')>1.1)&(pl.col('avg_kmer')<=1.5)).select('avg_kmer'), bins=100,edgecolor='black', linewidth=.3);"
   ]
  },
  {
   "cell_type": "code",
   "execution_count": 8,
   "metadata": {},
   "outputs": [
    {
     "data": {
      "text/html": [
       "<div><style>\n",
       ".dataframe > thead > tr > th,\n",
       ".dataframe > tbody > tr > td {\n",
       "  text-align: right;\n",
       "  white-space: pre-wrap;\n",
       "}\n",
       "</style>\n",
       "<small>shape: (1_124_167, 9)</small><table border=\"1\" class=\"dataframe\"><thead><tr><th>seq_name</th><th>seq_length</th><th>n_ambiguous</th><th>longest_ambiguous</th><th>coding_density</th><th>avg_kmer</th><th>concatemer</th><th>dtr</th><th>itr</th></tr><tr><td>str</td><td>i64</td><td>i64</td><td>i64</td><td>f64</td><td>f64</td><td>bool</td><td>bool</td><td>bool</td></tr></thead><tbody><tr><td>&quot;2001200001|200…</td><td>9557</td><td>2275</td><td>11</td><td>0.1918</td><td>1.0</td><td>false</td><td>false</td><td>false</td></tr><tr><td>&quot;2001200001|200…</td><td>5854</td><td>500</td><td>3</td><td>0.3794</td><td>1.0</td><td>false</td><td>false</td><td>false</td></tr><tr><td>&quot;2001200001|200…</td><td>5211</td><td>204</td><td>3</td><td>0.1819</td><td>1.0</td><td>false</td><td>false</td><td>false</td></tr><tr><td>&quot;2001200001|200…</td><td>6844</td><td>826</td><td>5</td><td>0.5039</td><td>1.0</td><td>false</td><td>false</td><td>false</td></tr><tr><td>&quot;2001200001|200…</td><td>8106</td><td>1686</td><td>10</td><td>0.5291</td><td>1.0</td><td>false</td><td>false</td><td>false</td></tr><tr><td>&quot;2001200001|200…</td><td>5172</td><td>478</td><td>4</td><td>0.3602</td><td>1.0</td><td>false</td><td>false</td><td>false</td></tr><tr><td>&quot;2001200001|200…</td><td>5116</td><td>309</td><td>8</td><td>0.0915</td><td>1.0</td><td>false</td><td>false</td><td>false</td></tr><tr><td>&quot;2001200001|200…</td><td>5222</td><td>262</td><td>8</td><td>0.1522</td><td>1.0</td><td>false</td><td>false</td><td>false</td></tr><tr><td>&quot;2001200001|200…</td><td>6653</td><td>714</td><td>5</td><td>0.0997</td><td>1.0</td><td>false</td><td>false</td><td>false</td></tr><tr><td>&quot;2001200001|200…</td><td>5048</td><td>266</td><td>3</td><td>0.274</td><td>1.0</td><td>false</td><td>false</td><td>false</td></tr><tr><td>&quot;2001200001|200…</td><td>6092</td><td>709</td><td>4</td><td>0.3979</td><td>1.0</td><td>false</td><td>false</td><td>false</td></tr><tr><td>&quot;2001200001|200…</td><td>6473</td><td>601</td><td>4</td><td>0.3967</td><td>1.0</td><td>false</td><td>false</td><td>false</td></tr><tr><td>&hellip;</td><td>&hellip;</td><td>&hellip;</td><td>&hellip;</td><td>&hellip;</td><td>&hellip;</td><td>&hellip;</td><td>&hellip;</td><td>&hellip;</td></tr><tr><td>&quot;MGYA00645762|E…</td><td>5749</td><td>0</td><td>0</td><td>0.5947</td><td>1.0</td><td>false</td><td>false</td><td>false</td></tr><tr><td>&quot;MGYA00645762|E…</td><td>5615</td><td>0</td><td>0</td><td>0.5017</td><td>1.0002</td><td>false</td><td>false</td><td>false</td></tr><tr><td>&quot;MGYA00645762|E…</td><td>5463</td><td>0</td><td>0</td><td>0.5534</td><td>1.0004</td><td>false</td><td>false</td><td>false</td></tr><tr><td>&quot;MGYA00645762|E…</td><td>5219</td><td>0</td><td>0</td><td>0.5748</td><td>1.0</td><td>false</td><td>false</td><td>false</td></tr><tr><td>&quot;MGYA00645762|E…</td><td>5164</td><td>0</td><td>0</td><td>0.5873</td><td>1.0</td><td>false</td><td>false</td><td>false</td></tr><tr><td>&quot;MGYA00645778|E…</td><td>8302</td><td>0</td><td>0</td><td>0.5222</td><td>1.1306</td><td>false</td><td>false</td><td>false</td></tr><tr><td>&quot;MGYA00645778|E…</td><td>6550</td><td>0</td><td>0</td><td>0.5875</td><td>1.0</td><td>false</td><td>false</td><td>false</td></tr><tr><td>&quot;MGYA00645778|E…</td><td>5722</td><td>0</td><td>0</td><td>0.5315</td><td>1.0039</td><td>false</td><td>false</td><td>false</td></tr><tr><td>&quot;MGYA00645778|E…</td><td>5464</td><td>0</td><td>0</td><td>0.5974</td><td>1.0</td><td>false</td><td>false</td><td>false</td></tr><tr><td>&quot;MGYA00645778|E…</td><td>5126</td><td>0</td><td>0</td><td>0.5927</td><td>1.0</td><td>false</td><td>false</td><td>false</td></tr><tr><td>&quot;MGYA00645778|E…</td><td>5086</td><td>0</td><td>0</td><td>0.5674</td><td>1.0036</td><td>false</td><td>false</td><td>false</td></tr><tr><td>&quot;MGYA00645778|E…</td><td>5066</td><td>0</td><td>0</td><td>0.5393</td><td>1.0002</td><td>false</td><td>false</td><td>false</td></tr></tbody></table></div>"
      ],
      "text/plain": [
       "shape: (1_124_167, 9)\n",
       "┌─────────────┬────────────┬─────────────┬─────────────┬───┬──────────┬────────────┬───────┬───────┐\n",
       "│ seq_name    ┆ seq_length ┆ n_ambiguous ┆ longest_amb ┆ … ┆ avg_kmer ┆ concatemer ┆ dtr   ┆ itr   │\n",
       "│ ---         ┆ ---        ┆ ---         ┆ iguous      ┆   ┆ ---      ┆ ---        ┆ ---   ┆ ---   │\n",
       "│ str         ┆ i64        ┆ i64         ┆ ---         ┆   ┆ f64      ┆ bool       ┆ bool  ┆ bool  │\n",
       "│             ┆            ┆             ┆ i64         ┆   ┆          ┆            ┆       ┆       │\n",
       "╞═════════════╪════════════╪═════════════╪═════════════╪═══╪══════════╪════════════╪═══════╪═══════╡\n",
       "│ 2001200001| ┆ 9557       ┆ 2275        ┆ 11          ┆ … ┆ 1.0      ┆ false      ┆ false ┆ false │\n",
       "│ 2001250509  ┆            ┆             ┆             ┆   ┆          ┆            ┆       ┆       │\n",
       "│ 2001200001| ┆ 5854       ┆ 500         ┆ 3           ┆ … ┆ 1.0      ┆ false      ┆ false ┆ false │\n",
       "│ 2001250523  ┆            ┆             ┆             ┆   ┆          ┆            ┆       ┆       │\n",
       "│ 2001200001| ┆ 5211       ┆ 204         ┆ 3           ┆ … ┆ 1.0      ┆ false      ┆ false ┆ false │\n",
       "│ 2001250697  ┆            ┆             ┆             ┆   ┆          ┆            ┆       ┆       │\n",
       "│ 2001200001| ┆ 6844       ┆ 826         ┆ 5           ┆ … ┆ 1.0      ┆ false      ┆ false ┆ false │\n",
       "│ 2001252640  ┆            ┆             ┆             ┆   ┆          ┆            ┆       ┆       │\n",
       "│ …           ┆ …          ┆ …           ┆ …           ┆ … ┆ …        ┆ …          ┆ …     ┆ …     │\n",
       "│ MGYA0064577 ┆ 5464       ┆ 0           ┆ 0           ┆ … ┆ 1.0      ┆ false      ┆ false ┆ false │\n",
       "│ 8|ERZ126334 ┆            ┆             ┆             ┆   ┆          ┆            ┆       ┆       │\n",
       "│ 32.9145-NO… ┆            ┆             ┆             ┆   ┆          ┆            ┆       ┆       │\n",
       "│ MGYA0064577 ┆ 5126       ┆ 0           ┆ 0           ┆ … ┆ 1.0      ┆ false      ┆ false ┆ false │\n",
       "│ 8|ERZ126334 ┆            ┆             ┆             ┆   ┆          ┆            ┆       ┆       │\n",
       "│ 32.10029-N… ┆            ┆             ┆             ┆   ┆          ┆            ┆       ┆       │\n",
       "│ MGYA0064577 ┆ 5086       ┆ 0           ┆ 0           ┆ … ┆ 1.0036   ┆ false      ┆ false ┆ false │\n",
       "│ 8|ERZ126334 ┆            ┆             ┆             ┆   ┆          ┆            ┆       ┆       │\n",
       "│ 32.10155-N… ┆            ┆             ┆             ┆   ┆          ┆            ┆       ┆       │\n",
       "│ MGYA0064577 ┆ 5066       ┆ 0           ┆ 0           ┆ … ┆ 1.0002   ┆ false      ┆ false ┆ false │\n",
       "│ 8|ERZ126334 ┆            ┆             ┆             ┆   ┆          ┆            ┆       ┆       │\n",
       "│ 32.10212-N… ┆            ┆             ┆             ┆   ┆          ┆            ┆       ┆       │\n",
       "└─────────────┴────────────┴─────────────┴─────────────┴───┴──────────┴────────────┴───────┴───────┘"
      ]
     },
     "execution_count": 8,
     "metadata": {},
     "output_type": "execute_result"
    }
   ],
   "source": [
    "df.filter((pl.col('coding_density')<0.6))"
   ]
  },
  {
   "cell_type": "code",
   "execution_count": 9,
   "metadata": {},
   "outputs": [
    {
     "data": {
      "text/html": [
       "<div><style>\n",
       ".dataframe > thead > tr > th,\n",
       ".dataframe > tbody > tr > td {\n",
       "  text-align: right;\n",
       "  white-space: pre-wrap;\n",
       "}\n",
       "</style>\n",
       "<small>shape: (1_555, 9)</small><table border=\"1\" class=\"dataframe\"><thead><tr><th>seq_name</th><th>seq_length</th><th>n_ambiguous</th><th>longest_ambiguous</th><th>coding_density</th><th>avg_kmer</th><th>concatemer</th><th>dtr</th><th>itr</th></tr><tr><td>str</td><td>i64</td><td>i64</td><td>i64</td><td>f64</td><td>f64</td><td>bool</td><td>bool</td><td>bool</td></tr></thead><tbody><tr><td>&quot;2124908021|BSR…</td><td>137087</td><td>0</td><td>0</td><td>0.8729</td><td>2.2204</td><td>true</td><td>false</td><td>false</td></tr><tr><td>&quot;2124908025|MBS…</td><td>64068</td><td>1</td><td>1</td><td>0.9467</td><td>1.7201</td><td>true</td><td>false</td><td>false</td></tr><tr><td>&quot;2124908027|MRS…</td><td>86013</td><td>47</td><td>3</td><td>0.9334</td><td>1.7155</td><td>true</td><td>false</td><td>false</td></tr><tr><td>&quot;2124908027|MRS…</td><td>7396</td><td>156</td><td>53</td><td>0.8327</td><td>2.1981</td><td>true</td><td>false</td><td>false</td></tr><tr><td>&quot;2124908027|MRS…</td><td>279201</td><td>13</td><td>2</td><td>0.9451</td><td>7.4764</td><td>true</td><td>false</td><td>false</td></tr><tr><td>&quot;2162886008|PRS…</td><td>6493</td><td>0</td><td>0</td><td>0.9167</td><td>1.7471</td><td>true</td><td>false</td><td>false</td></tr><tr><td>&quot;2162886008|PRS…</td><td>6814</td><td>0</td><td>0</td><td>0.8678</td><td>1.5118</td><td>true</td><td>false</td><td>false</td></tr><tr><td>&quot;2189573022|PRS…</td><td>20242</td><td>0</td><td>0</td><td>0.759</td><td>2.6859</td><td>true</td><td>false</td><td>false</td></tr><tr><td>&quot;2189573022|PRS…</td><td>12682</td><td>0</td><td>0</td><td>0.9204</td><td>2.0032</td><td>true</td><td>false</td><td>false</td></tr><tr><td>&quot;2189573022|PRS…</td><td>116238</td><td>0</td><td>0</td><td>0.8958</td><td>3.0019</td><td>true</td><td>true</td><td>false</td></tr><tr><td>&quot;2189573022|PRS…</td><td>21455</td><td>0</td><td>0</td><td>0.6116</td><td>1.6822</td><td>true</td><td>false</td><td>false</td></tr><tr><td>&quot;2189573022|PRS…</td><td>92254</td><td>0</td><td>0</td><td>0.9064</td><td>2.6677</td><td>true</td><td>false</td><td>false</td></tr><tr><td>&hellip;</td><td>&hellip;</td><td>&hellip;</td><td>&hellip;</td><td>&hellip;</td><td>&hellip;</td><td>&hellip;</td><td>&hellip;</td><td>&hellip;</td></tr><tr><td>&quot;MGYA00645714|E…</td><td>10147</td><td>0</td><td>0</td><td>0.9754</td><td>1.6162</td><td>true</td><td>false</td><td>false</td></tr><tr><td>&quot;MGYA00645718|E…</td><td>14754</td><td>0</td><td>0</td><td>0.9193</td><td>1.8805</td><td>true</td><td>false</td><td>false</td></tr><tr><td>&quot;MGYA00645720|E…</td><td>9232</td><td>0</td><td>0</td><td>0.8543</td><td>2.007</td><td>true</td><td>false</td><td>false</td></tr><tr><td>&quot;MGYA00645723|E…</td><td>96905</td><td>0</td><td>0</td><td>0.9522</td><td>1.9489</td><td>true</td><td>false</td><td>false</td></tr><tr><td>&quot;MGYA00645723|E…</td><td>7776</td><td>0</td><td>0</td><td>0.9729</td><td>1.624</td><td>true</td><td>false</td><td>false</td></tr><tr><td>&quot;MGYA00645732|E…</td><td>8162</td><td>0</td><td>0</td><td>0.7813</td><td>1.6833</td><td>true</td><td>false</td><td>false</td></tr><tr><td>&quot;MGYA00645732|E…</td><td>6460</td><td>0</td><td>0</td><td>0.8711</td><td>1.9276</td><td>true</td><td>false</td><td>false</td></tr><tr><td>&quot;MGYA00645760|E…</td><td>93508</td><td>0</td><td>0</td><td>0.9203</td><td>1.806</td><td>true</td><td>false</td><td>false</td></tr><tr><td>&quot;MGYA00645760|E…</td><td>35344</td><td>0</td><td>0</td><td>0.9152</td><td>1.9963</td><td>true</td><td>false</td><td>false</td></tr><tr><td>&quot;MGYA00645762|E…</td><td>5031</td><td>0</td><td>0</td><td>0.9785</td><td>1.8614</td><td>true</td><td>false</td><td>false</td></tr><tr><td>&quot;MGYA00645778|E…</td><td>86369</td><td>0</td><td>0</td><td>0.9173</td><td>1.8917</td><td>true</td><td>false</td><td>false</td></tr><tr><td>&quot;MGYA00645778|E…</td><td>6016</td><td>0</td><td>0</td><td>0.9998</td><td>1.861</td><td>true</td><td>false</td><td>false</td></tr></tbody></table></div>"
      ],
      "text/plain": [
       "shape: (1_555, 9)\n",
       "┌─────────────┬────────────┬─────────────┬─────────────┬───┬──────────┬────────────┬───────┬───────┐\n",
       "│ seq_name    ┆ seq_length ┆ n_ambiguous ┆ longest_amb ┆ … ┆ avg_kmer ┆ concatemer ┆ dtr   ┆ itr   │\n",
       "│ ---         ┆ ---        ┆ ---         ┆ iguous      ┆   ┆ ---      ┆ ---        ┆ ---   ┆ ---   │\n",
       "│ str         ┆ i64        ┆ i64         ┆ ---         ┆   ┆ f64      ┆ bool       ┆ bool  ┆ bool  │\n",
       "│             ┆            ┆             ┆ i64         ┆   ┆          ┆            ┆       ┆       │\n",
       "╞═════════════╪════════════╪═════════════╪═════════════╪═══╪══════════╪════════════╪═══════╪═══════╡\n",
       "│ 2124908021| ┆ 137087     ┆ 0           ┆ 0           ┆ … ┆ 2.2204   ┆ true       ┆ false ┆ false │\n",
       "│ BSRL3_Conti ┆            ┆             ┆             ┆   ┆          ┆            ┆       ┆       │\n",
       "│ g_1         ┆            ┆             ┆             ┆   ┆          ┆            ┆       ┆       │\n",
       "│ 2124908025| ┆ 64068      ┆ 1           ┆ 1           ┆ … ┆ 1.7201   ┆ true       ┆ false ┆ false │\n",
       "│ MBSR2a_Cont ┆            ┆             ┆             ┆   ┆          ┆            ┆       ┆       │\n",
       "│ ig_1912     ┆            ┆             ┆             ┆   ┆          ┆            ┆       ┆       │\n",
       "│ 2124908027| ┆ 86013      ┆ 47          ┆ 3           ┆ … ┆ 1.7155   ┆ true       ┆ false ┆ false │\n",
       "│ MRS2a_Conti ┆            ┆             ┆             ┆   ┆          ┆            ┆       ┆       │\n",
       "│ g_206       ┆            ┆             ┆             ┆   ┆          ┆            ┆       ┆       │\n",
       "│ 2124908027| ┆ 7396       ┆ 156         ┆ 53          ┆ … ┆ 2.1981   ┆ true       ┆ false ┆ false │\n",
       "│ MRS2a_Conti ┆            ┆             ┆             ┆   ┆          ┆            ┆       ┆       │\n",
       "│ g_6788      ┆            ┆             ┆             ┆   ┆          ┆            ┆       ┆       │\n",
       "│ …           ┆ …          ┆ …           ┆ …           ┆ … ┆ …        ┆ …          ┆ …     ┆ …     │\n",
       "│ MGYA0064576 ┆ 35344      ┆ 0           ┆ 0           ┆ … ┆ 1.9963   ┆ true       ┆ false ┆ false │\n",
       "│ 0|ERZ126334 ┆            ┆             ┆             ┆   ┆          ┆            ┆       ┆       │\n",
       "│ 38.409-NOD… ┆            ┆             ┆             ┆   ┆          ┆            ┆       ┆       │\n",
       "│ MGYA0064576 ┆ 5031       ┆ 0           ┆ 0           ┆ … ┆ 1.8614   ┆ true       ┆ false ┆ false │\n",
       "│ 2|ERZ126334 ┆            ┆             ┆             ┆   ┆          ┆            ┆       ┆       │\n",
       "│ 31.10078-N… ┆            ┆             ┆             ┆   ┆          ┆            ┆       ┆       │\n",
       "│ MGYA0064577 ┆ 86369      ┆ 0           ┆ 0           ┆ … ┆ 1.8917   ┆ true       ┆ false ┆ false │\n",
       "│ 8|ERZ126334 ┆            ┆             ┆             ┆   ┆          ┆            ┆       ┆       │\n",
       "│ 32.82-NODE… ┆            ┆             ┆             ┆   ┆          ┆            ┆       ┆       │\n",
       "│ MGYA0064577 ┆ 6016       ┆ 0           ┆ 0           ┆ … ┆ 1.861    ┆ true       ┆ false ┆ false │\n",
       "│ 8|ERZ126334 ┆            ┆             ┆             ┆   ┆          ┆            ┆       ┆       │\n",
       "│ 32.7958-NO… ┆            ┆             ┆             ┆   ┆          ┆            ┆       ┆       │\n",
       "└─────────────┴────────────┴─────────────┴─────────────┴───┴──────────┴────────────┴───────┴───────┘"
      ]
     },
     "execution_count": 9,
     "metadata": {},
     "output_type": "execute_result"
    }
   ],
   "source": [
    "#Contigs to discard\n",
    "df.filter((pl.col('avg_kmer')>1.5) & (pl.col('concatemer')==True))"
   ]
  },
  {
   "cell_type": "code",
   "execution_count": 10,
   "metadata": {},
   "outputs": [
    {
     "data": {
      "text/html": [
       "<div><style>\n",
       ".dataframe > thead > tr > th,\n",
       ".dataframe > tbody > tr > td {\n",
       "  text-align: right;\n",
       "  white-space: pre-wrap;\n",
       "}\n",
       "</style>\n",
       "<small>shape: (30_590_519, 9)</small><table border=\"1\" class=\"dataframe\"><thead><tr><th>seq_name</th><th>seq_length</th><th>n_ambiguous</th><th>longest_ambiguous</th><th>coding_density</th><th>avg_kmer</th><th>concatemer</th><th>dtr</th><th>itr</th></tr><tr><td>str</td><td>i64</td><td>i64</td><td>i64</td><td>f64</td><td>f64</td><td>bool</td><td>bool</td><td>bool</td></tr></thead><tbody><tr><td>&quot;2001200001|200…</td><td>9557</td><td>2275</td><td>11</td><td>0.1918</td><td>1.0</td><td>false</td><td>false</td><td>false</td></tr><tr><td>&quot;2001200001|200…</td><td>5854</td><td>500</td><td>3</td><td>0.3794</td><td>1.0</td><td>false</td><td>false</td><td>false</td></tr><tr><td>&quot;2001200001|200…</td><td>5211</td><td>204</td><td>3</td><td>0.1819</td><td>1.0</td><td>false</td><td>false</td><td>false</td></tr><tr><td>&quot;2001200001|200…</td><td>6844</td><td>826</td><td>5</td><td>0.5039</td><td>1.0</td><td>false</td><td>false</td><td>false</td></tr><tr><td>&quot;2001200001|200…</td><td>8106</td><td>1686</td><td>10</td><td>0.5291</td><td>1.0</td><td>false</td><td>false</td><td>false</td></tr><tr><td>&quot;2001200001|200…</td><td>5172</td><td>478</td><td>4</td><td>0.3602</td><td>1.0</td><td>false</td><td>false</td><td>false</td></tr><tr><td>&quot;2001200001|200…</td><td>5116</td><td>309</td><td>8</td><td>0.0915</td><td>1.0</td><td>false</td><td>false</td><td>false</td></tr><tr><td>&quot;2001200001|200…</td><td>7824</td><td>1626</td><td>10</td><td>0.6898</td><td>1.0</td><td>false</td><td>false</td><td>false</td></tr><tr><td>&quot;2001200001|200…</td><td>5222</td><td>262</td><td>8</td><td>0.1522</td><td>1.0</td><td>false</td><td>false</td><td>false</td></tr><tr><td>&quot;2001200001|200…</td><td>7177</td><td>1720</td><td>10</td><td>0.6507</td><td>1.0</td><td>false</td><td>false</td><td>false</td></tr><tr><td>&quot;2001200001|200…</td><td>6653</td><td>714</td><td>5</td><td>0.0997</td><td>1.0</td><td>false</td><td>false</td><td>false</td></tr><tr><td>&quot;2001200001|200…</td><td>5538</td><td>389</td><td>3</td><td>0.6999</td><td>1.0</td><td>false</td><td>false</td><td>false</td></tr><tr><td>&hellip;</td><td>&hellip;</td><td>&hellip;</td><td>&hellip;</td><td>&hellip;</td><td>&hellip;</td><td>&hellip;</td><td>&hellip;</td><td>&hellip;</td></tr><tr><td>&quot;MGYA00645778|E…</td><td>5002</td><td>0</td><td>0</td><td>0.8551</td><td>1.0</td><td>false</td><td>false</td><td>false</td></tr><tr><td>&quot;MGYA00645778|E…</td><td>5002</td><td>0</td><td>0</td><td>0.9126</td><td>1.0</td><td>false</td><td>false</td><td>false</td></tr><tr><td>&quot;MGYA00645778|E…</td><td>5002</td><td>0</td><td>0</td><td>0.9168</td><td>1.0</td><td>false</td><td>false</td><td>false</td></tr><tr><td>&quot;MGYA00645778|E…</td><td>5002</td><td>0</td><td>0</td><td>0.9002</td><td>1.0016</td><td>false</td><td>false</td><td>false</td></tr><tr><td>&quot;MGYA00645778|E…</td><td>5002</td><td>0</td><td>0</td><td>0.8115</td><td>1.0</td><td>false</td><td>false</td><td>false</td></tr><tr><td>&quot;MGYA00645778|E…</td><td>5002</td><td>0</td><td>0</td><td>0.9066</td><td>1.0</td><td>false</td><td>false</td><td>false</td></tr><tr><td>&quot;MGYA00645778|E…</td><td>5001</td><td>0</td><td>0</td><td>0.8452</td><td>1.0</td><td>false</td><td>false</td><td>false</td></tr><tr><td>&quot;MGYA00645778|E…</td><td>5001</td><td>0</td><td>0</td><td>0.9556</td><td>1.0</td><td>false</td><td>false</td><td>false</td></tr><tr><td>&quot;MGYA00645778|E…</td><td>5000</td><td>0</td><td>0</td><td>0.954</td><td>1.0</td><td>false</td><td>false</td><td>false</td></tr><tr><td>&quot;MGYA00645778|E…</td><td>5000</td><td>0</td><td>0</td><td>0.8992</td><td>1.0</td><td>false</td><td>false</td><td>false</td></tr><tr><td>&quot;MGYA00645778|E…</td><td>5000</td><td>0</td><td>0</td><td>0.9228</td><td>1.0</td><td>false</td><td>false</td><td>false</td></tr><tr><td>&quot;MGYA00645778|E…</td><td>5000</td><td>0</td><td>0</td><td>0.9992</td><td>1.0</td><td>false</td><td>false</td><td>false</td></tr></tbody></table></div>"
      ],
      "text/plain": [
       "shape: (30_590_519, 9)\n",
       "┌─────────────┬────────────┬─────────────┬─────────────┬───┬──────────┬────────────┬───────┬───────┐\n",
       "│ seq_name    ┆ seq_length ┆ n_ambiguous ┆ longest_amb ┆ … ┆ avg_kmer ┆ concatemer ┆ dtr   ┆ itr   │\n",
       "│ ---         ┆ ---        ┆ ---         ┆ iguous      ┆   ┆ ---      ┆ ---        ┆ ---   ┆ ---   │\n",
       "│ str         ┆ i64        ┆ i64         ┆ ---         ┆   ┆ f64      ┆ bool       ┆ bool  ┆ bool  │\n",
       "│             ┆            ┆             ┆ i64         ┆   ┆          ┆            ┆       ┆       │\n",
       "╞═════════════╪════════════╪═════════════╪═════════════╪═══╪══════════╪════════════╪═══════╪═══════╡\n",
       "│ 2001200001| ┆ 9557       ┆ 2275        ┆ 11          ┆ … ┆ 1.0      ┆ false      ┆ false ┆ false │\n",
       "│ 2001250509  ┆            ┆             ┆             ┆   ┆          ┆            ┆       ┆       │\n",
       "│ 2001200001| ┆ 5854       ┆ 500         ┆ 3           ┆ … ┆ 1.0      ┆ false      ┆ false ┆ false │\n",
       "│ 2001250523  ┆            ┆             ┆             ┆   ┆          ┆            ┆       ┆       │\n",
       "│ 2001200001| ┆ 5211       ┆ 204         ┆ 3           ┆ … ┆ 1.0      ┆ false      ┆ false ┆ false │\n",
       "│ 2001250697  ┆            ┆             ┆             ┆   ┆          ┆            ┆       ┆       │\n",
       "│ 2001200001| ┆ 6844       ┆ 826         ┆ 5           ┆ … ┆ 1.0      ┆ false      ┆ false ┆ false │\n",
       "│ 2001252640  ┆            ┆             ┆             ┆   ┆          ┆            ┆       ┆       │\n",
       "│ …           ┆ …          ┆ …           ┆ …           ┆ … ┆ …        ┆ …          ┆ …     ┆ …     │\n",
       "│ MGYA0064577 ┆ 5000       ┆ 0           ┆ 0           ┆ … ┆ 1.0      ┆ false      ┆ false ┆ false │\n",
       "│ 8|ERZ126334 ┆            ┆             ┆             ┆   ┆          ┆            ┆       ┆       │\n",
       "│ 32.10413-N… ┆            ┆             ┆             ┆   ┆          ┆            ┆       ┆       │\n",
       "│ MGYA0064577 ┆ 5000       ┆ 0           ┆ 0           ┆ … ┆ 1.0      ┆ false      ┆ false ┆ false │\n",
       "│ 8|ERZ126334 ┆            ┆             ┆             ┆   ┆          ┆            ┆       ┆       │\n",
       "│ 32.10414-N… ┆            ┆             ┆             ┆   ┆          ┆            ┆       ┆       │\n",
       "│ MGYA0064577 ┆ 5000       ┆ 0           ┆ 0           ┆ … ┆ 1.0      ┆ false      ┆ false ┆ false │\n",
       "│ 8|ERZ126334 ┆            ┆             ┆             ┆   ┆          ┆            ┆       ┆       │\n",
       "│ 32.10415-N… ┆            ┆             ┆             ┆   ┆          ┆            ┆       ┆       │\n",
       "│ MGYA0064577 ┆ 5000       ┆ 0           ┆ 0           ┆ … ┆ 1.0      ┆ false      ┆ false ┆ false │\n",
       "│ 8|ERZ126334 ┆            ┆             ┆             ┆   ┆          ┆            ┆       ┆       │\n",
       "│ 32.10416-N… ┆            ┆             ┆             ┆   ┆          ┆            ┆       ┆       │\n",
       "└─────────────┴────────────┴─────────────┴─────────────┴───┴──────────┴────────────┴───────┴───────┘"
      ]
     },
     "execution_count": 10,
     "metadata": {},
     "output_type": "execute_result"
    }
   ],
   "source": [
    "#Contigs to keep\n",
    "df.filter((pl.col('avg_kmer')<1.5) & (pl.col('concatemer')==False))"
   ]
  },
  {
   "cell_type": "code",
   "execution_count": 11,
   "metadata": {},
   "outputs": [],
   "source": [
    "#Contigs to discard for now\n",
    "contig_list = sorted(df.filter((pl.col('avg_kmer')>1.5) & (pl.col('concatemer')==True)).select('seq_name').to_series().to_list())\n",
    "\n",
    "with open('exclude_contig_list.txt','w') as f:\n",
    "    for i in contig_list:\n",
    "        f.write(i)\n",
    "        f.write('\\n')"
   ]
  },
  {
   "cell_type": "code",
   "execution_count": 13,
   "metadata": {},
   "outputs": [],
   "source": [
    "#contigs with dtr\n",
    "contig_list2 = df.filter((pl.col('avg_kmer')<1.5) & (pl.col('concatemer')==False) & (pl.col('dtr')==True)).select('seq_name').to_series().to_list()\n",
    "\n",
    "with open('dtr_lists.txt','w') as f:\n",
    "    for i in contig_list2:\n",
    "        f.write(i)\n",
    "        f.write('\\n')"
   ]
  },
  {
   "cell_type": "code",
   "execution_count": null,
   "metadata": {},
   "outputs": [],
   "source": []
  }
 ],
 "metadata": {
  "kernelspec": {
   "display_name": "soil_metagenomes",
   "language": "python",
   "name": "soil_metagenomes"
  },
  "language_info": {
   "codemirror_mode": {
    "name": "ipython",
    "version": 3
   },
   "file_extension": ".py",
   "mimetype": "text/x-python",
   "name": "python",
   "nbconvert_exporter": "python",
   "pygments_lexer": "ipython3",
   "version": "3.8.15"
  }
 },
 "nbformat": 4,
 "nbformat_minor": 2
}
