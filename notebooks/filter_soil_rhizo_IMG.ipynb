{
 "cells": [
  {
   "cell_type": "code",
   "execution_count": 1,
   "metadata": {},
   "outputs": [],
   "source": [
    "import pandas as pd\n",
    "import numpy as np\n",
    "import matplotlib.pyplot as plt\n",
    "import seaborn as sns\n",
    "import ast"
   ]
  },
  {
   "cell_type": "code",
   "execution_count": 2,
   "metadata": {},
   "outputs": [],
   "source": [
    "df_img_env = pd.read_csv('../IMG_all_terrestrial_and_plant_metadata/IMG_all_environmental_metadata.tsv', sep='\\t')\n",
    "df_img_env_meta = pd.read_csv('../IMG_all_terrestrial_and_plant_metadata/metatranscriptome_IMG_all_environmental_metadata.tsv', sep='\\t')\n",
    "\n",
    "#Only get public data\n",
    "df_img_env = df_img_env[df_img_env['Is Public'] == 'Yes']\n",
    "df_img_env_meta = df_img_env_meta[df_img_env_meta['Is Public'] == 'Yes']\n",
    "df_img_env['Study_type'] = 'metagenomic'\n",
    "df_img_env_meta['Study_type'] = 'metatranscriptomic'\n",
    "df_img_env_full = pd.concat([df_img_env,df_img_env_meta])"
   ]
  },
  {
   "cell_type": "code",
   "execution_count": 3,
   "metadata": {},
   "outputs": [],
   "source": [
    "df_img_plant = pd.read_csv('../IMG_all_terrestrial_and_plant_metadata/IMG_all_plant-associated_metadata.tsv', sep='\\t')\n",
    "df_img_plant_meta = pd.read_csv('../IMG_all_terrestrial_and_plant_metadata/metatranscriptome_IMG_all_plant-associated_metadata.tsv', sep='\\t')\n",
    "\n",
    "#Only get public data\n",
    "df_img_plant = df_img_plant[df_img_plant['Is Public'] == 'Yes']\n",
    "df_img_plant_meta = df_img_plant_meta[df_img_plant_meta['Is Public'] == 'Yes']\n",
    "\n",
    "df_img_plant['Study_type'] = 'metagenomic'\n",
    "df_img_plant_meta['Study_type'] = 'metatranscriptomic'\n",
    "\n",
    "df_img_plant_full = pd.concat([df_img_plant_meta,df_img_plant])"
   ]
  },
  {
   "cell_type": "markdown",
   "metadata": {},
   "source": [
    "## Filter both tables for Soil and Rhizosphere"
   ]
  },
  {
   "cell_type": "code",
   "execution_count": 4,
   "metadata": {},
   "outputs": [
    {
     "data": {
      "text/plain": [
       "(10159, 25)"
      ]
     },
     "execution_count": 4,
     "metadata": {},
     "output_type": "execute_result"
    }
   ],
   "source": [
    "terms = 'Soil|Rhizosphere'\n",
    "df_img_soil = df_img_env_full[(df_img_env_full['Ecosystem Subtype'].str.contains(terms, case=False))\n",
    "       |(df_img_env_full['Geographic Location'].str.contains(terms, case=False, na=False))\n",
    "       |(df_img_env_full['Specific Ecosystem'].str.contains(terms, case=False,na=False))\n",
    "       |(df_img_env_full['Study Name'].str.contains(terms, case=False,na=False))\n",
    "       |(df_img_env_full['Ecosystem'].str.contains(terms, case=False,na=False))\n",
    "       |(df_img_env_full['Ecosystem Category'].str.contains(terms, case=False,na=False))\n",
    "       |(df_img_env_full['Ecosystem Type'].str.contains(terms, case=False,na=False))]\n",
    "df_img_env.shape"
   ]
  },
  {
   "cell_type": "code",
   "execution_count": 5,
   "metadata": {},
   "outputs": [
    {
     "data": {
      "text/plain": [
       "(1619, 25)"
      ]
     },
     "execution_count": 5,
     "metadata": {},
     "output_type": "execute_result"
    }
   ],
   "source": [
    "df_img_rhizo = df_img_plant_full[(df_img_plant_full['Ecosystem Subtype'].str.contains(terms, case=False,na=False))\n",
    "       |(df_img_plant_full['Geographic Location'].str.contains(terms, case=False, na=False))\n",
    "       |(df_img_plant_full['Specific Ecosystem'].str.contains(terms, case=False,na=False))\n",
    "       |(df_img_plant_full['Study Name'].str.contains(terms, case=False,na=False))\n",
    "       |(df_img_plant_full['Ecosystem'].str.contains(terms, case=False,na=False))\n",
    "       |(df_img_plant_full['Ecosystem Category'].str.contains(terms, case=False,na=False))\n",
    "       |(df_img_plant_full['Ecosystem Type'].str.contains(terms, case=False,na=False))]\n",
    "\n",
    "df_img_rhizo.shape"
   ]
  },
  {
   "cell_type": "markdown",
   "metadata": {},
   "source": [
    "df_img_rhizo = df_img_plant_full.query('Ecosystem==\"Rhizosphere\" | `Ecosystem Category`==\"Rhizosphere\" | `Ecosystem Subtype`==\"Rhizosphere\" | `Ecosystem Type`==\"Rhizosphere\" | `Specific Ecosystem`==\"Rhizosphere\"')\n",
    "df_img_rhizo.shape"
   ]
  },
  {
   "cell_type": "markdown",
   "metadata": {},
   "source": [
    "## Merge both tables"
   ]
  },
  {
   "cell_type": "code",
   "execution_count": 6,
   "metadata": {},
   "outputs": [
    {
     "data": {
      "text/html": [
       "<div>\n",
       "<style scoped>\n",
       "    .dataframe tbody tr th:only-of-type {\n",
       "        vertical-align: middle;\n",
       "    }\n",
       "\n",
       "    .dataframe tbody tr th {\n",
       "        vertical-align: top;\n",
       "    }\n",
       "\n",
       "    .dataframe thead th {\n",
       "        text-align: right;\n",
       "    }\n",
       "</style>\n",
       "<table border=\"1\" class=\"dataframe\">\n",
       "  <thead>\n",
       "    <tr style=\"text-align: right;\">\n",
       "      <th></th>\n",
       "      <th>Domain</th>\n",
       "      <th>Sequencing Status</th>\n",
       "      <th>Study Name</th>\n",
       "      <th>Genome Name / Sample Name</th>\n",
       "      <th>Sequencing Center</th>\n",
       "      <th>IMG Genome ID</th>\n",
       "      <th>Is Public</th>\n",
       "      <th>NCBI Assembly Accession</th>\n",
       "      <th>NCBI Bioproject Accession</th>\n",
       "      <th>NCBI Biosample Accession</th>\n",
       "      <th>...</th>\n",
       "      <th>Ecosystem Type</th>\n",
       "      <th>Specific Ecosystem</th>\n",
       "      <th>Geographic Location</th>\n",
       "      <th>Isolation Country</th>\n",
       "      <th>Latitude</th>\n",
       "      <th>Longitude</th>\n",
       "      <th>Genome Size   * assembled</th>\n",
       "      <th>Gene Count   * assembled</th>\n",
       "      <th>Unnamed: 23</th>\n",
       "      <th>Study_type</th>\n",
       "    </tr>\n",
       "    <tr>\n",
       "      <th>taxon_oid</th>\n",
       "      <th></th>\n",
       "      <th></th>\n",
       "      <th></th>\n",
       "      <th></th>\n",
       "      <th></th>\n",
       "      <th></th>\n",
       "      <th></th>\n",
       "      <th></th>\n",
       "      <th></th>\n",
       "      <th></th>\n",
       "      <th></th>\n",
       "      <th></th>\n",
       "      <th></th>\n",
       "      <th></th>\n",
       "      <th></th>\n",
       "      <th></th>\n",
       "      <th></th>\n",
       "      <th></th>\n",
       "      <th></th>\n",
       "      <th></th>\n",
       "      <th></th>\n",
       "    </tr>\n",
       "  </thead>\n",
       "  <tbody>\n",
       "    <tr>\n",
       "      <th>3300020080</th>\n",
       "      <td>*Microbiome</td>\n",
       "      <td>Permanent Draft</td>\n",
       "      <td>Corn, switchgrass and miscanthus rhizosphere m...</td>\n",
       "      <td>Corn rhizosphere microbial communities from Ke...</td>\n",
       "      <td>DOE Joint Genome Institute (JGI)</td>\n",
       "      <td>3300020080</td>\n",
       "      <td>Yes</td>\n",
       "      <td>NaN</td>\n",
       "      <td>PRJNA465143</td>\n",
       "      <td>SAMN09091661</td>\n",
       "      <td>...</td>\n",
       "      <td>Roots</td>\n",
       "      <td>Soil</td>\n",
       "      <td>USA: Michigan</td>\n",
       "      <td>USA</td>\n",
       "      <td>42.394800</td>\n",
       "      <td>-85.373800</td>\n",
       "      <td>874948499</td>\n",
       "      <td>1922239</td>\n",
       "      <td>NaN</td>\n",
       "      <td>metatranscriptomic</td>\n",
       "    </tr>\n",
       "    <tr>\n",
       "      <th>3300029276</th>\n",
       "      <td>*Microbiome</td>\n",
       "      <td>Permanent Draft</td>\n",
       "      <td>Effect of Agricultural Soil Managment Practice...</td>\n",
       "      <td>Sorghum rhizosphere microbial communities from...</td>\n",
       "      <td>QB3 Vincent J. Coates Genomics Sequencing Labo...</td>\n",
       "      <td>3300029276</td>\n",
       "      <td>Yes</td>\n",
       "      <td>NaN</td>\n",
       "      <td>NaN</td>\n",
       "      <td>NaN</td>\n",
       "      <td>...</td>\n",
       "      <td>Roots</td>\n",
       "      <td>Unclassified</td>\n",
       "      <td>Five Points, CA, USA</td>\n",
       "      <td>NaN</td>\n",
       "      <td>36.339058</td>\n",
       "      <td>-120.120310</td>\n",
       "      <td>36116671</td>\n",
       "      <td>65313</td>\n",
       "      <td>NaN</td>\n",
       "      <td>metatranscriptomic</td>\n",
       "    </tr>\n",
       "    <tr>\n",
       "      <th>3300003159</th>\n",
       "      <td>*Microbiome</td>\n",
       "      <td>Permanent Draft</td>\n",
       "      <td>Avena fatua rhizosphere microbial communities ...</td>\n",
       "      <td>Avena fatua rhizosphere microbial communities ...</td>\n",
       "      <td>DOE Joint Genome Institute (JGI)</td>\n",
       "      <td>3300003159</td>\n",
       "      <td>Yes</td>\n",
       "      <td>NaN</td>\n",
       "      <td>PRJNA366869</td>\n",
       "      <td>SAMN06268241</td>\n",
       "      <td>...</td>\n",
       "      <td>Roots</td>\n",
       "      <td>Soil</td>\n",
       "      <td>Hopland, California, USA</td>\n",
       "      <td>USA</td>\n",
       "      <td>38.973640</td>\n",
       "      <td>-123.117453</td>\n",
       "      <td>4005913</td>\n",
       "      <td>7924</td>\n",
       "      <td>NaN</td>\n",
       "      <td>metatranscriptomic</td>\n",
       "    </tr>\n",
       "    <tr>\n",
       "      <th>3300002864</th>\n",
       "      <td>*Microbiome</td>\n",
       "      <td>Permanent Draft</td>\n",
       "      <td>Avena fatua rhizosphere microbial communities ...</td>\n",
       "      <td>Avena fatua rhizosphere microbial communities ...</td>\n",
       "      <td>DOE Joint Genome Institute (JGI)</td>\n",
       "      <td>3300002864</td>\n",
       "      <td>Yes</td>\n",
       "      <td>NaN</td>\n",
       "      <td>PRJNA366862</td>\n",
       "      <td>SAMN06268234</td>\n",
       "      <td>...</td>\n",
       "      <td>Roots</td>\n",
       "      <td>Soil</td>\n",
       "      <td>Hopland, California, USA</td>\n",
       "      <td>USA</td>\n",
       "      <td>38.973640</td>\n",
       "      <td>-123.117453</td>\n",
       "      <td>7047355</td>\n",
       "      <td>20414</td>\n",
       "      <td>NaN</td>\n",
       "      <td>metatranscriptomic</td>\n",
       "    </tr>\n",
       "    <tr>\n",
       "      <th>3300023438</th>\n",
       "      <td>*Microbiome</td>\n",
       "      <td>Finished</td>\n",
       "      <td>Effect of Agricultural Soil Managment Practice...</td>\n",
       "      <td>Sorghum rhizosphere microbial communities from...</td>\n",
       "      <td>QB3 Vincent J. Coates Genomics Sequencing Labo...</td>\n",
       "      <td>3300023438</td>\n",
       "      <td>Yes</td>\n",
       "      <td>NaN</td>\n",
       "      <td>NaN</td>\n",
       "      <td>NaN</td>\n",
       "      <td>...</td>\n",
       "      <td>Roots</td>\n",
       "      <td>Unclassified</td>\n",
       "      <td>Five Points, CA, USA</td>\n",
       "      <td>USA</td>\n",
       "      <td>36.339059</td>\n",
       "      <td>-120.120310</td>\n",
       "      <td>37774483</td>\n",
       "      <td>65376</td>\n",
       "      <td>NaN</td>\n",
       "      <td>metatranscriptomic</td>\n",
       "    </tr>\n",
       "  </tbody>\n",
       "</table>\n",
       "<p>5 rows × 24 columns</p>\n",
       "</div>"
      ],
      "text/plain": [
       "                 Domain Sequencing Status  \\\n",
       "taxon_oid                                   \n",
       "3300020080  *Microbiome   Permanent Draft   \n",
       "3300029276  *Microbiome   Permanent Draft   \n",
       "3300003159  *Microbiome   Permanent Draft   \n",
       "3300002864  *Microbiome   Permanent Draft   \n",
       "3300023438  *Microbiome          Finished   \n",
       "\n",
       "                                                   Study Name  \\\n",
       "taxon_oid                                                       \n",
       "3300020080  Corn, switchgrass and miscanthus rhizosphere m...   \n",
       "3300029276  Effect of Agricultural Soil Managment Practice...   \n",
       "3300003159  Avena fatua rhizosphere microbial communities ...   \n",
       "3300002864  Avena fatua rhizosphere microbial communities ...   \n",
       "3300023438  Effect of Agricultural Soil Managment Practice...   \n",
       "\n",
       "                                    Genome Name / Sample Name  \\\n",
       "taxon_oid                                                       \n",
       "3300020080  Corn rhizosphere microbial communities from Ke...   \n",
       "3300029276  Sorghum rhizosphere microbial communities from...   \n",
       "3300003159  Avena fatua rhizosphere microbial communities ...   \n",
       "3300002864  Avena fatua rhizosphere microbial communities ...   \n",
       "3300023438  Sorghum rhizosphere microbial communities from...   \n",
       "\n",
       "                                            Sequencing Center  IMG Genome ID   \\\n",
       "taxon_oid                                                                       \n",
       "3300020080                   DOE Joint Genome Institute (JGI)      3300020080   \n",
       "3300029276  QB3 Vincent J. Coates Genomics Sequencing Labo...      3300029276   \n",
       "3300003159                   DOE Joint Genome Institute (JGI)      3300003159   \n",
       "3300002864                   DOE Joint Genome Institute (JGI)      3300002864   \n",
       "3300023438  QB3 Vincent J. Coates Genomics Sequencing Labo...      3300023438   \n",
       "\n",
       "           Is Public  NCBI Assembly Accession NCBI Bioproject Accession  \\\n",
       "taxon_oid                                                                 \n",
       "3300020080       Yes                      NaN               PRJNA465143   \n",
       "3300029276       Yes                      NaN                       NaN   \n",
       "3300003159       Yes                      NaN               PRJNA366869   \n",
       "3300002864       Yes                      NaN               PRJNA366862   \n",
       "3300023438       Yes                      NaN                       NaN   \n",
       "\n",
       "           NCBI Biosample Accession  ... Ecosystem Type Specific Ecosystem  \\\n",
       "taxon_oid                            ...                                     \n",
       "3300020080             SAMN09091661  ...          Roots               Soil   \n",
       "3300029276                      NaN  ...          Roots       Unclassified   \n",
       "3300003159             SAMN06268241  ...          Roots               Soil   \n",
       "3300002864             SAMN06268234  ...          Roots               Soil   \n",
       "3300023438                      NaN  ...          Roots       Unclassified   \n",
       "\n",
       "                 Geographic Location Isolation Country   Latitude   Longitude  \\\n",
       "taxon_oid                                                                       \n",
       "3300020080             USA: Michigan               USA  42.394800  -85.373800   \n",
       "3300029276      Five Points, CA, USA               NaN  36.339058 -120.120310   \n",
       "3300003159  Hopland, California, USA               USA  38.973640 -123.117453   \n",
       "3300002864  Hopland, California, USA               USA  38.973640 -123.117453   \n",
       "3300023438      Five Points, CA, USA               USA  36.339059 -120.120310   \n",
       "\n",
       "           Genome Size   * assembled Gene Count   * assembled  Unnamed: 23  \\\n",
       "taxon_oid                                                                    \n",
       "3300020080                 874948499                  1922239          NaN   \n",
       "3300029276                  36116671                    65313          NaN   \n",
       "3300003159                   4005913                     7924          NaN   \n",
       "3300002864                   7047355                    20414          NaN   \n",
       "3300023438                  37774483                    65376          NaN   \n",
       "\n",
       "                    Study_type  \n",
       "taxon_oid                       \n",
       "3300020080  metatranscriptomic  \n",
       "3300029276  metatranscriptomic  \n",
       "3300003159  metatranscriptomic  \n",
       "3300002864  metatranscriptomic  \n",
       "3300023438  metatranscriptomic  \n",
       "\n",
       "[5 rows x 24 columns]"
      ]
     },
     "execution_count": 6,
     "metadata": {},
     "output_type": "execute_result"
    }
   ],
   "source": [
    "df_img_soil_rhizo = pd.concat([df_img_rhizo.set_index('taxon_oid'),df_img_soil.set_index('taxon_oid')])\n",
    "\n",
    "df_img_soil_rhizo.head()"
   ]
  },
  {
   "cell_type": "markdown",
   "metadata": {},
   "source": [
    "### Are there duplicates?"
   ]
  },
  {
   "cell_type": "code",
   "execution_count": 7,
   "metadata": {},
   "outputs": [
    {
     "name": "stdout",
     "output_type": "stream",
     "text": [
      "(12492, 24)\n",
      "(12492, 24)\n"
     ]
    }
   ],
   "source": [
    "print(df_img_soil_rhizo.shape)\n",
    "print(df_img_soil_rhizo.drop_duplicates().shape)"
   ]
  },
  {
   "cell_type": "code",
   "execution_count": 8,
   "metadata": {},
   "outputs": [],
   "source": [
    "df_img_soil_rhizo.to_csv('../soil_metagenome/IMG_soil_rhizo_full_metadata.csv')"
   ]
  },
  {
   "cell_type": "markdown",
   "metadata": {},
   "source": [
    "fig, ax = plt.subplots(figsize=(8,10))\n",
    "sns.barplot(y=df_img['Specific Ecosystem'].value_counts().index, x=df_img['Specific Ecosystem'].value_counts().values, ax=ax)\n",
    "\n",
    "ax.set_title('IMG Soil samples Ecosystem classification')\n",
    "\n",
    "for i in ax.containers:\n",
    "    ax.bar_label(i,fmt=\"%g\", padding=3)\n",
    "\n",
    "sns.despine(fig)"
   ]
  }
 ],
 "metadata": {
  "kernelspec": {
   "display_name": "Python 3",
   "language": "python",
   "name": "python3"
  },
  "language_info": {
   "codemirror_mode": {
    "name": "ipython",
    "version": 3
   },
   "file_extension": ".py",
   "mimetype": "text/x-python",
   "name": "python",
   "nbconvert_exporter": "python",
   "pygments_lexer": "ipython3",
   "version": "3.11.5"
  },
  "orig_nbformat": 4
 },
 "nbformat": 4,
 "nbformat_minor": 2
}
