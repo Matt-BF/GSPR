{
 "cells": [
  {
   "cell_type": "code",
   "execution_count": 1,
   "metadata": {},
   "outputs": [],
   "source": [
    "import polars as pl\n",
    "import matplotlib.pyplot as plt\n",
    "import seaborn as sns\n",
    "import numpy as np\n",
    "import pandas as pd\n",
    "import duckdb\n",
    "from scipy import stats\n",
    "\n",
    "sns.set_style(\"whitegrid\")\n",
    "from scikit_posthocs import posthoc_dunn"
   ]
  },
  {
   "cell_type": "markdown",
   "metadata": {},
   "source": [
    "---\n",
    "### Host range"
   ]
  },
  {
   "cell_type": "code",
   "execution_count": 2,
   "metadata": {},
   "outputs": [
    {
     "data": {
      "text/html": [
       "<div><style>\n",
       ".dataframe > thead > tr,\n",
       ".dataframe > tbody > tr {\n",
       "  text-align: right;\n",
       "  white-space: pre-wrap;\n",
       "}\n",
       "</style>\n",
       "<small>shape: (5, 3)</small><table border=\"1\" class=\"dataframe\"><thead><tr><th>Plasmid</th><th>host</th><th>method</th></tr><tr><td>str</td><td>str</td><td>str</td></tr></thead><tbody><tr><td>&quot;2088090014|GPI…</td><td>&quot;d__Bacteria;p_…</td><td>&quot;iphop-blast&quot;</td></tr><tr><td>&quot;2088090014|GPI…</td><td>&quot;d__Bacteria;p_…</td><td>&quot;iphop-blast&quot;</td></tr><tr><td>&quot;2088090014|GPI…</td><td>&quot;d__Bacteria;p_…</td><td>&quot;iphop-blast&quot;</td></tr><tr><td>&quot;2088090014|GPI…</td><td>&quot;d__Bacteria;p_…</td><td>&quot;iphop-blast&quot;</td></tr><tr><td>&quot;2088090015|GPI…</td><td>&quot;d__Bacteria;p_…</td><td>&quot;iphop-blast&quot;</td></tr></tbody></table></div>"
      ],
      "text/plain": [
       "shape: (5, 3)\n",
       "┌───────────────────────────┬───────────────────────────────────┬─────────────┐\n",
       "│ Plasmid                   ┆ host                              ┆ method      │\n",
       "│ ---                       ┆ ---                               ┆ ---         │\n",
       "│ str                       ┆ str                               ┆ str         │\n",
       "╞═══════════════════════════╪═══════════════════════════════════╪═════════════╡\n",
       "│ 2088090014|GPIPI_16557027 ┆ d__Bacteria;p__Pseudomonadota;c_… ┆ iphop-blast │\n",
       "│ 2088090014|GPIPI_16557027 ┆ d__Bacteria;p__Pseudomonadota;c_… ┆ iphop-blast │\n",
       "│ 2088090014|GPIPI_16944593 ┆ d__Bacteria;p__Acidobacteriota;c… ┆ iphop-blast │\n",
       "│ 2088090014|GPIPI_16944593 ┆ d__Bacteria;p__Acidobacteriota;c… ┆ iphop-blast │\n",
       "│ 2088090015|GPICI_8721071  ┆ d__Bacteria;p__Actinomycetota;c_… ┆ iphop-blast │\n",
       "└───────────────────────────┴───────────────────────────────────┴─────────────┘"
      ]
     },
     "execution_count": 2,
     "metadata": {},
     "output_type": "execute_result"
    }
   ],
   "source": [
    "df = pl.read_csv(\n",
    "    \"../crispr_search/plasmid_host_taxonomy_consolidated_all_possible_hosts_final_derep.tsv\",\n",
    "    separator=\"\\t\",\n",
    ")\n",
    "\n",
    "df.head()"
   ]
  },
  {
   "cell_type": "code",
   "execution_count": 3,
   "metadata": {},
   "outputs": [
    {
     "data": {
      "text/plain": [
       "56764"
      ]
     },
     "execution_count": 3,
     "metadata": {},
     "output_type": "execute_result"
    }
   ],
   "source": [
    "df.unique(\"Plasmid\").shape[0]"
   ]
  },
  {
   "cell_type": "code",
   "execution_count": 4,
   "metadata": {},
   "outputs": [
    {
     "data": {
      "text/html": [
       "<div><style>\n",
       ".dataframe > thead > tr,\n",
       ".dataframe > tbody > tr {\n",
       "  text-align: right;\n",
       "  white-space: pre-wrap;\n",
       "}\n",
       "</style>\n",
       "<small>shape: (5, 9)</small><table border=\"1\" class=\"dataframe\"><thead><tr><th>Plasmid</th><th>host</th><th>method</th><th>phylum</th><th>cclass</th><th>order</th><th>family</th><th>genus</th><th>species</th></tr><tr><td>str</td><td>str</td><td>str</td><td>str</td><td>str</td><td>str</td><td>str</td><td>str</td><td>str</td></tr></thead><tbody><tr><td>&quot;2088090014|GPI…</td><td>&quot;d__Bacteria;p_…</td><td>&quot;iphop-blast&quot;</td><td>&quot;p__Pseudomonad…</td><td>&quot;c__Alphaproteo…</td><td>&quot;o__Rhizobiales…</td><td>&quot;f__Methylolige…</td><td>&quot;g__Methylocean…</td><td>&quot;s__Methylocean…</td></tr><tr><td>&quot;2088090014|GPI…</td><td>&quot;d__Bacteria;p_…</td><td>&quot;iphop-blast&quot;</td><td>&quot;p__Pseudomonad…</td><td>&quot;c__Alphaproteo…</td><td>&quot;o__Rhizobiales…</td><td>&quot;f__Methylolige…</td><td>&quot;g__Methylocean…</td><td>null</td></tr><tr><td>&quot;2088090014|GPI…</td><td>&quot;d__Bacteria;p_…</td><td>&quot;iphop-blast&quot;</td><td>&quot;p__Acidobacter…</td><td>&quot;c__Vicinamibac…</td><td>&quot;o__Vicinamibac…</td><td>&quot;f__UBA2999&quot;</td><td>&quot;g__2-02-FULL-6…</td><td>null</td></tr><tr><td>&quot;2088090014|GPI…</td><td>&quot;d__Bacteria;p_…</td><td>&quot;iphop-blast&quot;</td><td>&quot;p__Acidobacter…</td><td>&quot;c__Vicinamibac…</td><td>&quot;o__Vicinamibac…</td><td>&quot;f__UBA2999&quot;</td><td>&quot;g__2-02-FULL-6…</td><td>&quot;s__2-02-FULL-6…</td></tr><tr><td>&quot;2088090015|GPI…</td><td>&quot;d__Bacteria;p_…</td><td>&quot;iphop-blast&quot;</td><td>&quot;p__Actinomycet…</td><td>&quot;c__Thermoleoph…</td><td>&quot;o__Gaiellales&quot;</td><td>&quot;f__Gaiellaceae…</td><td>&quot;g__GMQP-bins7&quot;</td><td>null</td></tr></tbody></table></div>"
      ],
      "text/plain": [
       "shape: (5, 9)\n",
       "┌───────────┬───────────┬───────────┬───────────┬───┬───────────┬───────────┬───────────┬──────────┐\n",
       "│ Plasmid   ┆ host      ┆ method    ┆ phylum    ┆ … ┆ order     ┆ family    ┆ genus     ┆ species  │\n",
       "│ ---       ┆ ---       ┆ ---       ┆ ---       ┆   ┆ ---       ┆ ---       ┆ ---       ┆ ---      │\n",
       "│ str       ┆ str       ┆ str       ┆ str       ┆   ┆ str       ┆ str       ┆ str       ┆ str      │\n",
       "╞═══════════╪═══════════╪═══════════╪═══════════╪═══╪═══════════╪═══════════╪═══════════╪══════════╡\n",
       "│ 208809001 ┆ d__Bacter ┆ iphop-bla ┆ p__Pseudo ┆ … ┆ o__Rhizob ┆ f__Methyl ┆ g__Methyl ┆ s__Methy │\n",
       "│ 4|GPIPI_1 ┆ ia;p__Pse ┆ st        ┆ monadota  ┆   ┆ iales     ┆ oligellac ┆ oceanibac ┆ loceanib │\n",
       "│ 6557027   ┆ udomonado ┆           ┆           ┆   ┆           ┆ eae       ┆ ter       ┆ acter    │\n",
       "│           ┆ ta;c_…    ┆           ┆           ┆   ┆           ┆           ┆           ┆ sp003135 │\n",
       "│           ┆           ┆           ┆           ┆   ┆           ┆           ┆           ┆ 45…      │\n",
       "│ 208809001 ┆ d__Bacter ┆ iphop-bla ┆ p__Pseudo ┆ … ┆ o__Rhizob ┆ f__Methyl ┆ g__Methyl ┆ null     │\n",
       "│ 4|GPIPI_1 ┆ ia;p__Pse ┆ st        ┆ monadota  ┆   ┆ iales     ┆ oligellac ┆ oceanibac ┆          │\n",
       "│ 6557027   ┆ udomonado ┆           ┆           ┆   ┆           ┆ eae       ┆ ter       ┆          │\n",
       "│           ┆ ta;c_…    ┆           ┆           ┆   ┆           ┆           ┆           ┆          │\n",
       "│ 208809001 ┆ d__Bacter ┆ iphop-bla ┆ p__Acidob ┆ … ┆ o__Vicina ┆ f__UBA299 ┆ g__2-02-F ┆ null     │\n",
       "│ 4|GPIPI_1 ┆ ia;p__Aci ┆ st        ┆ acteriota ┆   ┆ mibactera ┆ 9         ┆ ULL-65-29 ┆          │\n",
       "│ 6944593   ┆ dobacteri ┆           ┆           ┆   ┆ les       ┆           ┆           ┆          │\n",
       "│           ┆ ota;c…    ┆           ┆           ┆   ┆           ┆           ┆           ┆          │\n",
       "│ 208809001 ┆ d__Bacter ┆ iphop-bla ┆ p__Acidob ┆ … ┆ o__Vicina ┆ f__UBA299 ┆ g__2-02-F ┆ s__2-02- │\n",
       "│ 4|GPIPI_1 ┆ ia;p__Aci ┆ st        ┆ acteriota ┆   ┆ mibactera ┆ 9         ┆ ULL-65-29 ┆ FULL-65- │\n",
       "│ 6944593   ┆ dobacteri ┆           ┆           ┆   ┆ les       ┆           ┆           ┆ 29 sp001 │\n",
       "│           ┆ ota;c…    ┆           ┆           ┆   ┆           ┆           ┆           ┆ 767435   │\n",
       "│ 208809001 ┆ d__Bacter ┆ iphop-bla ┆ p__Actino ┆ … ┆ o__Gaiell ┆ f__Gaiell ┆ g__GMQP-b ┆ null     │\n",
       "│ 5|GPICI_8 ┆ ia;p__Act ┆ st        ┆ mycetota  ┆   ┆ ales      ┆ aceae     ┆ ins7      ┆          │\n",
       "│ 721071    ┆ inomyceto ┆           ┆           ┆   ┆           ┆           ┆           ┆          │\n",
       "│           ┆ ta;c_…    ┆           ┆           ┆   ┆           ┆           ┆           ┆          │\n",
       "└───────────┴───────────┴───────────┴───────────┴───┴───────────┴───────────┴───────────┴──────────┘"
      ]
     },
     "execution_count": 4,
     "metadata": {},
     "output_type": "execute_result"
    }
   ],
   "source": [
    "df = df.with_columns(\n",
    "    phylum=pl.col(\"host\").str.split(\";\").list.get(1),\n",
    "    cclass=pl.col(\"host\").str.split(\";\").list.get(2),\n",
    "    order=pl.col(\"host\").str.split(\";\").list.get(3),\n",
    "    family=pl.col(\"host\").str.split(\";\").list.get(4),\n",
    "    genus=pl.col(\"host\").str.split(\";\").list.get(5),\n",
    "    species=pl.col(\"host\").str.split(\";\").list.get(6),\n",
    ")\n",
    "\n",
    "df.head()"
   ]
  },
  {
   "cell_type": "code",
   "execution_count": 5,
   "metadata": {},
   "outputs": [],
   "source": [
    "con = duckdb.connect(\"../soil_plasmid.db\")\n",
    "ptus = con.sql(\"SELECT * FROM ptu_derep\").df().set_index(\"pOTU\")\n",
    "con.close()\n",
    "\n",
    "ptus_mapping = {}\n",
    "\n",
    "for i in ptus.index:\n",
    "    plasmids = ptus.loc[i][\"Members\"].split(\",\")\n",
    "    for plasmid in plasmids:\n",
    "        if \"IMGPR\" in plasmid:\n",
    "            plasmid = plasmid.split(\"|\")[0]\n",
    "        ptus_mapping[plasmid] = i"
   ]
  },
  {
   "cell_type": "code",
   "execution_count": null,
   "metadata": {},
   "outputs": [
    {
     "data": {
      "text/html": [
       "<div><style>\n",
       ".dataframe > thead > tr,\n",
       ".dataframe > tbody > tr {\n",
       "  text-align: right;\n",
       "  white-space: pre-wrap;\n",
       "}\n",
       "</style>\n",
       "<small>shape: (5, 27)</small><table border=\"1\" class=\"dataframe\"><thead><tr><th>taxon_oid</th><th>Ecosystem Subtype</th><th>Latitude</th><th>Longitude</th><th>Origin</th><th>Isolation Country</th><th>Ecosystem Subtype Custom</th><th>Plasmid Count</th><th>soil_class</th><th>bdod (cg/cm³)</th><th>cec (mmol(c)/kg)</th><th>cfvo (cm³/dm³)</th><th>clay (g/kg)</th><th>nitrogen (cg/kg)</th><th>ocd (dg/dm³)</th><th>phh2o (pH*10)</th><th>sand (g/kg)</th><th>silt (g/kg)</th><th>soc (dg/kg)</th><th>geometry</th><th>index_right</th><th>ECO_NAME</th><th>WWF_REALM</th><th>RealmMHT</th><th>WWF_REALM2</th><th>WWF_MHTNUM</th><th>WWF_MHTNAM</th></tr><tr><td>str</td><td>str</td><td>f64</td><td>f64</td><td>str</td><td>str</td><td>str</td><td>i64</td><td>str</td><td>i64</td><td>i64</td><td>i64</td><td>i64</td><td>i64</td><td>i64</td><td>i64</td><td>i64</td><td>i64</td><td>i64</td><td>str</td><td>f64</td><td>str</td><td>str</td><td>str</td><td>str</td><td>f64</td><td>str</td></tr></thead><tbody><tr><td>&quot;3300049023&quot;</td><td>&quot;Grasslands&quot;</td><td>38.53</td><td>-121.78</td><td>&quot;Meta&quot;</td><td>&quot;USA&quot;</td><td>&quot;Grasslands&quot;</td><td>36</td><td>&quot;Luvisols&quot;</td><td>152</td><td>252</td><td>4</td><td>267</td><td>395</td><td>332</td><td>69</td><td>171</td><td>562</td><td>335</td><td>&quot;POINT (-121.78…</td><td>761.0</td><td>&quot;Great Central …</td><td>&quot;NA&quot;</td><td>&quot;NA12&quot;</td><td>&quot;Nearctic&quot;</td><td>12.0</td><td>&quot;Mediterranean …</td></tr><tr><td>&quot;3300012840&quot;</td><td>&quot;Grasslands&quot;</td><td>43.07</td><td>-89.4</td><td>&quot;Meta&quot;</td><td>&quot;USA&quot;</td><td>&quot;Grasslands&quot;</td><td>21</td><td>&quot;Luvisols&quot;</td><td>null</td><td>null</td><td>null</td><td>null</td><td>null</td><td>null</td><td>null</td><td>null</td><td>null</td><td>null</td><td>&quot;POINT (-89.4 4…</td><td>187.0</td><td>&quot;Prairie-Forest…</td><td>&quot;NA&quot;</td><td>&quot;NA4&quot;</td><td>&quot;Nearctic&quot;</td><td>4.0</td><td>&quot;Temperate Broa…</td></tr><tr><td>&quot;3300039503&quot;</td><td>&quot;Unclassified&quot;</td><td>63.88</td><td>-149.23</td><td>&quot;Meta&quot;</td><td>&quot;USA&quot;</td><td>&quot;Unclassified&quot;</td><td>3</td><td>&quot;Cambisols&quot;</td><td>60</td><td>541</td><td>112</td><td>137</td><td>1084</td><td>670</td><td>49</td><td>367</td><td>496</td><td>2409</td><td>&quot;POINT (-149.23…</td><td>734.0</td><td>&quot;Alaska Range&quot;</td><td>&quot;NA&quot;</td><td>&quot;NA6&quot;</td><td>&quot;Nearctic&quot;</td><td>6.0</td><td>&quot;Boreal Forests…</td></tr><tr><td>&quot;3300042005&quot;</td><td>&quot;Rhizosphere&quot;</td><td>41.2</td><td>-97.94</td><td>&quot;Meta&quot;</td><td>&quot;USA&quot;</td><td>&quot;Rhizosphere&quot;</td><td>6</td><td>&quot;Kastanozems&quot;</td><td>135</td><td>182</td><td>3</td><td>163</td><td>299</td><td>377</td><td>63</td><td>594</td><td>242</td><td>301</td><td>&quot;POINT (-97.94 …</td><td>747.0</td><td>&quot;Central Mixed-…</td><td>&quot;NA&quot;</td><td>&quot;NA8&quot;</td><td>&quot;Nearctic&quot;</td><td>8.0</td><td>&quot;Temperate Gras…</td></tr><tr><td>&quot;3300049265&quot;</td><td>&quot;Agricultural l…</td><td>38.55</td><td>-121.87</td><td>&quot;Meta&quot;</td><td>&quot;USA&quot;</td><td>&quot;Agricultural l…</td><td>1</td><td>&quot;Vertisols&quot;</td><td>158</td><td>235</td><td>8</td><td>297</td><td>253</td><td>330</td><td>69</td><td>195</td><td>508</td><td>274</td><td>&quot;POINT (-121.87…</td><td>761.0</td><td>&quot;Great Central …</td><td>&quot;NA&quot;</td><td>&quot;NA12&quot;</td><td>&quot;Nearctic&quot;</td><td>12.0</td><td>&quot;Mediterranean …</td></tr></tbody></table></div>"
      ],
      "text/plain": [
       "shape: (5, 27)\n",
       "┌────────────┬───────────┬──────────┬───────────┬───┬──────────┬───────────┬───────────┬───────────┐\n",
       "│ taxon_oid  ┆ Ecosystem ┆ Latitude ┆ Longitude ┆ … ┆ RealmMHT ┆ WWF_REALM ┆ WWF_MHTNU ┆ WWF_MHTNA │\n",
       "│ ---        ┆ Subtype   ┆ ---      ┆ ---       ┆   ┆ ---      ┆ 2         ┆ M         ┆ M         │\n",
       "│ str        ┆ ---       ┆ f64      ┆ f64       ┆   ┆ str      ┆ ---       ┆ ---       ┆ ---       │\n",
       "│            ┆ str       ┆          ┆           ┆   ┆          ┆ str       ┆ f64       ┆ str       │\n",
       "╞════════════╪═══════════╪══════════╪═══════════╪═══╪══════════╪═══════════╪═══════════╪═══════════╡\n",
       "│ 3300049023 ┆ Grassland ┆ 38.53    ┆ -121.78   ┆ … ┆ NA12     ┆ Nearctic  ┆ 12.0      ┆ Mediterra │\n",
       "│            ┆ s         ┆          ┆           ┆   ┆          ┆           ┆           ┆ nean      │\n",
       "│            ┆           ┆          ┆           ┆   ┆          ┆           ┆           ┆ Forests,  │\n",
       "│            ┆           ┆          ┆           ┆   ┆          ┆           ┆           ┆ Woodlands │\n",
       "│            ┆           ┆          ┆           ┆   ┆          ┆           ┆           ┆ …         │\n",
       "│ 3300012840 ┆ Grassland ┆ 43.07    ┆ -89.4     ┆ … ┆ NA4      ┆ Nearctic  ┆ 4.0       ┆ Temperate │\n",
       "│            ┆ s         ┆          ┆           ┆   ┆          ┆           ┆           ┆ Broadleaf │\n",
       "│            ┆           ┆          ┆           ┆   ┆          ┆           ┆           ┆ and Mixed │\n",
       "│            ┆           ┆          ┆           ┆   ┆          ┆           ┆           ┆ Fo…       │\n",
       "│ 3300039503 ┆ Unclassif ┆ 63.88    ┆ -149.23   ┆ … ┆ NA6      ┆ Nearctic  ┆ 6.0       ┆ Boreal    │\n",
       "│            ┆ ied       ┆          ┆           ┆   ┆          ┆           ┆           ┆ Forests/T │\n",
       "│            ┆           ┆          ┆           ┆   ┆          ┆           ┆           ┆ aiga      │\n",
       "│ 3300042005 ┆ Rhizosphe ┆ 41.2     ┆ -97.94    ┆ … ┆ NA8      ┆ Nearctic  ┆ 8.0       ┆ Temperate │\n",
       "│            ┆ re        ┆          ┆           ┆   ┆          ┆           ┆           ┆ Grassland │\n",
       "│            ┆           ┆          ┆           ┆   ┆          ┆           ┆           ┆ s,        │\n",
       "│            ┆           ┆          ┆           ┆   ┆          ┆           ┆           ┆ Savannas  │\n",
       "│            ┆           ┆          ┆           ┆   ┆          ┆           ┆           ┆ a…        │\n",
       "│ 3300049265 ┆ Agricultu ┆ 38.55    ┆ -121.87   ┆ … ┆ NA12     ┆ Nearctic  ┆ 12.0      ┆ Mediterra │\n",
       "│            ┆ ral land  ┆          ┆           ┆   ┆          ┆           ┆           ┆ nean      │\n",
       "│            ┆           ┆          ┆           ┆   ┆          ┆           ┆           ┆ Forests,  │\n",
       "│            ┆           ┆          ┆           ┆   ┆          ┆           ┆           ┆ Woodlands │\n",
       "│            ┆           ┆          ┆           ┆   ┆          ┆           ┆           ┆ …         │\n",
       "└────────────┴───────────┴──────────┴───────────┴───┴──────────┴───────────┴───────────┴───────────┘"
      ]
     },
     "execution_count": 6,
     "metadata": {},
     "output_type": "execute_result"
    }
   ],
   "source": [
    "df_envs = pl.read_csv(\n",
    "    \"../env_corr/taxon_countries.tsv\", separator=\"\\t\", dtypes={\"taxon_oid\": pl.Utf8}\n",
    ")\n",
    "df_envs.head()"
   ]
  },
  {
   "cell_type": "code",
   "execution_count": 7,
   "metadata": {},
   "outputs": [],
   "source": [
    "df = df.with_columns(ptu=pl.col(\"Plasmid\").map_elements(lambda x: ptus_mapping.get(x)))"
   ]
  },
  {
   "cell_type": "code",
   "execution_count": 8,
   "metadata": {},
   "outputs": [
    {
     "data": {
      "text/plain": [
       "56764"
      ]
     },
     "execution_count": 8,
     "metadata": {},
     "output_type": "execute_result"
    }
   ],
   "source": [
    "df.unique(\"Plasmid\").shape[0]"
   ]
  },
  {
   "cell_type": "code",
   "execution_count": 9,
   "metadata": {},
   "outputs": [
    {
     "data": {
      "text/plain": [
       "50724"
      ]
     },
     "execution_count": 9,
     "metadata": {},
     "output_type": "execute_result"
    }
   ],
   "source": [
    "df.filter((pl.col(\"species\").is_not_null()) & (pl.col(\"species\") != \"s__\")).unique(\n",
    "    \"Plasmid\"\n",
    ").shape[0]"
   ]
  },
  {
   "cell_type": "code",
   "execution_count": null,
   "metadata": {},
   "outputs": [],
   "source": []
  },
  {
   "cell_type": "code",
   "execution_count": null,
   "metadata": {},
   "outputs": [],
   "source": []
  },
  {
   "cell_type": "code",
   "execution_count": 10,
   "metadata": {},
   "outputs": [
    {
     "data": {
      "text/html": [
       "<div><style>\n",
       ".dataframe > thead > tr,\n",
       ".dataframe > tbody > tr {\n",
       "  text-align: right;\n",
       "  white-space: pre-wrap;\n",
       "}\n",
       "</style>\n",
       "<small>shape: (5, 36)</small><table border=\"1\" class=\"dataframe\"><thead><tr><th>Plasmid</th><th>host</th><th>method</th><th>phylum</th><th>cclass</th><th>order</th><th>family</th><th>genus</th><th>species</th><th>ptu</th><th>taxon_oid</th><th>Ecosystem Subtype</th><th>Latitude</th><th>Longitude</th><th>Origin</th><th>Isolation Country</th><th>Ecosystem Subtype Custom</th><th>soil_class</th><th>bdod (cg/cm³)</th><th>cec (mmol(c)/kg)</th><th>cfvo (cm³/dm³)</th><th>clay (g/kg)</th><th>nitrogen (cg/kg)</th><th>ocd (dg/dm³)</th><th>phh2o (pH*10)</th><th>sand (g/kg)</th><th>silt (g/kg)</th><th>soc (dg/kg)</th><th>geometry</th><th>index_right</th><th>ECO_NAME</th><th>WWF_REALM</th><th>RealmMHT</th><th>WWF_REALM2</th><th>WWF_MHTNUM</th><th>WWF_MHTNAM</th></tr><tr><td>str</td><td>str</td><td>str</td><td>str</td><td>str</td><td>str</td><td>str</td><td>str</td><td>str</td><td>str</td><td>str</td><td>str</td><td>f64</td><td>f64</td><td>str</td><td>str</td><td>str</td><td>str</td><td>i64</td><td>i64</td><td>i64</td><td>i64</td><td>i64</td><td>i64</td><td>i64</td><td>i64</td><td>i64</td><td>i64</td><td>str</td><td>f64</td><td>str</td><td>str</td><td>str</td><td>str</td><td>f64</td><td>str</td></tr></thead><tbody><tr><td>&quot;2088090014|GPI…</td><td>&quot;d__Bacteria;p_…</td><td>&quot;iphop-blast&quot;</td><td>&quot;p__Pseudomonad…</td><td>&quot;c__Alphaproteo…</td><td>&quot;o__Rhizobiales…</td><td>&quot;f__Methylolige…</td><td>&quot;g__Methylocean…</td><td>&quot;s__Methylocean…</td><td>&quot;pOTU-04071&quot;</td><td>&quot;2088090014&quot;</td><td>&quot;Grasslands&quot;</td><td>39.0</td><td>-77.1</td><td>&quot;Meta&quot;</td><td>&quot;USA&quot;</td><td>&quot;Grasslands&quot;</td><td>&quot;Luvisols&quot;</td><td>null</td><td>null</td><td>null</td><td>null</td><td>null</td><td>null</td><td>null</td><td>null</td><td>null</td><td>null</td><td>&quot;POINT (-77.1 3…</td><td>710.0</td><td>&quot;Lower New Engl…</td><td>&quot;NA&quot;</td><td>&quot;NA4&quot;</td><td>&quot;Nearctic&quot;</td><td>4.0</td><td>&quot;Temperate Broa…</td></tr><tr><td>&quot;2088090014|GPI…</td><td>&quot;d__Bacteria;p_…</td><td>&quot;iphop-blast&quot;</td><td>&quot;p__Pseudomonad…</td><td>&quot;c__Alphaproteo…</td><td>&quot;o__Rhizobiales…</td><td>&quot;f__Methylolige…</td><td>&quot;g__Methylocean…</td><td>null</td><td>&quot;pOTU-04071&quot;</td><td>&quot;2088090014&quot;</td><td>&quot;Grasslands&quot;</td><td>39.0</td><td>-77.1</td><td>&quot;Meta&quot;</td><td>&quot;USA&quot;</td><td>&quot;Grasslands&quot;</td><td>&quot;Luvisols&quot;</td><td>null</td><td>null</td><td>null</td><td>null</td><td>null</td><td>null</td><td>null</td><td>null</td><td>null</td><td>null</td><td>&quot;POINT (-77.1 3…</td><td>710.0</td><td>&quot;Lower New Engl…</td><td>&quot;NA&quot;</td><td>&quot;NA4&quot;</td><td>&quot;Nearctic&quot;</td><td>4.0</td><td>&quot;Temperate Broa…</td></tr><tr><td>&quot;2088090014|GPI…</td><td>&quot;d__Bacteria;p_…</td><td>&quot;iphop-blast&quot;</td><td>&quot;p__Acidobacter…</td><td>&quot;c__Vicinamibac…</td><td>&quot;o__Vicinamibac…</td><td>&quot;f__UBA2999&quot;</td><td>&quot;g__2-02-FULL-6…</td><td>null</td><td>&quot;pOTU-57264&quot;</td><td>&quot;2088090014&quot;</td><td>&quot;Grasslands&quot;</td><td>39.0</td><td>-77.1</td><td>&quot;Meta&quot;</td><td>&quot;USA&quot;</td><td>&quot;Grasslands&quot;</td><td>&quot;Luvisols&quot;</td><td>null</td><td>null</td><td>null</td><td>null</td><td>null</td><td>null</td><td>null</td><td>null</td><td>null</td><td>null</td><td>&quot;POINT (-77.1 3…</td><td>710.0</td><td>&quot;Lower New Engl…</td><td>&quot;NA&quot;</td><td>&quot;NA4&quot;</td><td>&quot;Nearctic&quot;</td><td>4.0</td><td>&quot;Temperate Broa…</td></tr><tr><td>&quot;2088090014|GPI…</td><td>&quot;d__Bacteria;p_…</td><td>&quot;iphop-blast&quot;</td><td>&quot;p__Acidobacter…</td><td>&quot;c__Vicinamibac…</td><td>&quot;o__Vicinamibac…</td><td>&quot;f__UBA2999&quot;</td><td>&quot;g__2-02-FULL-6…</td><td>&quot;s__2-02-FULL-6…</td><td>&quot;pOTU-57264&quot;</td><td>&quot;2088090014&quot;</td><td>&quot;Grasslands&quot;</td><td>39.0</td><td>-77.1</td><td>&quot;Meta&quot;</td><td>&quot;USA&quot;</td><td>&quot;Grasslands&quot;</td><td>&quot;Luvisols&quot;</td><td>null</td><td>null</td><td>null</td><td>null</td><td>null</td><td>null</td><td>null</td><td>null</td><td>null</td><td>null</td><td>&quot;POINT (-77.1 3…</td><td>710.0</td><td>&quot;Lower New Engl…</td><td>&quot;NA&quot;</td><td>&quot;NA4&quot;</td><td>&quot;Nearctic&quot;</td><td>4.0</td><td>&quot;Temperate Broa…</td></tr><tr><td>&quot;2088090015|GPI…</td><td>&quot;d__Bacteria;p_…</td><td>&quot;iphop-blast&quot;</td><td>&quot;p__Actinomycet…</td><td>&quot;c__Thermoleoph…</td><td>&quot;o__Gaiellales&quot;</td><td>&quot;f__Gaiellaceae…</td><td>&quot;g__GMQP-bins7&quot;</td><td>null</td><td>&quot;pOTU-06613&quot;</td><td>&quot;2088090015&quot;</td><td>&quot;Grasslands&quot;</td><td>39.0</td><td>-77.1</td><td>&quot;Meta&quot;</td><td>&quot;USA&quot;</td><td>&quot;Grasslands&quot;</td><td>&quot;Luvisols&quot;</td><td>null</td><td>null</td><td>null</td><td>null</td><td>null</td><td>null</td><td>null</td><td>null</td><td>null</td><td>null</td><td>&quot;POINT (-77.1 3…</td><td>710.0</td><td>&quot;Lower New Engl…</td><td>&quot;NA&quot;</td><td>&quot;NA4&quot;</td><td>&quot;Nearctic&quot;</td><td>4.0</td><td>&quot;Temperate Broa…</td></tr></tbody></table></div>"
      ],
      "text/plain": [
       "shape: (5, 36)\n",
       "┌───────────┬───────────┬───────────┬───────────┬───┬──────────┬───────────┬───────────┬───────────┐\n",
       "│ Plasmid   ┆ host      ┆ method    ┆ phylum    ┆ … ┆ RealmMHT ┆ WWF_REALM ┆ WWF_MHTNU ┆ WWF_MHTNA │\n",
       "│ ---       ┆ ---       ┆ ---       ┆ ---       ┆   ┆ ---      ┆ 2         ┆ M         ┆ M         │\n",
       "│ str       ┆ str       ┆ str       ┆ str       ┆   ┆ str      ┆ ---       ┆ ---       ┆ ---       │\n",
       "│           ┆           ┆           ┆           ┆   ┆          ┆ str       ┆ f64       ┆ str       │\n",
       "╞═══════════╪═══════════╪═══════════╪═══════════╪═══╪══════════╪═══════════╪═══════════╪═══════════╡\n",
       "│ 208809001 ┆ d__Bacter ┆ iphop-bla ┆ p__Pseudo ┆ … ┆ NA4      ┆ Nearctic  ┆ 4.0       ┆ Temperate │\n",
       "│ 4|GPIPI_1 ┆ ia;p__Pse ┆ st        ┆ monadota  ┆   ┆          ┆           ┆           ┆ Broadleaf │\n",
       "│ 6557027   ┆ udomonado ┆           ┆           ┆   ┆          ┆           ┆           ┆ and Mixed │\n",
       "│           ┆ ta;c_…    ┆           ┆           ┆   ┆          ┆           ┆           ┆ Fo…       │\n",
       "│ 208809001 ┆ d__Bacter ┆ iphop-bla ┆ p__Pseudo ┆ … ┆ NA4      ┆ Nearctic  ┆ 4.0       ┆ Temperate │\n",
       "│ 4|GPIPI_1 ┆ ia;p__Pse ┆ st        ┆ monadota  ┆   ┆          ┆           ┆           ┆ Broadleaf │\n",
       "│ 6557027   ┆ udomonado ┆           ┆           ┆   ┆          ┆           ┆           ┆ and Mixed │\n",
       "│           ┆ ta;c_…    ┆           ┆           ┆   ┆          ┆           ┆           ┆ Fo…       │\n",
       "│ 208809001 ┆ d__Bacter ┆ iphop-bla ┆ p__Acidob ┆ … ┆ NA4      ┆ Nearctic  ┆ 4.0       ┆ Temperate │\n",
       "│ 4|GPIPI_1 ┆ ia;p__Aci ┆ st        ┆ acteriota ┆   ┆          ┆           ┆           ┆ Broadleaf │\n",
       "│ 6944593   ┆ dobacteri ┆           ┆           ┆   ┆          ┆           ┆           ┆ and Mixed │\n",
       "│           ┆ ota;c…    ┆           ┆           ┆   ┆          ┆           ┆           ┆ Fo…       │\n",
       "│ 208809001 ┆ d__Bacter ┆ iphop-bla ┆ p__Acidob ┆ … ┆ NA4      ┆ Nearctic  ┆ 4.0       ┆ Temperate │\n",
       "│ 4|GPIPI_1 ┆ ia;p__Aci ┆ st        ┆ acteriota ┆   ┆          ┆           ┆           ┆ Broadleaf │\n",
       "│ 6944593   ┆ dobacteri ┆           ┆           ┆   ┆          ┆           ┆           ┆ and Mixed │\n",
       "│           ┆ ota;c…    ┆           ┆           ┆   ┆          ┆           ┆           ┆ Fo…       │\n",
       "│ 208809001 ┆ d__Bacter ┆ iphop-bla ┆ p__Actino ┆ … ┆ NA4      ┆ Nearctic  ┆ 4.0       ┆ Temperate │\n",
       "│ 5|GPICI_8 ┆ ia;p__Act ┆ st        ┆ mycetota  ┆   ┆          ┆           ┆           ┆ Broadleaf │\n",
       "│ 721071    ┆ inomyceto ┆           ┆           ┆   ┆          ┆           ┆           ┆ and Mixed │\n",
       "│           ┆ ta;c_…    ┆           ┆           ┆   ┆          ┆           ┆           ┆ Fo…       │\n",
       "└───────────┴───────────┴───────────┴───────────┴───┴──────────┴───────────┴───────────┴───────────┘"
      ]
     },
     "execution_count": 10,
     "metadata": {},
     "output_type": "execute_result"
    }
   ],
   "source": [
    "df = df.with_columns(\n",
    "    ptu=pl.col(\"Plasmid\").map_elements(lambda x: ptus_mapping.get(x)),\n",
    "    taxon_oid=pl.col(\"Plasmid\").map_elements(\n",
    "        lambda x: x.split(\"|\")[0] if \"IMGPR\" not in x else x.split(\"_\")[2]\n",
    "    ),\n",
    ").join(df_envs.drop([\"Plasmid Count\", \"PTU Count\"]), on=\"taxon_oid\")\n",
    "# df = df.drop_nulls(subset=[\"ptu\"])\n",
    "df.head()"
   ]
  },
  {
   "cell_type": "code",
   "execution_count": 11,
   "metadata": {},
   "outputs": [
    {
     "data": {
      "text/plain": [
       "56717"
      ]
     },
     "execution_count": 11,
     "metadata": {},
     "output_type": "execute_result"
    }
   ],
   "source": [
    "df.unique(\"Plasmid\").shape[0]"
   ]
  },
  {
   "cell_type": "code",
   "execution_count": 12,
   "metadata": {},
   "outputs": [],
   "source": [
    "# with open(\"../plasmid_list_compare.txt\", \"w\") as f:\n",
    "#     for plasmid in df.unique(\"Plasmid\").get_column(\"Plasmid\").to_list():\n",
    "#         f.write(f\"{plasmid}\\n\")\n"
   ]
  },
  {
   "cell_type": "code",
   "execution_count": 13,
   "metadata": {},
   "outputs": [
    {
     "data": {
      "text/html": [
       "<div>\n",
       "<style scoped>\n",
       "    .dataframe tbody tr th:only-of-type {\n",
       "        vertical-align: middle;\n",
       "    }\n",
       "\n",
       "    .dataframe tbody tr th {\n",
       "        vertical-align: top;\n",
       "    }\n",
       "\n",
       "    .dataframe thead th {\n",
       "        text-align: right;\n",
       "    }\n",
       "</style>\n",
       "<table border=\"1\" class=\"dataframe\">\n",
       "  <thead>\n",
       "    <tr style=\"text-align: right;\">\n",
       "      <th></th>\n",
       "      <th>Representative</th>\n",
       "      <th>Members</th>\n",
       "      <th>Length</th>\n",
       "      <th>oids</th>\n",
       "      <th>Ecosystem Subtype Custom</th>\n",
       "      <th>Ecosystem Subtype</th>\n",
       "      <th>WWF_MHTNAM</th>\n",
       "      <th>Origin</th>\n",
       "      <th>Full_origin</th>\n",
       "      <th>n_ecosystems</th>\n",
       "    </tr>\n",
       "    <tr>\n",
       "      <th>pOTU</th>\n",
       "      <th></th>\n",
       "      <th></th>\n",
       "      <th></th>\n",
       "      <th></th>\n",
       "      <th></th>\n",
       "      <th></th>\n",
       "      <th></th>\n",
       "      <th></th>\n",
       "      <th></th>\n",
       "      <th></th>\n",
       "    </tr>\n",
       "  </thead>\n",
       "  <tbody>\n",
       "    <tr>\n",
       "      <th>pOTU-00000</th>\n",
       "      <td>3300056587|Ga0562382_00532</td>\n",
       "      <td>3300056587|Ga0562382_00532,3300041809|Ga045567...</td>\n",
       "      <td>187</td>\n",
       "      <td>3300056587,3300041809,3300056587,3300055278,33...</td>\n",
       "      <td>Peat;Grasslands;Peat;Temperate forest;Peat;Pea...</td>\n",
       "      <td>Peat;Grasslands;Peat;Temperate forest;Peat;Pea...</td>\n",
       "      <td>Tundra;Temperate Conifer Forests;Tundra;Temper...</td>\n",
       "      <td>Meta</td>\n",
       "      <td>Meta;Meta;Meta;Meta;Meta;Meta;Meta;Meta;Meta;M...</td>\n",
       "      <td>7</td>\n",
       "    </tr>\n",
       "    <tr>\n",
       "      <th>pOTU-00001</th>\n",
       "      <td>3300056791|Ga0562384_00281</td>\n",
       "      <td>3300056791|Ga0562384_00281,3300054973|Ga049542...</td>\n",
       "      <td>158</td>\n",
       "      <td>3300056791,3300054973,3300047661,3300051166,33...</td>\n",
       "      <td>Peat;Peat;Peat;Peat;Peat;Peat;Peat;Peat;Peat;P...</td>\n",
       "      <td>Peat;Peat;Peat;Peat;Peat;Peat;Peat;Peat;Peat;P...</td>\n",
       "      <td>Tundra;Tundra;Tundra;Tundra;Tundra;Tundra;Tund...</td>\n",
       "      <td>Meta</td>\n",
       "      <td>Meta;Meta;Meta;Meta;Meta;Meta;Meta;Meta;Meta;M...</td>\n",
       "      <td>3</td>\n",
       "    </tr>\n",
       "    <tr>\n",
       "      <th>pOTU-00002</th>\n",
       "      <td>3300046709|Ga0495471_0000157</td>\n",
       "      <td>3300046709|Ga0495471_0000157,3300046788|Ga0495...</td>\n",
       "      <td>105</td>\n",
       "      <td>3300046709,3300046788,3300046461,3300046811,33...</td>\n",
       "      <td>Agricultural land;Agricultural land;Rhizospher...</td>\n",
       "      <td>Agricultural land;Agricultural land;Rhizospher...</td>\n",
       "      <td>Temperate Conifer Forests;Temperate Conifer Fo...</td>\n",
       "      <td>Meta</td>\n",
       "      <td>Meta;Meta;Meta;Meta;Meta;Meta;Meta;Meta;Meta;M...</td>\n",
       "      <td>5</td>\n",
       "    </tr>\n",
       "    <tr>\n",
       "      <th>pOTU-00003</th>\n",
       "      <td>3300046559|Ga0495667_0000358</td>\n",
       "      <td>3300046559|Ga0495667_0000358,3300036401|Ga0373...</td>\n",
       "      <td>98</td>\n",
       "      <td>3300046559,3300036401,3300046543,3300046724,33...</td>\n",
       "      <td>Rhizosphere;Rhizosphere;Rhizosphere;Agricultur...</td>\n",
       "      <td>Rhizosphere;Rhizosphere;Rhizosphere;Agricultur...</td>\n",
       "      <td>Temperate Conifer Forests;Temperate Conifer Fo...</td>\n",
       "      <td>Meta</td>\n",
       "      <td>Meta;Meta;Meta;Meta;Meta;Meta;Meta;Meta;Meta;M...</td>\n",
       "      <td>7</td>\n",
       "    </tr>\n",
       "    <tr>\n",
       "      <th>pOTU-00004</th>\n",
       "      <td>3300056834|Ga0562381_00901</td>\n",
       "      <td>3300056834|Ga0562381_00901,3300056587|Ga056238...</td>\n",
       "      <td>85</td>\n",
       "      <td>3300056834,3300056587,3300048796,3300048785,33...</td>\n",
       "      <td>Peat;Peat;Peat;Peat;Peat;Temperate forest;Gras...</td>\n",
       "      <td>Peat;Peat;Peat;Peat;Peat;Temperate forest;Gras...</td>\n",
       "      <td>Tundra;Tundra;Tundra;Tundra;Tundra;Temperate C...</td>\n",
       "      <td>Meta</td>\n",
       "      <td>Meta;Meta;Meta;Meta;Meta;Meta;Meta;Meta;Meta;M...</td>\n",
       "      <td>6</td>\n",
       "    </tr>\n",
       "  </tbody>\n",
       "</table>\n",
       "</div>"
      ],
      "text/plain": [
       "                          Representative  \\\n",
       "pOTU                                       \n",
       "pOTU-00000    3300056587|Ga0562382_00532   \n",
       "pOTU-00001    3300056791|Ga0562384_00281   \n",
       "pOTU-00002  3300046709|Ga0495471_0000157   \n",
       "pOTU-00003  3300046559|Ga0495667_0000358   \n",
       "pOTU-00004    3300056834|Ga0562381_00901   \n",
       "\n",
       "                                                      Members  Length  \\\n",
       "pOTU                                                                    \n",
       "pOTU-00000  3300056587|Ga0562382_00532,3300041809|Ga045567...     187   \n",
       "pOTU-00001  3300056791|Ga0562384_00281,3300054973|Ga049542...     158   \n",
       "pOTU-00002  3300046709|Ga0495471_0000157,3300046788|Ga0495...     105   \n",
       "pOTU-00003  3300046559|Ga0495667_0000358,3300036401|Ga0373...      98   \n",
       "pOTU-00004  3300056834|Ga0562381_00901,3300056587|Ga056238...      85   \n",
       "\n",
       "                                                         oids  \\\n",
       "pOTU                                                            \n",
       "pOTU-00000  3300056587,3300041809,3300056587,3300055278,33...   \n",
       "pOTU-00001  3300056791,3300054973,3300047661,3300051166,33...   \n",
       "pOTU-00002  3300046709,3300046788,3300046461,3300046811,33...   \n",
       "pOTU-00003  3300046559,3300036401,3300046543,3300046724,33...   \n",
       "pOTU-00004  3300056834,3300056587,3300048796,3300048785,33...   \n",
       "\n",
       "                                     Ecosystem Subtype Custom  \\\n",
       "pOTU                                                            \n",
       "pOTU-00000  Peat;Grasslands;Peat;Temperate forest;Peat;Pea...   \n",
       "pOTU-00001  Peat;Peat;Peat;Peat;Peat;Peat;Peat;Peat;Peat;P...   \n",
       "pOTU-00002  Agricultural land;Agricultural land;Rhizospher...   \n",
       "pOTU-00003  Rhizosphere;Rhizosphere;Rhizosphere;Agricultur...   \n",
       "pOTU-00004  Peat;Peat;Peat;Peat;Peat;Temperate forest;Gras...   \n",
       "\n",
       "                                            Ecosystem Subtype  \\\n",
       "pOTU                                                            \n",
       "pOTU-00000  Peat;Grasslands;Peat;Temperate forest;Peat;Pea...   \n",
       "pOTU-00001  Peat;Peat;Peat;Peat;Peat;Peat;Peat;Peat;Peat;P...   \n",
       "pOTU-00002  Agricultural land;Agricultural land;Rhizospher...   \n",
       "pOTU-00003  Rhizosphere;Rhizosphere;Rhizosphere;Agricultur...   \n",
       "pOTU-00004  Peat;Peat;Peat;Peat;Peat;Temperate forest;Gras...   \n",
       "\n",
       "                                                   WWF_MHTNAM Origin  \\\n",
       "pOTU                                                                   \n",
       "pOTU-00000  Tundra;Temperate Conifer Forests;Tundra;Temper...   Meta   \n",
       "pOTU-00001  Tundra;Tundra;Tundra;Tundra;Tundra;Tundra;Tund...   Meta   \n",
       "pOTU-00002  Temperate Conifer Forests;Temperate Conifer Fo...   Meta   \n",
       "pOTU-00003  Temperate Conifer Forests;Temperate Conifer Fo...   Meta   \n",
       "pOTU-00004  Tundra;Tundra;Tundra;Tundra;Tundra;Temperate C...   Meta   \n",
       "\n",
       "                                                  Full_origin  n_ecosystems  \n",
       "pOTU                                                                         \n",
       "pOTU-00000  Meta;Meta;Meta;Meta;Meta;Meta;Meta;Meta;Meta;M...             7  \n",
       "pOTU-00001  Meta;Meta;Meta;Meta;Meta;Meta;Meta;Meta;Meta;M...             3  \n",
       "pOTU-00002  Meta;Meta;Meta;Meta;Meta;Meta;Meta;Meta;Meta;M...             5  \n",
       "pOTU-00003  Meta;Meta;Meta;Meta;Meta;Meta;Meta;Meta;Meta;M...             7  \n",
       "pOTU-00004  Meta;Meta;Meta;Meta;Meta;Meta;Meta;Meta;Meta;M...             6  "
      ]
     },
     "execution_count": 13,
     "metadata": {},
     "output_type": "execute_result"
    }
   ],
   "source": [
    "ptus[\"n_ecosystems\"] = ptus[\"Ecosystem Subtype Custom\"].apply(\n",
    "    lambda x: len(set(x.split((\";\"))))\n",
    ")\n",
    "ptus.head()"
   ]
  },
  {
   "cell_type": "code",
   "execution_count": 14,
   "metadata": {},
   "outputs": [
    {
     "data": {
      "text/plain": [
       "10438"
      ]
     },
     "execution_count": 14,
     "metadata": {},
     "output_type": "execute_result"
    }
   ],
   "source": [
    "ptus[\n",
    "    (ptus[\"Ecosystem Subtype Custom\"] != \"Unclassified\")\n",
    "    & (ptus[\"Length\"] > 1)\n",
    "    & (ptus[\"n_ecosystems\"] == 1)\n",
    "].shape[0]"
   ]
  },
  {
   "cell_type": "code",
   "execution_count": 15,
   "metadata": {},
   "outputs": [
    {
     "data": {
      "text/plain": [
       "4769"
      ]
     },
     "execution_count": 15,
     "metadata": {},
     "output_type": "execute_result"
    }
   ],
   "source": [
    "ptus[\n",
    "    (ptus[\"Ecosystem Subtype Custom\"] != \"Unclassified\")\n",
    "    & (ptus[\"Length\"] > 1)\n",
    "    & (ptus[\"n_ecosystems\"] > 1)\n",
    "].shape[0]"
   ]
  },
  {
   "cell_type": "code",
   "execution_count": 16,
   "metadata": {},
   "outputs": [
    {
     "data": {
      "text/html": [
       "<div><style>\n",
       ".dataframe > thead > tr,\n",
       ".dataframe > tbody > tr {\n",
       "  text-align: right;\n",
       "  white-space: pre-wrap;\n",
       "}\n",
       "</style>\n",
       "<small>shape: (5, 5)</small><table border=\"1\" class=\"dataframe\"><thead><tr><th>species</th><th>Ecosystem Subtype Custom</th><th>n_ecosystems</th><th>ptu</th><th>n_ptus</th></tr><tr><td>str</td><td>list[str]</td><td>u32</td><td>list[str]</td><td>u32</td></tr></thead><tbody><tr><td>&quot;s__Klebsiella …</td><td>[&quot;Agricultural land&quot;, &quot;Tropical forest&quot;, … &quot;Temperate forest&quot;]</td><td>7</td><td>[&quot;pOTU-26006&quot;, &quot;pOTU-18101&quot;, … &quot;pOTU-21772&quot;]</td><td>184</td></tr><tr><td>&quot;s__Sulfotelmat…</td><td>[&quot;Tropical forest&quot;, &quot;Rhizosphere&quot;, … &quot;Agricultural land&quot;]</td><td>7</td><td>[&quot;pOTU-49655&quot;, &quot;pOTU-50627&quot;, … &quot;pOTU-36902&quot;]</td><td>89</td></tr><tr><td>&quot;s__Bradyrhizob…</td><td>[&quot;Tropical forest&quot;, &quot;Temperate forest&quot;, … &quot;Other&quot;]</td><td>7</td><td>[&quot;pOTU-10069&quot;, &quot;pOTU-00007&quot;, … &quot;pOTU-03911&quot;]</td><td>90</td></tr><tr><td>&quot;s__Bradyrhizob…</td><td>[&quot;Peat&quot;, &quot;Agricultural land&quot;, … &quot;Rhizosphere&quot;]</td><td>7</td><td>[&quot;pOTU-14697&quot;, &quot;pOTU-03263&quot;, … &quot;pOTU-03312&quot;]</td><td>36</td></tr><tr><td>&quot;s__Bradyrhizob…</td><td>[&quot;Tropical forest&quot;, &quot;Temperate forest&quot;, … &quot;Other&quot;]</td><td>7</td><td>[&quot;pOTU-22475&quot;, &quot;pOTU-00374&quot;, … &quot;pOTU-06935&quot;]</td><td>63</td></tr></tbody></table></div>"
      ],
      "text/plain": [
       "shape: (5, 5)\n",
       "┌──────────────────────────┬──────────────────────────┬──────────────┬────────────────────┬────────┐\n",
       "│ species                  ┆ Ecosystem Subtype Custom ┆ n_ecosystems ┆ ptu                ┆ n_ptus │\n",
       "│ ---                      ┆ ---                      ┆ ---          ┆ ---                ┆ ---    │\n",
       "│ str                      ┆ list[str]                ┆ u32          ┆ list[str]          ┆ u32    │\n",
       "╞══════════════════════════╪══════════════════════════╪══════════════╪════════════════════╪════════╡\n",
       "│ s__Klebsiella variicola  ┆ [\"Agricultural land\",    ┆ 7            ┆ [\"pOTU-26006\",     ┆ 184    │\n",
       "│                          ┆ \"Tropical …              ┆              ┆ \"pOTU-18101\", … \"… ┆        │\n",
       "│ s__Sulfotelmatobacter    ┆ [\"Tropical forest\",      ┆ 7            ┆ [\"pOTU-49655\",     ┆ 89     │\n",
       "│ sp01328968…              ┆ \"Rhizosphere…            ┆              ┆ \"pOTU-50627\", … \"… ┆        │\n",
       "│ s__Bradyrhizobium        ┆ [\"Tropical forest\",      ┆ 7            ┆ [\"pOTU-10069\",     ┆ 90     │\n",
       "│ rifense                  ┆ \"Temperate f…            ┆              ┆ \"pOTU-00007\", … \"… ┆        │\n",
       "│ s__Bradyrhizobium        ┆ [\"Peat\", \"Agricultural   ┆ 7            ┆ [\"pOTU-14697\",     ┆ 36     │\n",
       "│ sp015624505              ┆ land\", … …               ┆              ┆ \"pOTU-03263\", … \"… ┆        │\n",
       "│ s__Bradyrhizobium        ┆ [\"Tropical forest\",      ┆ 7            ┆ [\"pOTU-22475\",     ┆ 63     │\n",
       "│ sp015624485              ┆ \"Temperate f…            ┆              ┆ \"pOTU-00374\", … \"… ┆        │\n",
       "└──────────────────────────┴──────────────────────────┴──────────────┴────────────────────┴────────┘"
      ]
     },
     "execution_count": 16,
     "metadata": {},
     "output_type": "execute_result"
    }
   ],
   "source": [
    "df_spps_ecos = (\n",
    "    df.drop_nulls(subset=\"species\")\n",
    "    .unique(subset=[\"Plasmid\", \"species\"])\n",
    "    .filter(pl.col(\"Ecosystem Subtype Custom\") != \"Unclassified\")\n",
    "    .group_by(\"species\")\n",
    "    .agg(\n",
    "        pl.col(\"Ecosystem Subtype Custom\").unique(),\n",
    "        pl.col(\"Ecosystem Subtype Custom\").n_unique().alias(\"n_ecosystems\"),\n",
    "        pl.col(\"ptu\").unique(),\n",
    "        pl.col(\"ptu\").n_unique().alias(\"n_ptus\"),\n",
    "    )\n",
    "    .sort(\"n_ecosystems\", descending=True)\n",
    ")\n",
    "df_spps_ecos.head()"
   ]
  },
  {
   "cell_type": "code",
   "execution_count": 17,
   "metadata": {},
   "outputs": [
    {
     "data": {
      "text/html": [
       "<div><style>\n",
       ".dataframe > thead > tr,\n",
       ".dataframe > tbody > tr {\n",
       "  text-align: right;\n",
       "  white-space: pre-wrap;\n",
       "}\n",
       "</style>\n",
       "<small>shape: (8_268, 5)</small><table border=\"1\" class=\"dataframe\"><thead><tr><th>species</th><th>Ecosystem Subtype Custom</th><th>n_ecosystems</th><th>ptu</th><th>n_ptus</th></tr><tr><td>str</td><td>list[str]</td><td>u32</td><td>list[str]</td><td>u32</td></tr></thead><tbody><tr><td>&quot;s__Klebsiella …</td><td>[&quot;Agricultural land&quot;, &quot;Tropical forest&quot;, … &quot;Temperate forest&quot;]</td><td>7</td><td>[&quot;pOTU-26006&quot;, &quot;pOTU-18101&quot;, … &quot;pOTU-21772&quot;]</td><td>184</td></tr><tr><td>&quot;s__Sulfotelmat…</td><td>[&quot;Tropical forest&quot;, &quot;Rhizosphere&quot;, … &quot;Agricultural land&quot;]</td><td>7</td><td>[&quot;pOTU-49655&quot;, &quot;pOTU-50627&quot;, … &quot;pOTU-36902&quot;]</td><td>89</td></tr><tr><td>&quot;s__Bradyrhizob…</td><td>[&quot;Tropical forest&quot;, &quot;Temperate forest&quot;, … &quot;Other&quot;]</td><td>7</td><td>[&quot;pOTU-10069&quot;, &quot;pOTU-00007&quot;, … &quot;pOTU-03911&quot;]</td><td>90</td></tr><tr><td>&quot;s__Bradyrhizob…</td><td>[&quot;Peat&quot;, &quot;Agricultural land&quot;, … &quot;Rhizosphere&quot;]</td><td>7</td><td>[&quot;pOTU-14697&quot;, &quot;pOTU-03263&quot;, … &quot;pOTU-03312&quot;]</td><td>36</td></tr><tr><td>&quot;s__Bradyrhizob…</td><td>[&quot;Tropical forest&quot;, &quot;Temperate forest&quot;, … &quot;Other&quot;]</td><td>7</td><td>[&quot;pOTU-22475&quot;, &quot;pOTU-00374&quot;, … &quot;pOTU-06935&quot;]</td><td>63</td></tr><tr><td>&quot;s__Chersky-822…</td><td>[&quot;Agricultural land&quot;, &quot;Temperate forest&quot;, … &quot;Peat&quot;]</td><td>7</td><td>[&quot;pOTU-29457&quot;, &quot;pOTU-00077&quot;, … &quot;pOTU-09825&quot;]</td><td>39</td></tr><tr><td>&quot;s__Bradyrhizob…</td><td>[&quot;Tropical forest&quot;, &quot;Peat&quot;, … &quot;Grasslands&quot;]</td><td>7</td><td>[&quot;pOTU-03921&quot;, &quot;pOTU-49067&quot;, … &quot;pOTU-28062&quot;]</td><td>89</td></tr><tr><td>&quot;s__Bradyrhizob…</td><td>[&quot;Peat&quot;, &quot;Other&quot;, … &quot;Agricultural land&quot;]</td><td>7</td><td>[&quot;pOTU-50239&quot;, &quot;pOTU-02473&quot;, … &quot;pOTU-54811&quot;]</td><td>170</td></tr><tr><td>&quot;s__Bradyrhizob…</td><td>[&quot;Temperate forest&quot;, &quot;Other&quot;, … &quot;Agricultural land&quot;]</td><td>7</td><td>[&quot;pOTU-01092&quot;, &quot;pOTU-01633&quot;, … &quot;pOTU-30404&quot;]</td><td>78</td></tr><tr><td>&quot;s__Serratia_J …</td><td>[&quot;Rhizosphere&quot;, &quot;Grasslands&quot;, … &quot;Tropical forest&quot;]</td><td>7</td><td>[&quot;pOTU-21813&quot;, &quot;pOTU-01740&quot;, … &quot;pOTU-11935&quot;]</td><td>74</td></tr><tr><td>&quot;s__Bradyrhizob…</td><td>[&quot;Rhizosphere&quot;, &quot;Agricultural land&quot;, … &quot;Other&quot;]</td><td>7</td><td>[&quot;pOTU-15734&quot;, &quot;pOTU-19739&quot;, … &quot;pOTU-12418&quot;]</td><td>65</td></tr><tr><td>&quot;s__Mycobacteri…</td><td>[&quot;Other&quot;, &quot;Rhizosphere&quot;, … &quot;Agricultural land&quot;]</td><td>7</td><td>[&quot;pOTU-14036&quot;, &quot;pOTU-09098&quot;, … &quot;pOTU-01776&quot;]</td><td>9</td></tr><tr><td>&hellip;</td><td>&hellip;</td><td>&hellip;</td><td>&hellip;</td><td>&hellip;</td></tr><tr><td>&quot;s__Pontibacter…</td><td>[&quot;Other&quot;, &quot;Grasslands&quot;]</td><td>2</td><td>[&quot;pOTU-39462&quot;, &quot;pOTU-37965&quot;]</td><td>2</td></tr><tr><td>&quot;s__Streptomyce…</td><td>[&quot;Rhizosphere&quot;, &quot;Grasslands&quot;]</td><td>2</td><td>[&quot;pOTU-04363&quot;, &quot;pOTU-09846&quot;, … &quot;pOTU-19617&quot;]</td><td>4</td></tr><tr><td>&quot;s__Acidovorax …</td><td>[&quot;Rhizosphere&quot;, &quot;Grasslands&quot;]</td><td>2</td><td>[&quot;pOTU-01236&quot;, &quot;pOTU-02389&quot;, … &quot;pOTU-11510&quot;]</td><td>17</td></tr><tr><td>&quot;s__Caulobacter…</td><td>[&quot;Rhizosphere&quot;, &quot;Grasslands&quot;]</td><td>2</td><td>[&quot;pOTU-01688&quot;, &quot;pOTU-45640&quot;, … &quot;pOTU-39673&quot;]</td><td>11</td></tr><tr><td>&quot;s__Rudaea sp00…</td><td>[&quot;Rhizosphere&quot;, &quot;Temperate forest&quot;]</td><td>2</td><td>[&quot;pOTU-46693&quot;, &quot;pOTU-25910&quot;]</td><td>2</td></tr><tr><td>&quot;s__Micromonosp…</td><td>[&quot;Other&quot;, &quot;Grasslands&quot;]</td><td>2</td><td>[&quot;pOTU-43892&quot;, &quot;pOTU-48723&quot;]</td><td>2</td></tr><tr><td>&quot;s__Janthinobac…</td><td>[&quot;Rhizosphere&quot;, &quot;Temperate forest&quot;]</td><td>2</td><td>[&quot;pOTU-46403&quot;, &quot;pOTU-00900&quot;, … &quot;pOTU-46332&quot;]</td><td>9</td></tr><tr><td>&quot;s__QHZQ01 sp00…</td><td>[&quot;Temperate forest&quot;, &quot;Agricultural land&quot;]</td><td>2</td><td>[&quot;pOTU-18025&quot;, &quot;pOTU-01944&quot;]</td><td>2</td></tr><tr><td>&quot;s__Telluria sp…</td><td>[&quot;Rhizosphere&quot;, &quot;Temperate forest&quot;]</td><td>2</td><td>[&quot;pOTU-39473&quot;, &quot;pOTU-56373&quot;, … &quot;pOTU-46415&quot;]</td><td>25</td></tr><tr><td>&quot;s__Microvirga …</td><td>[&quot;Other&quot;, &quot;Grasslands&quot;]</td><td>2</td><td>[&quot;pOTU-06409&quot;, &quot;pOTU-18477&quot;, … &quot;pOTU-21107&quot;]</td><td>6</td></tr><tr><td>&quot;s__Kitasatospo…</td><td>[&quot;Agricultural land&quot;, &quot;Rhizosphere&quot;]</td><td>2</td><td>[&quot;pOTU-07746&quot;, &quot;pOTU-52828&quot;, … &quot;pOTU-05081&quot;]</td><td>5</td></tr><tr><td>&quot;s__Pseudomonas…</td><td>[&quot;Rhizosphere&quot;, &quot;Agricultural land&quot;]</td><td>2</td><td>[&quot;pOTU-36772&quot;, &quot;pOTU-00871&quot;]</td><td>2</td></tr></tbody></table></div>"
      ],
      "text/plain": [
       "shape: (8_268, 5)\n",
       "┌──────────────────────────┬──────────────────────────┬──────────────┬────────────────────┬────────┐\n",
       "│ species                  ┆ Ecosystem Subtype Custom ┆ n_ecosystems ┆ ptu                ┆ n_ptus │\n",
       "│ ---                      ┆ ---                      ┆ ---          ┆ ---                ┆ ---    │\n",
       "│ str                      ┆ list[str]                ┆ u32          ┆ list[str]          ┆ u32    │\n",
       "╞══════════════════════════╪══════════════════════════╪══════════════╪════════════════════╪════════╡\n",
       "│ s__Klebsiella variicola  ┆ [\"Agricultural land\",    ┆ 7            ┆ [\"pOTU-26006\",     ┆ 184    │\n",
       "│                          ┆ \"Tropical …              ┆              ┆ \"pOTU-18101\", … \"… ┆        │\n",
       "│ s__Sulfotelmatobacter    ┆ [\"Tropical forest\",      ┆ 7            ┆ [\"pOTU-49655\",     ┆ 89     │\n",
       "│ sp01328968…              ┆ \"Rhizosphere…            ┆              ┆ \"pOTU-50627\", … \"… ┆        │\n",
       "│ s__Bradyrhizobium        ┆ [\"Tropical forest\",      ┆ 7            ┆ [\"pOTU-10069\",     ┆ 90     │\n",
       "│ rifense                  ┆ \"Temperate f…            ┆              ┆ \"pOTU-00007\", … \"… ┆        │\n",
       "│ s__Bradyrhizobium        ┆ [\"Peat\", \"Agricultural   ┆ 7            ┆ [\"pOTU-14697\",     ┆ 36     │\n",
       "│ sp015624505              ┆ land\", … …               ┆              ┆ \"pOTU-03263\", … \"… ┆        │\n",
       "│ …                        ┆ …                        ┆ …            ┆ …                  ┆ …      │\n",
       "│ s__Telluria sp913773735  ┆ [\"Rhizosphere\",          ┆ 2            ┆ [\"pOTU-39473\",     ┆ 25     │\n",
       "│                          ┆ \"Temperate fores…        ┆              ┆ \"pOTU-56373\", … \"… ┆        │\n",
       "│ s__Microvirga            ┆ [\"Other\", \"Grasslands\"]  ┆ 2            ┆ [\"pOTU-06409\",     ┆ 6      │\n",
       "│ sp018383585              ┆                          ┆              ┆ \"pOTU-18477\", … \"… ┆        │\n",
       "│ s__Kitasatospora         ┆ [\"Agricultural land\",    ┆ 2            ┆ [\"pOTU-07746\",     ┆ 5      │\n",
       "│ sp020103755              ┆ \"Rhizosphe…              ┆              ┆ \"pOTU-52828\", … \"… ┆        │\n",
       "│ s__Pseudomonas_K         ┆ [\"Rhizosphere\",          ┆ 2            ┆ [\"pOTU-36772\",     ┆ 2      │\n",
       "│ sp023544715              ┆ \"Agricultural la…        ┆              ┆ \"pOTU-00871\"]      ┆        │\n",
       "└──────────────────────────┴──────────────────────────┴──────────────┴────────────────────┴────────┘"
      ]
     },
     "execution_count": 17,
     "metadata": {},
     "output_type": "execute_result"
    }
   ],
   "source": [
    "df_spps_ecos.filter((pl.col(\"n_ecosystems\") > 1) & (pl.col(\"n_ptus\") > 1))"
   ]
  },
  {
   "cell_type": "code",
   "execution_count": 18,
   "metadata": {},
   "outputs": [
    {
     "data": {
      "text/html": [
       "<div><style>\n",
       ".dataframe > thead > tr,\n",
       ".dataframe > tbody > tr {\n",
       "  text-align: right;\n",
       "  white-space: pre-wrap;\n",
       "}\n",
       "</style>\n",
       "<small>shape: (1_628, 5)</small><table border=\"1\" class=\"dataframe\"><thead><tr><th>species</th><th>Ecosystem Subtype Custom</th><th>n_ecosystems</th><th>ptu</th><th>n_ptus</th></tr><tr><td>str</td><td>list[str]</td><td>u32</td><td>list[str]</td><td>u32</td></tr></thead><tbody><tr><td>&quot;s__Pseudomonas…</td><td>[&quot;Rhizosphere&quot;]</td><td>1</td><td>[&quot;pOTU-25204&quot;, &quot;pOTU-00986&quot;, … &quot;pOTU-13525&quot;]</td><td>56</td></tr><tr><td>&quot;s__Fen-455 sp0…</td><td>[&quot;Peat&quot;]</td><td>1</td><td>[&quot;pOTU-51722&quot;, &quot;pOTU-00534&quot;, … &quot;pOTU-54260&quot;]</td><td>50</td></tr><tr><td>&quot;s__Novosphingo…</td><td>[&quot;Rhizosphere&quot;]</td><td>1</td><td>[&quot;pOTU-32315&quot;, &quot;pOTU-41588&quot;, … &quot;pOTU-14349&quot;]</td><td>44</td></tr><tr><td>&quot;s__Novosphingo…</td><td>[&quot;Rhizosphere&quot;]</td><td>1</td><td>[&quot;pOTU-05644&quot;, &quot;pOTU-00520&quot;, … &quot;pOTU-02936&quot;]</td><td>37</td></tr><tr><td>&quot;s__Pseudomonas…</td><td>[&quot;Rhizosphere&quot;]</td><td>1</td><td>[&quot;pOTU-09786&quot;, &quot;pOTU-00442&quot;, … &quot;pOTU-46253&quot;]</td><td>37</td></tr><tr><td>&quot;s__Mesorhizobi…</td><td>[&quot;Rhizosphere&quot;]</td><td>1</td><td>[&quot;pOTU-00674&quot;, &quot;pOTU-51993&quot;, … &quot;pOTU-02606&quot;]</td><td>30</td></tr><tr><td>&quot;s__Sphingobium…</td><td>[&quot;Rhizosphere&quot;]</td><td>1</td><td>[&quot;pOTU-10517&quot;, &quot;pOTU-13218&quot;, … &quot;pOTU-44832&quot;]</td><td>27</td></tr><tr><td>&quot;s__Palsa-513 s…</td><td>[&quot;Peat&quot;]</td><td>1</td><td>[&quot;pOTU-00862&quot;, &quot;pOTU-07338&quot;, … &quot;pOTU-10749&quot;]</td><td>24</td></tr><tr><td>&quot;s__LD21 sp0031…</td><td>[&quot;Peat&quot;]</td><td>1</td><td>[&quot;pOTU-11762&quot;, &quot;pOTU-51132&quot;, … &quot;pOTU-02565&quot;]</td><td>24</td></tr><tr><td>&quot;s__Pseudomonas…</td><td>[&quot;Rhizosphere&quot;]</td><td>1</td><td>[&quot;pOTU-47571&quot;, &quot;pOTU-00178&quot;, … &quot;pOTU-00288&quot;]</td><td>23</td></tr><tr><td>&quot;s__Duganella m…</td><td>[&quot;Rhizosphere&quot;]</td><td>1</td><td>[&quot;pOTU-46031&quot;, &quot;pOTU-45605&quot;, … &quot;pOTU-45731&quot;]</td><td>22</td></tr><tr><td>&quot;s__Palsa-288 s…</td><td>[&quot;Peat&quot;]</td><td>1</td><td>[&quot;pOTU-05473&quot;, &quot;pOTU-02619&quot;, … &quot;pOTU-11619&quot;]</td><td>22</td></tr><tr><td>&hellip;</td><td>&hellip;</td><td>&hellip;</td><td>&hellip;</td><td>&hellip;</td></tr><tr><td>&quot;s__Marinovum a…</td><td>[&quot;Other&quot;]</td><td>1</td><td>[&quot;pOTU-40671&quot;, &quot;pOTU-39760&quot;]</td><td>2</td></tr><tr><td>&quot;s__Chryseobact…</td><td>[&quot;Rhizosphere&quot;]</td><td>1</td><td>[&quot;pOTU-13407&quot;, &quot;pOTU-46045&quot;]</td><td>2</td></tr><tr><td>&quot;s__Caulobacter…</td><td>[&quot;Rhizosphere&quot;]</td><td>1</td><td>[&quot;pOTU-45334&quot;, &quot;pOTU-04227&quot;]</td><td>2</td></tr><tr><td>&quot;s__Alteraurant…</td><td>[&quot;Rhizosphere&quot;]</td><td>1</td><td>[&quot;pOTU-05199&quot;, &quot;pOTU-07659&quot;]</td><td>2</td></tr><tr><td>&quot;s__QHXW01 sp02…</td><td>[&quot;Peat&quot;]</td><td>1</td><td>[&quot;pOTU-51347&quot;, &quot;pOTU-55106&quot;]</td><td>2</td></tr><tr><td>&quot;s__Limnobacter…</td><td>[&quot;Rhizosphere&quot;]</td><td>1</td><td>[&quot;pOTU-44162&quot;, &quot;pOTU-44045&quot;]</td><td>2</td></tr><tr><td>&quot;s__Thiorhodovi…</td><td>[&quot;Rhizosphere&quot;]</td><td>1</td><td>[&quot;pOTU-29138&quot;, &quot;pOTU-29146&quot;]</td><td>2</td></tr><tr><td>&quot;s__Streptomyce…</td><td>[&quot;Rhizosphere&quot;]</td><td>1</td><td>[&quot;pOTU-08293&quot;, &quot;pOTU-04164&quot;]</td><td>2</td></tr><tr><td>&quot;s__Streptococc…</td><td>[&quot;Agricultural land&quot;]</td><td>1</td><td>[&quot;pOTU-25720&quot;, &quot;pOTU-03165&quot;]</td><td>2</td></tr><tr><td>&quot;s__Williamsia …</td><td>[&quot;Grasslands&quot;]</td><td>1</td><td>[&quot;pOTU-43269&quot;, &quot;pOTU-43268&quot;]</td><td>2</td></tr><tr><td>&quot;s__CADDZH01 sp…</td><td>[&quot;Agricultural land&quot;]</td><td>1</td><td>[&quot;pOTU-36343&quot;, &quot;pOTU-36309&quot;]</td><td>2</td></tr><tr><td>&quot;s__Streptomyce…</td><td>[&quot;Agricultural land&quot;]</td><td>1</td><td>[&quot;pOTU-04086&quot;, &quot;pOTU-09066&quot;]</td><td>2</td></tr></tbody></table></div>"
      ],
      "text/plain": [
       "shape: (1_628, 5)\n",
       "┌──────────────────────────┬──────────────────────────┬──────────────┬────────────────────┬────────┐\n",
       "│ species                  ┆ Ecosystem Subtype Custom ┆ n_ecosystems ┆ ptu                ┆ n_ptus │\n",
       "│ ---                      ┆ ---                      ┆ ---          ┆ ---                ┆ ---    │\n",
       "│ str                      ┆ list[str]                ┆ u32          ┆ list[str]          ┆ u32    │\n",
       "╞══════════════════════════╪══════════════════════════╪══════════════╪════════════════════╪════════╡\n",
       "│ s__Pseudomonas_E         ┆ [\"Rhizosphere\"]          ┆ 1            ┆ [\"pOTU-25204\",     ┆ 56     │\n",
       "│ sp006227205              ┆                          ┆              ┆ \"pOTU-00986\", … \"… ┆        │\n",
       "│ s__Fen-455 sp003139355   ┆ [\"Peat\"]                 ┆ 1            ┆ [\"pOTU-51722\",     ┆ 50     │\n",
       "│                          ┆                          ┆              ┆ \"pOTU-00534\", … \"… ┆        │\n",
       "│ s__Novosphingobium       ┆ [\"Rhizosphere\"]          ┆ 1            ┆ [\"pOTU-32315\",     ┆ 44     │\n",
       "│ sp902706195              ┆                          ┆              ┆ \"pOTU-41588\", … \"… ┆        │\n",
       "│ s__Novosphingobium       ┆ [\"Rhizosphere\"]          ┆ 1            ┆ [\"pOTU-05644\",     ┆ 37     │\n",
       "│ barchaimii               ┆                          ┆              ┆ \"pOTU-00520\", … \"… ┆        │\n",
       "│ …                        ┆ …                        ┆ …            ┆ …                  ┆ …      │\n",
       "│ s__Streptococcus         ┆ [\"Agricultural land\"]    ┆ 1            ┆ [\"pOTU-25720\",     ┆ 2      │\n",
       "│ pasteurianus             ┆                          ┆              ┆ \"pOTU-03165\"]      ┆        │\n",
       "│ s__Williamsia faeni      ┆ [\"Grasslands\"]           ┆ 1            ┆ [\"pOTU-43269\",     ┆ 2      │\n",
       "│                          ┆                          ┆              ┆ \"pOTU-43268\"]      ┆        │\n",
       "│ s__CADDZH01 sp902812455  ┆ [\"Agricultural land\"]    ┆ 1            ┆ [\"pOTU-36343\",     ┆ 2      │\n",
       "│                          ┆                          ┆              ┆ \"pOTU-36309\"]      ┆        │\n",
       "│ s__Streptomyces          ┆ [\"Agricultural land\"]    ┆ 1            ┆ [\"pOTU-04086\",     ┆ 2      │\n",
       "│ sp003846185              ┆                          ┆              ┆ \"pOTU-09066\"]      ┆        │\n",
       "└──────────────────────────┴──────────────────────────┴──────────────┴────────────────────┴────────┘"
      ]
     },
     "execution_count": 18,
     "metadata": {},
     "output_type": "execute_result"
    }
   ],
   "source": [
    "df_spps_ecos.filter((pl.col(\"n_ecosystems\") == 1) & (pl.col(\"n_ptus\") > 1)).sort(\n",
    "    \"n_ptus\", descending=True\n",
    ")"
   ]
  },
  {
   "cell_type": "code",
   "execution_count": 19,
   "metadata": {},
   "outputs": [
    {
     "data": {
      "text/html": [
       "<div><style>\n",
       ".dataframe > thead > tr,\n",
       ".dataframe > tbody > tr {\n",
       "  text-align: right;\n",
       "  white-space: pre-wrap;\n",
       "}\n",
       "</style>\n",
       "<small>shape: (20, 5)</small><table border=\"1\" class=\"dataframe\"><thead><tr><th>species</th><th>Ecosystem Subtype Custom</th><th>n_ecosystems</th><th>ptu</th><th>n_ptus</th></tr><tr><td>str</td><td>list[str]</td><td>u32</td><td>list[str]</td><td>u32</td></tr></thead><tbody><tr><td>&quot;s__JADLFM01 sp…</td><td>[&quot;Rhizosphere&quot;, &quot;Tropical forest&quot;, &quot;Grasslands&quot;]</td><td>3</td><td>[&quot;pOTU-00135&quot;]</td><td>1</td></tr><tr><td>&quot;s__Kosakonia s…</td><td>[&quot;Temperate forest&quot;, &quot;Other&quot;, &quot;Tropical forest&quot;]</td><td>3</td><td>[&quot;pOTU-00500&quot;]</td><td>1</td></tr><tr><td>&quot;s__Intrasporan…</td><td>[&quot;Grasslands&quot;, &quot;Other&quot;]</td><td>2</td><td>[&quot;pOTU-06172&quot;]</td><td>1</td></tr><tr><td>&quot;s__Nitrosopola…</td><td>[&quot;Agricultural land&quot;, &quot;Rhizosphere&quot;]</td><td>2</td><td>[&quot;pOTU-00177&quot;]</td><td>1</td></tr><tr><td>&quot;s__Aeromicrobi…</td><td>[&quot;Other&quot;, &quot;Rhizosphere&quot;]</td><td>2</td><td>[&quot;pOTU-00565&quot;]</td><td>1</td></tr><tr><td>&quot;s__Nonomuraea …</td><td>[&quot;Rhizosphere&quot;, &quot;Agricultural land&quot;]</td><td>2</td><td>[&quot;pOTU-00282&quot;]</td><td>1</td></tr><tr><td>&quot;s__Aeromicrobi…</td><td>[&quot;Temperate forest&quot;, &quot;Grasslands&quot;]</td><td>2</td><td>[&quot;pOTU-09021&quot;]</td><td>1</td></tr><tr><td>&quot;s__Parvibaculu…</td><td>[&quot;Temperate forest&quot;, &quot;Peat&quot;]</td><td>2</td><td>[&quot;pOTU-01181&quot;]</td><td>1</td></tr><tr><td>&quot;s__Arthrobacte…</td><td>[&quot;Agricultural land&quot;, &quot;Rhizosphere&quot;]</td><td>2</td><td>[&quot;pOTU-00016&quot;]</td><td>1</td></tr><tr><td>&quot;s__Nitrosopola…</td><td>[&quot;Agricultural land&quot;, &quot;Rhizosphere&quot;]</td><td>2</td><td>[&quot;pOTU-00177&quot;]</td><td>1</td></tr><tr><td>&quot;s__Aeromicrobi…</td><td>[&quot;Temperate forest&quot;, &quot;Grasslands&quot;]</td><td>2</td><td>[&quot;pOTU-09021&quot;]</td><td>1</td></tr><tr><td>&quot;s__SCGC-AG-212…</td><td>[&quot;Rhizosphere&quot;, &quot;Other&quot;]</td><td>2</td><td>[&quot;pOTU-06314&quot;]</td><td>1</td></tr><tr><td>&quot;s__Actinomyces…</td><td>[&quot;Agricultural land&quot;, &quot;Rhizosphere&quot;]</td><td>2</td><td>[&quot;pOTU-00287&quot;]</td><td>1</td></tr><tr><td>&quot;s__Palsa-1447 …</td><td>[&quot;Grasslands&quot;, &quot;Peat&quot;]</td><td>2</td><td>[&quot;pOTU-00292&quot;]</td><td>1</td></tr><tr><td>&quot;s__Sphingobact…</td><td>[&quot;Agricultural land&quot;, &quot;Other&quot;]</td><td>2</td><td>[&quot;pOTU-14876&quot;]</td><td>1</td></tr><tr><td>&quot;s__Nonomuraea …</td><td>[&quot;Agricultural land&quot;, &quot;Rhizosphere&quot;]</td><td>2</td><td>[&quot;pOTU-00282&quot;]</td><td>1</td></tr><tr><td>&quot;s__Aeromicrobi…</td><td>[&quot;Grasslands&quot;, &quot;Temperate forest&quot;]</td><td>2</td><td>[&quot;pOTU-09021&quot;]</td><td>1</td></tr><tr><td>&quot;s__Hydrogenoph…</td><td>[&quot;Temperate forest&quot;, &quot;Rhizosphere&quot;]</td><td>2</td><td>[&quot;pOTU-03750&quot;]</td><td>1</td></tr><tr><td>&quot;s__DP-20 sp005…</td><td>[&quot;Rhizosphere&quot;, &quot;Agricultural land&quot;]</td><td>2</td><td>[&quot;pOTU-01149&quot;]</td><td>1</td></tr><tr><td>&quot;s__Methylobact…</td><td>[&quot;Other&quot;, &quot;Rhizosphere&quot;]</td><td>2</td><td>[&quot;pOTU-09657&quot;]</td><td>1</td></tr></tbody></table></div>"
      ],
      "text/plain": [
       "shape: (20, 5)\n",
       "┌────────────────────────────┬────────────────────────────┬──────────────┬────────────────┬────────┐\n",
       "│ species                    ┆ Ecosystem Subtype Custom   ┆ n_ecosystems ┆ ptu            ┆ n_ptus │\n",
       "│ ---                        ┆ ---                        ┆ ---          ┆ ---            ┆ ---    │\n",
       "│ str                        ┆ list[str]                  ┆ u32          ┆ list[str]      ┆ u32    │\n",
       "╞════════════════════════════╪════════════════════════════╪══════════════╪════════════════╪════════╡\n",
       "│ s__JADLFM01 sp020845495    ┆ [\"Rhizosphere\", \"Tropical  ┆ 3            ┆ [\"pOTU-00135\"] ┆ 1      │\n",
       "│                            ┆ forest…                    ┆              ┆                ┆        │\n",
       "│ s__Kosakonia sacchari      ┆ [\"Temperate forest\",       ┆ 3            ┆ [\"pOTU-00500\"] ┆ 1      │\n",
       "│                            ┆ \"Other\", \"T…               ┆              ┆                ┆        │\n",
       "│ s__Intrasporangium calvum  ┆ [\"Grasslands\", \"Other\"]    ┆ 2            ┆ [\"pOTU-06172\"] ┆ 1      │\n",
       "│ s__Nitrosopolaris          ┆ [\"Agricultural land\",      ┆ 2            ┆ [\"pOTU-00177\"] ┆ 1      │\n",
       "│ wilkensis                  ┆ \"Rhizosphe…                ┆              ┆                ┆        │\n",
       "│ …                          ┆ …                          ┆ …            ┆ …              ┆ …      │\n",
       "│ s__Aeromicrobium           ┆ [\"Grasslands\", \"Temperate  ┆ 2            ┆ [\"pOTU-09021\"] ┆ 1      │\n",
       "│ sp902506105                ┆ forest…                    ┆              ┆                ┆        │\n",
       "│ s__Hydrogenophaga          ┆ [\"Temperate forest\",       ┆ 2            ┆ [\"pOTU-03750\"] ┆ 1      │\n",
       "│ intermedia_A               ┆ \"Rhizospher…               ┆              ┆                ┆        │\n",
       "│ s__DP-20 sp005879255       ┆ [\"Rhizosphere\",            ┆ 2            ┆ [\"pOTU-01149\"] ┆ 1      │\n",
       "│                            ┆ \"Agricultural la…          ┆              ┆                ┆        │\n",
       "│ s__Methylobacterium        ┆ [\"Other\", \"Rhizosphere\"]   ┆ 2            ┆ [\"pOTU-09657\"] ┆ 1      │\n",
       "│ sp014191355                ┆                            ┆              ┆                ┆        │\n",
       "└────────────────────────────┴────────────────────────────┴──────────────┴────────────────┴────────┘"
      ]
     },
     "execution_count": 19,
     "metadata": {},
     "output_type": "execute_result"
    }
   ],
   "source": [
    "df_spps_ecos.filter((pl.col(\"n_ecosystems\") > 1) & (pl.col(\"n_ptus\") == 1)).sort(\n",
    "    \"n_ptus\", descending=True\n",
    ")"
   ]
  },
  {
   "cell_type": "markdown",
   "metadata": {},
   "source": [
    "Where are the environments of these hosts? Get it from dongying's data\n"
   ]
  },
  {
   "cell_type": "code",
   "execution_count": 20,
   "metadata": {},
   "outputs": [
    {
     "data": {
      "text/html": [
       "<div><style>\n",
       ".dataframe > thead > tr,\n",
       ".dataframe > tbody > tr {\n",
       "  text-align: right;\n",
       "  white-space: pre-wrap;\n",
       "}\n",
       "</style>\n",
       "<small>shape: (5, 2)</small><table border=\"1\" class=\"dataframe\"><thead><tr><th>Genome</th><th>Metagenomes_present</th></tr><tr><td>str</td><td>str</td></tr></thead><tbody><tr><td>&quot;GCA_002194565&quot;</td><td>&quot;3300005753&quot;</td></tr><tr><td>&quot;GCA_002194565&quot;</td><td>&quot;3300013794&quot;</td></tr><tr><td>&quot;GCA_002194565&quot;</td><td>&quot;3300014848&quot;</td></tr><tr><td>&quot;2811995048&quot;</td><td>&quot;3300005753&quot;</td></tr><tr><td>&quot;2811995048&quot;</td><td>&quot;3300013794&quot;</td></tr></tbody></table></div>"
      ],
      "text/plain": [
       "shape: (5, 2)\n",
       "┌───────────────┬─────────────────────┐\n",
       "│ Genome        ┆ Metagenomes_present │\n",
       "│ ---           ┆ ---                 │\n",
       "│ str           ┆ str                 │\n",
       "╞═══════════════╪═════════════════════╡\n",
       "│ GCA_002194565 ┆ 3300005753          │\n",
       "│ GCA_002194565 ┆ 3300013794          │\n",
       "│ GCA_002194565 ┆ 3300014848          │\n",
       "│ 2811995048    ┆ 3300005753          │\n",
       "│ 2811995048    ┆ 3300013794          │\n",
       "└───────────────┴─────────────────────┘"
      ]
     },
     "execution_count": 20,
     "metadata": {},
     "output_type": "execute_result"
    }
   ],
   "source": [
    "df_dongying = pl.read_csv(\n",
    "    \"../crispr_search/COG0013.species.genome_and_metaG.map.gz\", separator=\"\\t\"\n",
    ")\n",
    "\n",
    "df_dongying = df_dongying.with_columns(\n",
    "    pl.col(\"Metagenomes_present\").str.split(\",\")\n",
    ").explode(\"Metagenomes_present\")\n",
    "df_dongying.head()\n"
   ]
  },
  {
   "cell_type": "code",
   "execution_count": 21,
   "metadata": {},
   "outputs": [
    {
     "data": {
      "text/html": [
       "<div><style>\n",
       ".dataframe > thead > tr,\n",
       ".dataframe > tbody > tr {\n",
       "  text-align: right;\n",
       "  white-space: pre-wrap;\n",
       "}\n",
       "</style>\n",
       "<small>shape: (5, 4)</small><table border=\"1\" class=\"dataframe\"><thead><tr><th>Plasmid</th><th>Host genome</th><th>Host taxonomy</th><th>fixed_genome</th></tr><tr><td>str</td><td>str</td><td>str</td><td>str</td></tr></thead><tbody><tr><td>&quot;2088090014|GPI…</td><td>&quot;GCA_003135455&quot;</td><td>&quot;d__Bacteria;p_…</td><td>&quot;GCA_003135455&quot;</td></tr><tr><td>&quot;2088090014|GPI…</td><td>&quot;GCA_001767435&quot;</td><td>&quot;d__Bacteria;p_…</td><td>&quot;GCA_001767435&quot;</td></tr><tr><td>&quot;2088090014|GPI…</td><td>&quot;GCA_003225315&quot;</td><td>&quot;d__Bacteria;p_…</td><td>&quot;GCA_003225315&quot;</td></tr><tr><td>&quot;2088090015|GPI…</td><td>&quot;GCA_004366385&quot;</td><td>&quot;d__Bacteria;p_…</td><td>&quot;GCA_004366385&quot;</td></tr><tr><td>&quot;2088090015|GPI…</td><td>&quot;3300022899_3&quot;</td><td>&quot;d__Bacteria;p_…</td><td>&quot;3300022899&quot;</td></tr></tbody></table></div>"
      ],
      "text/plain": [
       "shape: (5, 4)\n",
       "┌───────────────────────────┬───────────────┬───────────────────────────────────┬───────────────┐\n",
       "│ Plasmid                   ┆ Host genome   ┆ Host taxonomy                     ┆ fixed_genome  │\n",
       "│ ---                       ┆ ---           ┆ ---                               ┆ ---           │\n",
       "│ str                       ┆ str           ┆ str                               ┆ str           │\n",
       "╞═══════════════════════════╪═══════════════╪═══════════════════════════════════╪═══════════════╡\n",
       "│ 2088090014|GPIPI_16557027 ┆ GCA_003135455 ┆ d__Bacteria;p__Pseudomonadota;c_… ┆ GCA_003135455 │\n",
       "│ 2088090014|GPIPI_16944593 ┆ GCA_001767435 ┆ d__Bacteria;p__Acidobacteriota;c… ┆ GCA_001767435 │\n",
       "│ 2088090014|GPIPI_17320127 ┆ GCA_003225315 ┆ d__Bacteria;p__Acidobacteriota;c… ┆ GCA_003225315 │\n",
       "│ 2088090015|GPICI_8721071  ┆ GCA_004366385 ┆ d__Bacteria;p__Actinomycetota;c_… ┆ GCA_004366385 │\n",
       "│ 2088090015|GPICI_8721071  ┆ 3300022899_3  ┆ d__Bacteria;p__Actinomycetota;c_… ┆ 3300022899    │\n",
       "└───────────────────────────┴───────────────┴───────────────────────────────────┴───────────────┘"
      ]
     },
     "execution_count": 21,
     "metadata": {},
     "output_type": "execute_result"
    }
   ],
   "source": [
    "df_host_ids = pl.read_csv(\n",
    "    \"../crispr_search/plasmid_host_with_genome_map_fix_GCF.tsv\", separator=\"\\t\"\n",
    ")\n",
    "df_host_ids = df_host_ids.with_columns(\n",
    "    pl.when(~pl.col(\"Host genome\").str.contains(\"GC\"))\n",
    "    .then(pl.col(\"Host genome\").str.split(\"_\").list.get(0))\n",
    "    .otherwise(pl.col(\"Host genome\"))\n",
    "    .alias(\"fixed_genome\")\n",
    ")\n",
    "df_host_ids.head()\n"
   ]
  },
  {
   "cell_type": "code",
   "execution_count": 22,
   "metadata": {},
   "outputs": [
    {
     "data": {
      "text/html": [
       "<div><style>\n",
       ".dataframe > thead > tr,\n",
       ".dataframe > tbody > tr {\n",
       "  text-align: right;\n",
       "  white-space: pre-wrap;\n",
       "}\n",
       "</style>\n",
       "<small>shape: (5, 3)</small><table border=\"1\" class=\"dataframe\"><thead><tr><th>Host genome</th><th>Metagenomes_present</th><th>Host taxonomy</th></tr><tr><td>str</td><td>str</td><td>str</td></tr></thead><tbody><tr><td>&quot;GCA_002685315&quot;</td><td>&quot;3300032073&quot;</td><td>&quot;d__Archaea;p__…</td></tr><tr><td>&quot;GCA_001512375&quot;</td><td>&quot;3300038956&quot;</td><td>&quot;d__Archaea;p__…</td></tr><tr><td>&quot;GCA_003162175&quot;</td><td>&quot;3300026474&quot;</td><td>&quot;d__Archaea;p__…</td></tr><tr><td>&quot;GCA_003162175&quot;</td><td>&quot;3300036494&quot;</td><td>&quot;d__Archaea;p__…</td></tr><tr><td>&quot;GCA_003162175&quot;</td><td>&quot;3300037164&quot;</td><td>&quot;d__Archaea;p__…</td></tr></tbody></table></div>"
      ],
      "text/plain": [
       "shape: (5, 3)\n",
       "┌───────────────┬─────────────────────┬───────────────────────────────────┐\n",
       "│ Host genome   ┆ Metagenomes_present ┆ Host taxonomy                     │\n",
       "│ ---           ┆ ---                 ┆ ---                               │\n",
       "│ str           ┆ str                 ┆ str                               │\n",
       "╞═══════════════╪═════════════════════╪═══════════════════════════════════╡\n",
       "│ GCA_002685315 ┆ 3300032073          ┆ d__Archaea;p__Thermoplasmatota;c… │\n",
       "│ GCA_001512375 ┆ 3300038956          ┆ d__Archaea;p__Halobacteriota;c__… │\n",
       "│ GCA_003162175 ┆ 3300026474          ┆ d__Archaea;p__Halobacteriota;c__… │\n",
       "│ GCA_003162175 ┆ 3300036494          ┆ d__Archaea;p__Halobacteriota;c__… │\n",
       "│ GCA_003162175 ┆ 3300037164          ┆ d__Archaea;p__Halobacteriota;c__… │\n",
       "└───────────────┴─────────────────────┴───────────────────────────────────┘"
      ]
     },
     "execution_count": 22,
     "metadata": {},
     "output_type": "execute_result"
    }
   ],
   "source": [
    "df_dongying_filtered_hosts = (\n",
    "    df_dongying.join(df_host_ids, left_on=\"Genome\", right_on=\"fixed_genome\")\n",
    "    .select(\"Host genome\", \"Metagenomes_present\", \"Host taxonomy\")\n",
    "    .unique()\n",
    ")\n",
    "df_dongying_filtered_hosts.write_csv(\n",
    "    \"../crispr_search/host_environments.tsv\", separator=\"\\t\"\n",
    ")\n",
    "df_dongying_filtered_hosts.head()"
   ]
  },
  {
   "cell_type": "code",
   "execution_count": 23,
   "metadata": {},
   "outputs": [
    {
     "data": {
      "text/html": [
       "<div><style>\n",
       ".dataframe > thead > tr,\n",
       ".dataframe > tbody > tr {\n",
       "  text-align: right;\n",
       "  white-space: pre-wrap;\n",
       "}\n",
       "</style>\n",
       "<small>shape: (13_382, 2)</small><table border=\"1\" class=\"dataframe\"><thead><tr><th>species</th><th>ptu</th></tr><tr><td>str</td><td>list[str]</td></tr></thead><tbody><tr><td>&quot;s__Klebsiella …</td><td>[&quot;pOTU-26006&quot;, &quot;pOTU-18101&quot;, … &quot;pOTU-21772&quot;]</td></tr><tr><td>&quot;s__Sulfotelmat…</td><td>[&quot;pOTU-49655&quot;, &quot;pOTU-50627&quot;, … &quot;pOTU-36902&quot;]</td></tr><tr><td>&quot;s__Bradyrhizob…</td><td>[&quot;pOTU-10069&quot;, &quot;pOTU-00007&quot;, … &quot;pOTU-03911&quot;]</td></tr><tr><td>&quot;s__Bradyrhizob…</td><td>[&quot;pOTU-14697&quot;, &quot;pOTU-03263&quot;, … &quot;pOTU-03312&quot;]</td></tr><tr><td>&quot;s__Bradyrhizob…</td><td>[&quot;pOTU-22475&quot;, &quot;pOTU-00374&quot;, … &quot;pOTU-06935&quot;]</td></tr><tr><td>&quot;s__Chersky-822…</td><td>[&quot;pOTU-29457&quot;, &quot;pOTU-00077&quot;, … &quot;pOTU-09825&quot;]</td></tr><tr><td>&quot;s__Bradyrhizob…</td><td>[&quot;pOTU-03921&quot;, &quot;pOTU-49067&quot;, … &quot;pOTU-28062&quot;]</td></tr><tr><td>&quot;s__Bradyrhizob…</td><td>[&quot;pOTU-50239&quot;, &quot;pOTU-02473&quot;, … &quot;pOTU-54811&quot;]</td></tr><tr><td>&quot;s__Bradyrhizob…</td><td>[&quot;pOTU-01092&quot;, &quot;pOTU-01633&quot;, … &quot;pOTU-30404&quot;]</td></tr><tr><td>&quot;s__Serratia_J …</td><td>[&quot;pOTU-21813&quot;, &quot;pOTU-01740&quot;, … &quot;pOTU-11935&quot;]</td></tr><tr><td>&quot;s__Bradyrhizob…</td><td>[&quot;pOTU-15734&quot;, &quot;pOTU-19739&quot;, … &quot;pOTU-12418&quot;]</td></tr><tr><td>&quot;s__Mycobacteri…</td><td>[&quot;pOTU-14036&quot;, &quot;pOTU-09098&quot;, … &quot;pOTU-01776&quot;]</td></tr><tr><td>&hellip;</td><td>&hellip;</td></tr><tr><td>&quot;s__Streptomyce…</td><td>[&quot;pOTU-04086&quot;, &quot;pOTU-09066&quot;]</td></tr><tr><td>&quot;s__Sphingobact…</td><td>[&quot;pOTU-44006&quot;]</td></tr><tr><td>&quot;s__Saccharopol…</td><td>[&quot;pOTU-50049&quot;]</td></tr><tr><td>&quot;s__Dactylospor…</td><td>[&quot;pOTU-27377&quot;, &quot;pOTU-10170&quot;, &quot;pOTU-54565&quot;]</td></tr><tr><td>&quot;s__Chryseobact…</td><td>[&quot;pOTU-21616&quot;]</td></tr><tr><td>&quot;s__Hydrogenoph…</td><td>[&quot;pOTU-06506&quot;, &quot;pOTU-03105&quot;, &quot;pOTU-44078&quot;]</td></tr><tr><td>&quot;s__Paenibacill…</td><td>[&quot;pOTU-45835&quot;]</td></tr><tr><td>&quot;s__Nitrospira_…</td><td>[&quot;pOTU-27812&quot;]</td></tr><tr><td>&quot;s__Nocardiopsi…</td><td>[&quot;pOTU-25698&quot;]</td></tr><tr><td>&quot;s__Palsa-1315 …</td><td>[&quot;pOTU-41788&quot;]</td></tr><tr><td>&quot;s__Advenella s…</td><td>[&quot;pOTU-16849&quot;]</td></tr><tr><td>&quot;s__Plantactino…</td><td>[&quot;pOTU-43892&quot;]</td></tr></tbody></table></div>"
      ],
      "text/plain": [
       "shape: (13_382, 2)\n",
       "┌───────────────────────────────────┬───────────────────────────────────┐\n",
       "│ species                           ┆ ptu                               │\n",
       "│ ---                               ┆ ---                               │\n",
       "│ str                               ┆ list[str]                         │\n",
       "╞═══════════════════════════════════╪═══════════════════════════════════╡\n",
       "│ s__Klebsiella variicola           ┆ [\"pOTU-26006\", \"pOTU-18101\", … \"… │\n",
       "│ s__Sulfotelmatobacter sp01328968… ┆ [\"pOTU-49655\", \"pOTU-50627\", … \"… │\n",
       "│ s__Bradyrhizobium rifense         ┆ [\"pOTU-10069\", \"pOTU-00007\", … \"… │\n",
       "│ s__Bradyrhizobium sp015624505     ┆ [\"pOTU-14697\", \"pOTU-03263\", … \"… │\n",
       "│ …                                 ┆ …                                 │\n",
       "│ s__Nocardiopsis sp001279585       ┆ [\"pOTU-25698\"]                    │\n",
       "│ s__Palsa-1315 sp002869885         ┆ [\"pOTU-41788\"]                    │\n",
       "│ s__Advenella sp023423975          ┆ [\"pOTU-16849\"]                    │\n",
       "│ s__Plantactinospora sp003030345   ┆ [\"pOTU-43892\"]                    │\n",
       "└───────────────────────────────────┴───────────────────────────────────┘"
      ]
     },
     "execution_count": 23,
     "metadata": {},
     "output_type": "execute_result"
    }
   ],
   "source": [
    "df_spps_ecos.select(pl.col(\"species\"), pl.col(\"ptu\"))"
   ]
  },
  {
   "cell_type": "code",
   "execution_count": 24,
   "metadata": {},
   "outputs": [
    {
     "data": {
      "text/plain": [
       "9782"
      ]
     },
     "execution_count": 24,
     "metadata": {},
     "output_type": "execute_result"
    }
   ],
   "source": [
    "df_dongying_filtered_hosts.unique(\"Host genome\").shape[0]"
   ]
  },
  {
   "cell_type": "code",
   "execution_count": 25,
   "metadata": {},
   "outputs": [
    {
     "data": {
      "text/plain": [
       "5490"
      ]
     },
     "execution_count": 25,
     "metadata": {},
     "output_type": "execute_result"
    }
   ],
   "source": [
    "# Soil Metagenomes + Isolates from IMG\n",
    "df_envs.filter(~pl.col(\"taxon_oid\").str.contains(\"PLSDB|Refsoil|MGY\")).unique(\n",
    "    \"taxon_oid\"\n",
    ").shape[0]"
   ]
  },
  {
   "cell_type": "code",
   "execution_count": 26,
   "metadata": {},
   "outputs": [
    {
     "data": {
      "text/plain": [
       "3198"
      ]
     },
     "execution_count": 26,
     "metadata": {},
     "output_type": "execute_result"
    }
   ],
   "source": [
    "# Soil Metagenomes without isolates from IMG\n",
    "df_envs.filter(\n",
    "    (~pl.col(\"taxon_oid\").str.contains(\"PLSDB|Refsoil|MGY\"))\n",
    "    & (pl.col(\"Origin\") == \"Meta\")\n",
    ").unique(\"taxon_oid\").shape[0]"
   ]
  },
  {
   "cell_type": "code",
   "execution_count": 27,
   "metadata": {},
   "outputs": [
    {
     "data": {
      "text/plain": [
       "3894"
      ]
     },
     "execution_count": 27,
     "metadata": {},
     "output_type": "execute_result"
    }
   ],
   "source": [
    "# How many taxids from dongying are in my data?\n",
    "df_dongying_filtered_hosts.filter(\n",
    "    pl.col(\"Metagenomes_present\").is_in(df_envs[\"taxon_oid\"])\n",
    ").unique(\"Host genome\").shape[0]\n"
   ]
  },
  {
   "cell_type": "code",
   "execution_count": 28,
   "metadata": {},
   "outputs": [
    {
     "data": {
      "text/html": [
       "<div><style>\n",
       ".dataframe > thead > tr,\n",
       ".dataframe > tbody > tr {\n",
       "  text-align: right;\n",
       "  white-space: pre-wrap;\n",
       "}\n",
       "</style>\n",
       "<small>shape: (5, 4)</small><table border=\"1\" class=\"dataframe\"><thead><tr><th>species</th><th>ecosystems_host</th><th>n_ecosystems_host</th><th>ptu</th></tr><tr><td>str</td><td>list[str]</td><td>u32</td><td>list[str]</td></tr></thead><tbody><tr><td>&quot;s__Klebsiella …</td><td>[&quot;Other&quot;, &quot;Grasslands&quot;, … &quot;Rhizosphere&quot;]</td><td>4</td><td>[&quot;pOTU-26006&quot;, &quot;pOTU-18101&quot;, … &quot;pOTU-21772&quot;]</td></tr><tr><td>&quot;s__Sulfotelmat…</td><td>[&quot;Temperate forest&quot;]</td><td>1</td><td>[&quot;pOTU-49655&quot;, &quot;pOTU-50627&quot;, … &quot;pOTU-36902&quot;]</td></tr><tr><td>&quot;s__Bradyrhizob…</td><td>[&quot;Temperate forest&quot;, &quot;Rhizosphere&quot;, … &quot;Grasslands&quot;]</td><td>4</td><td>[&quot;pOTU-10069&quot;, &quot;pOTU-00007&quot;, … &quot;pOTU-03911&quot;]</td></tr><tr><td>&quot;s__Bradyrhizob…</td><td>[&quot;Agricultural land&quot;]</td><td>1</td><td>[&quot;pOTU-14697&quot;, &quot;pOTU-03263&quot;, … &quot;pOTU-03312&quot;]</td></tr><tr><td>&quot;s__Bradyrhizob…</td><td>[&quot;Other&quot;, &quot;Temperate forest&quot;]</td><td>2</td><td>[&quot;pOTU-22475&quot;, &quot;pOTU-00374&quot;, … &quot;pOTU-06935&quot;]</td></tr></tbody></table></div>"
      ],
      "text/plain": [
       "shape: (5, 4)\n",
       "┌────────────────────────────┬────────────────────────────┬───────────────────┬────────────────────┐\n",
       "│ species                    ┆ ecosystems_host            ┆ n_ecosystems_host ┆ ptu                │\n",
       "│ ---                        ┆ ---                        ┆ ---               ┆ ---                │\n",
       "│ str                        ┆ list[str]                  ┆ u32               ┆ list[str]          │\n",
       "╞════════════════════════════╪════════════════════════════╪═══════════════════╪════════════════════╡\n",
       "│ s__Klebsiella variicola    ┆ [\"Other\", \"Grasslands\", …  ┆ 4                 ┆ [\"pOTU-26006\",     │\n",
       "│                            ┆ \"Rhizo…                    ┆                   ┆ \"pOTU-18101\", … \"… │\n",
       "│ s__Sulfotelmatobacter      ┆ [\"Temperate forest\"]       ┆ 1                 ┆ [\"pOTU-49655\",     │\n",
       "│ sp01328968…                ┆                            ┆                   ┆ \"pOTU-50627\", … \"… │\n",
       "│ s__Bradyrhizobium rifense  ┆ [\"Temperate forest\",       ┆ 4                 ┆ [\"pOTU-10069\",     │\n",
       "│                            ┆ \"Rhizospher…               ┆                   ┆ \"pOTU-00007\", … \"… │\n",
       "│ s__Bradyrhizobium          ┆ [\"Agricultural land\"]      ┆ 1                 ┆ [\"pOTU-14697\",     │\n",
       "│ sp015624505                ┆                            ┆                   ┆ \"pOTU-03263\", … \"… │\n",
       "│ s__Bradyrhizobium          ┆ [\"Other\", \"Temperate       ┆ 2                 ┆ [\"pOTU-22475\",     │\n",
       "│ sp015624485                ┆ forest\"]                   ┆                   ┆ \"pOTU-00374\", … \"… │\n",
       "└────────────────────────────┴────────────────────────────┴───────────────────┴────────────────────┘"
      ]
     },
     "execution_count": 28,
     "metadata": {},
     "output_type": "execute_result"
    }
   ],
   "source": [
    "consolidated_hosts = (\n",
    "    df_dongying_filtered_hosts.with_columns(\n",
    "        species=pl.col(\"Host taxonomy\").str.split(\";\").list.get(6)\n",
    "    )\n",
    "    .join(df_envs, left_on=\"Metagenomes_present\", right_on=\"taxon_oid\")\n",
    "    .select(\n",
    "        \"Host genome\",\n",
    "        \"Metagenomes_present\",\n",
    "        \"Host taxonomy\",\n",
    "        \"species\",\n",
    "        \"Ecosystem Subtype Custom\",\n",
    "    )\n",
    "    .filter(pl.col(\"Ecosystem Subtype Custom\") != \"Unclassified\")\n",
    "    .group_by(\"species\")\n",
    "    .agg(\n",
    "        pl.col(\"Ecosystem Subtype Custom\").unique().alias(\"ecosystems_host\"),\n",
    "        pl.col(\"Ecosystem Subtype Custom\").n_unique().alias(\"n_ecosystems_host\"),\n",
    "    )\n",
    ").join(df_spps_ecos.select(pl.col(\"species\"), pl.col(\"ptu\")), on=\"species\")\n",
    "\n",
    "\n",
    "consolidated_hosts.head()"
   ]
  },
  {
   "cell_type": "markdown",
   "metadata": {},
   "source": [
    "A ptu may be in more than one environment and have more than one host. We need to check how many environments the ptu has, and then how many environments the host has.\n",
    "Let's look at ptu environments and compare with host environments"
   ]
  },
  {
   "cell_type": "code",
   "execution_count": 30,
   "metadata": {},
   "outputs": [
    {
     "data": {
      "text/html": [
       "<div><style>\n",
       ".dataframe > thead > tr,\n",
       ".dataframe > tbody > tr {\n",
       "  text-align: right;\n",
       "  white-space: pre-wrap;\n",
       "}\n",
       "</style>\n",
       "<small>shape: (5, 3)</small><table border=\"1\" class=\"dataframe\"><thead><tr><th>ptu</th><th>ecosystems_ptu</th><th>n_ecosystems_ptu</th></tr><tr><td>str</td><td>list[str]</td><td>u32</td></tr></thead><tbody><tr><td>&quot;pOTU-19352&quot;</td><td>[&quot;Agricultural land&quot;]</td><td>1</td></tr><tr><td>&quot;pOTU-10444&quot;</td><td>[&quot;Temperate forest&quot;, &quot;Grasslands&quot;]</td><td>2</td></tr><tr><td>&quot;pOTU-25177&quot;</td><td>[&quot;Rhizosphere&quot;]</td><td>1</td></tr><tr><td>&quot;pOTU-27769&quot;</td><td>[&quot;Temperate forest&quot;]</td><td>1</td></tr><tr><td>&quot;pOTU-28828&quot;</td><td>[&quot;Temperate forest&quot;]</td><td>1</td></tr></tbody></table></div>"
      ],
      "text/plain": [
       "shape: (5, 3)\n",
       "┌────────────┬───────────────────────────────────┬──────────────────┐\n",
       "│ ptu        ┆ ecosystems_ptu                    ┆ n_ecosystems_ptu │\n",
       "│ ---        ┆ ---                               ┆ ---              │\n",
       "│ str        ┆ list[str]                         ┆ u32              │\n",
       "╞════════════╪═══════════════════════════════════╪══════════════════╡\n",
       "│ pOTU-19352 ┆ [\"Agricultural land\"]             ┆ 1                │\n",
       "│ pOTU-10444 ┆ [\"Temperate forest\", \"Grasslands… ┆ 2                │\n",
       "│ pOTU-25177 ┆ [\"Rhizosphere\"]                   ┆ 1                │\n",
       "│ pOTU-27769 ┆ [\"Temperate forest\"]              ┆ 1                │\n",
       "│ pOTU-28828 ┆ [\"Temperate forest\"]              ┆ 1                │\n",
       "└────────────┴───────────────────────────────────┴──────────────────┘"
      ]
     },
     "execution_count": 30,
     "metadata": {},
     "output_type": "execute_result"
    }
   ],
   "source": [
    "ptu_data = (\n",
    "    df.filter(pl.col(\"Ecosystem Subtype Custom\") != \"Unclassified\")\n",
    "    .group_by(\"ptu\")\n",
    "    .agg(\n",
    "        pl.col(\"Ecosystem Subtype Custom\").unique().alias(\"ecosystems_ptu\"),\n",
    "        pl.col(\"Ecosystem Subtype Custom\").n_unique().alias(\"n_ecosystems_ptu\"),\n",
    "    )\n",
    ")\n",
    "host_data = consolidated_hosts.explode(\"ptu\").select(\n",
    "    \"species\", \"ecosystems_host\", \"n_ecosystems_host\", \"ptu\"\n",
    ")\n",
    "ptu_data.head()\n"
   ]
  },
  {
   "cell_type": "code",
   "execution_count": 31,
   "metadata": {},
   "outputs": [
    {
     "data": {
      "text/html": [
       "<div><style>\n",
       ".dataframe > thead > tr,\n",
       ".dataframe > tbody > tr {\n",
       "  text-align: right;\n",
       "  white-space: pre-wrap;\n",
       "}\n",
       "</style>\n",
       "<small>shape: (5, 7)</small><table border=\"1\" class=\"dataframe\"><thead><tr><th>ptu</th><th>ecosystems_host</th><th>n_species_host</th><th>n_ecosystems_host</th><th>ecosystems_ptu</th><th>n_ecosystems_ptu</th><th>delta_env</th></tr><tr><td>str</td><td>list[str]</td><td>u32</td><td>u32</td><td>list[str]</td><td>u32</td><td>i32</td></tr></thead><tbody><tr><td>&quot;pOTU-10444&quot;</td><td>[&quot;Temperate forest&quot;, &quot;Agricultural land&quot;, &quot;Grasslands&quot;]</td><td>6</td><td>3</td><td>[&quot;Temperate forest&quot;, &quot;Grasslands&quot;]</td><td>2</td><td>1</td></tr><tr><td>&quot;pOTU-25177&quot;</td><td>[&quot;Rhizosphere&quot;, &quot;Agricultural land&quot;, &quot;Grasslands&quot;]</td><td>2</td><td>3</td><td>[&quot;Rhizosphere&quot;]</td><td>1</td><td>2</td></tr><tr><td>&quot;pOTU-27769&quot;</td><td>[&quot;Temperate forest&quot;, &quot;Other&quot;, … &quot;Rhizosphere&quot;]</td><td>14</td><td>5</td><td>[&quot;Temperate forest&quot;]</td><td>1</td><td>4</td></tr><tr><td>&quot;pOTU-28828&quot;</td><td>[&quot;Grasslands&quot;, &quot;Agricultural land&quot;, &quot;Rhizosphere&quot;]</td><td>6</td><td>3</td><td>[&quot;Temperate forest&quot;]</td><td>1</td><td>2</td></tr><tr><td>&quot;pOTU-05889&quot;</td><td>[&quot;Other&quot;]</td><td>2</td><td>1</td><td>[&quot;Peat&quot;]</td><td>1</td><td>0</td></tr></tbody></table></div>"
      ],
      "text/plain": [
       "shape: (5, 7)\n",
       "┌────────────┬──────────────┬──────────────┬──────────────┬──────────────┬─────────────┬───────────┐\n",
       "│ ptu        ┆ ecosystems_h ┆ n_species_ho ┆ n_ecosystems ┆ ecosystems_p ┆ n_ecosystem ┆ delta_env │\n",
       "│ ---        ┆ ost          ┆ st           ┆ _host        ┆ tu           ┆ s_ptu       ┆ ---       │\n",
       "│ str        ┆ ---          ┆ ---          ┆ ---          ┆ ---          ┆ ---         ┆ i32       │\n",
       "│            ┆ list[str]    ┆ u32          ┆ u32          ┆ list[str]    ┆ u32         ┆           │\n",
       "╞════════════╪══════════════╪══════════════╪══════════════╪══════════════╪═════════════╪═══════════╡\n",
       "│ pOTU-10444 ┆ [\"Temperate  ┆ 6            ┆ 3            ┆ [\"Temperate  ┆ 2           ┆ 1         │\n",
       "│            ┆ forest\",     ┆              ┆              ┆ forest\",     ┆             ┆           │\n",
       "│            ┆ \"Agricultur… ┆              ┆              ┆ \"Grasslands… ┆             ┆           │\n",
       "│ pOTU-25177 ┆ [\"Rhizospher ┆ 2            ┆ 3            ┆ [\"Rhizospher ┆ 1           ┆ 2         │\n",
       "│            ┆ e\", \"Agricul ┆              ┆              ┆ e\"]          ┆             ┆           │\n",
       "│            ┆ tural la…    ┆              ┆              ┆              ┆             ┆           │\n",
       "│ pOTU-27769 ┆ [\"Temperate  ┆ 14           ┆ 5            ┆ [\"Temperate  ┆ 1           ┆ 4         │\n",
       "│            ┆ forest\",     ┆              ┆              ┆ forest\"]     ┆             ┆           │\n",
       "│            ┆ \"Other\", … … ┆              ┆              ┆              ┆             ┆           │\n",
       "│ pOTU-28828 ┆ [\"Grasslands ┆ 6            ┆ 3            ┆ [\"Temperate  ┆ 1           ┆ 2         │\n",
       "│            ┆ \", \"Agricult ┆              ┆              ┆ forest\"]     ┆             ┆           │\n",
       "│            ┆ ural lan…    ┆              ┆              ┆              ┆             ┆           │\n",
       "│ pOTU-05889 ┆ [\"Other\"]    ┆ 2            ┆ 1            ┆ [\"Peat\"]     ┆ 1           ┆ 0         │\n",
       "└────────────┴──────────────┴──────────────┴──────────────┴──────────────┴─────────────┴───────────┘"
      ]
     },
     "execution_count": 31,
     "metadata": {},
     "output_type": "execute_result"
    }
   ],
   "source": [
    "consolidated_hosts = (\n",
    "    host_data.with_columns(pl.col(\"ecosystems_host\").list.join(\",\"))\n",
    "    .group_by(\"ptu\")\n",
    "    .agg(\n",
    "        pl.col(\"ecosystems_host\"), pl.col(\"species\").n_unique().alias(\"n_species_host\")\n",
    "    )\n",
    "    .with_columns(pl.col(\"ecosystems_host\").list.join(\",\").str.split(\",\").list.unique())\n",
    "    .with_columns(n_ecosystems_host=pl.col(\"ecosystems_host\").list.len())\n",
    "    .join(ptu_data, on=\"ptu\")\n",
    "    .with_columns(\n",
    "        delta_env=pl.col(\"n_ecosystems_host\").cast(pl.Int32)\n",
    "        - pl.col(\"n_ecosystems_ptu\").cast(pl.Int32)\n",
    "    )\n",
    ")\n",
    "consolidated_hosts.head()"
   ]
  },
  {
   "cell_type": "code",
   "execution_count": 32,
   "metadata": {},
   "outputs": [
    {
     "data": {
      "text/html": [
       "<div><style>\n",
       ".dataframe > thead > tr,\n",
       ".dataframe > tbody > tr {\n",
       "  text-align: right;\n",
       "  white-space: pre-wrap;\n",
       "}\n",
       "</style>\n",
       "<small>shape: (409, 7)</small><table border=\"1\" class=\"dataframe\"><thead><tr><th>ptu</th><th>ecosystems_host</th><th>n_species_host</th><th>n_ecosystems_host</th><th>ecosystems_ptu</th><th>n_ecosystems_ptu</th><th>delta_env</th></tr><tr><td>str</td><td>list[str]</td><td>u32</td><td>u32</td><td>list[str]</td><td>u32</td><td>i32</td></tr></thead><tbody><tr><td>&quot;pOTU-00014&quot;</td><td>[&quot;Agricultural land&quot;, &quot;Other&quot;, … &quot;Grasslands&quot;]</td><td>5</td><td>5</td><td>[&quot;Other&quot;, &quot;Temperate forest&quot;, … &quot;Tropical forest&quot;]</td><td>6</td><td>-1</td></tr><tr><td>&quot;pOTU-12467&quot;</td><td>[&quot;Peat&quot;]</td><td>4</td><td>1</td><td>[&quot;Temperate forest&quot;, &quot;Grasslands&quot;]</td><td>2</td><td>-1</td></tr><tr><td>&quot;pOTU-00035&quot;</td><td>[&quot;Other&quot;, &quot;Peat&quot;, &quot;Temperate forest&quot;]</td><td>3</td><td>3</td><td>[&quot;Grasslands&quot;, &quot;Temperate forest&quot;, … &quot;Agricultural land&quot;]</td><td>5</td><td>-2</td></tr><tr><td>&quot;pOTU-00357&quot;</td><td>[&quot;Temperate forest&quot;, &quot;Rhizosphere&quot;]</td><td>2</td><td>2</td><td>[&quot;Rhizosphere&quot;, &quot;Other&quot;, &quot;Agricultural land&quot;]</td><td>3</td><td>-1</td></tr><tr><td>&quot;pOTU-09017&quot;</td><td>[&quot;Temperate forest&quot;]</td><td>1</td><td>1</td><td>[&quot;Agricultural land&quot;, &quot;Other&quot;]</td><td>2</td><td>-1</td></tr><tr><td>&quot;pOTU-00013&quot;</td><td>[&quot;Agricultural land&quot;]</td><td>1</td><td>1</td><td>[&quot;Other&quot;, &quot;Temperate forest&quot;]</td><td>2</td><td>-1</td></tr><tr><td>&quot;pOTU-08977&quot;</td><td>[&quot;Agricultural land&quot;]</td><td>1</td><td>1</td><td>[&quot;Other&quot;, &quot;Agricultural land&quot;]</td><td>2</td><td>-1</td></tr><tr><td>&quot;pOTU-14814&quot;</td><td>[&quot;Rhizosphere&quot;]</td><td>1</td><td>1</td><td>[&quot;Temperate forest&quot;, &quot;Rhizosphere&quot;]</td><td>2</td><td>-1</td></tr><tr><td>&quot;pOTU-00173&quot;</td><td>[&quot;Peat&quot;]</td><td>8</td><td>1</td><td>[&quot;Grasslands&quot;, &quot;Peat&quot;]</td><td>2</td><td>-1</td></tr><tr><td>&quot;pOTU-01430&quot;</td><td>[&quot;Temperate forest&quot;, &quot;Peat&quot;]</td><td>1</td><td>2</td><td>[&quot;Grasslands&quot;, &quot;Temperate forest&quot;, &quot;Rhizosphere&quot;]</td><td>3</td><td>-1</td></tr><tr><td>&quot;pOTU-09354&quot;</td><td>[&quot;Peat&quot;]</td><td>1</td><td>1</td><td>[&quot;Temperate forest&quot;, &quot;Tropical forest&quot;]</td><td>2</td><td>-1</td></tr><tr><td>&quot;pOTU-13830&quot;</td><td>[&quot;Peat&quot;]</td><td>1</td><td>1</td><td>[&quot;Other&quot;, &quot;Grasslands&quot;]</td><td>2</td><td>-1</td></tr><tr><td>&hellip;</td><td>&hellip;</td><td>&hellip;</td><td>&hellip;</td><td>&hellip;</td><td>&hellip;</td><td>&hellip;</td></tr><tr><td>&quot;pOTU-04834&quot;</td><td>[&quot;Rhizosphere&quot;]</td><td>1</td><td>1</td><td>[&quot;Rhizosphere&quot;, &quot;Grasslands&quot;]</td><td>2</td><td>-1</td></tr><tr><td>&quot;pOTU-00195&quot;</td><td>[&quot;Peat&quot;]</td><td>2</td><td>1</td><td>[&quot;Peat&quot;, &quot;Temperate forest&quot;]</td><td>2</td><td>-1</td></tr><tr><td>&quot;pOTU-00617&quot;</td><td>[&quot;Peat&quot;]</td><td>2</td><td>1</td><td>[&quot;Peat&quot;, &quot;Temperate forest&quot;]</td><td>2</td><td>-1</td></tr><tr><td>&quot;pOTU-05447&quot;</td><td>[&quot;Rhizosphere&quot;]</td><td>1</td><td>1</td><td>[&quot;Agricultural land&quot;, &quot;Rhizosphere&quot;]</td><td>2</td><td>-1</td></tr><tr><td>&quot;pOTU-00769&quot;</td><td>[&quot;Peat&quot;]</td><td>1</td><td>1</td><td>[&quot;Temperate forest&quot;, &quot;Peat&quot;]</td><td>2</td><td>-1</td></tr><tr><td>&quot;pOTU-00419&quot;</td><td>[&quot;Agricultural land&quot;]</td><td>1</td><td>1</td><td>[&quot;Temperate forest&quot;, &quot;Agricultural land&quot;, &quot;Grasslands&quot;]</td><td>3</td><td>-2</td></tr><tr><td>&quot;pOTU-00229&quot;</td><td>[&quot;Temperate forest&quot;, &quot;Peat&quot;, &quot;Agricultural land&quot;]</td><td>4</td><td>3</td><td>[&quot;Rhizosphere&quot;, &quot;Agricultural land&quot;, … &quot;Other&quot;]</td><td>4</td><td>-1</td></tr><tr><td>&quot;pOTU-00279&quot;</td><td>[&quot;Rhizosphere&quot;]</td><td>2</td><td>1</td><td>[&quot;Rhizosphere&quot;, &quot;Grasslands&quot;, … &quot;Temperate forest&quot;]</td><td>4</td><td>-3</td></tr><tr><td>&quot;pOTU-08203&quot;</td><td>[&quot;Peat&quot;]</td><td>1</td><td>1</td><td>[&quot;Other&quot;, &quot;Temperate forest&quot;]</td><td>2</td><td>-1</td></tr><tr><td>&quot;pOTU-02799&quot;</td><td>[&quot;Rhizosphere&quot;, &quot;Peat&quot;]</td><td>2</td><td>2</td><td>[&quot;Peat&quot;, &quot;Other&quot;, &quot;Temperate forest&quot;]</td><td>3</td><td>-1</td></tr><tr><td>&quot;pOTU-06712&quot;</td><td>[&quot;Temperate forest&quot;, &quot;Peat&quot;]</td><td>2</td><td>2</td><td>[&quot;Rhizosphere&quot;, &quot;Grasslands&quot;, &quot;Agricultural land&quot;]</td><td>3</td><td>-1</td></tr><tr><td>&quot;pOTU-06673&quot;</td><td>[&quot;Agricultural land&quot;]</td><td>2</td><td>1</td><td>[&quot;Grasslands&quot;, &quot;Rhizosphere&quot;]</td><td>2</td><td>-1</td></tr></tbody></table></div>"
      ],
      "text/plain": [
       "shape: (409, 7)\n",
       "┌────────────┬──────────────┬──────────────┬──────────────┬──────────────┬─────────────┬───────────┐\n",
       "│ ptu        ┆ ecosystems_h ┆ n_species_ho ┆ n_ecosystems ┆ ecosystems_p ┆ n_ecosystem ┆ delta_env │\n",
       "│ ---        ┆ ost          ┆ st           ┆ _host        ┆ tu           ┆ s_ptu       ┆ ---       │\n",
       "│ str        ┆ ---          ┆ ---          ┆ ---          ┆ ---          ┆ ---         ┆ i32       │\n",
       "│            ┆ list[str]    ┆ u32          ┆ u32          ┆ list[str]    ┆ u32         ┆           │\n",
       "╞════════════╪══════════════╪══════════════╪══════════════╪══════════════╪═════════════╪═══════════╡\n",
       "│ pOTU-00014 ┆ [\"Agricultur ┆ 5            ┆ 5            ┆ [\"Other\",    ┆ 6           ┆ -1        │\n",
       "│            ┆ al land\",    ┆              ┆              ┆ \"Temperate   ┆             ┆           │\n",
       "│            ┆ \"Other\", ……  ┆              ┆              ┆ forest\", … … ┆             ┆           │\n",
       "│ pOTU-12467 ┆ [\"Peat\"]     ┆ 4            ┆ 1            ┆ [\"Temperate  ┆ 2           ┆ -1        │\n",
       "│            ┆              ┆              ┆              ┆ forest\",     ┆             ┆           │\n",
       "│            ┆              ┆              ┆              ┆ \"Grasslands… ┆             ┆           │\n",
       "│ pOTU-00035 ┆ [\"Other\",    ┆ 3            ┆ 3            ┆ [\"Grasslands ┆ 5           ┆ -2        │\n",
       "│            ┆ \"Peat\",      ┆              ┆              ┆ \",           ┆             ┆           │\n",
       "│            ┆ \"Temperate   ┆              ┆              ┆ \"Temperate   ┆             ┆           │\n",
       "│            ┆ for…         ┆              ┆              ┆ forest…      ┆             ┆           │\n",
       "│ pOTU-00357 ┆ [\"Temperate  ┆ 2            ┆ 2            ┆ [\"Rhizospher ┆ 3           ┆ -1        │\n",
       "│            ┆ forest\",     ┆              ┆              ┆ e\", \"Other\", ┆             ┆           │\n",
       "│            ┆ \"Rhizospher… ┆              ┆              ┆ \"Agricu…     ┆             ┆           │\n",
       "│ …          ┆ …            ┆ …            ┆ …            ┆ …            ┆ …           ┆ …         │\n",
       "│ pOTU-08203 ┆ [\"Peat\"]     ┆ 1            ┆ 1            ┆ [\"Other\",    ┆ 2           ┆ -1        │\n",
       "│            ┆              ┆              ┆              ┆ \"Temperate   ┆             ┆           │\n",
       "│            ┆              ┆              ┆              ┆ forest\"]     ┆             ┆           │\n",
       "│ pOTU-02799 ┆ [\"Rhizospher ┆ 2            ┆ 2            ┆ [\"Peat\",     ┆ 3           ┆ -1        │\n",
       "│            ┆ e\", \"Peat\"]  ┆              ┆              ┆ \"Other\",     ┆             ┆           │\n",
       "│            ┆              ┆              ┆              ┆ \"Temperate   ┆             ┆           │\n",
       "│            ┆              ┆              ┆              ┆ for…         ┆             ┆           │\n",
       "│ pOTU-06712 ┆ [\"Temperate  ┆ 2            ┆ 2            ┆ [\"Rhizospher ┆ 3           ┆ -1        │\n",
       "│            ┆ forest\",     ┆              ┆              ┆ e\", \"Grassla ┆             ┆           │\n",
       "│            ┆ \"Peat\"]      ┆              ┆              ┆ nds\", \"A…    ┆             ┆           │\n",
       "│ pOTU-06673 ┆ [\"Agricultur ┆ 2            ┆ 1            ┆ [\"Grasslands ┆ 2           ┆ -1        │\n",
       "│            ┆ al land\"]    ┆              ┆              ┆ \", \"Rhizosph ┆             ┆           │\n",
       "│            ┆              ┆              ┆              ┆ ere\"]        ┆             ┆           │\n",
       "└────────────┴──────────────┴──────────────┴──────────────┴──────────────┴─────────────┴───────────┘"
      ]
     },
     "execution_count": 32,
     "metadata": {},
     "output_type": "execute_result"
    }
   ],
   "source": [
    "consolidated_hosts.filter(pl.col(\"delta_env\") < 0)"
   ]
  },
  {
   "cell_type": "code",
   "execution_count": 33,
   "metadata": {},
   "outputs": [
    {
     "data": {
      "image/png": "[encoded data removed]",
      "text/plain": [
       "<Figure size 640x480 with 1 Axes>"
      ]
     },
     "metadata": {},
     "output_type": "display_data"
    }
   ],
   "source": [
    "ax = sns.countplot(data=consolidated_hosts.to_pandas(), x=\"delta_env\")\n",
    "for p in ax.patches:\n",
    "    ax.annotate(\n",
    "        f\"{p.get_height()}\",\n",
    "        (p.get_x() + p.get_width() / 2.0, p.get_height()),\n",
    "        ha=\"center\",\n",
    "        va=\"bottom\",\n",
    "    )\n",
    "\n",
    "ax.set_ylabel(\"Number of pOTUs\")\n",
    "plt.savefig(\"../figures/delta_env_ptu_host.pdf\", bbox_inches=\"tight\")"
   ]
  },
  {
   "cell_type": "code",
   "execution_count": 34,
   "metadata": {},
   "outputs": [
    {
     "data": {
      "text/html": [
       "<div><style>\n",
       ".dataframe > thead > tr,\n",
       ".dataframe > tbody > tr {\n",
       "  text-align: right;\n",
       "  white-space: pre-wrap;\n",
       "}\n",
       "</style>\n",
       "<small>shape: (3, 4)</small><table border=\"1\" class=\"dataframe\"><thead><tr><th>species</th><th>ecosystems_host</th><th>n_ecosystems_host</th><th>ptu</th></tr><tr><td>str</td><td>list[str]</td><td>u32</td><td>str</td></tr></thead><tbody><tr><td>&quot;s__Sphingomicr…</td><td>[&quot;Other&quot;]</td><td>1</td><td>&quot;pOTU-06934&quot;</td></tr><tr><td>&quot;s__Sphingomicr…</td><td>[&quot;Other&quot;, &quot;Agricultural land&quot;, … &quot;Tropical forest&quot;]</td><td>5</td><td>&quot;pOTU-06934&quot;</td></tr><tr><td>&quot;s__Sphingomicr…</td><td>[&quot;Agricultural land&quot;]</td><td>1</td><td>&quot;pOTU-06934&quot;</td></tr></tbody></table></div>"
      ],
      "text/plain": [
       "shape: (3, 4)\n",
       "┌────────────────────────────┬────────────────────────────────────┬───────────────────┬────────────┐\n",
       "│ species                    ┆ ecosystems_host                    ┆ n_ecosystems_host ┆ ptu        │\n",
       "│ ---                        ┆ ---                                ┆ ---               ┆ ---        │\n",
       "│ str                        ┆ list[str]                          ┆ u32               ┆ str        │\n",
       "╞════════════════════════════╪════════════════════════════════════╪═══════════════════╪════════════╡\n",
       "│ s__Sphingomicrobium        ┆ [\"Other\"]                          ┆ 1                 ┆ pOTU-06934 │\n",
       "│ sp021502585                ┆                                    ┆                   ┆            │\n",
       "│ s__Sphingomicrobium        ┆ [\"Other\", \"Agricultural land\", ……  ┆ 5                 ┆ pOTU-06934 │\n",
       "│ sp023516455                ┆                                    ┆                   ┆            │\n",
       "│ s__Sphingomicrobium edaphi ┆ [\"Agricultural land\"]              ┆ 1                 ┆ pOTU-06934 │\n",
       "└────────────────────────────┴────────────────────────────────────┴───────────────────┴────────────┘"
      ]
     },
     "execution_count": 34,
     "metadata": {},
     "output_type": "execute_result"
    }
   ],
   "source": [
    "host_data.filter(pl.col(\"ptu\") == \"pOTU-06934\")"
   ]
  },
  {
   "cell_type": "code",
   "execution_count": null,
   "metadata": {},
   "outputs": [],
   "source": []
  }
 ],
 "metadata": {
  "kernelspec": {
   "display_name": "Python 3",
   "language": "python",
   "name": "python3"
  },
  "language_info": {
   "codemirror_mode": {
    "name": "ipython",
    "version": 3
   },
   "file_extension": ".py",
   "mimetype": "text/x-python",
   "name": "python",
   "nbconvert_exporter": "python",
   "pygments_lexer": "ipython3",
   "version": "3.12.0"
  }
 },
 "nbformat": 4,
 "nbformat_minor": 2
}
