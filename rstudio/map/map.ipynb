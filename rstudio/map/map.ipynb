{
 "cells": [
  {
   "cell_type": "code",
   "execution_count": 24,
   "metadata": {},
   "outputs": [],
   "source": [
    "import pandas as pd\n",
    "import numpy as np"
   ]
  },
  {
   "cell_type": "code",
   "execution_count": 25,
   "metadata": {},
   "outputs": [
    {
     "data": {
      "text/html": [
       "<div>\n",
       "<style scoped>\n",
       "    .dataframe tbody tr th:only-of-type {\n",
       "        vertical-align: middle;\n",
       "    }\n",
       "\n",
       "    .dataframe tbody tr th {\n",
       "        vertical-align: top;\n",
       "    }\n",
       "\n",
       "    .dataframe thead th {\n",
       "        text-align: right;\n",
       "    }\n",
       "</style>\n",
       "<table border=\"1\" class=\"dataframe\">\n",
       "  <thead>\n",
       "    <tr style=\"text-align: right;\">\n",
       "      <th></th>\n",
       "      <th>PTU</th>\n",
       "      <th>oids</th>\n",
       "    </tr>\n",
       "  </thead>\n",
       "  <tbody>\n",
       "    <tr>\n",
       "      <th>0</th>\n",
       "      <td>PTU-00000</td>\n",
       "      <td>3300021420</td>\n",
       "    </tr>\n",
       "    <tr>\n",
       "      <th>0</th>\n",
       "      <td>PTU-00000</td>\n",
       "      <td>3300020623</td>\n",
       "    </tr>\n",
       "    <tr>\n",
       "      <th>0</th>\n",
       "      <td>PTU-00000</td>\n",
       "      <td>3300044999</td>\n",
       "    </tr>\n",
       "    <tr>\n",
       "      <th>0</th>\n",
       "      <td>PTU-00000</td>\n",
       "      <td>3300031753</td>\n",
       "    </tr>\n",
       "    <tr>\n",
       "      <th>0</th>\n",
       "      <td>PTU-00000</td>\n",
       "      <td>3300050346</td>\n",
       "    </tr>\n",
       "  </tbody>\n",
       "</table>\n",
       "</div>"
      ],
      "text/plain": [
       "         PTU        oids\n",
       "0  PTU-00000  3300021420\n",
       "0  PTU-00000  3300020623\n",
       "0  PTU-00000  3300044999\n",
       "0  PTU-00000  3300031753\n",
       "0  PTU-00000  3300050346"
      ]
     },
     "execution_count": 25,
     "metadata": {},
     "output_type": "execute_result"
    }
   ],
   "source": [
    "df_ptus = pd.read_csv('ptus.csv')\n",
    "df_ptus.head()\n",
    "df_ptus = df_ptus[['PTU', \"oids\"]]\n",
    "df_ptus['oids'] = df_ptus['oids'].apply(lambda x: set(x.split(',')))\n",
    "df_ptus = df_ptus.explode('oids')\n",
    "df_ptus.head()"
   ]
  },
  {
   "cell_type": "code",
   "execution_count": 26,
   "metadata": {},
   "outputs": [],
   "source": [
    "df_map = pd.read_csv('df_map.csv')\n",
    "df_map['Isolation Country'] = df_map['Isolation Country'].replace('Czechoslovakia', 'Czech Republic').replace('South America',np.nan).replace('Former Soviet Union',np.nan).replace('Unclassified', np.nan)\n",
    "df_countries = pd.read_csv('countries_coords.csv')\n",
    "df_countries['Country'] = df_countries['Country'].replace('United States', 'USA').replace('Russian Federation', 'Russia').replace('Korea, Republic of', 'South Korea').replace('Iran, Islamic Republic of', 'Iran').replace('Taiwan, Province of China', 'Taiwan').replace('Svalbard and Jan Mayen', 'Svalbard').replace('Micronesia, Federated States of', 'Micronesia')\n",
    "df_countries.rename(columns={'Latitude (average)':'Latitude', 'Longitude (average)':'Longitude'}, inplace=True)\n",
    "df_countries = df_countries[['Country','Latitude', 'Longitude']].set_index('Country')"
   ]
  },
  {
   "cell_type": "code",
   "execution_count": 27,
   "metadata": {},
   "outputs": [
    {
     "data": {
      "text/html": [
       "<div>\n",
       "<style scoped>\n",
       "    .dataframe tbody tr th:only-of-type {\n",
       "        vertical-align: middle;\n",
       "    }\n",
       "\n",
       "    .dataframe tbody tr th {\n",
       "        vertical-align: top;\n",
       "    }\n",
       "\n",
       "    .dataframe thead th {\n",
       "        text-align: right;\n",
       "    }\n",
       "</style>\n",
       "<table border=\"1\" class=\"dataframe\">\n",
       "  <thead>\n",
       "    <tr style=\"text-align: right;\">\n",
       "      <th></th>\n",
       "      <th>taxon_oid</th>\n",
       "      <th>Latitude</th>\n",
       "      <th>Longitude</th>\n",
       "    </tr>\n",
       "  </thead>\n",
       "  <tbody>\n",
       "    <tr>\n",
       "      <th>0</th>\n",
       "      <td>3300049023</td>\n",
       "      <td>38.53</td>\n",
       "      <td>-121.78</td>\n",
       "    </tr>\n",
       "    <tr>\n",
       "      <th>1</th>\n",
       "      <td>3300012840</td>\n",
       "      <td>43.07</td>\n",
       "      <td>-89.40</td>\n",
       "    </tr>\n",
       "    <tr>\n",
       "      <th>2</th>\n",
       "      <td>3300039503</td>\n",
       "      <td>63.88</td>\n",
       "      <td>-149.23</td>\n",
       "    </tr>\n",
       "    <tr>\n",
       "      <th>3</th>\n",
       "      <td>3300042005</td>\n",
       "      <td>41.20</td>\n",
       "      <td>-97.94</td>\n",
       "    </tr>\n",
       "    <tr>\n",
       "      <th>4</th>\n",
       "      <td>3300049265</td>\n",
       "      <td>38.55</td>\n",
       "      <td>-121.87</td>\n",
       "    </tr>\n",
       "  </tbody>\n",
       "</table>\n",
       "</div>"
      ],
      "text/plain": [
       "    taxon_oid  Latitude  Longitude\n",
       "0  3300049023     38.53    -121.78\n",
       "1  3300012840     43.07     -89.40\n",
       "2  3300039503     63.88    -149.23\n",
       "3  3300042005     41.20     -97.94\n",
       "4  3300049265     38.55    -121.87"
      ]
     },
     "execution_count": 27,
     "metadata": {},
     "output_type": "execute_result"
    }
   ],
   "source": [
    "def fix_lat(row):\n",
    "    if pd.isna(row['Latitude']) and pd.notna(row['Isolation Country']):\n",
    "        return df_countries.loc[row['Isolation Country'], 'Latitude']\n",
    "    return row['Latitude']\n",
    "    \n",
    "def fix_lon(row):\n",
    "    if pd.isna(row['Longitude']) and pd.notna(row['Isolation Country']):\n",
    "        return df_countries.loc[row['Isolation Country'], 'Longitude']\n",
    "    return row['Longitude']\n",
    "\n",
    "df_map['Latitude'] = df_map.apply(fix_lat, axis=1)\n",
    "df_map['Longitude'] = df_map.apply(fix_lon, axis=1)\n",
    "df_map = df_map[['taxon_oid','Latitude','Longitude']]\n",
    "df_map.head()"
   ]
  },
  {
   "cell_type": "code",
   "execution_count": 28,
   "metadata": {},
   "outputs": [],
   "source": [
    "df_map = df_map.dropna(subset=['Latitude', 'Longitude'])"
   ]
  },
  {
   "cell_type": "code",
   "execution_count": 29,
   "metadata": {},
   "outputs": [],
   "source": [
    "final_map = df_ptus.join(df_map.set_index('taxon_oid'), on='oids')\n",
    "final_map.dropna(subset=['Latitude', 'Longitude']).to_csv('df_map_fixed.csv', index=False)"
   ]
  },
  {
   "cell_type": "code",
   "execution_count": null,
   "metadata": {},
   "outputs": [],
   "source": []
  }
 ],
 "metadata": {
  "kernelspec": {
   "display_name": "data_science",
   "language": "python",
   "name": "python3"
  },
  "language_info": {
   "codemirror_mode": {
    "name": "ipython",
    "version": 3
   },
   "file_extension": ".py",
   "mimetype": "text/x-python",
   "name": "python",
   "nbconvert_exporter": "python",
   "pygments_lexer": "ipython3",
   "version": "3.11.5"
  }
 },
 "nbformat": 4,
 "nbformat_minor": 2
}
